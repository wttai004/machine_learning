{
 "cells": [
  {
   "cell_type": "code",
   "execution_count": 1,
   "metadata": {},
   "outputs": [],
   "source": [
    "# We always shorten netket as nk\n",
    "import netket as nk\n",
    "\n",
    "# Define a 1d chain\n",
    "L = 4\n",
    "g = nk.graph.Hypercube(length=L, n_dim=2, pbc=True)"
   ]
  },
  {
   "cell_type": "code",
   "execution_count": 2,
   "metadata": {},
   "outputs": [
    {
     "name": "stdout",
     "output_type": "stream",
     "text": [
      "g.n_nodes: 16\n",
      "g.nodes: [0, 1, 2, 3, 4, 5, 6, 7, 8, 9, 10, 11, 12, 13, 14, 15]\n",
      "g.n_edges: 32\n",
      "g.edges: [(3, 7), (12, 13), (8, 9), (8, 12), (2, 14), (13, 14), (4, 5), (5, 6), (4, 8), (12, 15), (5, 9), (14, 15), (3, 15), (8, 11), (0, 1), (9, 10), (1, 2), (0, 4), (9, 13), (10, 11), (1, 5), (10, 14), (6, 7), (6, 10), (4, 7), (0, 3), (0, 12), (2, 3), (1, 13), (2, 6), (11, 15), (7, 11)]\n"
     ]
    }
   ],
   "source": [
    "# The number of sites (called nodes):\n",
    "print(\"g.n_nodes:\", g.n_nodes)\n",
    "# You can iterate through the nodes:\n",
    "print(\"g.nodes:\", [node for node in g.nodes()])\n",
    "# You can check the number of edges:\n",
    "print(\"g.n_edges:\", g.n_edges)\n",
    "# You can iterate through the edges, which are stored as a 2-tuple with the start and end node:\n",
    "print(\"g.edges:\", g.edges())"
   ]
  },
  {
   "cell_type": "code",
   "execution_count": 3,
   "metadata": {},
   "outputs": [],
   "source": [
    "# Define the Hilbert space based on this graph\n",
    "# We impose to have a fixed total magnetization of zero \n",
    "hi = nk.hilbert.Spin(s=1/2, N=g.n_nodes)"
   ]
  },
  {
   "cell_type": "code",
   "execution_count": 4,
   "metadata": {},
   "outputs": [],
   "source": [
    "sx_1 = nk.operator.spin.sigmax(hi, 1)\n",
    "sy_2 = nk.operator.spin.sigmay(hi, 2)\n",
    "sz_2 = nk.operator.spin.sigmaz(hi, 2)"
   ]
  },
  {
   "cell_type": "code",
   "execution_count": 13,
   "metadata": {},
   "outputs": [],
   "source": [
    "# This creates an empty operator (or zero) to which you can add others.\n",
    "hamiltonian = nk.operator.LocalOperator(hi)\n",
    "\n",
    "# now add all terms acting on single sites\n",
    "for site in g.nodes(): # every node (take the list of nodes from the graph object g that we constructed before)\n",
    "    hamiltonian += - nk.operator.spin.sigmax(hi, site)\n",
    "\n",
    "    # now add all terms acting on multiple sites\n",
    "for (i,j) in g.edges(): # every edge (take the list of edges from the graph object)\n",
    "    hamiltonian = hamiltonian + nk.operator.spin.sigmaz(hi, i) * nk.operator.spin.sigmaz(hi, j)"
   ]
  },
  {
   "cell_type": "code",
   "execution_count": 38,
   "metadata": {},
   "outputs": [],
   "source": [
    "hamiltonian_jax = hamiltonian.to_pauli_strings().to_jax_operator()"
   ]
  },
  {
   "cell_type": "code",
   "execution_count": 14,
   "metadata": {},
   "outputs": [],
   "source": [
    "import numpy as np\n",
    "\n",
    "hamiltonian_correct = nk.operator.Ising(hi, g, h=1.0, J=1.0)\n",
    "assert np.sum(np.abs(hamiltonian_correct.to_sparse() - hamiltonian.to_sparse())**2) < 1e-5"
   ]
  },
  {
   "cell_type": "code",
   "execution_count": 17,
   "metadata": {},
   "outputs": [
    {
     "data": {
      "text/plain": [
       "-34.01059755084627"
      ]
     },
     "execution_count": 17,
     "metadata": {},
     "output_type": "execute_result"
    }
   ],
   "source": [
    "import scipy \n",
    "e_gs, psi_gs = scipy.sparse.linalg.eigsh(hamiltonian.to_sparse(), k=1, which='SA')\n",
    "e_gs = e_gs[0]\n",
    "psi_gs = psi_gs.reshape(-1)\n",
    "e_gs"
   ]
  },
  {
   "cell_type": "code",
   "execution_count": 18,
   "metadata": {},
   "outputs": [],
   "source": [
    "# if all is good, this cell should validate\n",
    "assert e_gs.shape == ()\n",
    "assert psi_gs.shape == (hi.n_states, )\n",
    "assert -34.01060 < e_gs < -34.01059"
   ]
  },
  {
   "cell_type": "code",
   "execution_count": 19,
   "metadata": {},
   "outputs": [],
   "source": [
    "import jax\n",
    "\n",
    "# numerical operations in the model should always use jax.numpy \n",
    "# instead of numpy because jax supports computing derivatives. \n",
    "# If you want to better understand the difference between the two, check\n",
    "# https://flax.readthedocs.io/en/latest/notebooks/jax_for_the_impatient.html\n",
    "import jax.numpy as jnp\n",
    "\n",
    "# Flax is a framework to define models using jax\n",
    "import flax\n",
    "# we refer to `flax.linen` as `nn`. It's a repository of \n",
    "# layers, initializers and nonlinear functions.\n",
    "import flax.linen as nn\n",
    "\n",
    "# A Flax model must be a class subclassing `nn.Module`\n",
    "class MF(nn.Module):\n",
    "    \n",
    "    # The most compact way to define the model is this.\n",
    "    # The __call__(self, x) function should take as \n",
    "    # input a batch of states x.shape = (n_samples, N)\n",
    "    # and should return a vector of n_samples log-amplitudes\n",
    "    @nn.compact\n",
    "    def __call__(self, x):\n",
    "        \n",
    "        # A tensor of variational parameters is defined by calling\n",
    "        # the method `self.param` where the arguments will be:\n",
    "        # - arbitrary name used to refer to this set of parameters\n",
    "        # - an initializer used to provide the initial values. \n",
    "        # - The shape of the tensor\n",
    "        # - The dtype of the tensor.\n",
    "        lam = self.param(\n",
    "            \"lambda\", nn.initializers.normal(), (1,), float\n",
    "        )\n",
    "        \n",
    "        # compute the probabilities\n",
    "        p = nn.log_sigmoid(lam*x)\n",
    "\n",
    "        # sum the output\n",
    "        return 0.5 * jnp.sum(p, axis=-1)"
   ]
  },
  {
   "cell_type": "code",
   "execution_count": 20,
   "metadata": {},
   "outputs": [],
   "source": [
    "# create an instance of the model\n",
    "model = MF()\n",
    "\n",
    "# pick a RNG key to initialise the random parameters\n",
    "key = jax.random.key(0)\n",
    "\n",
    "# initialise the weights\n",
    "parameters = model.init(key, np.random.rand(hi.size))"
   ]
  },
  {
   "cell_type": "code",
   "execution_count": 21,
   "metadata": {},
   "outputs": [
    {
     "name": "stdout",
     "output_type": "stream",
     "text": [
      "multiply_by_10:              {'a': 10, 'b': 20}\n",
      "multiply_by_10, with lambda: {'a': 10, 'b': 20}\n",
      "add dict1 and 2          : {'a': 2, 'b': 0}\n",
      "subtract dict1 and 2        : {'a': 0, 'b': 4}\n",
      "subtract dict1 and 2, lambda: {'a': 0, 'b': 4}\n"
     ]
    }
   ],
   "source": [
    "dict1 = {'a':1, 'b':2}\n",
    "dict2 = {'a':1, 'b':-2}\n",
    "\n",
    "def multiply_by_10(x):\n",
    "    return 10*x\n",
    "\n",
    "print(\"multiply_by_10:             \", jax.tree.map(multiply_by_10,  dict1))\n",
    "# this can also be done by defining the function as a lambda function, which is more compact\n",
    "print(\"multiply_by_10, with lambda:\", jax.tree.map(lambda x: 10*x,  dict1))\n",
    "\n",
    "def add(x,y):\n",
    "    return x+y\n",
    "print(\"add dict1 and 2          :\", jax.tree.map(add, dict1, dict2))\n",
    "\n",
    "\n",
    "def sub(x,y):\n",
    "    return x-y\n",
    "print(\"subtract dict1 and 2        :\", jax.tree.map(sub, dict1, dict2))\n",
    "print(\"subtract dict1 and 2, lambda:\", jax.tree.map(lambda x,y:x-y, dict1, dict2))"
   ]
  },
  {
   "cell_type": "code",
   "execution_count": 22,
   "metadata": {},
   "outputs": [
    {
     "name": "stdout",
     "output_type": "stream",
     "text": [
      "(4,)\n"
     ]
    }
   ],
   "source": [
    "# generate 4 random inputs\n",
    "inputs = hi.random_state(jax.random.key(1), (4,))\n",
    "\n",
    "log_psi = model.apply(parameters, inputs)\n",
    "# notice that logpsi has shape (4,) because we fed it 4 random configurations.\n",
    "print(log_psi.shape)"
   ]
  },
  {
   "cell_type": "code",
   "execution_count": 23,
   "metadata": {},
   "outputs": [
    {
     "data": {
      "text/plain": [
       "Array([-5.55575789, -5.55575789, -5.54559091, -5.54559091], dtype=float64)"
      ]
     },
     "execution_count": 23,
     "metadata": {},
     "output_type": "execute_result"
    }
   ],
   "source": [
    "log_psi"
   ]
  },
  {
   "cell_type": "code",
   "execution_count": 26,
   "metadata": {},
   "outputs": [],
   "source": [
    "# TODO\n",
    "def to_array(model, parameters): # -> Array:\n",
    "    # begin by generating all configurations in the hilbert space.\n",
    "    # all_States returns a batch of configurations that is (hi.n_states, N) large.\n",
    "    all_configurations = hi.all_states()\n",
    "\n",
    "    # now evaluate the model, and convert to a normalised wavefunction.\n",
    "    log_psi = model.apply(parameters, all_configurations)\n",
    "    psi = jnp.exp(log_psi)\n",
    "    psi = psi / jnp.linalg.norm(psi)\n",
    "    return psi"
   ]
  },
  {
   "cell_type": "code",
   "execution_count": 27,
   "metadata": {},
   "outputs": [],
   "source": [
    "# If you did it correctly, this test should pass\n",
    "\n",
    "assert to_array(model, parameters).shape == (hi.n_states, )\n",
    "assert np.all(to_array(model, parameters) > 0)\n",
    "np.testing.assert_allclose(np.linalg.norm(to_array(model, parameters)), 1.0)"
   ]
  },
  {
   "cell_type": "code",
   "execution_count": 28,
   "metadata": {},
   "outputs": [
    {
     "data": {
      "text/plain": [
       "Array([0.0042355 , 0.00419265, 0.00419265, ..., 0.0036364 , 0.0036364 ,\n",
       "       0.00359962], dtype=float64)"
      ]
     },
     "execution_count": 28,
     "metadata": {},
     "output_type": "execute_result"
    }
   ],
   "source": [
    "# static_argnames must be used to tag any argument that is not a pytree or an array. In this case, the model.\n",
    "to_array_jit = jax.jit(to_array, static_argnames=\"model\")\n",
    "\n",
    "# run it once to compile it, before benchmarking\n",
    "to_array_jit(model, parameters)"
   ]
  },
  {
   "cell_type": "code",
   "execution_count": 34,
   "metadata": {},
   "outputs": [],
   "source": [
    "# todo\n",
    "def compute_energy(model, parameters, hamiltonian):\n",
    "    psi_gs = to_array(model, parameters)\n",
    "    return psi_gs.conj().T @ (hamiltonian @ psi_gs)"
   ]
  },
  {
   "cell_type": "code",
   "execution_count": 36,
   "metadata": {},
   "outputs": [],
   "source": [
    "# if all is good, this should not error\n",
    "assert compute_energy(model, parameters, hamiltonian.to_sparse()).shape == ()\n",
    "assert compute_energy(model, parameters, hamiltonian.to_sparse()) < 0"
   ]
  },
  {
   "cell_type": "code",
   "execution_count": 39,
   "metadata": {},
   "outputs": [],
   "source": [
    "# and like before, we can jit-compile it!\n",
    "compute_energy_jit = jax.jit(compute_energy, static_argnames=\"model\")\n",
    "\n",
    "# and we precompute the sparse-hamiltonian to avoid the overhead of re-computing them all the time\n",
    "hamiltonian_sparse = hamiltonian.to_sparse()\n",
    "hamiltonian_jax_sparse = hamiltonian_jax.to_sparse()"
   ]
  },
  {
   "cell_type": "code",
   "execution_count": 41,
   "metadata": {},
   "outputs": [
    {
     "name": "stdout",
     "output_type": "stream",
     "text": [
      "12 ms ± 346 μs per loop (mean ± std. dev. of 7 runs, 10 loops each)\n",
      "20.1 ms ± 540 μs per loop (mean ± std. dev. of 7 runs, 10 loops each)\n"
     ]
    }
   ],
   "source": [
    "%timeit compute_energy(model, parameters, hamiltonian_sparse)\n",
    "%timeit compute_energy_jit(model, parameters, hamiltonian_jax_sparse)"
   ]
  },
  {
   "cell_type": "code",
   "execution_count": 42,
   "metadata": {},
   "outputs": [],
   "source": [
    "from functools import partial\n",
    "\n",
    "# we use partial to directly jit this function. Jitting the top-most will jit everything inside it as well.\n",
    "@partial(jax.jit, static_argnames='model')\n",
    "def compute_energy_and_gradient(model, parameters, hamiltonian_sparse):\n",
    "    grad_fun = jax.value_and_grad(compute_energy, argnums=1)\n",
    "    return grad_fun(model, parameters, hamiltonian_sparse)"
   ]
  },
  {
   "cell_type": "code",
   "execution_count": 43,
   "metadata": {},
   "outputs": [
    {
     "name": "stdout",
     "output_type": "stream",
     "text": [
      "{'params': {'lambda': Array([-0.40662741], dtype=float64)}}\n"
     ]
    }
   ],
   "source": [
    "energy, gradient = compute_energy_and_gradient(model, parameters, hamiltonian_jax_sparse)\n",
    "print(gradient)"
   ]
  },
  {
   "cell_type": "code",
   "execution_count": 45,
   "metadata": {},
   "outputs": [
    {
     "name": "stderr",
     "output_type": "stream",
     "text": [
      "  0%|          | 0/100 [00:00<?, ?it/s]/var/folders/qj/clm7jsc121ldh0pcf5z2czkc0000gp/T/ipykernel_6653/3802880836.py:20: DeprecationWarning: jax.tree_map is deprecated: use jax.tree.map (jax v0.4.25 or newer) or jax.tree_util.tree_map (any JAX version).\n",
      "  parameters = jax.tree_map(lambda x, g: x - 0.01 * g, parameters, gradient)\n",
      "  1%|          | 1/100 [00:00<00:12,  7.78it/s]/var/folders/qj/clm7jsc121ldh0pcf5z2czkc0000gp/T/ipykernel_6653/3802880836.py:20: DeprecationWarning: jax.tree_map is deprecated: use jax.tree.map (jax v0.4.25 or newer) or jax.tree_util.tree_map (any JAX version).\n",
      "  parameters = jax.tree_map(lambda x, g: x - 0.01 * g, parameters, gradient)\n",
      "100%|██████████| 100/100 [00:03<00:00, 25.47it/s]\n"
     ]
    }
   ],
   "source": [
    "from tqdm import tqdm\n",
    "\n",
    "# initialise \n",
    "model = MF()\n",
    "parameters = model.init(jax.random.key(0), np.ones((hi.size, )))\n",
    "iterations = 100\n",
    "\n",
    "# logging: you can (if you want) use netket loggers to avoid writing a lot of boilerplate...\n",
    "# they accumulate data you throw at them\n",
    "logger = nk.logging.RuntimeLog()\n",
    "\n",
    "for i in tqdm(range(iterations)):\n",
    "    # compute energy and gradient\n",
    "    energy, gradient = compute_energy_and_gradient(model, parameters, hamiltonian_jax_sparse)\n",
    "    \n",
    "    # update parameters. Try using a learning rate of 0.01\n",
    "    # to update the parameters, which are stored as a dictionary (or pytree)\n",
    "    # you can use jax.tree.map as shown above.\n",
    "    #...\n",
    "    parameters = jax.tree_map(lambda x, g: x - 0.01 * g, parameters, gradient)\n",
    "    \n",
    "    # log energy: the logger takes a step argument and a dictionary of variables to be logged\n",
    "    logger(step=i, item={'Energy' : energy})"
   ]
  },
  {
   "cell_type": "code",
   "execution_count": 46,
   "metadata": {},
   "outputs": [
    {
     "data": {
      "text/plain": [
       "[<matplotlib.lines.Line2D at 0x13f7f71a0>]"
      ]
     },
     "execution_count": 46,
     "metadata": {},
     "output_type": "execute_result"
    },
    {
     "data": {
      "image/png": "[encoded data removed]",
      "text/plain": [
       "<Figure size 640x480 with 1 Axes>"
      ]
     },
     "metadata": {},
     "output_type": "display_data"
    }
   ],
   "source": [
    "import matplotlib.pyplot as plt\n",
    "\n",
    "# to plot the data, access it!\n",
    "plt.plot(logger.data['Energy']['iters'], logger.data['Energy']['value'])\n"
   ]
  },
  {
   "cell_type": "code",
   "execution_count": 50,
   "metadata": {},
   "outputs": [],
   "source": [
    "# A Flax model must be a class subclassing `nn.Module`\n",
    "class Jastrow(nn.Module):\n",
    "    \n",
    "    # The most compact way to define the model is this.\n",
    "    # The __call__(self, input_x) function should take as \n",
    "    # input a batch of states input_x.shape = (n_samples, N)\n",
    "    # and should return a vector of n_samples log-amplitudes\n",
    "    @nn.compact\n",
    "    def __call__(self, input_x):\n",
    "        \n",
    "        n_sites = input_x.shape[-1]\n",
    "        \n",
    "        # A tensor of variational parameters is defined by calling\n",
    "        # the method `self.param` where the arguments will be:\n",
    "        # - arbitrary name used to refer to this set of parameters\n",
    "        # - an initializer used to provide the initial values. \n",
    "        # - The shape of the tensor\n",
    "        # - The dtype of the tensor.\n",
    "        # Define the two variational parameters J1 and J2\n",
    "        J = self.param(\n",
    "            \"J\", nn.initializers.normal(), (n_sites,n_sites), float\n",
    "        )\n",
    "        # ensure same data types\n",
    "        dtype = jax.numpy.promote_types(J.dtype, input_x.dtype)\n",
    "        J = J.astype(dtype)\n",
    "        input_x = input_x.astype(dtype)\n",
    "        \n",
    "        # note that J_ij is not symmetric. So we symmetrize it by hand\n",
    "        J_symm = J.T + J\n",
    "        \n",
    "        # TODO compute the result \n",
    "        res = jnp.einsum(\"...i, ij, ...j\", input_x, J_symm, input_x)# use vectorised operations. Make sure they work with arbitrary shapes of dimensions.\n",
    "        # look into jnp.einsum.\n",
    "\n",
    "        return res"
   ]
  },
  {
   "cell_type": "code",
   "execution_count": 51,
   "metadata": {},
   "outputs": [],
   "source": [
    "# if the code above is correct, this should run\n",
    "model_jastrow = Jastrow()\n",
    "\n",
    "one_sample = hi.random_state(jax.random.key(0))\n",
    "batch_samples = hi.random_state(jax.random.key(0), (5,))\n",
    "multibatch_samples = hi.random_state(jax.random.key(0), (5,4,))\n",
    "\n",
    "parameters_jastrow = model_jastrow.init(jax.random.key(0), one_sample)\n",
    "assert parameters_jastrow['params']['J'].shape == (hi.size, hi.size)\n",
    "assert model_jastrow.apply(parameters_jastrow, one_sample).shape == ()\n",
    "assert model_jastrow.apply(parameters_jastrow, batch_samples).shape == batch_samples.shape[:-1]\n",
    "assert model_jastrow.apply(parameters_jastrow, multibatch_samples).shape == multibatch_samples.shape[:-1]"
   ]
  },
  {
   "cell_type": "code",
   "execution_count": 52,
   "metadata": {},
   "outputs": [],
   "source": [
    "sampler = nk.sampler.MetropolisSampler(\n",
    "                        hi,                            # the hilbert space to be sampled\n",
    "                        nk.sampler.rules.LocalRule(),  # the transition rule\n",
    "                        n_chains = 20)"
   ]
  },
  {
   "cell_type": "code",
   "execution_count": 53,
   "metadata": {},
   "outputs": [
    {
     "name": "stdout",
     "output_type": "stream",
     "text": [
      "(20, 100, 16)\n"
     ]
    }
   ],
   "source": [
    "sampler_state = sampler.init_state(model, parameters, seed=1)\n",
    "sampler_state = sampler.reset(model, parameters, sampler_state)\n",
    "samples, sampler_state = sampler.sample(model, parameters, state=sampler_state, chain_length=100)\n",
    "\n",
    "print(samples.shape)"
   ]
  },
  {
   "cell_type": "code",
   "execution_count": 54,
   "metadata": {},
   "outputs": [],
   "source": [
    "# given sigma\n",
    "sigma = hi.random_state(jax.random.key(1))\n",
    "\n",
    "eta, H_sigmaeta = hamiltonian_jax.get_conn_padded(sigma)"
   ]
  },
  {
   "cell_type": "code",
   "execution_count": 55,
   "metadata": {},
   "outputs": [
    {
     "name": "stdout",
     "output_type": "stream",
     "text": [
      "(16,)\n",
      "(17, 16)\n",
      "(17,)\n"
     ]
    }
   ],
   "source": [
    "# so for 1 sample sigma\n",
    "print(sigma.shape)\n",
    "\n",
    "# we have 17 connected samples eta, each composed by 16 spins\n",
    "print(eta.shape)\n",
    "# and 17 matrix elements\n",
    "print(H_sigmaeta.shape)"
   ]
  },
  {
   "cell_type": "code",
   "execution_count": 56,
   "metadata": {},
   "outputs": [
    {
     "name": "stdout",
     "output_type": "stream",
     "text": [
      "(4, 5, 16)\n",
      "(4, 5, 17, 16)\n",
      "(4, 5, 17)\n"
     ]
    }
   ],
   "source": [
    "# given sigma\n",
    "sigma = hi.random_state(jax.random.key(1), (4,5))\n",
    "\n",
    "eta, H_sigmaeta = hamiltonian_jax.get_conn_padded(sigma)\n",
    "\n",
    "# so for each of the (4,5) samples sigma each of 16 spins\n",
    "print(sigma.shape)\n",
    "\n",
    "# we have 17 connected samples eta, each composed by 16 spins, in a tensor of shape (4,5,17,16)\n",
    "print(eta.shape)\n",
    "# and 17 matrix elements\n",
    "print(H_sigmaeta.shape)"
   ]
  },
  {
   "cell_type": "code",
   "execution_count": 63,
   "metadata": {},
   "outputs": [],
   "source": [
    "def compute_local_energies(model, parameters, hamiltonian_jax, sigma):\n",
    "    eta, H_sigmaeta = hamiltonian_jax.get_conn_padded(sigma)\n",
    "    \n",
    "    logpsi_sigma = model.apply(parameters, sigma)\n",
    "    logpsi_eta = model.apply(parameters, eta)\n",
    "\n",
    "    logpsi_sigma = jnp.expand_dims(logpsi_sigma, -1)\n",
    "\n",
    "    # to match their dimensions and broadcast, jnp.expand_dims(logpsi_sigma, -1) might help\n",
    "    res = jnp.sum(H_sigmaeta * jnp.exp(logpsi_eta - logpsi_sigma), axis=(-1))\n",
    "    \n",
    "    return res"
   ]
  },
  {
   "cell_type": "code",
   "execution_count": 64,
   "metadata": {},
   "outputs": [],
   "source": [
    "# if you wrote it correctly, you should get to work the following tests\n",
    "assert compute_local_energies(model, parameters, hamiltonian_jax, samples[0]).shape == samples.shape[1:-1]\n",
    "assert compute_local_energies(model, parameters, hamiltonian_jax, samples).shape == samples.shape[:-1]"
   ]
  },
  {
   "cell_type": "code",
   "execution_count": 65,
   "metadata": {},
   "outputs": [
    {
     "data": {
      "text/plain": [
       "Array([[-20., -16., -12., -20., -12.],\n",
       "       [-16., -12., -16., -16., -12.],\n",
       "       [-16., -16., -12., -20., -24.],\n",
       "       [-16., -20., -24., -16., -12.]], dtype=float64)"
      ]
     },
     "execution_count": 65,
     "metadata": {},
     "output_type": "execute_result"
    }
   ],
   "source": [
    "# and if you did not do crazy things, this should also jit compile\n",
    "jax.jit(compute_local_energies, static_argnames='model')(model, parameters, hamiltonian_jax, sigma)"
   ]
  },
  {
   "cell_type": "code",
   "execution_count": 66,
   "metadata": {},
   "outputs": [],
   "source": [
    "@partial(jax.jit, static_argnames='model')\n",
    "def estimate_energy(model, parameters, hamiltonian_jax, sigma):\n",
    "    E_loc = compute_local_energies(model, parameters, hamiltonian_jax, sigma)\n",
    "    \n",
    "    E_average = jnp.mean(E_loc)\n",
    "    E_variance = jnp.var(E_loc)\n",
    "    E_error = jnp.sqrt(E_variance / E_loc.size)\n",
    "    \n",
    "    # we return a netket Stats object that wraps all statistical information related to this mean value.\n",
    "    return nk.stats.Stats(mean=E_average, error_of_mean=E_error, variance=E_variance)"
   ]
  },
  {
   "cell_type": "code",
   "execution_count": 67,
   "metadata": {},
   "outputs": [
    {
     "name": "stdout",
     "output_type": "stream",
     "text": [
      "-15.85 ± 0.12 [σ²=30.97]\n"
     ]
    }
   ],
   "source": [
    "# this should run correctly\n",
    "isinstance(estimate_energy(model, parameters, hamiltonian_jax, samples), nk.stats.Stats)\n",
    "print(estimate_energy(model, parameters, hamiltonian_jax, samples))"
   ]
  },
  {
   "cell_type": "code",
   "execution_count": 68,
   "metadata": {},
   "outputs": [
    {
     "name": "stdout",
     "output_type": "stream",
     "text": [
      "exact:  -15.999999999999408\n",
      "Estimate:  -16.007 ± 0.018 [σ²=32.055]\n"
     ]
    }
   ],
   "source": [
    "samples_many, sampler_state = sampler.sample(model, parameters, state=sampler_state, chain_length=5000)\n",
    "\n",
    "print(\"exact: \", compute_energy(model, parameters, hamiltonian_jax))\n",
    "print(\"Estimate: \", estimate_energy(model, parameters, hamiltonian_jax, samples_many))"
   ]
  }
 ],
 "metadata": {
  "kernelspec": {
   "display_name": "netket",
   "language": "python",
   "name": "python3"
  },
  "language_info": {
   "codemirror_mode": {
    "name": "ipython",
    "version": 3
   },
   "file_extension": ".py",
   "mimetype": "text/x-python",
   "name": "python",
   "nbconvert_exporter": "python",
   "pygments_lexer": "ipython3",
   "version": "3.12.4"
  }
 },
 "nbformat": 4,
 "nbformat_minor": 2
}
