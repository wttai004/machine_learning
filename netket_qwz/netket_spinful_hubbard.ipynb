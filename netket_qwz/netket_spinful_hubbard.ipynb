{
 "cells": [
  {
   "cell_type": "code",
   "execution_count": 1,
   "metadata": {},
   "outputs": [],
   "source": [
    "import netket as nk\n",
    "import netket.experimental as nkx\n",
    "from netket.experimental.operator.fermion import destroy as c\n",
    "from netket.experimental.operator.fermion import create as cdag\n",
    "from netket.experimental.operator.fermion import number as nc\n",
    "from scipy.sparse.linalg import eigsh\n",
    "import numpy as np\n",
    "import scipy.sparse.linalg\n",
    "import jax\n",
    "import jax.numpy as jnp\n",
    "import json\n",
    "import matplotlib.pyplot as plt\n",
    "\n",
    "import sys, os\n",
    "sys.path.append('/Users/wttai/Documents/Jupyter/machine_learning/common_lib')\n",
    "sys.path.append('/home1/wttai/machine_learning/common_lib')\n",
    "from models import get_qwz_graph, get_hubbard_Ham, cdag_, c_\n",
    "from networks import *\n",
    "from helper import get_ed_data"
   ]
  },
  {
   "cell_type": "markdown",
   "metadata": {},
   "source": [
    "# Using the actual fermion "
   ]
  },
  {
   "cell_type": "code",
   "execution_count": 2,
   "metadata": {},
   "outputs": [],
   "source": [
    "L = 2\n",
    "graph = nk.graph.Square(L)\n",
    "N = graph.n_nodes\n",
    "N_f = N\n",
    "#hi = nkx.hilbert.SpinOrbitalFermions(N, s=1/2, n_fermions=N_f)\n",
    "hi = nkx.hilbert.SpinOrbitalFermions(N, s=1/2, n_fermions_per_spin=(N//2, N//2))\n",
    "\n",
    "learning_rate = 0.05\n",
    "diag_shift = 0.01"
   ]
  },
  {
   "cell_type": "code",
   "execution_count": 3,
   "metadata": {},
   "outputs": [],
   "source": [
    "t = 1.0\n",
    "U = 4.0\n",
    "H = 0.0\n",
    "for (i, j) in graph.edges():\n",
    "    for spin in [-1, 1]:\n",
    "        H += t * (cdag(hi, i, spin) * c(hi, j, spin) + cdag(hi, j, spin) * c(hi, i, spin))\n",
    "\n",
    "for i in graph.nodes():\n",
    "    H += U * (nc(hi, i, 1) + nc(hi, i, -1) - 1) * (nc(hi, i, 1) + nc(hi, i, -1) - 1)"
   ]
  },
  {
   "cell_type": "code",
   "execution_count": 4,
   "metadata": {},
   "outputs": [
    {
     "name": "stdout",
     "output_type": "stream",
     "text": [
      "Exact ground state energy: -1.3202349582719282\n"
     ]
    }
   ],
   "source": [
    "# Convert the Hamiltonian to a sparse matrix\n",
    "sp_h = H.to_sparse()\n",
    "\n",
    "from scipy.sparse.linalg import eigsh\n",
    "\n",
    "eig_vals, eig_vecs = eigsh(sp_h, k=2, which=\"SA\")\n",
    "\n",
    "E_gs = eig_vals[0]\n",
    "\n",
    "print(\"Exact ground state energy:\", E_gs)"
   ]
  },
  {
   "cell_type": "code",
   "execution_count": 5,
   "metadata": {},
   "outputs": [
    {
     "data": {
      "application/vnd.jupyter.widget-view+json": {
       "model_id": "a689000af9be4af3914c465efb48deee",
       "version_major": 2,
       "version_minor": 0
      },
      "text/plain": [
       "  0%|          | 0/300 [00:00<?, ?it/s]"
      ]
     },
     "metadata": {},
     "output_type": "display_data"
    },
    {
     "data": {
      "text/plain": [
       "(RuntimeLog():\n",
       "  keys = ['acceptance', 'Energy'],)"
      ]
     },
     "execution_count": 5,
     "metadata": {},
     "output_type": "execute_result"
    }
   ],
   "source": [
    "from netket.models.slater import Slater2nd\n",
    "\n",
    "# Create the Slater determinant model\n",
    "model = Slater2nd(hi, generalized=True)#LogSlaterDeterminant(hi)\n",
    "\n",
    "# Define the Metropolis-Hastings sampler\n",
    "sa = nk.sampler.MetropolisExchange(hi, graph=graph)\n",
    "\n",
    "vstate = nk.vqs.MCState(sa, model, n_samples=2**12, n_discard_per_chain=16)\n",
    "\n",
    "# Define the optimizer\n",
    "op = nk.optimizer.Sgd(learning_rate=learning_rate)\n",
    "\n",
    "# Define a preconditioner\n",
    "preconditioner = nk.optimizer.SR(diag_shift=diag_shift)\n",
    "\n",
    "# Create the VMC (Variational Monte Carlo) driver\n",
    "gs = nk.VMC(H, op, variational_state=vstate, preconditioner=preconditioner)\n",
    "\n",
    "# Construct the logger to visualize the data later on\n",
    "slater_log=nk.logging.RuntimeLog()\n",
    "\n",
    "# Run the optimization for 300 iterations\n",
    "gs.run(n_iter=300, out=slater_log)"
   ]
  },
  {
   "cell_type": "code",
   "execution_count": 6,
   "metadata": {},
   "outputs": [
    {
     "name": "stdout",
     "output_type": "stream",
     "text": [
      "Optimized energy : -1.332-0.000j ± 0.014 [σ²=0.125, R̂=1.3370]\n",
      "Relative error   : 0.0087969487976302\n"
     ]
    }
   ],
   "source": [
    "sd_energy = vstate.expect(H)\n",
    "error = abs((sd_energy.mean - E_gs) / E_gs)\n",
    "\n",
    "print(f\"Optimized energy : {sd_energy}\")\n",
    "print(f\"Relative error   : {error}\")"
   ]
  },
  {
   "cell_type": "code",
   "execution_count": 7,
   "metadata": {},
   "outputs": [
    {
     "data": {
      "application/vnd.jupyter.widget-view+json": {
       "model_id": "44bf14311d50495099ef39ee4229e3d2",
       "version_major": 2,
       "version_minor": 0
      },
      "text/plain": [
       "  0%|          | 0/300 [00:00<?, ?it/s]"
      ]
     },
     "metadata": {},
     "output_type": "display_data"
    },
    {
     "data": {
      "text/plain": [
       "(RuntimeLog():\n",
       "  keys = ['acceptance', 'Energy'],)"
      ]
     },
     "execution_count": 7,
     "metadata": {},
     "output_type": "execute_result"
    }
   ],
   "source": [
    "# Create a Neural Jastrow Slater wave function \n",
    "model = LogNeuralJastrowSlater(hi, hidden_units=N)\n",
    "\n",
    "# Define a Metropolis exchange sampler\n",
    "sa = nk.sampler.MetropolisExchange(hi, graph=graph)\n",
    "\n",
    "# Define an optimizer\n",
    "op = nk.optimizer.Sgd(learning_rate=learning_rate)\n",
    "\n",
    "# Create a variational state\n",
    "vstate = nk.vqs.MCState(sa, model, n_samples=2**12, n_discard_per_chain=16)\n",
    "\n",
    "# Create a Variational Monte Carlo driver\n",
    "preconditioner = nk.optimizer.SR(diag_shift=diag_shift)\n",
    "gs = nk.VMC(H, op, variational_state=vstate, preconditioner=preconditioner)\n",
    "\n",
    "# Construct the logger to visualize the data later on\n",
    "nj_log=nk.logging.RuntimeLog()\n",
    "\n",
    "# Run the optimization for 300 iterations\n",
    "gs.run(n_iter=300, out=nj_log)"
   ]
  },
  {
   "cell_type": "code",
   "execution_count": 8,
   "metadata": {},
   "outputs": [
    {
     "name": "stdout",
     "output_type": "stream",
     "text": [
      "Optimized energy : -1.3137-0.0000j ± 0.0035 [σ²=0.0510, R̂=1.0019]\n",
      "Relative error   : 0.004936286096196665\n"
     ]
    }
   ],
   "source": [
    "sd_energy = vstate.expect(H)\n",
    "error = abs((sd_energy.mean - E_gs) / E_gs)\n",
    "\n",
    "print(f\"Optimized energy : {sd_energy}\")\n",
    "print(f\"Relative error   : {error}\")"
   ]
  },
  {
   "cell_type": "code",
   "execution_count": 12,
   "metadata": {},
   "outputs": [
    {
     "data": {
      "application/vnd.jupyter.widget-view+json": {
       "model_id": "acc1fd4718364d08bdda5680426e1bdc",
       "version_major": 2,
       "version_minor": 0
      },
      "text/plain": [
       "  0%|          | 0/300 [00:00<?, ?it/s]"
      ]
     },
     "metadata": {},
     "output_type": "display_data"
    },
    {
     "data": {
      "text/plain": [
       "(RuntimeLog():\n",
       "  keys = ['acceptance', 'Energy'],)"
      ]
     },
     "execution_count": 12,
     "metadata": {},
     "output_type": "execute_result"
    }
   ],
   "source": [
    "# Create a neural backflow wave function\n",
    "model = LogNeuralBackflow(hi, hidden_units=N)\n",
    "\n",
    "# Define a Metropolis exchange sampler\n",
    "sa = nk.sampler.MetropolisExchange(hi, graph=graph)\n",
    "\n",
    "# Define an optimizer\n",
    "op = nk.optimizer.Sgd(learning_rate=learning_rate)\n",
    "\n",
    "# Create a variational state\n",
    "vstate = nk.vqs.MCState(sa, model, n_samples=2**12, n_discard_per_chain=16)\n",
    "\n",
    "# Create a Variational Monte Carlo driver\n",
    "preconditioner = nk.optimizer.SR(diag_shift=diag_shift)\n",
    "gs = nk.VMC(H, op, variational_state=vstate, preconditioner=preconditioner)\n",
    "\n",
    "# Construct the logger to visualize the data later on\n",
    "bf_log=nk.logging.RuntimeLog()\n",
    "\n",
    "# Run the optimization for 300 iterations\n",
    "gs.run(n_iter=300, out=bf_log)"
   ]
  },
  {
   "cell_type": "code",
   "execution_count": 13,
   "metadata": {},
   "outputs": [
    {
     "name": "stdout",
     "output_type": "stream",
     "text": [
      "Optimized energy : -1.3202355+0.0000000j ± 0.0000036 [σ²=0.0000000, R̂=1.3314]\n",
      "Relative error   : 4.1014107227442e-07\n"
     ]
    }
   ],
   "source": [
    "sd_energy = vstate.expect(H)\n",
    "error = abs((sd_energy.mean - E_gs) / E_gs)\n",
    "\n",
    "print(f\"Optimized energy : {sd_energy}\")\n",
    "print(f\"Relative error   : {error}\")"
   ]
  },
  {
   "cell_type": "code",
   "execution_count": 14,
   "metadata": {},
   "outputs": [
    {
     "data": {
      "text/plain": [
       "<matplotlib.legend.Legend at 0x2b4b4b7362d0>"
      ]
     },
     "execution_count": 14,
     "metadata": {},
     "output_type": "execute_result"
    },
    {
     "data": {
      "image/png": "[encoded data removed]",
      "text/plain": [
       "<Figure size 640x480 with 1 Axes>"
      ]
     },
     "metadata": {},
     "output_type": "display_data"
    }
   ],
   "source": [
    "logged_data = (slater_log.data,nj_log.data,bf_log.data)\n",
    "labels = (\"Slater\",\"Neural Jastrow\",\"Neural Backflow\")\n",
    "\n",
    "from matplotlib import pyplot as plt\n",
    "\n",
    "start = 10\n",
    "\n",
    "end = 300\n",
    "\n",
    "for data,label in zip(logged_data,labels):\n",
    "    plt.errorbar(data[\"Energy\"].iters[start:end], data[\"Energy\"].Mean.real[start:end], yerr=data[\"Energy\"].Sigma[start:end],label=label)\n",
    "\n",
    "plt.hlines([E_gs], xmin=start, xmax=end, color='black', label=\"Exact\")\n",
    "\n",
    "plt.xlabel('Iterations')\n",
    "plt.ylabel('Energy')\n",
    "plt.legend()"
   ]
  },
  {
   "cell_type": "markdown",
   "metadata": {},
   "source": [
    "# Using the unrestricted Hartree-Fock like "
   ]
  },
  {
   "cell_type": "code",
   "execution_count": 31,
   "metadata": {},
   "outputs": [
    {
     "data": {
      "application/vnd.jupyter.widget-view+json": {
       "model_id": "d450a828b25c4eccbd62e1325355f0b5",
       "version_major": 2,
       "version_minor": 0
      },
      "text/plain": [
       "  0%|          | 0/300 [00:00<?, ?it/s]"
      ]
     },
     "metadata": {},
     "output_type": "display_data"
    },
    {
     "data": {
      "text/plain": [
       "(RuntimeLog():\n",
       "  keys = ['acceptance', 'Energy'],)"
      ]
     },
     "execution_count": 31,
     "metadata": {},
     "output_type": "execute_result"
    }
   ],
   "source": [
    "from netket.models.slater import Slater2nd\n",
    "\n",
    "# Create the Slater determinant model\n",
    "model = Slater2nd(hi, generalized=False, restricted = False)#LogSlaterDeterminant(hi)\n",
    "\n",
    "# Define the Metropolis-Hastings sampler\n",
    "sa = nk.sampler.MetropolisExchange(hi, graph=graph)\n",
    "\n",
    "vstate = nk.vqs.MCState(sa, model, n_samples=2**12, n_discard_per_chain=16)\n",
    "\n",
    "# Define the optimizer\n",
    "op = nk.optimizer.Sgd(learning_rate=0.01)\n",
    "\n",
    "# Define a preconditioner\n",
    "preconditioner = nk.optimizer.SR(diag_shift=0.05)\n",
    "\n",
    "# Create the VMC (Variational Monte Carlo) driver\n",
    "gs = nk.VMC(H, op, variational_state=vstate, preconditioner=preconditioner)\n",
    "\n",
    "slater_log=nk.logging.RuntimeLog()\n",
    "\n",
    "# Run the optimization for 300 iterations\n",
    "gs.run(n_iter=300, out=slater_log)"
   ]
  },
  {
   "cell_type": "code",
   "execution_count": 32,
   "metadata": {},
   "outputs": [
    {
     "name": "stdout",
     "output_type": "stream",
     "text": [
      "Optimized energy : -3.7894-0.0000j ± 0.0017 [σ²=0.0110, R̂=1.0118]\n",
      "Relative error   : 0.016744975989955353\n"
     ]
    }
   ],
   "source": [
    "sd_energy = vstate.expect(H)\n",
    "error = abs((sd_energy.mean - E_gs) / E_gs)\n",
    "\n",
    "print(f\"Optimized energy : {sd_energy}\")\n",
    "print(f\"Relative error   : {error}\")"
   ]
  },
  {
   "cell_type": "markdown",
   "metadata": {},
   "source": [
    "# Using the implementation from my QWZ"
   ]
  },
  {
   "cell_type": "code",
   "execution_count": 14,
   "metadata": {},
   "outputs": [],
   "source": [
    "L = 2\n",
    "Lx = 2\n",
    "Ly = 2\n",
    "N = Lx * Ly\n",
    "\n",
    "graph, hi = get_qwz_graph(L = Lx, L2 = Ly, pbc = False, N = N)"
   ]
  },
  {
   "cell_type": "code",
   "execution_count": 15,
   "metadata": {},
   "outputs": [
    {
     "name": "stdout",
     "output_type": "stream",
     "text": [
      "Exact ground state energy: -1.3202349582719326\n"
     ]
    }
   ],
   "source": [
    "t = 1.0\n",
    "U = 4.0\n",
    "s = 0\n",
    "p = 1\n",
    "\n",
    "H = get_hubbard_Ham(hi, graph, t = t, U = U)\n",
    "\n",
    "# Exact diagonalization\n",
    "\n",
    "evals, evecs = get_ed_data(H, k = 6)\n",
    "E_gs = evals[0]"
   ]
  },
  {
   "cell_type": "markdown",
   "metadata": {},
   "source": [
    "## Slater Determinant"
   ]
  },
  {
   "cell_type": "code",
   "execution_count": 13,
   "metadata": {},
   "outputs": [
    {
     "data": {
      "application/vnd.jupyter.widget-view+json": {
       "model_id": "cbe42b71cf5846ef9c72ca5b113b8d44",
       "version_major": 2,
       "version_minor": 0
      },
      "text/plain": [
       "  0%|          | 0/300 [00:00<?, ?it/s]"
      ]
     },
     "metadata": {},
     "output_type": "display_data"
    },
    {
     "data": {
      "text/plain": [
       "(RuntimeLog():\n",
       "  keys = ['acceptance', 'Energy'],)"
      ]
     },
     "execution_count": 13,
     "metadata": {},
     "output_type": "execute_result"
    }
   ],
   "source": [
    "# Create the Slater determinant model\n",
    "model = LogSlaterDeterminant(hi)\n",
    "\n",
    "# Define the Metropolis-Hastings sampler\n",
    "sa = nk.sampler.MetropolisExchange(hi, graph=graph)\n",
    "\n",
    "vstate = nk.vqs.MCState(sa, model, n_samples=2**12, n_discard_per_chain=16)\n",
    "\n",
    "# Define the optimizer\n",
    "op = nk.optimizer.Sgd(learning_rate=0.05)\n",
    "\n",
    "# Define a preconditioner\n",
    "preconditioner = nk.optimizer.SR(diag_shift=0.05)\n",
    "\n",
    "# Create the VMC (Variational Monte Carlo) driver\n",
    "gs = nk.VMC(H, op, variational_state=vstate, preconditioner=preconditioner)\n",
    "\n",
    "# Construct the logger to visualize the data later on\n",
    "slater_log=nk.logging.RuntimeLog()\n",
    "\n",
    "# Run the optimization for 300 iterations\n",
    "gs.run(n_iter=300, out=slater_log)"
   ]
  },
  {
   "cell_type": "code",
   "execution_count": 14,
   "metadata": {},
   "outputs": [
    {
     "name": "stdout",
     "output_type": "stream",
     "text": [
      "Optimized energy : 5.46+0.00j ± 0.68 [σ²=273.74, R̂=1.3547]\n",
      "Relative error   : 8.557328087576451\n"
     ]
    }
   ],
   "source": [
    "sd_energy = vstate.expect(H)\n",
    "error = abs((sd_energy.mean - E_gs) / E_gs)\n",
    "\n",
    "print(f\"Optimized energy : {sd_energy}\")\n",
    "print(f\"Relative error   : {error}\")"
   ]
  },
  {
   "cell_type": "markdown",
   "metadata": {},
   "source": [
    "## Neural Jastrow-Slater"
   ]
  },
  {
   "cell_type": "code",
   "execution_count": 15,
   "metadata": {},
   "outputs": [
    {
     "data": {
      "application/vnd.jupyter.widget-view+json": {
       "model_id": "047b688972374ede89c01fd733196fcc",
       "version_major": 2,
       "version_minor": 0
      },
      "text/plain": [
       "  0%|          | 0/300 [00:00<?, ?it/s]"
      ]
     },
     "metadata": {},
     "output_type": "display_data"
    },
    {
     "data": {
      "text/plain": [
       "(RuntimeLog():\n",
       "  keys = ['acceptance', 'Energy'],)"
      ]
     },
     "execution_count": 15,
     "metadata": {},
     "output_type": "execute_result"
    }
   ],
   "source": [
    "# Create a Neural Jastrow Slater wave function \n",
    "model = LogNeuralJastrowSlater(hi, hidden_units=N)\n",
    "\n",
    "# Define a Metropolis exchange sampler\n",
    "sa = nk.sampler.MetropolisExchange(hi, graph=graph)\n",
    "\n",
    "# Define an optimizer\n",
    "op = nk.optimizer.Sgd(learning_rate=0.05)\n",
    "\n",
    "# Create a variational state\n",
    "vstate = nk.vqs.MCState(sa, model, n_samples=2**12, n_discard_per_chain=16)\n",
    "\n",
    "# Create a Variational Monte Carlo driver\n",
    "preconditioner = nk.optimizer.SR(diag_shift=0.05)\n",
    "gs = nk.VMC(H, op, variational_state=vstate, preconditioner=preconditioner)\n",
    "\n",
    "# Construct the logger to visualize the data later on\n",
    "nj_log=nk.logging.RuntimeLog()\n",
    "\n",
    "# Run the optimization for 300 iterations\n",
    "gs.run(n_iter=300, out=nj_log)"
   ]
  },
  {
   "cell_type": "code",
   "execution_count": 16,
   "metadata": {},
   "outputs": [
    {
     "name": "stdout",
     "output_type": "stream",
     "text": [
      "Optimized energy : -1.810-0.000j ± 0.090 [σ²=7.758, R̂=1.2124]\n",
      "Relative error   : 1.5043393267694412\n"
     ]
    }
   ],
   "source": [
    "sd_energy = vstate.expect(H)\n",
    "error = abs((sd_energy.mean - E_gs) / E_gs)\n",
    "\n",
    "print(f\"Optimized energy : {sd_energy}\")\n",
    "print(f\"Relative error   : {error}\")"
   ]
  },
  {
   "cell_type": "markdown",
   "metadata": {},
   "source": [
    "## Log Neural Backflow"
   ]
  },
  {
   "cell_type": "code",
   "execution_count": 17,
   "metadata": {},
   "outputs": [
    {
     "data": {
      "application/vnd.jupyter.widget-view+json": {
       "model_id": "a8196d9a41b44e6e8d86d66d591f2489",
       "version_major": 2,
       "version_minor": 0
      },
      "text/plain": [
       "  0%|          | 0/300 [00:00<?, ?it/s]"
      ]
     },
     "metadata": {},
     "output_type": "display_data"
    },
    {
     "data": {
      "text/plain": [
       "(RuntimeLog():\n",
       "  keys = ['acceptance', 'Energy'],)"
      ]
     },
     "execution_count": 17,
     "metadata": {},
     "output_type": "execute_result"
    }
   ],
   "source": [
    "# Create a neural backflow wave function\n",
    "model = LogNeuralBackflow(hi, hidden_units=N)\n",
    "\n",
    "# Define a Metropolis exchange sampler\n",
    "sa = nk.sampler.MetropolisExchange(hi, graph=graph)\n",
    "\n",
    "# Define an optimizer\n",
    "op = nk.optimizer.Sgd(learning_rate=0.05)\n",
    "\n",
    "# Create a variational state\n",
    "vstate = nk.vqs.MCState(sa, model, n_samples=2**12, n_discard_per_chain=16)\n",
    "\n",
    "# Create a Variational Monte Carlo driver\n",
    "preconditioner = nk.optimizer.SR(diag_shift=0.05)\n",
    "gs = nk.VMC(H, op, variational_state=vstate, preconditioner=preconditioner)\n",
    "\n",
    "# Construct the logger to visualize the data later on\n",
    "bf_log=nk.logging.RuntimeLog()\n",
    "\n",
    "# Run the optimization for 300 iterations\n",
    "gs.run(n_iter=300, out=bf_log)"
   ]
  },
  {
   "cell_type": "code",
   "execution_count": 12,
   "metadata": {},
   "outputs": [
    {
     "name": "stdout",
     "output_type": "stream",
     "text": [
      "Optimized energy : -1.098-0.000j ± 0.013 [σ²=0.083, R̂=1.4040]\n",
      "Relative error   : 0.1681685001314132\n"
     ]
    }
   ],
   "source": [
    "sd_energy = vstate.expect(H)\n",
    "error = abs((sd_energy.mean - E_gs) / E_gs)\n",
    "\n",
    "print(f\"Optimized energy : {sd_energy}\")\n",
    "print(f\"Relative error   : {error}\")"
   ]
  },
  {
   "cell_type": "code",
   "execution_count": 13,
   "metadata": {},
   "outputs": [
    {
     "ename": "NameError",
     "evalue": "name 'slater_log' is not defined",
     "output_type": "error",
     "traceback": [
      "\u001b[0;31m---------------------------------------------------------------------------\u001b[0m",
      "\u001b[0;31mNameError\u001b[0m                                 Traceback (most recent call last)",
      "Cell \u001b[0;32mIn[13], line 1\u001b[0m\n\u001b[0;32m----> 1\u001b[0m logged_data \u001b[38;5;241m=\u001b[39m (\u001b[43mslater_log\u001b[49m\u001b[38;5;241m.\u001b[39mdata,nj_log\u001b[38;5;241m.\u001b[39mdata,bf_log\u001b[38;5;241m.\u001b[39mdata)\n\u001b[1;32m      2\u001b[0m labels \u001b[38;5;241m=\u001b[39m (\u001b[38;5;124m\"\u001b[39m\u001b[38;5;124mSlater\u001b[39m\u001b[38;5;124m\"\u001b[39m,\u001b[38;5;124m\"\u001b[39m\u001b[38;5;124mNeural Jastrow\u001b[39m\u001b[38;5;124m\"\u001b[39m,\u001b[38;5;124m\"\u001b[39m\u001b[38;5;124mNeural Backflow\u001b[39m\u001b[38;5;124m\"\u001b[39m)\n\u001b[1;32m      4\u001b[0m \u001b[38;5;28;01mfrom\u001b[39;00m \u001b[38;5;21;01mmatplotlib\u001b[39;00m \u001b[38;5;28;01mimport\u001b[39;00m pyplot \u001b[38;5;28;01mas\u001b[39;00m plt\n",
      "\u001b[0;31mNameError\u001b[0m: name 'slater_log' is not defined"
     ]
    }
   ],
   "source": [
    "logged_data = (slater_log.data,nj_log.data,bf_log.data)\n",
    "labels = (\"Slater\",\"Neural Jastrow\",\"Neural Backflow\")\n",
    "\n",
    "from matplotlib import pyplot as plt\n",
    "\n",
    "start = 10\n",
    "\n",
    "end = 300\n",
    "\n",
    "for data,label in zip(logged_data,labels):\n",
    "    plt.errorbar(data[\"Energy\"].iters[start:end], data[\"Energy\"].Mean.real[start:end], yerr=data[\"Energy\"].Sigma[start:end],label=label)\n",
    "\n",
    "plt.hlines([E_gs], xmin=start, xmax=end, color='black', label=\"Exact\")\n",
    "\n",
    "plt.xlabel('Iterations')\n",
    "plt.ylabel('Energy')\n",
    "plt.legend()"
   ]
  },
  {
   "cell_type": "code",
   "execution_count": null,
   "metadata": {},
   "outputs": [],
   "source": []
  }
 ],
 "metadata": {
  "kernelspec": {
   "display_name": "netket",
   "language": "python",
   "name": "python3"
  },
  "language_info": {
   "codemirror_mode": {
    "name": "ipython",
    "version": 3
   },
   "file_extension": ".py",
   "mimetype": "text/x-python",
   "name": "python",
   "nbconvert_exporter": "python",
   "pygments_lexer": "ipython3",
   "version": "3.12.4"
  }
 },
 "nbformat": 4,
 "nbformat_minor": 2
}
