{
 "cells": [
  {
   "cell_type": "code",
   "execution_count": 14,
   "metadata": {},
   "outputs": [],
   "source": [
    "import netket as nk\n",
    "import netket.experimental as nkx\n",
    "from netket.experimental.operator.fermion import destroy as c\n",
    "from netket.experimental.operator.fermion import create as cdag\n",
    "from netket.experimental.operator.fermion import number as nc\n",
    "from netket.models.slater import Slater2nd, MultiSlater2nd\n",
    "from scipy.sparse.linalg import eigsh\n",
    "import numpy as np\n",
    "import scipy.sparse.linalg\n",
    "import jax\n",
    "import jax.numpy as jnp\n",
    "import json\n",
    "import matplotlib.pyplot as plt\n",
    "\n",
    "import sys, os\n",
    "sys.path.append('/Users/wttai/Documents/Jupyter/machine_learning/common_lib')\n",
    "sys.path.append('/home1/wttai/machine_learning/common_lib')\n",
    "from models import get_qwz_graph, get_qwz_Ham\n",
    "from networks import *\n",
    "from helper import get_ed_data"
   ]
  },
  {
   "cell_type": "code",
   "execution_count": 21,
   "metadata": {},
   "outputs": [
    {
     "name": "stdout",
     "output_type": "stream",
     "text": [
      "Exact ground state energy: -8.933767228970162\n"
     ]
    }
   ],
   "source": [
    "L = 2\n",
    "Lx = L\n",
    "Ly = L\n",
    "N = Lx * Ly\n",
    "\n",
    "graph, hi = get_qwz_graph(L = Lx, L2 = Ly, pbc = False, N = N)\n",
    "\n",
    "m = 2.0\n",
    "t = 1.0\n",
    "U = 5.0\n",
    "s = 0\n",
    "p = 1\n",
    "learning_rate = 0.01\n",
    "diag_shift = 0.01\n",
    "\n",
    "H = get_qwz_Ham(hi, graph, m = m, t = t, U = U)\n",
    "\n",
    "# Exact diagonalization\n",
    "\n",
    "evals, evecs = get_ed_data(H, k = 6)\n",
    "E_gs = evals[0]"
   ]
  },
  {
   "cell_type": "code",
   "execution_count": 22,
   "metadata": {},
   "outputs": [],
   "source": [
    "s, p = 1, -1\n",
    "def corr_func(i):\n",
    "    return cdag(hi, i, s) * c(hi, 0, s) + cdag(hi, i, p) * c(hi, 0, p)"
   ]
  },
  {
   "cell_type": "code",
   "execution_count": 23,
   "metadata": {},
   "outputs": [],
   "source": [
    "corrs = {}\n",
    "for i in range(N):\n",
    "    corrs[f\"cdag{i}c0\"] = corr_func(i)"
   ]
  },
  {
   "cell_type": "markdown",
   "metadata": {},
   "source": [
    "# Slater Determinant"
   ]
  },
  {
   "cell_type": "code",
   "execution_count": 24,
   "metadata": {},
   "outputs": [
    {
     "name": "stderr",
     "output_type": "stream",
     "text": [
      "/home1/wttai/.conda/envs/netket/lib/python3.12/site-packages/netket/vqs/mc/mc_state/state.py:252: UserWarning: An exact sampler does not need to discard samples. Setting n_discard_per_chain to 0.\n",
      "  self.n_discard_per_chain = n_discard_per_chain\n"
     ]
    },
    {
     "data": {
      "application/vnd.jupyter.widget-view+json": {
       "model_id": "e0eabad189b542fe951263a9bd477ceb",
       "version_major": 2,
       "version_minor": 0
      },
      "text/plain": [
       "  0%|          | 0/300 [00:00<?, ?it/s]"
      ]
     },
     "metadata": {},
     "output_type": "display_data"
    },
    {
     "data": {
      "text/plain": [
       "(RuntimeLog():\n",
       "  keys = ['cdag0c0', 'cdag1c0', 'cdag2c0', 'cdag3c0', 'Energy'],)"
      ]
     },
     "execution_count": 24,
     "metadata": {},
     "output_type": "execute_result"
    }
   ],
   "source": [
    "n_iter = 300\n",
    "# Create the Slater determinant model\n",
    "model = MultiSlater2nd(hi, generalized=True)#LogSlaterDeterminant(hi)\n",
    "\n",
    "# Define the Metropolis-Hastings sampler\n",
    "sa = nk.sampler.ExactSampler(hi) \n",
    "#sa = nk.sampler.MetropolisLocal(hi)\n",
    "#sa = nk.sampler.MetropolisExchange(hi, graph=graph)\n",
    "\n",
    "vstate = nk.vqs.MCState(sa, model, n_samples=2**12, n_discard_per_chain=16)\n",
    "\n",
    "# Define the optimizer\n",
    "op = nk.optimizer.Sgd(learning_rate=learning_rate)\n",
    "\n",
    "# Define a preconditioner\n",
    "preconditioner = nk.optimizer.SR(diag_shift=diag_shift)\n",
    "\n",
    "# Create the VMC (Variational Monte Carlo) driver\n",
    "gs = nk.VMC(H, op, variational_state=vstate, preconditioner=preconditioner)\n",
    "\n",
    "# Construct the logger to visualize the data later on\n",
    "slater_log=nk.logging.RuntimeLog()\n",
    "\n",
    "# Run the optimization for 300 iterations\n",
    "gs.run(n_iter=n_iter, out=slater_log, obs = corrs)"
   ]
  },
  {
   "cell_type": "code",
   "execution_count": 25,
   "metadata": {},
   "outputs": [
    {
     "name": "stdout",
     "output_type": "stream",
     "text": [
      "Optimized energy : -8.4589+0.0046j ± 0.0049 [σ²=0.0938]\n",
      "Relative error   : 0.05315172927510045\n"
     ]
    }
   ],
   "source": [
    "sd_energy = vstate.expect(H)\n",
    "error = abs((sd_energy.mean - E_gs) / E_gs)\n",
    "\n",
    "print(f\"Optimized energy : {sd_energy}\")\n",
    "print(f\"Relative error   : {error}\")"
   ]
  },
  {
   "cell_type": "code",
   "execution_count": 26,
   "metadata": {},
   "outputs": [
    {
     "name": "stderr",
     "output_type": "stream",
     "text": [
      "/home1/wttai/.conda/envs/netket/lib/python3.12/site-packages/netket/vqs/mc/mc_state/state.py:252: UserWarning: An exact sampler does not need to discard samples. Setting n_discard_per_chain to 0.\n",
      "  self.n_discard_per_chain = n_discard_per_chain\n"
     ]
    },
    {
     "data": {
      "application/vnd.jupyter.widget-view+json": {
       "model_id": "375d29c88f6441cdb17d32458d7ea2a2",
       "version_major": 2,
       "version_minor": 0
      },
      "text/plain": [
       "  0%|          | 0/300 [00:00<?, ?it/s]"
      ]
     },
     "metadata": {},
     "output_type": "display_data"
    },
    {
     "data": {
      "text/plain": [
       "(RuntimeLog():\n",
       "  keys = ['cdag0c0', 'cdag1c0', 'cdag2c0', 'cdag3c0', 'Energy'],)"
      ]
     },
     "execution_count": 26,
     "metadata": {},
     "output_type": "execute_result"
    }
   ],
   "source": [
    "n_iter = 300\n",
    "# Create the Slater determinant model\n",
    "model = Slater2nd(hi, generalized=True)#LogSlaterDeterminant(hi)\n",
    "\n",
    "# Define the Metropolis-Hastings sampler\n",
    "sa = nk.sampler.ExactSampler(hi) \n",
    "#sa = nk.sampler.MetropolisLocal(hi)\n",
    "#sa = nk.sampler.MetropolisExchange(hi, graph=graph)\n",
    "\n",
    "vstate = nk.vqs.MCState(sa, model, n_samples=2**12, n_discard_per_chain=16)\n",
    "\n",
    "# Define the optimizer\n",
    "op = nk.optimizer.Sgd(learning_rate=learning_rate)\n",
    "\n",
    "# Define a preconditioner\n",
    "preconditioner = nk.optimizer.SR(diag_shift=diag_shift)\n",
    "\n",
    "# Create the VMC (Variational Monte Carlo) driver\n",
    "gs = nk.VMC(H, op, variational_state=vstate, preconditioner=preconditioner)\n",
    "\n",
    "# Construct the logger to visualize the data later on\n",
    "slater_log=nk.logging.RuntimeLog()\n",
    "\n",
    "# Run the optimization for 300 iterations\n",
    "gs.run(n_iter=n_iter, out=slater_log, obs = corrs)"
   ]
  },
  {
   "cell_type": "code",
   "execution_count": 27,
   "metadata": {},
   "outputs": [
    {
     "name": "stdout",
     "output_type": "stream",
     "text": [
      "Optimized energy : -8.448+0.016j ± 0.028 [σ²=3.373]\n",
      "Relative error   : 0.05441922392158829\n"
     ]
    }
   ],
   "source": [
    "sd_energy = vstate.expect(H)\n",
    "error = abs((sd_energy.mean - E_gs) / E_gs)\n",
    "\n",
    "print(f\"Optimized energy : {sd_energy}\")\n",
    "print(f\"Relative error   : {error}\")"
   ]
  },
  {
   "cell_type": "code",
   "execution_count": 28,
   "metadata": {},
   "outputs": [
    {
     "name": "stderr",
     "output_type": "stream",
     "text": [
      "/home1/wttai/.conda/envs/netket/lib/python3.12/site-packages/netket/vqs/mc/mc_state/state.py:252: UserWarning: An exact sampler does not need to discard samples. Setting n_discard_per_chain to 0.\n",
      "  self.n_discard_per_chain = n_discard_per_chain\n"
     ]
    },
    {
     "data": {
      "application/vnd.jupyter.widget-view+json": {
       "model_id": "f1aa9a2fcea1428482dd0c3d34e69c07",
       "version_major": 2,
       "version_minor": 0
      },
      "text/plain": [
       "  0%|          | 0/300 [00:00<?, ?it/s]"
      ]
     },
     "metadata": {},
     "output_type": "display_data"
    },
    {
     "data": {
      "text/plain": [
       "(RuntimeLog():\n",
       "  keys = ['Energy'],)"
      ]
     },
     "execution_count": 28,
     "metadata": {},
     "output_type": "execute_result"
    }
   ],
   "source": [
    "# Create a Neural Jastrow Slater wave function \n",
    "model = LogNeuralJastrowSlater(hi, hidden_units=N)\n",
    "\n",
    "# Define a Metropolis exchange sampler\n",
    "sa = nk.sampler.ExactSampler(hi) \n",
    "#sa = nk.sampler.MetropolisLocal(hi)\n",
    "#sa = nk.sampler.MetropolisExchange(hi, graph=graph)\n",
    "\n",
    "# Define an optimizer\n",
    "op = nk.optimizer.Sgd(learning_rate=learning_rate)\n",
    "\n",
    "# Create a variational state\n",
    "vstate = nk.vqs.MCState(sa, model, n_samples=2**12, n_discard_per_chain=16)\n",
    "\n",
    "# Create a Variational Monte Carlo driver\n",
    "preconditioner = nk.optimizer.SR(diag_shift=diag_shift)\n",
    "gs = nk.VMC(H, op, variational_state=vstate, preconditioner=preconditioner)\n",
    "\n",
    "# Construct the logger to visualize the data later on\n",
    "nj_log=nk.logging.RuntimeLog()\n",
    "\n",
    "# Run the optimization for 300 iterations\n",
    "gs.run(n_iter=300, out=nj_log)"
   ]
  },
  {
   "cell_type": "code",
   "execution_count": 29,
   "metadata": {},
   "outputs": [
    {
     "name": "stdout",
     "output_type": "stream",
     "text": [
      "Optimized energy : -8.4655+0.0063j ± 0.0027 [σ²=0.0323]\n",
      "Relative error   : 0.052420150527658006\n"
     ]
    }
   ],
   "source": [
    "sd_energy = vstate.expect(H)\n",
    "error = abs((sd_energy.mean - E_gs) / E_gs)\n",
    "\n",
    "print(f\"Optimized energy : {sd_energy}\")\n",
    "print(f\"Relative error   : {error}\")"
   ]
  },
  {
   "cell_type": "code",
   "execution_count": 30,
   "metadata": {},
   "outputs": [
    {
     "name": "stderr",
     "output_type": "stream",
     "text": [
      "/home1/wttai/.conda/envs/netket/lib/python3.12/site-packages/netket/vqs/mc/mc_state/state.py:252: UserWarning: An exact sampler does not need to discard samples. Setting n_discard_per_chain to 0.\n",
      "  self.n_discard_per_chain = n_discard_per_chain\n"
     ]
    },
    {
     "data": {
      "application/vnd.jupyter.widget-view+json": {
       "model_id": "57b05fe3c1e149209a857b4c406e94b6",
       "version_major": 2,
       "version_minor": 0
      },
      "text/plain": [
       "  0%|          | 0/300 [00:00<?, ?it/s]"
      ]
     },
     "metadata": {},
     "output_type": "display_data"
    },
    {
     "data": {
      "text/plain": [
       "(RuntimeLog():\n",
       "  keys = ['Energy'],)"
      ]
     },
     "execution_count": 30,
     "metadata": {},
     "output_type": "execute_result"
    }
   ],
   "source": [
    "# Create a neural backflow wave function\n",
    "model = LogNeuralBackflow(hi, hidden_units=N)\n",
    "\n",
    "# Define a Metropolis exchange sampler\n",
    "#sa = nk.sampler.MetropolisExchange(hi, graph=graph)\n",
    "#sa = nk.sampler.MetropolisLocal(hi)\n",
    "sa = nk.sampler.ExactSampler(hi) \n",
    "\n",
    "# Define an optimizer\n",
    "op = nk.optimizer.Sgd(learning_rate=0.01)\n",
    "\n",
    "# Create a variational state\n",
    "vstate = nk.vqs.MCState(sa, model, n_samples=2**12, n_discard_per_chain=16)\n",
    "\n",
    "# Create a Variational Monte Carlo driver\n",
    "preconditioner = nk.optimizer.SR(diag_shift=diag_shift)\n",
    "gs = nk.VMC(H, op, variational_state=vstate, preconditioner=preconditioner)\n",
    "\n",
    "# Construct the logger to visualize the data later on\n",
    "bf_log=nk.logging.RuntimeLog()\n",
    "\n",
    "# Run the optimization for 300 iterations\n",
    "gs.run(n_iter=300, out=bf_log)"
   ]
  },
  {
   "cell_type": "code",
   "execution_count": 31,
   "metadata": {},
   "outputs": [
    {
     "name": "stdout",
     "output_type": "stream",
     "text": [
      "Optimized energy : -8.451+0.056j ± 0.073 [σ²=22.147]\n",
      "Relative error   : 0.054433119980188176\n"
     ]
    }
   ],
   "source": [
    "sd_energy = vstate.expect(H)\n",
    "error = abs((sd_energy.mean - E_gs) / E_gs)\n",
    "\n",
    "print(f\"Optimized energy : {sd_energy}\")\n",
    "print(f\"Relative error   : {error}\")"
   ]
  },
  {
   "cell_type": "code",
   "execution_count": 32,
   "metadata": {},
   "outputs": [
    {
     "data": {
      "text/plain": [
       "<matplotlib.legend.Legend at 0x2b4a597d6a20>"
      ]
     },
     "execution_count": 32,
     "metadata": {},
     "output_type": "execute_result"
    },
    {
     "data": {
      "image/png": "[encoded data removed]",
      "text/plain": [
       "<Figure size 640x480 with 1 Axes>"
      ]
     },
     "metadata": {},
     "output_type": "display_data"
    }
   ],
   "source": [
    "logged_data = (slater_log.data,nj_log.data,bf_log.data)\n",
    "labels = (\"Slater\",\"Neural Jastrow\",\"Neural Backflow\")\n",
    "\n",
    "from matplotlib import pyplot as plt\n",
    "\n",
    "start = 10\n",
    "\n",
    "end = 300\n",
    "\n",
    "for data,label in zip(logged_data,labels):\n",
    "    plt.errorbar(data[\"Energy\"].iters[start:end], data[\"Energy\"].Mean.real[start:end], yerr=data[\"Energy\"].Sigma[start:end],label=label)\n",
    "\n",
    "plt.hlines([E_gs], xmin=start, xmax=end, color='black', label=\"Exact\")\n",
    "plt.title(f\"QWZ Model, Lx = {Lx}, Ly = {Ly}, m = {m}, t = {t}, U = {U}\")\n",
    "\n",
    "plt.xlabel('Iterations')\n",
    "plt.ylabel('Energy')\n",
    "plt.legend()"
   ]
  },
  {
   "cell_type": "code",
   "execution_count": null,
   "metadata": {},
   "outputs": [],
   "source": []
  }
 ],
 "metadata": {
  "kernelspec": {
   "display_name": "netket",
   "language": "python",
   "name": "python3"
  },
  "language_info": {
   "codemirror_mode": {
    "name": "ipython",
    "version": 3
   },
   "file_extension": ".py",
   "mimetype": "text/x-python",
   "name": "python",
   "nbconvert_exporter": "python",
   "pygments_lexer": "ipython3",
   "version": "3.12.4"
  }
 },
 "nbformat": 4,
 "nbformat_minor": 2
}
