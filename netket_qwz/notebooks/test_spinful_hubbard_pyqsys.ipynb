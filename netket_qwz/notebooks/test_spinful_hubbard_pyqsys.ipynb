{
 "cells": [
  {
   "cell_type": "code",
   "execution_count": 1,
   "metadata": {},
   "outputs": [],
   "source": [
    "from pyQSYS import *"
   ]
  },
  {
   "cell_type": "code",
   "execution_count": 9,
   "metadata": {},
   "outputs": [],
   "source": [
    "model = RealSpaceFermions(L1 = 2, L2 = 2, Spin = 2)\n",
    "\n",
    "t = 1\n",
    "U = 4\n",
    "\n",
    "H_Op = Operator()\n",
    "up, dn = model.spins\n",
    "for i in model.sites:\n",
    "    H_Op += U * (nD_(i, up) + nD_(i, dn) - 1)**2\n",
    "\n",
    "for spin in model.spins:\n",
    "    H_Op += t * cD_(model.sites[0], spin) * c_(model.sites[1], spin) + t * cD_(model.sites[1], spin) * c_(model.sites[0], spin)\n",
    "    H_Op += t * cD_(model.sites[0], spin) * c_(model.sites[2], spin) + t * cD_(model.sites[2], spin) * c_(model.sites[0], spin)\n",
    "    H_Op += t * cD_(model.sites[1], spin) * c_(model.sites[3], spin) + t * cD_(model.sites[3], spin) * c_(model.sites[1], spin)\n",
    "    H_Op += t * cD_(model.sites[2], spin) * c_(model.sites[3], spin) + t * cD_(model.sites[3], spin) * c_(model.sites[2], spin)\n",
    "\n",
    "\n",
    "statemap = model.createStateMap(N = 4)\n",
    "\n",
    "Ham = CSRMatrix(\"double\", H_Op, model, statemap)"
   ]
  },
  {
   "cell_type": "code",
   "execution_count": 11,
   "metadata": {},
   "outputs": [
    {
     "data": {
      "text/plain": [
       "array([-1.32023496e+00, -9.87918415e-01, -9.87918415e-01, -9.87918415e-01,\n",
       "       -5.13676255e-01, -4.72135955e-01, -4.72135955e-01, -4.72135955e-01,\n",
       "       -4.72135955e-01, -4.72135955e-01, -4.72135955e-01, -1.74569391e-15,\n",
       "       -5.88915957e-16, -2.85552325e-16,  2.39047417e-15,  3.83532466e-15,\n",
       "        4.79224906e+00,  5.78016747e+00,  5.78016747e+00,  5.78016747e+00,\n",
       "        6.00000000e+00,  6.00000000e+00,  6.00000000e+00,  6.00000000e+00,\n",
       "        6.00000000e+00,  6.00000000e+00,  6.00000000e+00,  6.00000000e+00,\n",
       "        7.19344130e+00,  7.52786405e+00,  7.52786405e+00,  8.00000000e+00,\n",
       "        8.00000000e+00,  8.00000000e+00,  8.00000000e+00,  8.00000000e+00,\n",
       "        8.00000000e+00,  8.00000000e+00,  8.00000000e+00,  8.00000000e+00,\n",
       "        8.00000000e+00,  8.00000000e+00,  8.00000000e+00,  8.00000000e+00,\n",
       "        8.00000000e+00,  8.47213595e+00,  8.47213595e+00,  8.47213595e+00,\n",
       "        8.47213595e+00,  8.47213595e+00,  8.47213595e+00,  8.80655870e+00,\n",
       "        1.00000000e+01,  1.00000000e+01,  1.00000000e+01,  1.00000000e+01,\n",
       "        1.00000000e+01,  1.00000000e+01,  1.00000000e+01,  1.00000000e+01,\n",
       "        1.02198325e+01,  1.12077509e+01,  1.12077509e+01,  1.12077509e+01,\n",
       "        1.60000000e+01,  1.64721360e+01,  1.64721360e+01,  1.65136763e+01,\n",
       "        1.69879184e+01,  1.73202350e+01])"
      ]
     },
     "execution_count": 11,
     "metadata": {},
     "output_type": "execute_result"
    }
   ],
   "source": [
    "import numpy as np\n",
    "\n",
    "evals, evecs = np.linalg.eigh(Ham.todense())\n",
    "evals"
   ]
  },
  {
   "cell_type": "code",
   "execution_count": null,
   "metadata": {},
   "outputs": [],
   "source": []
  }
 ],
 "metadata": {
  "kernelspec": {
   "display_name": "Python 3",
   "language": "python",
   "name": "python3"
  },
  "language_info": {
   "codemirror_mode": {
    "name": "ipython",
    "version": 3
   },
   "file_extension": ".py",
   "mimetype": "text/x-python",
   "name": "python",
   "nbconvert_exporter": "python",
   "pygments_lexer": "ipython3",
   "version": "3.12.4"
  }
 },
 "nbformat": 4,
 "nbformat_minor": 2
}
