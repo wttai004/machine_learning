{
 "cells": [
  {
   "cell_type": "code",
   "execution_count": 35,
   "metadata": {},
   "outputs": [],
   "source": [
    "import netket as nk\n",
    "import netket.experimental as nkx\n",
    "from netket.experimental.operator.fermion import destroy as c\n",
    "from netket.experimental.operator.fermion import create as cdag\n",
    "from netket.experimental.operator.fermion import number as nc\n",
    "from netket.models.slater import Slater2nd, MultiSlater2nd\n",
    "from scipy.sparse.linalg import eigsh\n",
    "import numpy as np\n",
    "import scipy.sparse.linalg\n",
    "import jax\n",
    "import jax.numpy as jnp\n",
    "import json\n",
    "import matplotlib.pyplot as plt\n",
    "\n",
    "import sys, os\n",
    "sys.path.append('/Users/wttai/Documents/Jupyter/machine_learning/common_lib')\n",
    "sys.path.append('/home1/wttai/machine_learning/common_lib')\n",
    "#from models import get_qwz_graph, get_qwz_Ham, get_qwz_exchange_graph\n",
    "\n",
    "from networks import *\n",
    "from helper import get_ed_data"
   ]
  },
  {
   "cell_type": "code",
   "execution_count": null,
   "metadata": {},
   "outputs": [
    {
     "name": "stdout",
     "output_type": "stream",
     "text": [
      "Exact ground state energy: -13.975386724690871\n",
      "[-13.97538672 -13.92539454  -9.95000781  -9.94999219  -7.74395377\n",
      "  -5.97460546]\n"
     ]
    }
   ],
   "source": [
    "from netket_system import NetketQWZSystem\n",
    "\n",
    "L = 2\n",
    "Lx = L\n",
    "Ly = L\n",
    "N_fill = 2 #Lx * Ly\n",
    "pbc = True\n",
    "U = 1\n",
    "t = 1.0\n",
    "m = 5.0\n",
    "bias = 0.1\n",
    "pbc = True\n",
    "args = {'U': U, 't': t, 'm': m, 'bias': bias}\n",
    "\n",
    "system = NetketQWZSystem(L, N = N_fill, pbc = pbc, args = args)\n",
    "\n",
    "Ham = system.get_hamiltonian()\n",
    "\n",
    "hi = system.hi\n",
    "exchange_graph = system.get_exchange_graph()\n",
    "\n",
    "learning_rate = 0.01\n",
    "diag_shift = 0.01\n",
    "\n",
    "# Exact diagonalization\n",
    "\n",
    "evals, evecs = get_ed_data(Ham, k = 6)\n",
    "E_gs = evals[0]\n",
    "print(evals)"
   ]
  },
  {
   "cell_type": "code",
   "execution_count": 37,
   "metadata": {},
   "outputs": [],
   "source": [
    "# Create the Slater determinant model\n",
    "model = LogSlaterDeterminant(hi, complex=complex)\n",
    "\n",
    "# Define the Metropolis-Hastings sampler\n",
    "#sa = nk.sampler.ExactSampler(hi)\n",
    "sa = nk.sampler.MetropolisExchange(hi, graph = exchange_graph)\n",
    "\n",
    "# Define the optimizer\n",
    "op = nk.optimizer.Sgd(learning_rate=learning_rate)\n",
    "\n",
    "# Define a preconditioner\n",
    "preconditioner = nk.optimizer.SR(diag_shift=diag_shift, holomorphic=complex)\n",
    "\n",
    "vstate = nk.vqs.MCState(sa, model, n_samples=2**12, n_discard_per_chain=32)\n",
    "gs = nk.VMC(Ham, op, variational_state=vstate, preconditioner=preconditioner)"
   ]
  },
  {
   "cell_type": "code",
   "execution_count": 38,
   "metadata": {},
   "outputs": [],
   "source": [
    "s, p = 1, -1\n",
    "#dummy_array = [0 for i in range(L**2)]\n",
    "corrs = {'ss': [0 for i in range(L**2)], 'sp': [0 for i in range(L**2)], 'pp': [0 for i in range(L**2)]}\n",
    "for i in range(L**2):\n",
    "    corrs['pp'][i] = system.corr_func(i, p, p)\n",
    "    corrs['sp'][i] = system.corr_func(i, s, p)\n",
    "    corrs['ss'][i] = system.corr_func(i, s, s)\n",
    "    #corrs[f\"nc{i}nc0\"] = corr_func(i)"
   ]
  },
  {
   "cell_type": "markdown",
   "metadata": {},
   "source": [
    "# Slater Determinant"
   ]
  },
  {
   "cell_type": "code",
   "execution_count": 39,
   "metadata": {},
   "outputs": [
    {
     "name": "stdout",
     "output_type": "stream",
     "text": [
      "Starting full simulation...\n"
     ]
    },
    {
     "data": {
      "application/vnd.jupyter.widget-view+json": {
       "model_id": "e0b448bf5de2400f8db2ae1ed359afb4",
       "version_major": 2,
       "version_minor": 0
      },
      "text/plain": [
       "  0%|          | 0/50 [00:00<?, ?it/s]"
      ]
     },
     "metadata": {},
     "output_type": "display_data"
    },
    {
     "name": "stdout",
     "output_type": "stream",
     "text": [
      "Full simulation completed.\n"
     ]
    }
   ],
   "source": [
    "n_iter = 50\n",
    "complex = True\n",
    "max_restarts = -1  # Maximum number of restart attempts\n",
    "restart_count = 0  # Counter to track restarts\n",
    "converged = False  # Flag to check if the run converged\n",
    "\n",
    "# Create the Slater determinant model\n",
    "model = LogSlaterDeterminant(hi, complex=complex)\n",
    "\n",
    "# Define the Metropolis-Hastings sampler\n",
    "#sa = nk.sampler.ExactSampler(hi)\n",
    "sa = nk.sampler.MetropolisExchange(hi, graph = exchange_graph)\n",
    "\n",
    "# Define the optimizer\n",
    "op = nk.optimizer.Sgd(learning_rate=learning_rate)\n",
    "\n",
    "# Define a preconditioner\n",
    "preconditioner = nk.optimizer.SR(diag_shift=diag_shift, holomorphic=complex)\n",
    "\n",
    "# Function to run the VMC simulation\n",
    "def run_simulation(n_iter = 50):\n",
    "    # Create the VMC (Variational Monte Carlo) driver\n",
    "    vstate = nk.vqs.MCState(sa, model, n_samples=2**12, n_discard_per_chain=32)\n",
    "    gs = nk.VMC(Ham, op, variational_state=vstate, preconditioner=preconditioner)\n",
    "    \n",
    "    # Construct the logger to visualize the data later on\n",
    "    slater_log = nk.logging.RuntimeLog()\n",
    "    \n",
    "    # Run the optimization for a short number of iterations (e.g., 50)\n",
    "    gs.run(n_iter=n_iter, out=slater_log, obs=corrs)\n",
    "    \n",
    "    return gs, slater_log\n",
    "\n",
    "# Main loop for checking convergence and restarting if needed\n",
    "while restart_count < max_restarts and not converged:\n",
    "    slater_log = run_simulation()\n",
    "    \n",
    "    print(slater_log['Energy']['Variance'])\n",
    "    # Check if the standard deviation of the energy at the last iteration is too high\n",
    "    if slater_log['Energy']['Variance'][-1] > 1:\n",
    "        print(f\"Bad convergence detected. Restarting attempt {restart_count + 1} of {max_restarts}...\")\n",
    "        restart_count += 1\n",
    "        if restart_count >= max_restarts  :\n",
    "            raise Exception(\"Failed to converge after 3 attempts. Aborting the run.\")\n",
    "    else:\n",
    "        converged = True\n",
    "        print(\"Good convergence. Continuing with the full run...\")\n",
    "\n",
    "\n",
    "\n",
    "# If converged, run the full simulation\n",
    "print(\"Starting full simulation...\")\n",
    "# You can extend this part to run the full simulation for more iterations\n",
    "gs, slater_log = run_simulation(n_iter = n_iter)  # Re-run with the full iteration count\n",
    "print(\"Full simulation completed.\")\n"
   ]
  },
  {
   "cell_type": "code",
   "execution_count": 43,
   "metadata": {},
   "outputs": [
    {
     "name": "stdout",
     "output_type": "stream",
     "text": [
      "[0.97949219+0.j 0.83544922+0.j 0.72583008+0.j 0.60131836+0.j\n",
      " 0.52563477+0.j 0.41577148+0.j 0.29003906+0.j 0.22827148+0.j\n",
      " 0.1394043 +0.j 0.12426758+0.j]\n",
      "[0.12475586+0.j 0.10693359+0.j 0.08911133+0.j 0.0715332 +0.j\n",
      " 0.06298828+0.j 0.05151367+0.j 0.03320312+0.j 0.02978516+0.j\n",
      " 0.01196289+0.j 0.01318359+0.j]\n",
      "[1.02050781+0.j 1.16455078+0.j 1.27416992+0.j 1.39868164+0.j\n",
      " 1.47436523+0.j 1.58422852+0.j 1.70996094+0.j 1.77172852+0.j\n",
      " 1.8605957 +0.j 1.87573242+0.j]\n"
     ]
    }
   ],
   "source": [
    "print(slater_log['ss'][0]['Mean'][:10])\n",
    "print(slater_log['sp'][0]['Mean'][:10])\n",
    "print(slater_log['pp'][0]['Mean'][:10])"
   ]
  },
  {
   "cell_type": "code",
   "execution_count": 44,
   "metadata": {},
   "outputs": [
    {
     "name": "stdout",
     "output_type": "stream",
     "text": [
      "Optimized energy : (-13.951660193382118+2.7113041142001748e-05j)\n",
      "Relative error   : 0.0016977381211415775\n"
     ]
    }
   ],
   "source": [
    "sd_energy = slater_log['Energy']['Mean'][-1]\n",
    "error = abs((sd_energy - E_gs) / E_gs)\n",
    "\n",
    "print(f\"Optimized energy : {sd_energy}\")\n",
    "print(f\"Relative error   : {error}\")"
   ]
  },
  {
   "cell_type": "code",
   "execution_count": 13,
   "metadata": {},
   "outputs": [
    {
     "data": {
      "application/vnd.jupyter.widget-view+json": {
       "model_id": "e19c2ae6166d4bed8602402e9a740123",
       "version_major": 2,
       "version_minor": 0
      },
      "text/plain": [
       "  0%|          | 0/300 [00:00<?, ?it/s]"
      ]
     },
     "metadata": {},
     "output_type": "display_data"
    },
    {
     "data": {
      "text/plain": [
       "(RuntimeLog():\n",
       "  keys = ['acceptance', 'Energy'],)"
      ]
     },
     "execution_count": 13,
     "metadata": {},
     "output_type": "execute_result"
    }
   ],
   "source": [
    "complex = True # Create a Neural Jastrow Slater wave function \n",
    "model = LogNeuralJastrowSlater(hi, hidden_units=Lx * Ly, complex = complex)\n",
    "\n",
    "# Define a Metropolis exchange sampler\n",
    "#sa = nk.sampler.ExactSampler(hi) \n",
    "sa = nk.sampler.MetropolisExchange(hi, graph = exchange_graph)\n",
    "\n",
    "# Define an optimizer\n",
    "op = nk.optimizer.Sgd(learning_rate=0.01)\n",
    "\n",
    "# Create a variational state\n",
    "vstate = nk.vqs.MCState(sa, model, n_samples=2**12, n_discard_per_chain=16)\n",
    "\n",
    "# Create a Variational Monte Carlo driver\n",
    "preconditioner = nk.optimizer.SR(diag_shift=diag_shift, holomorphic = complex)\n",
    "gs = nk.VMC(H, op, variational_state=vstate, preconditioner=preconditioner)\n",
    "\n",
    "# Construct the logger to visualize the data later on\n",
    "nj_log=nk.logging.RuntimeLog()\n",
    "\n",
    "# Run the optimization for 300 iterations\n",
    "gs.run(n_iter=300, out=nj_log)"
   ]
  },
  {
   "cell_type": "code",
   "execution_count": 14,
   "metadata": {},
   "outputs": [
    {
     "name": "stdout",
     "output_type": "stream",
     "text": [
      "Optimized energy : -13.93303-0.00018j ± 0.00028 [σ²=0.00033, R̂=1.0029]\n",
      "Relative error   : 0.003030822175403744\n"
     ]
    }
   ],
   "source": [
    "sd_energy = vstate.expect(H)\n",
    "error = abs((sd_energy.mean - E_gs) / E_gs)\n",
    "\n",
    "print(f\"Optimized energy : {sd_energy}\")\n",
    "print(f\"Relative error   : {error}\")"
   ]
  },
  {
   "cell_type": "code",
   "execution_count": 15,
   "metadata": {},
   "outputs": [
    {
     "data": {
      "application/vnd.jupyter.widget-view+json": {
       "model_id": "e47ac829307544a6a3abbac55214b4f9",
       "version_major": 2,
       "version_minor": 0
      },
      "text/plain": [
       "  0%|          | 0/300 [00:00<?, ?it/s]"
      ]
     },
     "metadata": {},
     "output_type": "display_data"
    },
    {
     "data": {
      "text/plain": [
       "(RuntimeLog():\n",
       "  keys = ['acceptance', 'Energy'],)"
      ]
     },
     "execution_count": 15,
     "metadata": {},
     "output_type": "execute_result"
    }
   ],
   "source": [
    "complex = True\n",
    "# Create a neural backflow wave function\n",
    "model = LogNeuralBackflow(hi, hidden_units=Lx * Ly, complex = complex)\n",
    "\n",
    "# Define a Metropolis exchange sampler\n",
    "#sa = nk.sampler.MetropolisExchange(hi, graph=graph)\n",
    "sa = nk.sampler.MetropolisExchange(hi, graph = exchange_graph)\n",
    "#sa = nk.sampler.ExactSampler(hi) \n",
    "\n",
    "# Define an optimizer\n",
    "op = nk.optimizer.Sgd(learning_rate=0.01)\n",
    "\n",
    "# Create a variational state\n",
    "vstate = nk.vqs.MCState(sa, model, n_samples=2**12, n_discard_per_chain=16)\n",
    "\n",
    "# Create a Variational Monte Carlo driver\n",
    "preconditioner = nk.optimizer.SR(diag_shift=diag_shift, holomorphic = complex)\n",
    "gs = nk.VMC(H, op, variational_state=vstate, preconditioner=preconditioner)\n",
    "\n",
    "# Construct the logger to visualize the data later on\n",
    "bf_log=nk.logging.RuntimeLog()\n",
    "\n",
    "# Run the optimization for 300 iterations\n",
    "gs.run(n_iter=300, out=bf_log)"
   ]
  },
  {
   "cell_type": "code",
   "execution_count": 16,
   "metadata": {},
   "outputs": [
    {
     "name": "stdout",
     "output_type": "stream",
     "text": [
      "Optimized energy : -13.9398+0.0007j ± 0.0051 [σ²=0.0524, R̂=1.0057]\n",
      "Relative error   : 0.002549946498599761\n"
     ]
    }
   ],
   "source": [
    "sd_energy = vstate.expect(H)\n",
    "error = abs((sd_energy.mean - E_gs) / E_gs)\n",
    "\n",
    "print(f\"Optimized energy : {sd_energy}\")\n",
    "print(f\"Relative error   : {error}\")"
   ]
  },
  {
   "cell_type": "code",
   "execution_count": 17,
   "metadata": {},
   "outputs": [
    {
     "data": {
      "text/plain": [
       "<matplotlib.legend.Legend at 0x2b26e32b2d50>"
      ]
     },
     "execution_count": 17,
     "metadata": {},
     "output_type": "execute_result"
    },
    {
     "data": {
      "image/png": "[encoded data removed]",
      "text/plain": [
       "<Figure size 640x480 with 1 Axes>"
      ]
     },
     "metadata": {},
     "output_type": "display_data"
    }
   ],
   "source": [
    "logged_data = (slater_log.data,nj_log.data,bf_log.data)\n",
    "labels = (\"Slater\",\"Neural Jastrow\",\"Neural Backflow\")\n",
    "\n",
    "from matplotlib import pyplot as plt\n",
    "\n",
    "start = 10\n",
    "\n",
    "end = 300\n",
    "\n",
    "for data,label in zip(logged_data,labels):\n",
    "    plt.errorbar(data[\"Energy\"].iters[start:end], data[\"Energy\"].Mean.real[start:end], yerr=data[\"Energy\"].Sigma[start:end],label=label)\n",
    "\n",
    "plt.hlines([E_gs], xmin=start, xmax=end, color='black', label=\"Exact\")\n",
    "plt.title(f\"QWZ Model, Lx = {Lx}, Ly = {Ly}, m = {m}, t = {t}, U = {U}\")\n",
    "\n",
    "plt.xlabel('Iterations')\n",
    "plt.ylabel('Energy')\n",
    "plt.legend()"
   ]
  },
  {
   "cell_type": "code",
   "execution_count": null,
   "metadata": {},
   "outputs": [
    {
     "data": {
      "text/plain": [
       "<matplotlib.legend.Legend at 0x2b8f09f29af0>"
      ]
     },
     "execution_count": 15,
     "metadata": {},
     "output_type": "execute_result"
    },
    {
     "data": {
      "image/png": "[encoded data removed]",
      "text/plain": [
       "<Figure size 640x480 with 1 Axes>"
      ]
     },
     "metadata": {},
     "output_type": "display_data"
    }
   ],
   "source": [
    "logged_data = (slater_log.data,nj_log.data,bf_log.data)\n",
    "labels = (\"Slater\",\"Neural Jastrow\",\"Neural Backflow\")\n",
    "\n",
    "from matplotlib import pyplot as plt\n",
    "\n",
    "start = 10\n",
    "\n",
    "end = 300\n",
    "\n",
    "for data,label in zip(logged_data,labels):\n",
    "    plt.errorbar(data[\"Energy\"].iters[start:end], data[\"Energy\"].Mean.real[start:end], yerr=data[\"Energy\"].Sigma[start:end],label=label)\n",
    "\n",
    "plt.hlines([E_gs], xmin=start, xmax=end, color='black', label=\"Exact\")\n",
    "plt.title(f\"QWZ Model, Lx = {Lx}, Ly = {Ly}, m = {m}, t = {t}, U = {U}\")\n",
    "\n",
    "plt.xlabel('Iterations')\n",
    "plt.ylabel('Energy')\n",
    "plt.legend()"
   ]
  },
  {
   "cell_type": "code",
   "execution_count": 19,
   "metadata": {},
   "outputs": [
    {
     "data": {
      "text/plain": [
       "dict_keys(['acceptance', 'Energy'])"
      ]
     },
     "execution_count": 19,
     "metadata": {},
     "output_type": "execute_result"
    }
   ],
   "source": [
    "data.keys()"
   ]
  }
 ],
 "metadata": {
  "kernelspec": {
   "display_name": "netket",
   "language": "python",
   "name": "python3"
  },
  "language_info": {
   "codemirror_mode": {
    "name": "ipython",
    "version": 3
   },
   "file_extension": ".py",
   "mimetype": "text/x-python",
   "name": "python",
   "nbconvert_exporter": "python",
   "pygments_lexer": "ipython3",
   "version": "3.12.4"
  }
 },
 "nbformat": 4,
 "nbformat_minor": 2
}
