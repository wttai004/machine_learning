{
 "cells": [
  {
   "cell_type": "code",
   "execution_count": 3,
   "metadata": {},
   "outputs": [
    {
     "name": "stdout",
     "output_type": "stream",
     "text": [
      "[CpuDevice(id=0)]\n"
     ]
    }
   ],
   "source": [
    "import sys, os\n",
    "os.environ[\"JAX_PLATFORM_NAME\"] = \"cpu\"\n",
    "import jax\n",
    "print(jax.devices())\n",
    "\n",
    "import netket as nk\n",
    "import netket.experimental as nkx\n",
    "from netket.experimental.operator.fermion import destroy as c\n",
    "from netket.experimental.operator.fermion import create as cdag\n",
    "from netket.experimental.operator.fermion import number as nc\n",
    "from netket.models.slater import Slater2nd, MultiSlater2nd\n",
    "from scipy.sparse.linalg import eigsh\n",
    "import jax.numpy as jnp\n",
    "import matplotlib.pyplot as plt\n",
    "\n",
    "import sys, os\n",
    "sys.path.append('/global/homes/w/wttai/machine_learning/common_lib')\n",
    "#from models import get_qwz_graph, get_qwz_Ham, get_qwz_exchange_graph\n",
    "\n",
    "from networks import *\n",
    "from datetime import datetime"
   ]
  },
  {
   "cell_type": "code",
   "execution_count": 4,
   "metadata": {},
   "outputs": [
    {
     "name": "stdout",
     "output_type": "stream",
     "text": [
      "Exact ground state energy: -28.462538109212584\n",
      "[-28.46253811 -28.46123746 -26.92752973 -26.92752731 -26.2436958\n",
      " -26.24369332]\n"
     ]
    }
   ],
   "source": [
    "from netket_system import NetketQWZSystem\n",
    "\n",
    "L = 2\n",
    "Lx = 2 * L\n",
    "Ly = L\n",
    "N_fill = Lx * Ly // 2\n",
    "pbc = True\n",
    "U = 8.0\n",
    "t = 1.0\n",
    "m = 5.0\n",
    "bias = 1e-5\n",
    "complex = True\n",
    "args = {'U': U, 't': t, 'm': m, 'bias': bias, 'complex': complex}\n",
    "\n",
    "system = NetketQWZSystem(Lx, L2 = Ly, N = N_fill, pbc = pbc, args = args)\n",
    "\n",
    "Ham = system.get_hamiltonian()\n",
    "\n",
    "hi = system.hi\n",
    "exchange_graph = system.get_exchange_graph()\n",
    "\n",
    "learning_rate = 0.01\n",
    "diag_shift = 0.01\n",
    "\n",
    "# Exact diagonalization\n",
    "\n",
    "evals, evecs = system.get_ed_data(k = 6)\n",
    "E_gs = evals[0]\n",
    "print(evals)"
   ]
  },
  {
   "cell_type": "code",
   "execution_count": 5,
   "metadata": {},
   "outputs": [],
   "source": [
    "s, p = 1, -1\n",
    "#dummy_array = [0 for i in range(L**2)]\n",
    "corrs = {'ss': [0 for i in range(L**2)], 'sp': [0 for i in range(L**2)], 'pp': [0 for i in range(L**2)]}\n",
    "for i in range(L**2):\n",
    "    corrs['pp'][i] = system.corr_func(i, p, p)\n",
    "    corrs['sp'][i] = system.corr_func(i, s, p)\n",
    "    corrs['ss'][i] = system.corr_func(i, s, s)\n",
    "    #corrs[f\"nc{i}nc0\"] = corr_func(i)"
   ]
  },
  {
   "cell_type": "markdown",
   "metadata": {},
   "source": [
    "# Slater determinant"
   ]
  },
  {
   "cell_type": "code",
   "execution_count": 6,
   "metadata": {},
   "outputs": [
    {
     "name": "stdout",
     "output_type": "stream",
     "text": [
      "Running on [CpuDevice(id=0)]\n",
      "Starting full simulation...\n"
     ]
    },
    {
     "data": {
      "application/vnd.jupyter.widget-view+json": {
       "model_id": "8f887d5a7726408e9835be0c866ca3f7",
       "version_major": 2,
       "version_minor": 0
      },
      "text/plain": [
       "  0%|          | 0/50 [00:00<?, ?it/s]"
      ]
     },
     "metadata": {},
     "output_type": "display_data"
    },
    {
     "name": "stdout",
     "output_type": "stream",
     "text": [
      "Full simulation completed.\n",
      "Elapsed time in seconds: 63.25752 seconds\n"
     ]
    }
   ],
   "source": [
    "n_iter = 50\n",
    "max_restarts = -1  # Maximum number of restart attempts\n",
    "restart_count = 0  # Counter to track restarts\n",
    "converged = False  # Flag to check if the run converged\n",
    "print(f\"Running on {jax.devices()}\")\n",
    "start_time = datetime.now()\n",
    "\n",
    "# Create the Slater determinant model\n",
    "model = LogSlaterDeterminant(hi, complex=complex)\n",
    "\n",
    "# Define the Metropolis-Hastings sampler\n",
    "#sa = nk.sampler.ExactSampler(hi)\n",
    "sa = nk.sampler.MetropolisExchange(hi, graph = exchange_graph)\n",
    "\n",
    "# Define the optimizer\n",
    "op = nk.optimizer.Sgd(learning_rate=learning_rate)\n",
    "\n",
    "# Define a preconditioner\n",
    "#preconditioner = nk.optimizer.SR(diag_shift=diag_shift)\n",
    "preconditioner = nk.optimizer.SR(diag_shift=diag_shift, holomorphic=complex)\n",
    "\n",
    "# Function to run the VMC simulation\n",
    "def run_simulation(n_iter = 50):\n",
    "    # Create the VMC (Variational Monte Carlo) driver\n",
    "    vstate = nk.vqs.MCState(sa, model, n_samples=2**12, n_discard_per_chain=32)\n",
    "    gs = nk.VMC(Ham, op, variational_state=vstate, preconditioner=preconditioner)\n",
    "    \n",
    "    # Construct the logger to visualize the data later on\n",
    "    slater_log = nk.logging.RuntimeLog()\n",
    "    \n",
    "    # Run the optimization for a short number of iterations (e.g., 50)\n",
    "    gs.run(n_iter=n_iter, out=slater_log, obs=corrs)\n",
    "    \n",
    "    return gs, slater_log\n",
    "\n",
    "# Main loop for checking convergence and restarting if needed\n",
    "while restart_count < max_restarts and not converged:\n",
    "    slater_log = run_simulation()\n",
    "    \n",
    "    print(slater_log['Energy']['Variance'])\n",
    "    # Check if the standard deviation of the energy at the last iteration is too high\n",
    "    if slater_log['Energy']['Variance'][-1] > 1:\n",
    "        print(f\"Bad convergence detected. Restarting attempt {restart_count + 1} of {max_restarts}...\")\n",
    "        restart_count += 1\n",
    "        if restart_count >= max_restarts  :\n",
    "            raise Exception(\"Failed to converge after 3 attempts. Aborting the run.\")\n",
    "    else:\n",
    "        converged = True\n",
    "        print(\"Good convergence. Continuing with the full run...\")\n",
    "\n",
    "\n",
    "\n",
    "# If converged, run the full simulation\n",
    "print(\"Starting full simulation...\")\n",
    "# You can extend this part to run the full simulation for more iterations\n",
    "gs, slater_log = run_simulation(n_iter = n_iter)  # Re-run with the full iteration count\n",
    "print(\"Full simulation completed.\")\n",
    "\n",
    "end_time = datetime.now()\n",
    "elapsed_time = end_time - start_time\n",
    "elapsed_seconds = elapsed_time.total_seconds()\n",
    "\n",
    "print(f\"Elapsed time in seconds: {elapsed_time.total_seconds()} seconds\", flush = True)"
   ]
  },
  {
   "cell_type": "code",
   "execution_count": 11,
   "metadata": {},
   "outputs": [
    {
     "name": "stdout",
     "output_type": "stream",
     "text": [
      "Starting full simulation...\n"
     ]
    },
    {
     "data": {
      "application/vnd.jupyter.widget-view+json": {
       "model_id": "9e6e059204c8466dad67111910c7e355",
       "version_major": 2,
       "version_minor": 0
      },
      "text/plain": [
       "  0%|          | 0/50 [00:00<?, ?it/s]"
      ]
     },
     "metadata": {},
     "output_type": "display_data"
    },
    {
     "name": "stdout",
     "output_type": "stream",
     "text": [
      "Full simulation completed.\n",
      "Elapsed time in seconds: 44.029835 seconds\n"
     ]
    }
   ],
   "source": [
    "n_iter = 50\n",
    "max_restarts = -1  # Maximum number of restart attempts\n",
    "restart_count = 0  # Counter to track restarts\n",
    "converged = False  # Flag to check if the run converged\n",
    "print(f\"Running on {jax.devices()}\")\n",
    "start_time = datetime.now()\n",
    "\n",
    "# Create the Slater determinant model\n",
    "model = LogSlaterDeterminant(hi, complex=complex)\n",
    "\n",
    "# Define the Metropolis-Hastings sampler\n",
    "#sa = nk.sampler.ExactSampler(hi)\n",
    "sa = nk.sampler.MetropolisExchange(hi, graph = exchange_graph)\n",
    "\n",
    "# Define the optimizer\n",
    "op = nk.optimizer.Sgd(learning_rate=learning_rate)\n",
    "\n",
    "# Define a preconditioner\n",
    "#preconditioner = nk.optimizer.SR(diag_shift=diag_shift)\n",
    "preconditioner = nk.optimizer.SR(diag_shift=diag_shift, holomorphic=complex)\n",
    "\n",
    "# Function to run the VMC simulation\n",
    "def run_simulation(n_iter = 50):\n",
    "    # Create the VMC (Variational Monte Carlo) driver\n",
    "    vstate = nk.vqs.MCState(sa, model, n_samples=2**12, n_discard_per_chain=32)\n",
    "    gs = nk.VMC(Ham, op, variational_state=vstate, preconditioner=preconditioner)\n",
    "    \n",
    "    # Construct the logger to visualize the data later on\n",
    "    slater_log = nk.logging.RuntimeLog()\n",
    "    \n",
    "    # Run the optimization for a short number of iterations (e.g., 50)\n",
    "    gs.run(n_iter=n_iter, out=slater_log, obs=corrs)\n",
    "    \n",
    "    return gs, slater_log\n",
    "\n",
    "# Main loop for checking convergence and restarting if needed\n",
    "while restart_count < max_restarts and not converged:\n",
    "    slater_log = run_simulation()\n",
    "    \n",
    "    print(slater_log['Energy']['Variance'])\n",
    "    # Check if the standard deviation of the energy at the last iteration is too high\n",
    "    if slater_log['Energy']['Variance'][-1] > 1:\n",
    "        print(f\"Bad convergence detected. Restarting attempt {restart_count + 1} of {max_restarts}...\")\n",
    "        restart_count += 1\n",
    "        if restart_count >= max_restarts  :\n",
    "            raise Exception(\"Failed to converge after 3 attempts. Aborting the run.\")\n",
    "    else:\n",
    "        converged = True\n",
    "        print(\"Good convergence. Continuing with the full run...\")\n",
    "\n",
    "\n",
    "\n",
    "# If converged, run the full simulation\n",
    "print(\"Starting full simulation...\")\n",
    "# You can extend this part to run the full simulation for more iterations\n",
    "gs, slater_log = run_simulation(n_iter = n_iter)  # Re-run with the full iteration count\n",
    "print(\"Full simulation completed.\")\n",
    "\n",
    "end_time = datetime.now()\n",
    "elapsed_time = end_time - start_time\n",
    "elapsed_seconds = elapsed_time.total_seconds()\n",
    "\n",
    "print(f\"Elapsed time in seconds: {elapsed_time.total_seconds()} seconds\", flush = True)"
   ]
  }
 ],
 "metadata": {
  "kernelspec": {
   "display_name": "netket",
   "language": "python",
   "name": "python3"
  },
  "language_info": {
   "codemirror_mode": {
    "name": "ipython",
    "version": 3
   },
   "file_extension": ".py",
   "mimetype": "text/x-python",
   "name": "python",
   "nbconvert_exporter": "python",
   "pygments_lexer": "ipython3",
   "version": "3.13.1"
  }
 },
 "nbformat": 4,
 "nbformat_minor": 2
}
