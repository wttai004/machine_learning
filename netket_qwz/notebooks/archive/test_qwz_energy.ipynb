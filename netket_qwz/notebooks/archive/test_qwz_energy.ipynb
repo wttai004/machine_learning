{
 "cells": [
  {
   "cell_type": "code",
   "execution_count": 1,
   "metadata": {},
   "outputs": [],
   "source": [
    "import numpy as np\n",
    "import scipy.sparse.linalg\n",
    "import sys, os\n",
    "sys.path.append(os.path.expanduser('~') + '/repos/pyQSYS/build/qsys')\n",
    "notebook_dir = os.path.dirname(os.path.abspath('test.py'))\n",
    "common_lib_dir = os.path.join(notebook_dir, '../common_lib')\n",
    "sys.path.append(common_lib_dir)\n",
    "from pyQSYS import *\n",
    "from pyQSYS import RealSpaceFermions, Matrix\n",
    "np.set_printoptions(suppress=True)\n",
    "from numpy import sin, cos, sqrt, exp, conj, pi\n",
    "import re\n",
    "from systems import generate_Ops_qwz_spin_polarized"
   ]
  },
  {
   "cell_type": "code",
   "execution_count": 2,
   "metadata": {},
   "outputs": [],
   "source": [
    "def test_qwz_spin_projected_energy(cluster_name, U = 1, t = 1.0, m = 1.0, N_fill = -1, pbc = False, bias = 0):\n",
    "    freq_step = 0.01\n",
    "    freq_max = 10\n",
    "    system = \"qwz\"\n",
    "\n",
    "    print(f\"Using {cluster_name} with {system} and {\"periodic\" if pbc else \"open\"} boundary condition\", flush = True) \n",
    "    bc = \"pbc\" if pbc else \"obc\"\n",
    "\n",
    "    if cluster_name[0] == \"s\":\n",
    "        pattern = re.compile(r\"square_(\\d+)\")\n",
    "    else:\n",
    "        pattern = re.compile(r\"hexagonal_(\\d+)\")\n",
    "    match1 = pattern.search(cluster_name)\n",
    "    number1 = match1.group(1) if match1 else None\n",
    "    cluster_size = int(number1)\n",
    "    model = RealSpaceFermions(clusterName = cluster_name, Spin = 1, Orbitals = 2)\n",
    "    if N_fill == -1:\n",
    "        N_fill = model.cluster_size\n",
    "        \n",
    "    statemap = model.createStateMap(N = N_fill)\n",
    "    print(f\"Filling is is N = {N_fill}\")\n",
    "    #statemap = model.createStateMap()\n",
    "\n",
    "    positions = np.array([model.sites[i].r for i in range(cluster_size)])\n",
    "\n",
    "    print(f\"Evaluating the spectrum information for U = {U}, t = {t}, m = {m}.\", flush=True)\n",
    "\n",
    "    H_Op, J_mu_Op = generate_Ops_qwz_spin_polarized(model, cluster_size, t = t, m = m, U = U, pbc = pbc)\n",
    "    H_Op += bias * nD_(model.sites[0], model.orbitals[0])\n",
    "    Ham = Matrix('cdouble', H_Op, model, statemap)\n",
    "\n",
    "    evals, evecs = scipy.sparse.linalg.eigsh(Ham, k = 5, which = 'SA')\n",
    "    sorted_evals = np.sort(evals)\n",
    "    sorted_evecs = evecs[:, np.argsort(evals)]\n",
    "    evals, evecs = sorted_evals, sorted_evecs\n",
    "    #evals, evecs = np.linalg.eigh(Ham.todense())\n",
    "\n",
    "    print(f\"The low energy spectrum consists of energies: {evals[:5]}\")"
   ]
  },
  {
   "cell_type": "code",
   "execution_count": 3,
   "metadata": {},
   "outputs": [
    {
     "name": "stdout",
     "output_type": "stream",
     "text": [
      "Using square_4d0 with qwz and periodic boundary condition\n",
      "Filling is is N = 2\n",
      "Evaluating the spectrum information for U = 1, t = 1.0, m = 5.0.\n",
      "The low energy spectrum consists of energies: [-13.97538672 -13.92539454  -9.95000781  -9.94999219  -7.74395377]\n"
     ]
    }
   ],
   "source": [
    "cluster_name = \"square_4d0\"\n",
    "#cluster_name = \"square_9t0\"\n",
    "U = 1\n",
    "t = 1.0\n",
    "m = 5.0\n",
    "pbc = True\n",
    "N_fill = 2\n",
    "bias = 0.1\n",
    "test_qwz_spin_projected_energy(cluster_name, U = U, t = t, m = m, pbc = pbc, N_fill = N_fill, bias = bias)\n"
   ]
  },
  {
   "cell_type": "code",
   "execution_count": null,
   "metadata": {},
   "outputs": [],
   "source": []
  }
 ],
 "metadata": {
  "kernelspec": {
   "display_name": "Python 3",
   "language": "python",
   "name": "python3"
  },
  "language_info": {
   "codemirror_mode": {
    "name": "ipython",
    "version": 3
   },
   "file_extension": ".py",
   "mimetype": "text/x-python",
   "name": "python",
   "nbconvert_exporter": "python",
   "pygments_lexer": "ipython3",
   "version": "3.12.4"
  }
 },
 "nbformat": 4,
 "nbformat_minor": 2
}
