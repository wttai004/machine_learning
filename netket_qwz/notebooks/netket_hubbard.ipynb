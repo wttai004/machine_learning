{
 "cells": [
  {
   "cell_type": "code",
   "execution_count": 14,
   "metadata": {},
   "outputs": [],
   "source": [
    "import netket as nk\n",
    "import netket.experimental as nkx\n",
    "from netket.experimental.operator.fermion import destroy as c\n",
    "from netket.experimental.operator.fermion import create as cdag\n",
    "from netket.experimental.operator.fermion import number as nc\n",
    "from netket.models.slater import Slater2nd, MultiSlater2nd\n",
    "from scipy.sparse.linalg import eigsh\n",
    "import numpy as np\n",
    "import scipy.sparse.linalg\n",
    "import jax\n",
    "import jax.numpy as jnp\n",
    "import json\n",
    "import matplotlib.pyplot as plt\n",
    "\n",
    "import sys, os\n",
    "sys.path.append('/Users/wttai/Documents/Jupyter/machine_learning/common_lib')\n",
    "sys.path.append('/home1/wttai/machine_learning/common_lib')\n",
    "#from models import get_qwz_graph, get_qwz_Ham, get_qwz_exchange_graph\n",
    "\n",
    "from networks import *\n",
    "from helper import get_ed_data"
   ]
  },
  {
   "cell_type": "code",
   "execution_count": 3,
   "metadata": {},
   "outputs": [
    {
     "data": {
      "text/plain": [
       "[(2, 3), (0, 2), (1, 3), (0, 1)]"
      ]
     },
     "execution_count": 3,
     "metadata": {},
     "output_type": "execute_result"
    }
   ],
   "source": [
    "graph = nk.graph.Grid([2,2], pbc = True)\n",
    "graph.edges()"
   ]
  },
  {
   "cell_type": "code",
   "execution_count": 13,
   "metadata": {},
   "outputs": [
    {
     "name": "stdout",
     "output_type": "stream",
     "text": [
      "Exact ground state energy: -3.104422563533215\n",
      "[-3.10442256 -3.04230102]\n"
     ]
    }
   ],
   "source": [
    "from netket_system import NetketHubbardSystem\n",
    "\n",
    "L = 2\n",
    "Lx = L\n",
    "Ly = L\n",
    "N_fill = 2 #Lx * Ly\n",
    "pbc = True\n",
    "t = 1.0\n",
    "U = 1.0\n",
    "bias = 0.1\n",
    "args = {'U': U, 't': t, 'bias': bias}\n",
    "\n",
    "n_iter = 2000\n",
    "\n",
    "system = NetketHubbardSystem(L, N = N_fill, pbc = pbc, args = args)\n",
    "\n",
    "Ham = system.get_hamiltonian()\n",
    "\n",
    "hi = system.hi\n",
    "exchange_graph = system.get_exchange_graph()\n",
    "\n",
    "learning_rate = 0.001\n",
    "diag_shift = 0.01\n",
    "\n",
    "# Exact diagonalization\n",
    "\n",
    "evals, evecs = get_ed_data(Ham, k = 2)\n",
    "E_gs = evals[0]\n",
    "print(evals)"
   ]
  },
  {
   "cell_type": "code",
   "execution_count": 14,
   "metadata": {},
   "outputs": [],
   "source": [
    "# Create the Slater determinant model\n",
    "model = LogSlaterDeterminant(hi, complex=complex)\n",
    "\n",
    "# Define the Metropolis-Hastings sampler\n",
    "#sa = nk.sampler.ExactSampler(hi)\n",
    "sa = nk.sampler.MetropolisExchange(hi, graph = exchange_graph)\n",
    "\n",
    "# Define the optimizer\n",
    "op = nk.optimizer.Sgd(learning_rate=learning_rate)\n",
    "\n",
    "# Define a preconditioner\n",
    "preconditioner = nk.optimizer.SR(diag_shift=diag_shift, holomorphic=complex)\n",
    "\n",
    "vstate = nk.vqs.MCState(sa, model, n_samples=2**12, n_discard_per_chain=32)\n",
    "gs = nk.VMC(Ham, op, variational_state=vstate, preconditioner=preconditioner)"
   ]
  },
  {
   "cell_type": "code",
   "execution_count": 15,
   "metadata": {},
   "outputs": [],
   "source": [
    "s, p = 1, -1\n",
    "#dummy_array = [0 for i in range(L**2)]\n",
    "corrs = {'ss': [0 for i in range(L**2)]}\n",
    "for i in range(L**2):\n",
    "    corrs['ss'][i] = system.corr_func(i)\n",
    "    #corrs[f\"nc{i}nc0\"] = corr_func(i)"
   ]
  },
  {
   "cell_type": "markdown",
   "metadata": {},
   "source": [
    "# Slater Determinant"
   ]
  },
  {
   "cell_type": "code",
   "execution_count": 16,
   "metadata": {},
   "outputs": [
    {
     "name": "stdout",
     "output_type": "stream",
     "text": [
      "Starting full simulation...\n"
     ]
    },
    {
     "data": {
      "application/vnd.jupyter.widget-view+json": {
       "model_id": "e8ba75d6051a45c286a5041020c1e03b",
       "version_major": 2,
       "version_minor": 0
      },
      "text/plain": [
       "  0%|          | 0/2000 [00:00<?, ?it/s]"
      ]
     },
     "metadata": {},
     "output_type": "display_data"
    },
    {
     "name": "stdout",
     "output_type": "stream",
     "text": [
      "Full simulation completed.\n"
     ]
    }
   ],
   "source": [
    "complex = False\n",
    "max_restarts = -1  # Maximum number of restart attempts\n",
    "restart_count = 0  # Counter to track restarts\n",
    "converged = False  # Flag to check if the run converged\n",
    "\n",
    "# Create the Slater determinant model\n",
    "model = LogSlaterDeterminant(hi, complex=complex)\n",
    "\n",
    "# Define the Metropolis-Hastings sampler\n",
    "#sa = nk.sampler.ExactSampler(hi)\n",
    "sa = nk.sampler.MetropolisExchange(hi, graph = exchange_graph)\n",
    "\n",
    "# Define the optimizer\n",
    "op = nk.optimizer.Sgd(learning_rate=learning_rate)\n",
    "\n",
    "# Define a preconditioner\n",
    "preconditioner = nk.optimizer.SR(diag_shift=diag_shift, holomorphic=complex)\n",
    "\n",
    "# Function to run the VMC simulation\n",
    "def run_simulation(n_iter = 50):\n",
    "    # Create the VMC (Variational Monte Carlo) driver\n",
    "    vstate = nk.vqs.MCState(sa, model, n_samples=2**12, n_discard_per_chain=32)\n",
    "    gs = nk.VMC(Ham, op, variational_state=vstate, preconditioner=preconditioner)\n",
    "    \n",
    "    # Construct the logger to visualize the data later on\n",
    "    slater_log = nk.logging.RuntimeLog()\n",
    "    \n",
    "    # Run the optimization for a short number of iterations (e.g., 50)\n",
    "    gs.run(n_iter=n_iter, out=slater_log, obs=corrs)\n",
    "    \n",
    "    return gs, slater_log\n",
    "\n",
    "# Main loop for checking convergence and restarting if needed\n",
    "while restart_count < max_restarts and not converged:\n",
    "    slater_log = run_simulation()\n",
    "    \n",
    "    print(slater_log['Energy']['Variance'])\n",
    "    # Check if the standard deviation of the energy at the last iteration is too high\n",
    "    if slater_log['Energy']['Variance'][-1] > 1:\n",
    "        print(f\"Bad convergence detected. Restarting attempt {restart_count + 1} of {max_restarts}...\")\n",
    "        restart_count += 1\n",
    "        if restart_count >= max_restarts  :\n",
    "            raise Exception(\"Failed to converge after 3 attempts. Aborting the run.\")\n",
    "    else:\n",
    "        converged = True\n",
    "        print(\"Good convergence. Continuing with the full run...\")\n",
    "\n",
    "\n",
    "\n",
    "# If converged, run the full simulation\n",
    "print(\"Starting full simulation...\")\n",
    "# You can extend this part to run the full simulation for more iterations\n",
    "gs, slater_log = run_simulation(n_iter = n_iter)  # Re-run with the full iteration count\n",
    "print(\"Full simulation completed.\")\n"
   ]
  },
  {
   "cell_type": "code",
   "execution_count": 29,
   "metadata": {},
   "outputs": [
    {
     "name": "stdout",
     "output_type": "stream",
     "text": [
      "[2.+0.j 2.+0.j 2.+0.j 2.+0.j 2.+0.j 2.+0.j 2.+0.j 2.+0.j 2.+0.j 2.+0.j]\n"
     ]
    }
   ],
   "source": [
    "print(slater_log['ss'][0]['Mean'][:10])"
   ]
  },
  {
   "cell_type": "code",
   "execution_count": 17,
   "metadata": {},
   "outputs": [
    {
     "name": "stdout",
     "output_type": "stream",
     "text": [
      "Optimized energy : (-2.9417021864348505-1.666712739611248e-09j)\n",
      "Relative error   : 0.05241566628518796\n"
     ]
    }
   ],
   "source": [
    "sd_energy = slater_log['Energy']['Mean'][-1]\n",
    "error = abs((sd_energy - E_gs) / E_gs)\n",
    "\n",
    "print(f\"Optimized energy : {sd_energy}\")\n",
    "print(f\"Relative error   : {error}\")"
   ]
  },
  {
   "cell_type": "code",
   "execution_count": 18,
   "metadata": {},
   "outputs": [
    {
     "data": {
      "application/vnd.jupyter.widget-view+json": {
       "model_id": "8d995a2e09b24f41859e49f9a8aaf49c",
       "version_major": 2,
       "version_minor": 0
      },
      "text/plain": [
       "  0%|          | 0/2000 [00:00<?, ?it/s]"
      ]
     },
     "metadata": {},
     "output_type": "display_data"
    },
    {
     "data": {
      "text/plain": [
       "(RuntimeLog():\n",
       "  keys = ['acceptance', 'Energy'],)"
      ]
     },
     "execution_count": 18,
     "metadata": {},
     "output_type": "execute_result"
    }
   ],
   "source": [
    "model = LogNeuralJastrowSlater(hi, hidden_units=Lx * Ly, complex = complex)\n",
    "\n",
    "# Define a Metropolis exchange sampler\n",
    "#sa = nk.sampler.ExactSampler(hi) \n",
    "sa = nk.sampler.MetropolisExchange(hi, graph = exchange_graph)\n",
    "\n",
    "# Define an optimizer\n",
    "op = nk.optimizer.Sgd(learning_rate=learning_rate)\n",
    "\n",
    "# Create a variational state\n",
    "vstate = nk.vqs.MCState(sa, model, n_samples=2**12, n_discard_per_chain=16)\n",
    "\n",
    "# Create a Variational Monte Carlo driver\n",
    "preconditioner = nk.optimizer.SR(diag_shift=diag_shift, holomorphic = complex)\n",
    "gs = nk.VMC(Ham, op, variational_state=vstate, preconditioner=preconditioner)\n",
    "\n",
    "# Construct the logger to visualize the data later on\n",
    "nj_log=nk.logging.RuntimeLog()\n",
    "\n",
    "# Run the optimization for 300 iterations\n",
    "gs.run(n_iter=n_iter, out=nj_log)"
   ]
  },
  {
   "cell_type": "code",
   "execution_count": 19,
   "metadata": {},
   "outputs": [
    {
     "name": "stdout",
     "output_type": "stream",
     "text": [
      "Optimized energy : -3.07423+0.00000j ± 0.00021 [σ²=0.00017, R̂=1.0019]\n",
      "Relative error   : 0.00972495338376582\n"
     ]
    }
   ],
   "source": [
    "sd_energy = vstate.expect(Ham)\n",
    "error = abs((sd_energy.mean - E_gs) / E_gs)\n",
    "\n",
    "print(f\"Optimized energy : {sd_energy}\")\n",
    "print(f\"Relative error   : {error}\")"
   ]
  },
  {
   "cell_type": "code",
   "execution_count": 26,
   "metadata": {},
   "outputs": [],
   "source": [
    "complex = True"
   ]
  },
  {
   "cell_type": "code",
   "execution_count": 29,
   "metadata": {},
   "outputs": [
    {
     "name": "stderr",
     "output_type": "stream",
     "text": [
      "/home1/wttai/.conda/envs/netket/lib/python3.12/site-packages/netket/vqs/mc/mc_state/state.py:252: UserWarning: An exact sampler does not need to discard samples. Setting n_discard_per_chain to 0.\n",
      "  self.n_discard_per_chain = n_discard_per_chain\n"
     ]
    },
    {
     "data": {
      "application/vnd.jupyter.widget-view+json": {
       "model_id": "bcf85467cc944c47b31eb8eb3c4082f6",
       "version_major": 2,
       "version_minor": 0
      },
      "text/plain": [
       "  0%|          | 0/2000 [00:00<?, ?it/s]"
      ]
     },
     "metadata": {},
     "output_type": "display_data"
    },
    {
     "data": {
      "text/plain": [
       "(RuntimeLog():\n",
       "  keys = ['Energy'],)"
      ]
     },
     "execution_count": 29,
     "metadata": {},
     "output_type": "execute_result"
    }
   ],
   "source": [
    "# Create a neural backflow wave function\n",
    "model = LogNeuralBackflow(hi, hidden_units=Lx * Ly, complex = complex)\n",
    "\n",
    "# Define a Metropolis exchange sampler\n",
    "#sa = nk.sampler.MetropolisExchange(hi, graph=graph)\n",
    "#sa = nk.sampler.MetropolisExchange(hi, graph = exchange_graph)\n",
    "sa = nk.sampler.ExactSampler(hi) \n",
    "\n",
    "# Define an optimizer\n",
    "op = nk.optimizer.Sgd(learning_rate=learning_rate)\n",
    "\n",
    "# Create a variational state\n",
    "vstate = nk.vqs.MCState(sa, model, n_samples=2**12, n_discard_per_chain=16)\n",
    "\n",
    "# Create a Variational Monte Carlo driver\n",
    "preconditioner = nk.optimizer.SR(diag_shift=diag_shift, holomorphic = complex)\n",
    "gs = nk.VMC(Ham, op, variational_state=vstate, preconditioner=preconditioner)\n",
    "\n",
    "# Construct the logger to visualize the data later on\n",
    "bf_log=nk.logging.RuntimeLog()\n",
    "\n",
    "# Run the optimization for 300 iterations\n",
    "gs.run(n_iter=n_iter, out=bf_log)"
   ]
  },
  {
   "cell_type": "code",
   "execution_count": 22,
   "metadata": {},
   "outputs": [
    {
     "name": "stdout",
     "output_type": "stream",
     "text": [
      "Optimized energy : -3.073629-0.000000j ± 0.000028 [σ²=0.000003, R̂=1.0012]\n",
      "Relative error   : 0.009919237399442778\n"
     ]
    }
   ],
   "source": [
    "sd_energy = vstate.expect(Ham)\n",
    "error = abs((sd_energy.mean - E_gs) / E_gs)\n",
    "\n",
    "print(f\"Optimized energy : {sd_energy}\")\n",
    "print(f\"Relative error   : {error}\")"
   ]
  },
  {
   "cell_type": "code",
   "execution_count": 24,
   "metadata": {},
   "outputs": [
    {
     "data": {
      "text/plain": [
       "<matplotlib.legend.Legend at 0x2af71ca98980>"
      ]
     },
     "execution_count": 24,
     "metadata": {},
     "output_type": "execute_result"
    },
    {
     "data": {
      "image/png": "[encoded data removed]",
      "text/plain": [
       "<Figure size 640x480 with 1 Axes>"
      ]
     },
     "metadata": {},
     "output_type": "display_data"
    }
   ],
   "source": [
    "logged_data = (slater_log.data,nj_log.data,bf_log.data)\n",
    "labels = (\"Slater\",\"Neural Jastrow\",\"Neural Backflow\")\n",
    "\n",
    "from matplotlib import pyplot as plt\n",
    "\n",
    "start = 10\n",
    "\n",
    "end = n_iter\n",
    "\n",
    "for data,label in zip(logged_data,labels):\n",
    "    plt.errorbar(data[\"Energy\"].iters[start:end], data[\"Energy\"].Mean.real[start:end], yerr=data[\"Energy\"].Sigma[start:end],label=label)\n",
    "\n",
    "plt.hlines([E_gs], xmin=start, xmax=end, color='black', label=\"Exact\")\n",
    "plt.title(f\"QWZ Model, Lx = {Lx}, Ly = {Ly}, t = {t}, U = {U}\")\n",
    "\n",
    "plt.xlabel('Iterations')\n",
    "plt.ylabel('Energy')\n",
    "plt.legend()"
   ]
  },
  {
   "cell_type": "code",
   "execution_count": 19,
   "metadata": {},
   "outputs": [
    {
     "data": {
      "text/plain": [
       "dict_keys(['acceptance', 'Energy'])"
      ]
     },
     "execution_count": 19,
     "metadata": {},
     "output_type": "execute_result"
    }
   ],
   "source": [
    "data.keys()"
   ]
  }
 ],
 "metadata": {
  "kernelspec": {
   "display_name": "netket",
   "language": "python",
   "name": "python3"
  },
  "language_info": {
   "codemirror_mode": {
    "name": "ipython",
    "version": 3
   },
   "file_extension": ".py",
   "mimetype": "text/x-python",
   "name": "python",
   "nbconvert_exporter": "python",
   "pygments_lexer": "ipython3",
   "version": "3.12.4"
  }
 },
 "nbformat": 4,
 "nbformat_minor": 2
}
