{
 "cells": [
  {
   "cell_type": "code",
   "execution_count": 3,
   "metadata": {},
   "outputs": [],
   "source": [
    "import numpy as np\n",
    "import matplotlib.pyplot as plt\n",
    "import random\n",
    "from math import sqrt"
   ]
  },
  {
   "cell_type": "markdown",
   "metadata": {},
   "source": [
    "# Simple attempt to implement a variational quantum state calculation \n",
    "\n",
    "As an example, we start with a very simple J1/J2 Heisenberg spin chain\n",
    "\n",
    "We define a class \"model\" that contains a Hamiltonian and a rule for generating spins according to the MSMS algorithm.\n",
    "\n",
    "We have something to obtain the wavefunction amplitude $\\psi_\\theta(s)$ from the spin configuration $s$ that depends on some amplitude $\\theta$\n",
    "\n",
    "From  $\\psi_\\theta(s)$ for the given spin configuration, we can produce an estimate of the energy of the variational ground state.\n",
    "\n",
    "Then we can perform a stochastic gradient descent based on it."
   ]
  },
  {
   "cell_type": "markdown",
   "metadata": {},
   "source": [
    "Reminder: the operators are defined as \n",
    "$$S\\cdot S = S_x \\cdot S_x + S_y \\cdot S_y + S_z \\cdot S_z = \\frac{1}{2} (S_+ \\cdot S_- + S_- \\cdot S_+) + S_z \\cdot S_z$$\n",
    "\n",
    "where $S_z = \\frac{\\hbar}{2} \\begin{pmatrix} 1 & 0 \\\\ 0  & -1 \\end{pmatrix}$, $S_+ = \\hbar \\begin{pmatrix} 0 & 1 \\\\ 0 & 0 \\end{pmatrix}$, $S_- = \\hbar \\begin{pmatrix} 0 & 0 \\\\ 1 & 0 \\end{pmatrix}$"
   ]
  },
  {
   "cell_type": "code",
   "execution_count": 26,
   "metadata": {},
   "outputs": [],
   "source": [
    "class Model:\n",
    "    \"\"\"\n",
    "    A model that represents a 2D lattice of spins with a Hamiltonian\n",
    "    \"\"\"\n",
    "\n",
    "    def __init__(self, L1, L2) -> None:\n",
    "        self.L1 = L1\n",
    "        self.L2 = L2\n",
    "        self.Hamiltonian = np.zeros((L1, L2, L1, L2, 2, 2, 2, 2), dtype = int)\n",
    "\n",
    "    def get_random_spins(self):\n",
    "        \"\"\"\n",
    "        return: a 2D array (L1, L2, 2) of random spins\n",
    "        Each site has either spin up [1,0] or spin down [0,1]\n",
    "        \"\"\"\n",
    "        np.random.seed(0) #For ease of debugging, we set the seed to 0\n",
    "        return np.array([[random.choice([[1, 0], [0, 1]]) for _ in range(self.L1)] for _ in range(self.L2)])\n",
    "        #np.random.choice([-1, 1], size=(self.L1, self.L2))\n",
    "    \n",
    "    def flip_random_spin(self, spin1):\n",
    "        \"\"\"\n",
    "        return: a 2D array (L1, L2, 2) of spins with one random spin flipped\n",
    "        \"\"\"\n",
    "        spin2 = spin1.copy()\n",
    "        i, j = random.randint(0, self.L1-1), random.randint(0, self.L2-1)\n",
    "        assert spin1[i,j,0] == 0 or spin1[i,j,0] == 1, f\"Invalid spin value {spin1[i,j,0]}\"\n",
    "        assert spin2[i,j,0] == 0 or spin2[i,j,0] == 1, f\"Invalid spin value {spin2[i,j,0]}\"\n",
    "        spin2[i, j] = [1, 0] if spin1[i, j, 0] == 0 else [0, 1]\n",
    "        return spin2\n",
    "\n",
    "    def add_SdotS_interaction(self, r1, r2, J):\n",
    "        \"\"\" \n",
    "        Add the S(r1).S(r2) interaction between spins at r1 and r2, with strength J\n",
    "\n",
    "        The Hamiltonian represents the entries 1/2(S+(r1).S-(r2) + S-(r1).S+(r2)) + Sz(r1).Sz(r2)\n",
    "        \"\"\"\n",
    "        self.Hamiltonian[r1[0], r1[1], r2[0], r2[1], 0, 0, 0, 0] += J/4 \n",
    "        self.Hamiltonian[r1[0], r1[1], r2[0], r2[1], 0, 1, 0, 1] += -J/4 \n",
    "        self.Hamiltonian[r1[0], r1[1], r2[0], r2[1], 0, 1, 1, 0] += J/2\n",
    "        self.Hamiltonian[r1[0], r1[1], r2[0], r2[1], 1, 0, 1, 0] += -J/4 \n",
    "        self.Hamiltonian[r1[0], r1[1], r2[0], r2[1], 1, 0, 0, 1] += J/2\n",
    "        self.Hamiltonian[r1[0], r1[1], r2[0], r2[1], 1, 1, 1, 1] += J/4 \n",
    "\n",
    "    def set_J1_Hamiltonian(self, J):\n",
    "        \"\"\"\n",
    "        Sets the Hamiltonian to be the J1 Heisenberg model\n",
    "        \"\"\"\n",
    "        for i in range(self.L1-1):\n",
    "            for j in range(self.L2):\n",
    "                self.add_SdotS_interaction((i, j), (i+1, j), J)  \n",
    "                self.add_SdotS_interaction((i+1, j), (i, j), J)  \n",
    "        for i in range(self.L1):\n",
    "            for j in range(self.L2-1):        \n",
    "                self.add_SdotS_interaction((i, j), (i, j+1), J)  \n",
    "                self.add_SdotS_interaction((i, j+1), (i, j), J)      \n",
    "\n",
    "    def set_J2_Hamiltonian(self, J):\n",
    "        \"\"\"\n",
    "        Sets the Hamiltonian to be the J2 Heisenberg model\n",
    "        \"\"\"\n",
    "        for i in range(self.L1-1):\n",
    "            for j in range(self.L2-1):\n",
    "                self.add_SdotS_interaction((i, j), (i+1, j+1), J)  \n",
    "        for i in range(self.L1):\n",
    "            for j in range(self.L2-1):        \n",
    "                self.add_SdotS_interaction((i+1, j), (i, j+1), J)           \n",
    "\n",
    "    def Hdot(self, spin1, spin2):\n",
    "        \"\"\"\n",
    "        #get the Hamiltonian expectation value <spin1|H|spin2>\n",
    "        #where spin1 and spin2 are 2D arrays (L1, L2) generated by get_random_spins or equivalent\n",
    "        \"\"\"\n",
    "        assert spin1.dtype == int, f\"Hdot cannot handle spins of type {spin1.dtype}. Please convert this to int\"\n",
    "        assert np.all(np.sum(spin1, axis = -1) == 1), \"spin1 is not properly normalized\"\n",
    "        assert np.all(np.sum(spin2, axis = -1) == 1), \"spin1 is not properly normalized\"\n",
    "        result = np.einsum('ija,klb,ijc,kld,ijklabcd->', spin1, spin1, spin2, spin2, self.Hamiltonian)\n",
    "        return result\n",
    "    \n",
    "    def vdot(self, spin1, spin2):\n",
    "        \"\"\"\n",
    "        #get the overlap expectation value <spin1|spin2>\n",
    "        #where spin1 and spin2 are 2D arrays (L1, L2) generated by get_random_spins or equivalent\n",
    "        \"\"\"\n",
    "        assert spin1.dtype == int, f\"Hdot cannot handle spins of type {spin1.dtype}. Please convert this to int\"\n",
    "        assert np.all(np.sum(spin1, axis = -1) == 1), \"spin1 is not properly normalized\"\n",
    "        assert np.all(np.sum(spin2, axis = -1) == 1), \"spin1 is not properly normalized\"\n",
    "        result = np.einsum('ija,ija->', spin1, spin2)\n",
    "        return result\n",
    "\n",
    "    def reset_Hamiltonian(self):\n",
    "        #sets the Hamiltonian to zero-for debugging purpose\n",
    "        self.Hamiltonian = np.zeros((self.L1, self.L2, self.L1, self.L2, 2, 2, 2, 2))\n",
    "        \n",
    "    def get_Hamiltonian(self):\n",
    "        #returns the Hamiltonian—for debugging purpose\n",
    "        return self.Hamiltonian\n",
    "    "
   ]
  },
  {
   "cell_type": "markdown",
   "metadata": {},
   "source": [
    "## Miscellaneous sanity checks"
   ]
  },
  {
   "cell_type": "markdown",
   "metadata": {},
   "source": [
    "### Verifying that the Hamiltonian evaluated onto spins give sensible results"
   ]
  },
  {
   "cell_type": "code",
   "execution_count": 31,
   "metadata": {},
   "outputs": [
    {
     "name": "stdout",
     "output_type": "stream",
     "text": [
      "Hamiltonian is empty: <spin1|H|spin2>=0\n",
      "J1 Hamiltonian gives: <spin1|H|spin2>=0.5\n",
      "Flipping a spin in s Hamiltonian gives: <spin1|H|spin2>=0.0\n",
      "J1 Hamiltonian on singlet state gives: <spin1|H|spin2>=-3.0\n",
      "J1 Hamiltonian on triplet state gives: <spin1|H|spin2>=1.0\n"
     ]
    }
   ],
   "source": [
    "test = Model(2, 1)\n",
    "spin1 = np.array([[[1,0] for _ in range(test.L2)] for _ in range(test.L1)])\n",
    "spin2 = np.array([[[1,0] for _ in range(test.L2)] for _ in range(test.L1)])\n",
    "print(f\"Hamiltonian is empty: <spin1|H|spin2>={test.Hdot(spin1, spin2)}\")\n",
    "test.reset_Hamiltonian()\n",
    "test.set_J1_Hamiltonian(1)\n",
    "print(f\"J1 Hamiltonian gives: <spin1|H|spin2>={test.Hdot(spin1, spin2)}\")\n",
    "spin2[1, 0] = [0,1]\n",
    "print(f\"Flipping a spin in s Hamiltonian gives: <spin1|H|spin2>={test.Hdot(spin1, spin2)}\")\n",
    "#Consider a singlet state\n",
    "spinud = spin1.copy()\n",
    "spinud[1, 0] = [0, 1]\n",
    "spindu = spin1.copy()\n",
    "spindu[0, 0] = [0, 1]\n",
    "singlet_energy = (test.Hdot(spinud, spinud)-test.Hdot(spindu, spinud)-test.Hdot(spinud, spindu)+test.Hdot(spindu, spindu))#/2\n",
    "triplet_energy = (test.Hdot(spinud, spinud)+test.Hdot(spindu, spinud)+test.Hdot(spinud, spindu)+test.Hdot(spindu, spindu))#/2\n",
    "print(f\"J1 Hamiltonian on singlet state gives: <spin1|H|spin2>={singlet_energy}\")\n",
    "print(f\"J1 Hamiltonian on triplet state gives: <spin1|H|spin2>={triplet_energy}\")"
   ]
  },
  {
   "cell_type": "code",
   "execution_count": 29,
   "metadata": {},
   "outputs": [
    {
     "name": "stdout",
     "output_type": "stream",
     "text": [
      "Hamiltonian is empty: <spin1|H|spin2>=0\n",
      "J1 Hamiltonian gives: <spin1|H|spin2>=12.0\n",
      "Flipping a corner spin in s Hamiltonian gives: <spin1|H|spin2>=11.0\n",
      "Flipping a middle spin in s Hamiltonian gives: <spin1|H|spin2>=9.0\n"
     ]
    }
   ],
   "source": [
    "test = Model(4, 4)\n",
    "spin1 = np.array([[[1,0] for _ in range(test.L2)] for _ in range(test.L1)])\n",
    "spin2 = np.array([[[1,0] for _ in range(test.L2)] for _ in range(test.L1)])\n",
    "print(f\"Hamiltonian is empty: <spin1|H|spin2>={test.Hdot(spin1, spin2)}\")\n",
    "test.reset_Hamiltonian()\n",
    "test.set_J1_Hamiltonian(1)\n",
    "print(f\"J1 Hamiltonian gives: <spin1|H|spin2>={test.Hdot(spin1, spin2)}\")\n",
    "spin2[0,0] = [0, 1]\n",
    "print(f\"Flipping a corner spin in s Hamiltonian gives: <spin1|H|spin2>={test.Hdot(spin1, spin2)}\")\n",
    "spin2[2,2] = [0, 1]\n",
    "print(f\"Flipping a middle spin in s Hamiltonian gives: <spin1|H|spin2>={test.Hdot(spin1, spin2)}\")"
   ]
  },
  {
   "cell_type": "markdown",
   "metadata": {},
   "source": [
    "### Generating random spins"
   ]
  },
  {
   "cell_type": "code",
   "execution_count": 27,
   "metadata": {},
   "outputs": [
    {
     "data": {
      "text/plain": [
       "array([[[1, 0],\n",
       "        [0, 1],\n",
       "        [1, 0],\n",
       "        [1, 0]],\n",
       "\n",
       "       [[0, 1],\n",
       "        [1, 0],\n",
       "        [1, 0],\n",
       "        [1, 0]],\n",
       "\n",
       "       [[1, 0],\n",
       "        [0, 1],\n",
       "        [0, 1],\n",
       "        [1, 0]],\n",
       "\n",
       "       [[1, 0],\n",
       "        [1, 0],\n",
       "        [1, 0],\n",
       "        [0, 1]]])"
      ]
     },
     "execution_count": 27,
     "metadata": {},
     "output_type": "execute_result"
    }
   ],
   "source": [
    "test = Model(4, 4)\n",
    "test.get_random_spins()"
   ]
  },
  {
   "cell_type": "markdown",
   "metadata": {},
   "source": [
    "### Plotting out the adjacency elements of the J1 hamiltonian"
   ]
  },
  {
   "cell_type": "code",
   "execution_count": 28,
   "metadata": {},
   "outputs": [
    {
     "data": {
      "text/plain": [
       "<matplotlib.image.AxesImage at 0x11144c490>"
      ]
     },
     "execution_count": 28,
     "metadata": {},
     "output_type": "execute_result"
    },
    {
     "data": {
      "image/png": "[encoded data removed]",
      "text/plain": [
       "<Figure size 640x480 with 1 Axes>"
      ]
     },
     "metadata": {},
     "output_type": "display_data"
    }
   ],
   "source": [
    "test = Model(4, 4)\n",
    "test.reset_Hamiltonian()\n",
    "test.set_J1_Hamiltonian(1)\n",
    "np.linalg.norm(test.get_Hamiltonian())\n",
    "plt.imshow(np.sum(test.get_Hamiltonian().reshape(16, 16, 16), axis = -1))"
   ]
  },
  {
   "cell_type": "markdown",
   "metadata": {},
   "source": [
    "# Pseudocode\n",
    "\n",
    "\n",
    "After having a class of spin and Hamiltonian, consider a wavefunction object, take takes a spin and returns a number\n",
    "\n",
    "The object would be an NN (most basic example includes the Carleo RBM, which actually has an analytical form)\n",
    "\n",
    "Sampling the spins would involve taking some dot product. \n",
    "\n",
    "I need a function to compute the variational energy. A function to give gradient. And a function to do the gradient descent.\n",
    "\n",
    "Reminder: the variational quantum state is defined as (here $h_1, \\dots, h_M$ represents some auxillary spin variables)\n",
    "\n",
    "\\begin{align*}\n",
    "\\Psi_M(S;W) = \\sum_{h_i} e^{\\sum_j a_j \\sigma^z_j + \\sum_i b_i h_i + \\sum_{ij} W_{ij} h_i \\sigma^{z}_j}\n",
    "\\end{align*}"
   ]
  },
  {
   "cell_type": "code",
   "execution_count": null,
   "metadata": {},
   "outputs": [],
   "source": [
    "class RBM:\n",
    "    \"\"\"\n",
    "    A reduced Boltzmann machine that implements the spin wavefunction based on the model class\n",
    "    \"\"\"\n",
    "    def __init__(self, model) -> None:\n",
    "        self.model = model\n",
    "        self.L1 = model.L1\n",
    "        self.L2 = model.L2\n",
    "        self.M = int(self.L1*self.L2/2)"
   ]
  },
  {
   "cell_type": "markdown",
   "metadata": {},
   "source": [
    "## Whatever (the irreversible trash heap)"
   ]
  },
  {
   "cell_type": "code",
   "execution_count": null,
   "metadata": {},
   "outputs": [],
   "source": []
  },
  {
   "cell_type": "code",
   "execution_count": null,
   "metadata": {},
   "outputs": [],
   "source": [
    "#Old definition of the model. Pending removal\n",
    "\n",
    "class Model:\n",
    "    def __init__(self, L1, L2) -> None:\n",
    "        self.L1 = L1\n",
    "        self.L2 = L2\n",
    "        self.Hamiltonian = np.zeros((L1, L2, L1, L2, 4, 4))\n",
    "\n",
    "    def get_random_spins(self):\n",
    "        #return a 2D array (L1, L2) of random spins\n",
    "        #Each site has either spin up [1,0] or spin down [0,1]\n",
    "        np.random.seed(0) #For ease of debugging, we set the seed to 0\n",
    "        return np.array([[random.choice([[1, 0], [0, 1]]) for _ in range(self.L1)] for _ in range(self.L2)])\n",
    "        #np.random.choice([-1, 1], size=(self.L1, self.L2))\n",
    "    \n",
    "\n",
    "    def add_SdotS_interaction(self, r1, r2,J):\n",
    "        #Add the S(r1).S(r2) interaction between spins at r1 and r2, with strength J\n",
    "        self.Hamiltonian[r1[0], r1[1], r2[0], r2[1]] += J*np.array([[1/4, 0, 0, 0], \n",
    "                                                                    [0, -1/4, 1/2, 0],\n",
    "                                                                    [0, 1/2, -1/4, 0],\n",
    "                                                                    [0, 0, 0, 1/4]])\n",
    "\n",
    "    def set_J1_Hamiltonian(self, J):\n",
    "        #Sets the Hamiltonian to be the J1 Heisenberg model\n",
    "        for i in range(self.L1-1):\n",
    "            for j in range(self.L2):\n",
    "                self.add_SdotS_interaction((i, j), (i+1, j), J)\n",
    "                #self.add_SdotS_interaction((i+1, j), (i, j), J)    \n",
    "        for i in range(self.L1):\n",
    "            for j in range(self.L2-1):        \n",
    "                self.add_SdotS_interaction((i, j), (i, j+1), J) \n",
    "                #self.add_SdotS_interaction((i, j+1), (i, j), J)            \n",
    "\n",
    "    def mdot(self, spin1, spin2):\n",
    "        #get the Hamiltonian expectation value <spin1|H|spin2>\n",
    "        #where spin1 and spin2 are 2D arrays (L1, L2) generated by get_random_spins or equivalent\n",
    "        result = 0\n",
    "        for i in range(self.L1):\n",
    "            for j in range(self.L2):\n",
    "                for k in range(self.L1):\n",
    "                    for l in range(self.L2):\n",
    "                        #print(f\"i = {i}, j = {j}, k = {k}, l = {l}, spin1[i,j] = {spin1[i,j]}, spin2[k,l] = {spin2[k,l]}, result = {result}\")\n",
    "                        if spin1[i, j ,0] == 1  and spin1[k,l,0] == 1 :\n",
    "                            if spin2[i,j,0] == 1 and spin2[k,l,0] == 1 :\n",
    "                                result += self.Hamiltonian[i, j, k, l, 0, 0]\n",
    "                        if spin1[i, j,0] == 1  and spin1[k,l,1] == 1 :\n",
    "                            if spin2[i,j,0] == 1  and spin2[k,l,1] == 1 :\n",
    "                                result += self.Hamiltonian[i, j, k, l, 1, 1]\n",
    "                            if spin2[i,j,1] == 1  and spin2[k,l,0] == 1 :\n",
    "                                result += self.Hamiltonian[i, j, k, l, 1, 2]\n",
    "                        if spin1[i, j,1] == 1  and spin1[k,l,0] == 1:\n",
    "                            if spin2[i,j,0] == 1  and spin2[k,l,1] == 1:\n",
    "                                result += self.Hamiltonian[i, j, k, l, 2, 1]\n",
    "                            if spin2[i,j,1] == 1  and spin2[k,l,0] == 1 :\n",
    "                                result += self.Hamiltonian[i, j, k, l, 2, 2]\n",
    "                        if spin1[i, j,1] == 1  and spin1[k,l,1] == 1 :\n",
    "                            if spin2[i,j,1] == 1 and spin2[k,l,1] == 1 :\n",
    "                                result += self.Hamiltonian[i, j, k, l, 3, 3]\n",
    "        return result\n",
    "        #return np.einsum('ijklmn,ijm,kln->', self.Hamiltonian, spin1, spin2)\n",
    "\n",
    "    def reset_Hamiltonian(self):\n",
    "        #sets the Hamiltonian to zero-for debugging purpose\n",
    "        self.Hamiltonian = np.zeros((self.L1, self.L2, self.L1, self.L2, 4, 4))\n",
    "        \n",
    "    def get_Hamiltonian(self):\n",
    "        #returns the Hamiltonian—for debugging purpose\n",
    "        return self.Hamiltonian\n",
    "    \n"
   ]
  }
 ],
 "metadata": {
  "kernelspec": {
   "display_name": "tensorflow",
   "language": "python",
   "name": "python3"
  },
  "language_info": {
   "codemirror_mode": {
    "name": "ipython",
    "version": 3
   },
   "file_extension": ".py",
   "mimetype": "text/x-python",
   "name": "python",
   "nbconvert_exporter": "python",
   "pygments_lexer": "ipython3",
   "version": "3.11.8"
  }
 },
 "nbformat": 4,
 "nbformat_minor": 2
}
