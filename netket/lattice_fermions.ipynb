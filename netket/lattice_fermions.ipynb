{
 "cells": [
  {
   "cell_type": "code",
   "execution_count": 1,
   "metadata": {},
   "outputs": [],
   "source": [
    "import netket as nk\n",
    "import netket.experimental as nkx"
   ]
  },
  {
   "cell_type": "code",
   "execution_count": 2,
   "metadata": {},
   "outputs": [],
   "source": [
    "L = 4  # Side of the square\n",
    "graph = nk.graph.Square(L)\n",
    "N = graph.n_nodes"
   ]
  },
  {
   "cell_type": "code",
   "execution_count": 3,
   "metadata": {},
   "outputs": [],
   "source": [
    "from netket.experimental.operator.fermion import destroy as c\n",
    "from netket.experimental.operator.fermion import create as cdag\n",
    "from netket.experimental.operator.fermion import number as nc"
   ]
  },
  {
   "cell_type": "code",
   "execution_count": 4,
   "metadata": {},
   "outputs": [],
   "source": [
    "N_f = 5\n",
    "\n",
    "hi = nkx.hilbert.SpinOrbitalFermions(N, s=None, n_fermions=N_f)"
   ]
  },
  {
   "cell_type": "code",
   "execution_count": 5,
   "metadata": {},
   "outputs": [],
   "source": [
    "t = 1.0\n",
    "V = 4.0\n",
    "\n",
    "H = 0.0\n",
    "for (i, j) in graph.edges():\n",
    "    H -= t * (cdag(hi,i) * c(hi,j) + cdag(hi,j) * c(hi,i))\n",
    "    H += V * nc(hi,i) * nc(hi,j)"
   ]
  },
  {
   "cell_type": "code",
   "execution_count": 7,
   "metadata": {},
   "outputs": [],
   "source": [
    "# Convert the Hamiltonian to a sparse matrix\n",
    "sp_h = H.to_sparse()"
   ]
  },
  {
   "cell_type": "code",
   "execution_count": 8,
   "metadata": {},
   "outputs": [
    {
     "name": "stdout",
     "output_type": "stream",
     "text": [
      "Exact ground state energy: -6.8590135543195805\n"
     ]
    }
   ],
   "source": [
    "from scipy.sparse.linalg import eigsh\n",
    "\n",
    "eig_vals, eig_vecs = eigsh(sp_h, k=2, which=\"SA\")\n",
    "\n",
    "E_gs = eig_vals[0]\n",
    "\n",
    "print(\"Exact ground state energy:\", E_gs)"
   ]
  },
  {
   "cell_type": "markdown",
   "metadata": {},
   "source": [
    "# Slater determinant"
   ]
  },
  {
   "cell_type": "code",
   "execution_count": 9,
   "metadata": {},
   "outputs": [],
   "source": [
    "import jax\n",
    "import jax.numpy as jnp\n",
    "\n",
    "# Note: This function can also be found inside of netket, in `nk.jax.logdet_cmplx`, but we implement it here\n",
    "# for pedagogical purposes.\n",
    "def _logdet_cmplx(A):\n",
    "    sign, logabsdet = jnp.linalg.slogdet(A)\n",
    "    return logabsdet.astype(complex) + jnp.log(sign.astype(complex))"
   ]
  },
  {
   "cell_type": "code",
   "execution_count": 10,
   "metadata": {},
   "outputs": [],
   "source": [
    "import flax.linen as nn\n",
    "from netket.utils.types import NNInitFunc\n",
    "from netket.nn.masked_linear import default_kernel_init\n",
    "from typing import Any, Callable, Sequence\n",
    "from functools import partial\n",
    "DType = Any\n",
    "\n",
    "\n",
    "class LogSlaterDeterminant(nn.Module):\n",
    "    hilbert: nkx.hilbert.SpinOrbitalFermions\n",
    "    kernel_init: NNInitFunc = default_kernel_init\n",
    "    param_dtype: DType = float\n",
    "\n",
    "    @nn.compact\n",
    "    def __call__(self, n):\n",
    "        # the N x Nf matrix of the orbitals\n",
    "        M = self.param('M', self.kernel_init, (self.hilbert.n_orbitals, self.hilbert.n_fermions,), self.param_dtype)\n",
    "\n",
    "        @partial(jnp.vectorize, signature='(n)->()')\n",
    "        def log_sd(n):\n",
    "            #Find the positions of the occupied orbitals \n",
    "            R = n.nonzero(size=self.hilbert.n_fermions)[0]\n",
    "            \n",
    "            # Extract the Nf x Nf submatrix of M corresponding to the occupied orbitals\n",
    "            A = M[R]\n",
    "\n",
    "            return _logdet_cmplx(A)\n",
    "\n",
    "        return log_sd(n)"
   ]
  },
  {
   "cell_type": "markdown",
   "metadata": {},
   "source": [
    "# Slater Determinant wave function"
   ]
  },
  {
   "cell_type": "code",
   "execution_count": 11,
   "metadata": {},
   "outputs": [],
   "source": [
    "# Create the Slater determinant model\n",
    "model = LogSlaterDeterminant(hi)\n",
    "\n",
    "# Define the Metropolis-Hastings sampler\n",
    "sa = nk.sampler.MetropolisExchange(hi, graph=graph)"
   ]
  },
  {
   "cell_type": "code",
   "execution_count": 12,
   "metadata": {},
   "outputs": [],
   "source": [
    "vstate = nk.vqs.MCState(sa, model, n_samples=2**12, n_discard_per_chain=16)"
   ]
  },
  {
   "cell_type": "code",
   "execution_count": 13,
   "metadata": {},
   "outputs": [
    {
     "data": {
      "text/plain": [
       "(16, 256, 16)"
      ]
     },
     "execution_count": 13,
     "metadata": {},
     "output_type": "execute_result"
    }
   ],
   "source": [
    "vstate.samples.shape"
   ]
  },
  {
   "cell_type": "code",
   "execution_count": 14,
   "metadata": {},
   "outputs": [],
   "source": [
    "# Define the optimizer\n",
    "op = nk.optimizer.Sgd(learning_rate=0.05)\n",
    "\n",
    "# Define a preconditioner\n",
    "preconditioner = nk.optimizer.SR(diag_shift=0.05)\n",
    "\n",
    "# Create the VMC (Variational Monte Carlo) driver\n",
    "gs = nk.VMC(H, op, variational_state=vstate, preconditioner=preconditioner)"
   ]
  },
  {
   "cell_type": "code",
   "execution_count": 15,
   "metadata": {},
   "outputs": [
    {
     "data": {
      "application/vnd.jupyter.widget-view+json": {
       "model_id": "41d1c389a29b48e587fa92bb4c581368",
       "version_major": 2,
       "version_minor": 0
      },
      "text/plain": [
       "  0%|          | 0/300 [00:00<?, ?it/s]"
      ]
     },
     "metadata": {},
     "output_type": "display_data"
    },
    {
     "data": {
      "text/plain": [
       "(RuntimeLog():\n",
       "  keys = ['acceptance', 'Energy'],)"
      ]
     },
     "execution_count": 15,
     "metadata": {},
     "output_type": "execute_result"
    }
   ],
   "source": [
    "# Construct the logger to visualize the data later on\n",
    "slater_log=nk.logging.RuntimeLog()\n",
    "\n",
    "# Run the optimization for 300 iterations\n",
    "gs.run(n_iter=300, out=slater_log)"
   ]
  },
  {
   "cell_type": "code",
   "execution_count": 16,
   "metadata": {},
   "outputs": [
    {
     "name": "stdout",
     "output_type": "stream",
     "text": [
      "Optimized energy : -5.054+0.000j ± 0.036 [σ²=4.879, R̂=1.0026]\n",
      "Relative error   : 0.2631638625814485\n"
     ]
    }
   ],
   "source": [
    "sd_energy = vstate.expect(H)\n",
    "error = abs((sd_energy.mean - E_gs) / E_gs)\n",
    "\n",
    "print(f\"Optimized energy : {sd_energy}\")\n",
    "print(f\"Relative error   : {error}\")"
   ]
  },
  {
   "cell_type": "markdown",
   "metadata": {},
   "source": [
    "# Neural Jastrow-Slater Wave Function"
   ]
  },
  {
   "cell_type": "code",
   "execution_count": 17,
   "metadata": {},
   "outputs": [],
   "source": [
    "class LogNeuralJastrowSlater(nn.Module):\n",
    "    hilbert: nkx.hilbert.SpinOrbitalFermions\n",
    "    hidden_units: int\n",
    "    kernel_init: NNInitFunc = default_kernel_init\n",
    "    param_dtype: DType = float\n",
    "\n",
    "    @nn.compact\n",
    "    def __call__(self, n):\n",
    "       \n",
    "        @partial(jnp.vectorize, signature='(n)->()')\n",
    "        def log_wf(n):\n",
    "            #Bare Slater Determinant (N x Nf matrix of the orbital amplitudes) \n",
    "            M = self.param('M', self.kernel_init, (self.hilbert.n_orbitals, self.hilbert.n_fermions,), self.param_dtype)\n",
    "\n",
    "            #Construct the Neural Jastrow\n",
    "            J = nn.Dense(self.hidden_units, param_dtype=self.param_dtype)(n)\n",
    "            J = jax.nn.tanh(J)\n",
    "            J = J.sum()\n",
    "            \n",
    "            # Find the positions of the occupied orbitals\n",
    "            R = n.nonzero(size=self.hilbert.n_fermions)[0]\n",
    "            # Select the N rows of M corresponding to the occupied orbitals, obtaining the Nf x Nf slater matrix\n",
    "            A = M[R]\n",
    "            # compute the (log) determinant and add the Jastrow\n",
    "            # (when exponentiating this becomes a product of the slater and jastrow terms)\n",
    "            return _logdet_cmplx(A)+J\n",
    "\n",
    "        return log_wf(n)"
   ]
  },
  {
   "cell_type": "code",
   "execution_count": 18,
   "metadata": {},
   "outputs": [
    {
     "data": {
      "application/vnd.jupyter.widget-view+json": {
       "model_id": "a647ca93eac7462498b37182ef335574",
       "version_major": 2,
       "version_minor": 0
      },
      "text/plain": [
       "  0%|          | 0/300 [00:00<?, ?it/s]"
      ]
     },
     "metadata": {},
     "output_type": "display_data"
    },
    {
     "data": {
      "text/plain": [
       "(RuntimeLog():\n",
       "  keys = ['acceptance', 'Energy'],)"
      ]
     },
     "execution_count": 18,
     "metadata": {},
     "output_type": "execute_result"
    }
   ],
   "source": [
    "# Create a Neural Jastrow Slater wave function \n",
    "model = LogNeuralJastrowSlater(hi, hidden_units=N)\n",
    "\n",
    "# Define a Metropolis exchange sampler\n",
    "sa = nk.sampler.MetropolisExchange(hi, graph=graph)\n",
    "\n",
    "# Define an optimizer\n",
    "op = nk.optimizer.Sgd(learning_rate=0.05)\n",
    "\n",
    "# Create a variational state\n",
    "vstate = nk.vqs.MCState(sa, model, n_samples=2**12, n_discard_per_chain=16)\n",
    "\n",
    "# Create a Variational Monte Carlo driver\n",
    "preconditioner = nk.optimizer.SR(diag_shift=0.05)\n",
    "gs = nk.VMC(H, op, variational_state=vstate, preconditioner=preconditioner)\n",
    "\n",
    "# Construct the logger to visualize the data later on\n",
    "nj_log=nk.logging.RuntimeLog()\n",
    "\n",
    "# Run the optimization for 300 iterations\n",
    "gs.run(n_iter=300, out=nj_log)"
   ]
  },
  {
   "cell_type": "code",
   "execution_count": 19,
   "metadata": {},
   "outputs": [
    {
     "name": "stdout",
     "output_type": "stream",
     "text": [
      "Optimized energy : -6.8163+0.0000j ± 0.0099 [σ²=0.4452, R̂=1.0015]\n",
      "Relative error   : 0.006223802110984316\n"
     ]
    }
   ],
   "source": [
    "sd_energy = vstate.expect(H)\n",
    "error = abs((sd_energy.mean - E_gs) / E_gs)\n",
    "\n",
    "print(f\"Optimized energy : {sd_energy}\")\n",
    "print(f\"Relative error   : {error}\")"
   ]
  },
  {
   "cell_type": "markdown",
   "metadata": {},
   "source": [
    "# Backflow"
   ]
  },
  {
   "cell_type": "code",
   "execution_count": 21,
   "metadata": {},
   "outputs": [],
   "source": [
    "class LogNeuralBackflow(nn.Module):\n",
    "    hilbert: nkx.hilbert.SpinOrbitalFermions\n",
    "    hidden_units: int\n",
    "    kernel_init: NNInitFunc = default_kernel_init\n",
    "    param_dtype: DType = float\n",
    "\n",
    "    @nn.compact\n",
    "    def __call__(self, n):\n",
    "       \n",
    "        @partial(jnp.vectorize, signature='(n)->()')\n",
    "        def log_sd(n):\n",
    "            #Bare Slater Determinant (N x Nf matrix of the orbital amplitudes) \n",
    "            M = self.param('M', self.kernel_init, (self.hilbert.n_orbitals, self.hilbert.n_fermions,), self.param_dtype)\n",
    "\n",
    "            # Construct the Backflow. Takes as input strings of $N$ occupation numbers, outputs an $N x Nf$ matrix\n",
    "            # that modifies the bare orbitals.\n",
    "            F = nn.Dense(self.hidden_units, param_dtype=self.param_dtype)(n)\n",
    "            F = jax.nn.tanh(F)\n",
    "            # last layer, outputs N x Nf values\n",
    "            F = nn.Dense(self.hilbert.n_orbitals * self.hilbert.n_fermions, param_dtype=self.param_dtype)(F)\n",
    "            # reshape into M and add\n",
    "            M += F.reshape(M.shape)\n",
    "            \n",
    "            #Find the positions of the occupied, backflow-modified orbitals\n",
    "            R = n.nonzero(size=self.hilbert.n_fermions)[0]\n",
    "            A = M[R]\n",
    "            return _logdet_cmplx(A)\n",
    "\n",
    "        return log_sd(n)"
   ]
  },
  {
   "cell_type": "code",
   "execution_count": 22,
   "metadata": {},
   "outputs": [
    {
     "data": {
      "application/vnd.jupyter.widget-view+json": {
       "model_id": "3aa4c4bf980e425ab27d9acbcdb07dbe",
       "version_major": 2,
       "version_minor": 0
      },
      "text/plain": [
       "  0%|          | 0/300 [00:00<?, ?it/s]"
      ]
     },
     "metadata": {},
     "output_type": "display_data"
    },
    {
     "data": {
      "text/plain": [
       "(RuntimeLog():\n",
       "  keys = ['acceptance', 'Energy'],)"
      ]
     },
     "execution_count": 22,
     "metadata": {},
     "output_type": "execute_result"
    }
   ],
   "source": [
    "# Create a neural backflow wave function\n",
    "model = LogNeuralBackflow(hi, hidden_units=N)\n",
    "\n",
    "# Define a Metropolis exchange sampler\n",
    "sa = nk.sampler.MetropolisExchange(hi, graph=graph)\n",
    "\n",
    "# Define an optimizer\n",
    "op = nk.optimizer.Sgd(learning_rate=0.05)\n",
    "\n",
    "# Create a vriational state\n",
    "vstate = nk.vqs.MCState(sa, model, n_samples=2**12, n_discard_per_chain=16)\n",
    "\n",
    "# Create a Variational Monte Carlo driver\n",
    "preconditioner = nk.optimizer.SR(diag_shift=0.05)\n",
    "gs = nk.VMC(H, op, variational_state=vstate, preconditioner=preconditioner)\n",
    "\n",
    "# Construct the logger to visualize the data later on\n",
    "bf_log=nk.logging.RuntimeLog()\n",
    "\n",
    "# Run the optimization for 300 iterations\n",
    "gs.run(n_iter=300, out=bf_log)"
   ]
  },
  {
   "cell_type": "code",
   "execution_count": 23,
   "metadata": {},
   "outputs": [
    {
     "name": "stdout",
     "output_type": "stream",
     "text": [
      "Optimized energy : -6.790+0.000j ± 0.011 [σ²=0.498, R̂=1.0013]\n",
      "Relative error   : 0.010074806915321782\n"
     ]
    }
   ],
   "source": [
    "sd_energy = vstate.expect(H)\n",
    "error = abs((sd_energy.mean - E_gs) / E_gs)\n",
    "\n",
    "print(f\"Optimized energy : {sd_energy}\")\n",
    "print(f\"Relative error   : {error}\")"
   ]
  },
  {
   "cell_type": "code",
   "execution_count": 24,
   "metadata": {},
   "outputs": [
    {
     "name": "stdout",
     "output_type": "stream",
     "text": [
      "{'acceptance': History(\n",
      "   keys  = ['value'], \n",
      "   iters = [0, 1, ... 298, 299] (300 steps),\n",
      "), 'Energy': History(\n",
      "   keys  = ['Mean', 'Variance', 'Sigma', 'R_hat', 'TauCorr'], \n",
      "   iters = [0, 1, ... 298, 299] (300 steps),\n",
      ")}\n"
     ]
    }
   ],
   "source": [
    "data_slater = slater_log.data\n",
    "print(data_slater)"
   ]
  },
  {
   "cell_type": "code",
   "execution_count": 25,
   "metadata": {},
   "outputs": [
    {
     "data": {
      "text/plain": [
       "<matplotlib.legend.Legend at 0x13a0bf590>"
      ]
     },
     "execution_count": 25,
     "metadata": {},
     "output_type": "execute_result"
    },
    {
     "data": {
      "image/png": "[encoded data removed]",
      "text/plain": [
       "<Figure size 640x480 with 1 Axes>"
      ]
     },
     "metadata": {},
     "output_type": "display_data"
    }
   ],
   "source": [
    "logged_data = (slater_log.data,nj_log.data,bf_log.data)\n",
    "labels = (\"Slater\",\"Neural Jastrow\",\"Neural Backflow\")\n",
    "\n",
    "from matplotlib import pyplot as plt\n",
    "\n",
    "for data,label in zip(logged_data,labels):\n",
    "    plt.errorbar(data[\"Energy\"].iters, data[\"Energy\"].Mean.real, yerr=data[\"Energy\"].Sigma,label=label)\n",
    "\n",
    "plt.hlines([E_gs], xmin=0, xmax=300, color='black', label=\"Exact\")\n",
    "\n",
    "plt.xlabel('Iterations')\n",
    "plt.ylabel('Energy')\n",
    "plt.legend()"
   ]
  },
  {
   "cell_type": "code",
   "execution_count": 26,
   "metadata": {},
   "outputs": [
    {
     "name": "stdout",
     "output_type": "stream",
     "text": [
      "Help on class MCState in module netket.vqs.mc.mc_state.state:\n",
      "\n",
      "class MCState(netket.vqs.base.VariationalState)\n",
      " |  MCState(sampler: netket.sampler.base.Sampler, model=None, *, n_samples: Optional[int] = None, n_samples_per_rank: Optional[int] = None, n_discard_per_chain: Optional[int] = None, chunk_size: Optional[int] = None, variables: Optional[Any] = None, init_fun: Optional[Callable[[Any, collections.abc.Sequence[int], Any], Union[numpy.ndarray, jax.Array]]] = None, apply_fun: Optional[Callable] = None, seed: Union[int, Any, NoneType] = None, sampler_seed: Union[int, Any, NoneType] = None, mutable: Union[bool, str, Collection[str], ForwardRef('DenyList')] = False, training_kwargs: dict = {})\n",
      " |\n",
      " |  Variational State for a Variational Neural Quantum State.\n",
      " |\n",
      " |  The state is sampled according to the provided sampler.\n",
      " |\n",
      " |  Method resolution order:\n",
      " |      MCState\n",
      " |      netket.vqs.base.VariationalState\n",
      " |      abc.ABC\n",
      " |      builtins.object\n",
      " |\n",
      " |  Methods defined here:\n",
      " |\n",
      " |  __init__(self, sampler: netket.sampler.base.Sampler, model=None, *, n_samples: Optional[int] = None, n_samples_per_rank: Optional[int] = None, n_discard_per_chain: Optional[int] = None, chunk_size: Optional[int] = None, variables: Optional[Any] = None, init_fun: Optional[Callable[[Any, collections.abc.Sequence[int], Any], Union[numpy.ndarray, jax.Array]]] = None, apply_fun: Optional[Callable] = None, seed: Union[int, Any, NoneType] = None, sampler_seed: Union[int, Any, NoneType] = None, mutable: Union[bool, str, Collection[str], ForwardRef('DenyList')] = False, training_kwargs: dict = {})\n",
      " |      Constructs the MCState.\n",
      " |\n",
      " |      Args:\n",
      " |          sampler: The sampler\n",
      " |          model: (Optional) The neural quantum state ansatz, encoded into a model.\n",
      " |              This should be a :class:`flax.linen.Module` instance, or any other supported\n",
      " |              neural network framework. If not provided, you must specify init_fun and apply_fun.\n",
      " |          n_samples: the total number of samples across chains and processes when sampling (default=1000).\n",
      " |          n_samples_per_rank: the total number of samples across chains on one process when sampling. Cannot be\n",
      " |              specified together with n_samples (default=None).\n",
      " |          n_discard_per_chain: number of discarded samples at the beginning of each monte-carlo chain (default=5, except for\n",
      " |              'direct' samplers where it is 0).\n",
      " |          seed: rng seed used to generate a set of parameters (only if parameters is not passed). Defaults to a random one.\n",
      " |          sampler_seed: rng seed used to initialise the sampler. Defaults to a random one.\n",
      " |          mutable: Name or list of names of mutable arguments. Use it to specify if the model has a state that can change\n",
      " |              during evaluation, but that should not be optimised. See also :meth:`flax.linen.Module.apply` documentation\n",
      " |              (default=False)\n",
      " |          init_fun: Function of the signature f(model, shape, rng_key, dtype) -> Optional_state, parameters used to\n",
      " |              initialise the parameters. Defaults to the standard flax initialiser. Only specify if your network has\n",
      " |              a non-standard init method.\n",
      " |          variables: Optional initial value for the variables (parameters and model state) of the model.\n",
      " |          apply_fun: Function of the signature f(model, variables, σ) that should evaluate the model. Defaults to\n",
      " |              `model.apply(variables, σ)`. specify only if your network has a non-standard apply method.\n",
      " |          training_kwargs: a dict containing the optional keyword arguments to be passed to the apply_fun during training.\n",
      " |              Useful for example when you have a batchnorm layer that constructs the average/mean only during training.\n",
      " |          chunk_size: (Defaults to `None`) If specified, calculations are split into chunks where the neural network\n",
      " |              is evaluated at most on :code:`chunk_size` samples at once. This does not change the mathematical results,\n",
      " |              but will trade a higher computational cost for lower memory cost.\n",
      " |\n",
      " |  __repr__(self)\n",
      " |      Return repr(self).\n",
      " |\n",
      " |  __str__(self)\n",
      " |      Return str(self).\n",
      " |\n",
      " |  expect(self, O: netket.operator._abstract_operator.AbstractOperator) -> netket.stats.mc_stats.Stats\n",
      " |      Estimates the quantum expectation value for a given operator\n",
      " |      :math:`O` or generic observable.\n",
      " |      In the case of a pure state :math:`\\psi` and an operator, this is\n",
      " |      :math:`\\langle O\\rangle= \\langle \\Psi|O|\\Psi\\rangle/\\langle\\Psi|\\Psi\\rangle`\n",
      " |      otherwise for a  mixed state :math:`\\rho`, this is\n",
      " |      :math:`\\langle O\\rangle= \\textrm{Tr}[\\rho \\hat{O}]/\\textrm{Tr}[\\rho]`.\n",
      " |\n",
      " |      Args:\n",
      " |          O: the operator or observable for which to compute the expectation\n",
      " |              value.\n",
      " |\n",
      " |      Returns:\n",
      " |          An estimation of the quantum expectation value\n",
      " |          :math:`\\langle O\\rangle`.\n",
      " |\n",
      " |  expect_and_forces(self, O: netket.operator._abstract_operator.AbstractOperator, *, mutable: Union[bool, str, Collection[str], ForwardRef('DenyList'), NoneType] = None) -> tuple[netket.stats.mc_stats.Stats, typing.Any]\n",
      " |      Estimates the quantum expectation value and the corresponding force\n",
      " |      vector for a given operator O.\n",
      " |\n",
      " |      The force vector :math:`F_j` is defined as the covariance of log-derivative\n",
      " |      of the trial wave function and the local estimators of the operator. For complex\n",
      " |      holomorphic states, this is equivalent to the expectation gradient\n",
      " |      :math:`\\frac{\\partial\\langle O\\rangle}{\\partial(\\theta_j)^\\star} = F_j`. For real-parameter states,\n",
      " |      the gradient is given by :math:`\\frac{\\partial\\partial_j\\langle O\\rangle}{\\partial\\partial_j\\theta_j} = 2 \\textrm{Re}[F_j]`.\n",
      " |\n",
      " |      Args:\n",
      " |          O: The operator O for which expectation value and force are computed.\n",
      " |          mutable: Can be bool, str, or list. Specifies which collections in\n",
      " |              the model_state should be treated as  mutable: bool: all/no\n",
      " |              collections are mutable. str: The name of a single mutable\n",
      " |              collection. list: A list of names of mutable collections. This is\n",
      " |              used to mutate the state of the model while you train it (for\n",
      " |              example to implement BatchNorm. Consult\n",
      " |              `Flax's Module.apply documentation <https://flax.readthedocs.io/en/latest/_modules/flax/linen/module.html#Module.apply>`_\n",
      " |              for a more in-depth explanation).\n",
      " |\n",
      " |      Returns:\n",
      " |          An estimate of the quantum expectation value <O>.\n",
      " |          An estimate of the force vector\n",
      " |          :math:`F_j = \\textrm{Cov}[\\partial_j\\log\\psi, O_{\\textrm{loc}}]`.\n",
      " |\n",
      " |  expect_and_grad(self, O: netket.operator._abstract_operator.AbstractOperator, *, mutable: Union[bool, str, Collection[str], ForwardRef('DenyList'), NoneType] = None, **kwargs) -> tuple[netket.stats.mc_stats.Stats, typing.Any]\n",
      " |      Estimates the quantum expectation value and its gradient\n",
      " |      for a given operator :math:`O`.\n",
      " |\n",
      " |      Args:\n",
      " |          O: The operator :math:`O` for which expectation value and\n",
      " |              gradient are computed.\n",
      " |          mutable: Can be bool, str, or list. Specifies which collections in the\n",
      " |                   model_state should be treated as  mutable: bool: all/no collections\n",
      " |                   are mutable. str: The name of a single mutable  collection. list: A\n",
      " |                   list of names of mutable collections. This is used to mutate the state\n",
      " |                   of the model while you train it (for example to implement BatchNorm. Consult\n",
      " |                   `Flax's Module.apply documentation <https://flax.readthedocs.io/en/latest/_modules/flax/linen/module.html#Module.apply>`_\n",
      " |                   for a more in-depth explanation).\n",
      " |          use_covariance: whether to use the covariance formula, usually reserved for\n",
      " |              hermitian operators,\n",
      " |              :math:`\\textrm{Cov}[\\partial\\log\\psi, O_{\\textrm{loc}}\\rangle]`\n",
      " |\n",
      " |      Returns:\n",
      " |          An estimate of the quantum expectation value <O>.\n",
      " |          An estimate of the gradient of the quantum expectation value <O>.\n",
      " |\n",
      " |  init(self, seed=None, dtype=None)\n",
      " |      Initialises the variational parameters of the variational state.\n",
      " |\n",
      " |  local_estimators(self, op: netket.operator._abstract_operator.AbstractOperator, *, chunk_size: Optional[int] = None)\n",
      " |      Compute the local estimators for the operator :code:`op` (also known as local energies\n",
      " |      when :code:`op` is the Hamiltonian) at the current configuration samples :code:`self.samples`.\n",
      " |\n",
      " |      .. math::\n",
      " |\n",
      " |          O_\\mathrm{loc}(s) = \\frac{\\langle s | \\mathtt{op} | \\psi \\rangle}{\\langle s | \\psi \\rangle}\n",
      " |\n",
      " |      .. warning::\n",
      " |\n",
      " |          The samples differ between MPI processes, so returned the local estimators will\n",
      " |          also take different values on each process. To compute sample averages and similar\n",
      " |          quantities, you will need to perform explicit operations over all MPI ranks.\n",
      " |          (Use functions like :code:`self.expect` to get process-independent quantities without\n",
      " |          manual reductions.)\n",
      " |\n",
      " |      Args:\n",
      " |          op: The operator.\n",
      " |          chunk_size: Suggested maximum size of the chunks used in forward and backward evaluations\n",
      " |              of the model. (Default: :code:`self.chunk_size`)\n",
      " |\n",
      " |  log_value(self, σ: jax.Array) -> jax.Array\n",
      " |      Evaluate the variational state for a batch of states and returns\n",
      " |      the logarithm of the amplitude of the quantum state.\n",
      " |\n",
      " |      For pure states,\n",
      " |      this is :math:`\\log(\\langle\\sigma|\\psi\\rangle)`, whereas for mixed states\n",
      " |      this is :math:`\\log(\\langle\\sigma_r|\\rho|\\sigma_c\\rangle)`, where\n",
      " |      :math:`\\psi` and :math:`\\rho` are respectively a pure state\n",
      " |      (wavefunction) and a mixed state (density matrix).\n",
      " |      For the density matrix, the left and right-acting states (row and column)\n",
      " |      are obtained as :code:`σr=σ[::,0:N]` and :code:`σc=σ[::,N:]`.\n",
      " |\n",
      " |      Given a batch of inputs :code:`(Nb, N)`, returns a batch of outputs\n",
      " |      :code:`(Nb,)`.\n",
      " |\n",
      " |  quantum_geometric_tensor(self, qgt_T: Optional[netket.optimizer.linear_operator.LinearOperator] = None) -> netket.optimizer.linear_operator.LinearOperator\n",
      " |      Computes an estimate of the quantum geometric tensor G_ij.\n",
      " |      This function returns a linear operator that can be used to apply G_ij to a given vector\n",
      " |      or can be converted to a full matrix.\n",
      " |\n",
      " |      Args:\n",
      " |          qgt_T: the optional type of the quantum geometric tensor. By default it's automatically selected.\n",
      " |\n",
      " |\n",
      " |      Returns:\n",
      " |          nk.optimizer.LinearOperator: A linear operator representing the quantum geometric tensor.\n",
      " |\n",
      " |  reset(self)\n",
      " |      Resets the sampled states. This method is called automatically every time\n",
      " |      that the parameters/state is updated.\n",
      " |\n",
      " |  sample(self, *, chain_length: Optional[int] = None, n_samples: Optional[int] = None, n_discard_per_chain: Optional[int] = None) -> jax.Array\n",
      " |      Sample a certain number of configurations.\n",
      " |\n",
      " |      If one among chain_length or n_samples is defined, that number of samples\n",
      " |      are generated. Otherwise the value set internally is used.\n",
      " |\n",
      " |      Args:\n",
      " |          chain_length: The length of the markov chains.\n",
      " |          n_samples: The total number of samples across all MPI ranks.\n",
      " |          n_discard_per_chain: Number of discarded samples at the beginning of the markov chain.\n",
      " |\n",
      " |  to_array(self, normalize: bool = True) -> jax.Array\n",
      " |      Returns the dense-vector representation of this state.\n",
      " |\n",
      " |      Args:\n",
      " |          normalize: If True, the vector is normalized to have L2-norm 1.\n",
      " |\n",
      " |      Returns:\n",
      " |          An exponentially large vector representing the state in the computational\n",
      " |          basis.\n",
      " |\n",
      " |  ----------------------------------------------------------------------\n",
      " |  Readonly properties defined here:\n",
      " |\n",
      " |  model\n",
      " |      Returns the model definition of this variational state.\n",
      " |\n",
      " |  samples\n",
      " |      Returns the set of cached samples.\n",
      " |\n",
      " |      The samples returned are guaranteed valid for the current state of\n",
      " |      the variational state. If no cached parameters are available, then\n",
      " |      they are sampled first and then cached.\n",
      " |\n",
      " |      To obtain a new set of samples either use\n",
      " |      :meth:`~MCState.reset` or :meth:`~MCState.sample`.\n",
      " |\n",
      " |  ----------------------------------------------------------------------\n",
      " |  Data descriptors defined here:\n",
      " |\n",
      " |  chain_length\n",
      " |      Length of the markov chain used for sampling configurations.\n",
      " |\n",
      " |      If running under MPI, the total samples will be n_nodes * chain_length * n_batches.\n",
      " |\n",
      " |  chunk_size\n",
      " |      Suggested *maximum size* of the chunks used in forward and backward evaluations\n",
      " |      of the Neural Network model.\n",
      " |\n",
      " |      If your inputs are smaller than the chunk size this setting is ignored.\n",
      " |\n",
      " |      This can be used to lower the memory required to run a computation with a very\n",
      " |      high number of samples or on a very large lattice. Notice that inputs and\n",
      " |      outputs must still fit in memory, but the intermediate computations will now\n",
      " |      require less memory.\n",
      " |\n",
      " |      This option comes at an increased computational cost. While this cost should\n",
      " |      be negligible for large-enough chunk sizes, don't use it unless you are memory\n",
      " |      bound!\n",
      " |\n",
      " |      This option is an hint: only some operations support chunking. If you perform\n",
      " |      an operation that is not implemented with chunking support, it will fall back\n",
      " |      to no chunking. To check if this happened, set the environment variable\n",
      " |      `NETKET_DEBUG=1`.\n",
      " |\n",
      " |  n_discard_per_chain\n",
      " |      Number of discarded samples at the beginning of the markov chain.\n",
      " |\n",
      " |  n_samples\n",
      " |      The total number of samples generated at every sampling step.\n",
      " |\n",
      " |  n_samples_per_rank\n",
      " |      The number of samples generated on every jax device or MPI rank\n",
      " |      at every sampling step.\n",
      " |\n",
      " |  sampler\n",
      " |      The Monte Carlo sampler used by this Monte Carlo variational state.\n",
      " |\n",
      " |  ----------------------------------------------------------------------\n",
      " |  Data and other attributes defined here:\n",
      " |\n",
      " |  __abstractmethods__ = frozenset()\n",
      " |\n",
      " |  __annotations__ = {'_apply_fun': typing.Callable, '_chain_length': <cl...\n",
      " |\n",
      " |  ----------------------------------------------------------------------\n",
      " |  Methods inherited from netket.vqs.base.VariationalState:\n",
      " |\n",
      " |  grad(self, Ô, *, use_covariance: Optional[bool] = None, mutable: Union[bool, str, Collection[str], ForwardRef('DenyList'), NoneType] = None) -> Any\n",
      " |      Estimates the gradient of the quantum expectation value of a given operator O.\n",
      " |\n",
      " |      Args:\n",
      " |          op (netket.operator.AbstractOperator): the operator O.\n",
      " |          is_hermitian: optional override for whether to use or not the hermitian logic. By default\n",
      " |              it's automatically detected.\n",
      " |\n",
      " |      Returns:\n",
      " |          array: An estimation of the average gradient of the quantum expectation value <O>.\n",
      " |\n",
      " |  init_parameters(self, init_fun: Optional[Callable[[Any, collections.abc.Sequence[int], Any], Union[numpy.ndarray, jax.Array]]] = None, *, seed: Optional[Any] = None)\n",
      " |      Re-initializes all the parameters with the provided initialization function,\n",
      " |      defaulting to the normal distribution of standard deviation 0.01.\n",
      " |\n",
      " |      .. warning::\n",
      " |\n",
      " |          The init function will not change the dtype of the parameters, which is\n",
      " |          determined by the model. DO NOT SPECIFY IT INSIDE THE INIT FUNCTION\n",
      " |\n",
      " |      Args:\n",
      " |          init_fun: a jax initializer such as :func:`jax.nn.initializers.normal`.\n",
      " |              Must be a Callable taking 3 inputs, the jax PRNG key, the shape and the\n",
      " |              dtype, and outputting an array with the valid dtype and shape. If left\n",
      " |              unspecified, defaults to :code:`jax.nn.initializers.normal(stddev=0.01)`\n",
      " |          seed: Optional seed to be used. The seed is synced across all MPI processes.\n",
      " |              If unspecified, uses a random seed.\n",
      " |\n",
      " |  to_qobj(self)\n",
      " |      Convert the variational state to a qutip's ket Qobj.\n",
      " |\n",
      " |      Returns:\n",
      " |          A :class:`qutip.Qobj` object.\n",
      " |\n",
      " |  ----------------------------------------------------------------------\n",
      " |  Readonly properties inherited from netket.vqs.base.VariationalState:\n",
      " |\n",
      " |  hilbert\n",
      " |      The descriptor of the Hilbert space\n",
      " |      on which this variational state is defined.\n",
      " |\n",
      " |  n_parameters\n",
      " |      The total number of parameters in the model.\n",
      " |\n",
      " |  ----------------------------------------------------------------------\n",
      " |  Data descriptors inherited from netket.vqs.base.VariationalState:\n",
      " |\n",
      " |  __dict__\n",
      " |      dictionary for instance variables\n",
      " |\n",
      " |  __weakref__\n",
      " |      list of weak references to the object\n",
      " |\n",
      " |  model_state\n",
      " |      The optional pytree with the mutable state of the model.\n",
      " |\n",
      " |  parameters\n",
      " |      The pytree of the parameters of the model.\n",
      " |\n",
      " |  variables\n",
      " |      The PyTree containing the parameters and state of the model,\n",
      " |      used when evaluating it.\n",
      "\n"
     ]
    }
   ],
   "source": [
    "help(nk.vqs.MCState)"
   ]
  },
  {
   "cell_type": "code",
   "execution_count": null,
   "metadata": {},
   "outputs": [],
   "source": []
  }
 ],
 "metadata": {
  "kernelspec": {
   "display_name": "netket",
   "language": "python",
   "name": "python3"
  },
  "language_info": {
   "codemirror_mode": {
    "name": "ipython",
    "version": 3
   },
   "file_extension": ".py",
   "mimetype": "text/x-python",
   "name": "python",
   "nbconvert_exporter": "python",
   "pygments_lexer": "ipython3",
   "version": "3.12.4"
  }
 },
 "nbformat": 4,
 "nbformat_minor": 2
}
