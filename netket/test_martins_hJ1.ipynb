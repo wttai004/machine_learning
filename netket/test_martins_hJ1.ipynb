{
 "cells": [
  {
   "cell_type": "code",
   "execution_count": 1,
   "metadata": {},
   "outputs": [],
   "source": [
    "import sys, os\n",
    "sys.path.append(os.path.expanduser('~') + '/repos/pyQSYS/build/qsys')\n",
    "from pyQSYS import *\n",
    "import scipy.sparse.linalg"
   ]
  },
  {
   "cell_type": "code",
   "execution_count": 2,
   "metadata": {},
   "outputs": [
    {
     "data": {
      "text/plain": [
       "[[0.0, 0.0],\n",
       " [-3.141592653589793, 0.0],\n",
       " [-1.5707963267948966, 1.5707963267948966],\n",
       " [0.0, 3.141592653589793],\n",
       " [-4.71238898038469, 1.5707963267948966],\n",
       " [-3.141592653589793, 3.141592653589793],\n",
       " [-1.5707963267948966, 4.71238898038469],\n",
       " [-4.71238898038469, 4.71238898038469]]"
      ]
     },
     "execution_count": 2,
     "metadata": {},
     "output_type": "execute_result"
    }
   ],
   "source": [
    "model = RealSpaceFermions(clusterName=\"square_8d2\")\n",
    "[model.momentum[i].k for i in range(len(model.momentum))]"
   ]
  },
  {
   "cell_type": "code",
   "execution_count": 2,
   "metadata": {},
   "outputs": [],
   "source": [
    "model = SpinHalf(clusterName = \"square_16q0\")\n",
    "#model = SpinHalf(clusterName = \"square_4d0\")\n",
    "H_Op = Operator()\n",
    "statemap = model.createStateMap()\n",
    "\n",
    "h_field = 0.6\n",
    "J = 1\n",
    "\n",
    "for site in model.sites:\n",
    "    H_Op += 2 * h_field * Sz_(site)\n",
    "\n",
    "for site in model.sites:\n",
    "    H_Op += 4 * J * (SdotS_(site, site + [1,0]) + SdotS_(site, site + [0,1]))\n",
    "\n",
    "Ham = Matrix('double', H_Op, model, statemap)\n"
   ]
  },
  {
   "cell_type": "code",
   "execution_count": 3,
   "metadata": {},
   "outputs": [
    {
     "data": {
      "text/plain": [
       "array([-44.91393283])"
      ]
     },
     "execution_count": 3,
     "metadata": {},
     "output_type": "execute_result"
    }
   ],
   "source": [
    "evals, evecs = scipy.sparse.linalg.eigsh(Ham, k = 1, which = \"SA\")\n",
    "gs = evecs[:,0]\n",
    "evals"
   ]
  },
  {
   "cell_type": "code",
   "execution_count": 5,
   "metadata": {},
   "outputs": [
    {
     "name": "stdout",
     "output_type": "stream",
     "text": [
      "The exact value of <Sz> is  -2.0526707686921604e-28\n",
      "The exact value of <SzSz> is  -14.97131094457182\n"
     ]
    }
   ],
   "source": [
    "Szs_Op = 2 *sum([Sz_(i) for i in model.sites])\n",
    "Szcorr_Op =4 * sum([Sz_(i)*Sz_(i + [1,0])+Sz_(i)*Sz_(i + [0,1]) for (i) in model.sites])\n",
    "\n",
    "\n",
    "Szs = CSRMatrix('double', Szs_Op, model, statemap)\n",
    "Szcorr = CSRMatrix('double', Szcorr_Op, model, statemap)\n",
    "\n",
    "print(\"The exact value of <Sz> is \", gs @ (Szs @ gs))\n",
    "print(\"The exact value of <SzSz> is \", gs @ (Szcorr @ gs))"
   ]
  },
  {
   "cell_type": "code",
   "execution_count": 46,
   "metadata": {},
   "outputs": [
    {
     "data": {
      "text/plain": [
       "14.971310944571801"
      ]
     },
     "execution_count": 46,
     "metadata": {},
     "output_type": "execute_result"
    }
   ],
   "source": []
  },
  {
   "cell_type": "code",
   "execution_count": null,
   "metadata": {},
   "outputs": [],
   "source": []
  },
  {
   "cell_type": "code",
   "execution_count": 10,
   "metadata": {},
   "outputs": [
    {
     "data": {
      "text/plain": [
       "array([22.56])"
      ]
     },
     "execution_count": 10,
     "metadata": {},
     "output_type": "execute_result"
    }
   ],
   "source": []
  }
 ],
 "metadata": {
  "kernelspec": {
   "display_name": "pyqsys",
   "language": "python",
   "name": "python3"
  },
  "language_info": {
   "codemirror_mode": {
    "name": "ipython",
    "version": 3
   },
   "file_extension": ".py",
   "mimetype": "text/x-python",
   "name": "python",
   "nbconvert_exporter": "python",
   "pygments_lexer": "ipython3",
   "version": "3.8.17"
  }
 },
 "nbformat": 4,
 "nbformat_minor": 2
}
