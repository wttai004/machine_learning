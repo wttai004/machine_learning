{
 "cells": [
  {
   "cell_type": "code",
   "execution_count": 4,
   "metadata": {},
   "outputs": [],
   "source": [
    "import sys, os\n",
    "sys.path.append(os.path.expanduser('~') + '/repos/pyQSYS/build/qsys')\n",
    "from pyQSYS import *\n",
    "import scipy.sparse.linalg"
   ]
  },
  {
   "cell_type": "code",
   "execution_count": 5,
   "metadata": {},
   "outputs": [
    {
     "data": {
      "text/plain": [
       "[[0.0, 0.0],\n",
       " [-3.141592653589793, 0.0],\n",
       " [-1.5707963267948966, 1.5707963267948966],\n",
       " [0.0, 3.141592653589793],\n",
       " [-4.71238898038469, 1.5707963267948966],\n",
       " [-3.141592653589793, 3.141592653589793],\n",
       " [-1.5707963267948966, 4.71238898038469],\n",
       " [-4.71238898038469, 4.71238898038469]]"
      ]
     },
     "execution_count": 5,
     "metadata": {},
     "output_type": "execute_result"
    }
   ],
   "source": [
    "model = RealSpaceFermions(clusterName=\"square_8d2\")\n",
    "[model.momentum[i].k for i in range(len(model.momentum))]"
   ]
  },
  {
   "cell_type": "code",
   "execution_count": 6,
   "metadata": {},
   "outputs": [],
   "source": [
    "model = SpinHalf(clusterName = \"square_16q0\")\n",
    "#model = SpinHalf(clusterName = \"square_4d0\")\n",
    "H_Op = Operator()\n",
    "statemap = model.createStateMap()\n",
    "\n",
    "h_field = 0.6\n",
    "J = 1\n",
    "\n",
    "for site in model.sites:\n",
    "    H_Op += 2 * h_field * Sz_(site)\n",
    "\n",
    "for site in model.sites:\n",
    "    H_Op += 4 * J * (SdotS_(site, site + [1,0]) + SdotS_(site, site + [0,1]))\n",
    "\n",
    "Ham = Matrix('double', H_Op, model, statemap)\n"
   ]
  },
  {
   "cell_type": "code",
   "execution_count": 9,
   "metadata": {},
   "outputs": [],
   "source": [
    "Ham_CSR = CSRMatrix('cdouble', H_Op, model, statemap)"
   ]
  },
  {
   "cell_type": "code",
   "execution_count": 12,
   "metadata": {},
   "outputs": [
    {
     "data": {
      "text/plain": [
       "<65536x65536 sparse matrix of type '<class 'numpy.complex128'>'\n",
       "\twith 1109756 stored elements in Compressed Sparse Column format>"
      ]
     },
     "execution_count": 12,
     "metadata": {},
     "output_type": "execute_result"
    }
   ],
   "source": [
    "Ham_CSR.conjugate().T"
   ]
  },
  {
   "cell_type": "code",
   "execution_count": 8,
   "metadata": {},
   "outputs": [
    {
     "name": "stdout",
     "output_type": "stream",
     "text": [
      "Help on SparseMatrix in module pyQSYS object:\n",
      "\n",
      "class SparseMatrix(pybind11_builtins.pybind11_object)\n",
      " |  Efficient sparse-matrix interface\n",
      " |  \n",
      " |  Method resolution order:\n",
      " |      SparseMatrix\n",
      " |      pybind11_builtins.pybind11_object\n",
      " |      builtins.object\n",
      " |  \n",
      " |  Methods defined here:\n",
      " |  \n",
      " |  __init__(self, /, *args, **kwargs)\n",
      " |      Initialize self.  See help(type(self)) for accurate signature.\n",
      " |  \n",
      " |  __repr__(...)\n",
      " |      __repr__(self: pyQSYS.SparseMatrix) -> str\n",
      " |  \n",
      " |  __str__(...)\n",
      " |      __str__(self: pyQSYS.SparseMatrix) -> str\n",
      " |  \n",
      " |  dot(...)\n",
      " |      dot(*args, **kwargs)\n",
      " |      Overloaded function.\n",
      " |      \n",
      " |      1. dot(self: pyQSYS.SparseMatrix, arg0: numpy.ndarray[numpy.float64[m, 1]]) -> Union[numpy.ndarray[numpy.float64[m, 1]], numpy.ndarray[numpy.complex128[m, 1]]]\n",
      " |      \n",
      " |      Calculate a matrix-vector product.\n",
      " |      \n",
      " |      2. dot(self: pyQSYS.SparseMatrix, arg0: numpy.ndarray[numpy.complex128[m, 1]]) -> numpy.ndarray[numpy.complex128[m, 1]]\n",
      " |      \n",
      " |      Calculate a matrix-vector product.\n",
      " |      \n",
      " |      3. dot(self: pyQSYS.SparseMatrix, arg0: numpy.ndarray[numpy.float64[m, n], flags.c_contiguous]) -> Union[numpy.ndarray[numpy.float64[m, n]], numpy.ndarray[numpy.complex128[m, n]]]\n",
      " |      \n",
      " |      Calculate a matrix * dense-matrix product.\n",
      " |      \n",
      " |      4. dot(self: pyQSYS.SparseMatrix, arg0: numpy.ndarray[numpy.complex128[m, n], flags.c_contiguous]) -> numpy.ndarray[numpy.complex128[m, n]]\n",
      " |      \n",
      " |      Calculate a matrix * dense-matrix product.\n",
      " |      \n",
      " |      5. dot(self: pyQSYS.SparseMatrix, arg0: numpy.ndarray[numpy.float64[m, n], flags.f_contiguous]) -> None\n",
      " |      \n",
      " |      6. dot(self: pyQSYS.SparseMatrix, arg0: numpy.ndarray[numpy.complex128[m, n], flags.f_contiguous]) -> None\n",
      " |  \n",
      " |  getCSRdata(...)\n",
      " |      getCSRdata(self: pyQSYS.SparseMatrix) -> tuple[list[int], list[int], Union[list[float], list[float], list[complex], list[complex]]]\n",
      " |  \n",
      " |  load(...)\n",
      " |      load(self: pyQSYS.SparseMatrix, filename: str, options: dict[str, Union[str, int, float, bool, list[float]]] = {}) -> None\n",
      " |      \n",
      " |      Load the matrix from a binary file.\n",
      " |  \n",
      " |  matvec(...)\n",
      " |      matvec(*args, **kwargs)\n",
      " |      Overloaded function.\n",
      " |      \n",
      " |      1. matvec(self: pyQSYS.SparseMatrix, arg0: numpy.ndarray[numpy.float64[m, 1]]) -> Union[numpy.ndarray[numpy.float64[m, 1]], numpy.ndarray[numpy.complex128[m, 1]]]\n",
      " |      \n",
      " |      Calculate a matrix-vector product.\n",
      " |      \n",
      " |      2. matvec(self: pyQSYS.SparseMatrix, arg0: numpy.ndarray[numpy.complex128[m, 1]]) -> numpy.ndarray[numpy.complex128[m, 1]]\n",
      " |      \n",
      " |      Calculate a matrix-vector product.\n",
      " |  \n",
      " |  norm(...)\n",
      " |      norm(self: pyQSYS.SparseMatrix) -> float\n",
      " |      \n",
      " |      Get the squared Frobenius norm.\n",
      " |  \n",
      " |  save(...)\n",
      " |      save(self: pyQSYS.SparseMatrix, filename: str, options: dict[str, Union[str, int, float, bool, list[float]]] = {}) -> None\n",
      " |      \n",
      " |      Save the matrix to a binary file.\n",
      " |  \n",
      " |  todense(...)\n",
      " |      todense(self: pyQSYS.SparseMatrix) -> Union[numpy.ndarray[numpy.float64[m, n]], numpy.ndarray[numpy.complex128[m, n]]]\n",
      " |  \n",
      " |  ----------------------------------------------------------------------\n",
      " |  Readonly properties defined here:\n",
      " |  \n",
      " |  cols\n",
      " |      Get the number of columns.\n",
      " |  \n",
      " |  dtype\n",
      " |  \n",
      " |  isCSR\n",
      " |      Return whether this sparse matrix is internally represented in compressed sparse row format.\n",
      " |  \n",
      " |  isComplex\n",
      " |      Return whether matrix is complex-valued.\n",
      " |  \n",
      " |  isHermitian\n",
      " |      Return whether matrix is expected to be Hermitian. If true, only the upper triangular part is used for computations.\n",
      " |  \n",
      " |  rows\n",
      " |      Get the number of rows.\n",
      " |  \n",
      " |  shape\n",
      " |      Get the matrix shape.\n",
      " |  \n",
      " |  totalMemoryUsed\n",
      " |      Get the total memory used by the sparse matrix, in bytes.\n",
      " |  \n",
      " |  totalNonzeros\n",
      " |      Get the total number of non-zero entries. This function may return an estimate for certain matrix types.\n",
      " |  \n",
      " |  ----------------------------------------------------------------------\n",
      " |  Data descriptors defined here:\n",
      " |  \n",
      " |  __dict__\n",
      " |  \n",
      " |  ----------------------------------------------------------------------\n",
      " |  Static methods inherited from pybind11_builtins.pybind11_object:\n",
      " |  \n",
      " |  __new__(*args, **kwargs) from pybind11_builtins.pybind11_type\n",
      " |      Create and return a new object.  See help(type) for accurate signature.\n",
      "\n"
     ]
    }
   ],
   "source": [
    "help(Ham)"
   ]
  },
  {
   "cell_type": "code",
   "execution_count": 42,
   "metadata": {},
   "outputs": [
    {
     "data": {
      "text/plain": [
       "array([-44.91393283])"
      ]
     },
     "execution_count": 42,
     "metadata": {},
     "output_type": "execute_result"
    }
   ],
   "source": [
    "evals, evecs = scipy.sparse.linalg.eigsh(Ham, k = 1, which = \"SA\")\n",
    "gs = evecs[:,0]\n",
    "evals"
   ]
  },
  {
   "cell_type": "code",
   "execution_count": 45,
   "metadata": {},
   "outputs": [
    {
     "name": "stdout",
     "output_type": "stream",
     "text": [
      "The exact value of <Sz> is  -6.420709171343364e-32\n",
      "The exact value of <SzSz> is  -3.7428277361429503\n"
     ]
    }
   ],
   "source": [
    "Szs_Op = 2 *sum([Sz_(i) for i in model.sites])\n",
    "Szcorr_Op =4 * sum([Sz_(i)*Sz_(i + [1,0])+Sz_(i)*Sz_(i + [0,1]) for (i) in model.sites])\n",
    "\n",
    "\n",
    "Szs = CSRMatrix('double', Szs_Op, model, statemap)\n",
    "Szcorr = CSRMatrix('double', Szcorr_Op, model, statemap)\n",
    "\n",
    "print(\"The exact value of <Sz> is \", gs @ (Szs @ gs))\n",
    "print(\"The exact value of <SzSz> is \", gs @ (Szcorr @ gs))"
   ]
  },
  {
   "cell_type": "code",
   "execution_count": 46,
   "metadata": {},
   "outputs": [
    {
     "data": {
      "text/plain": [
       "14.971310944571801"
      ]
     },
     "execution_count": 46,
     "metadata": {},
     "output_type": "execute_result"
    }
   ],
   "source": [
    "3.7428277361429503*4"
   ]
  },
  {
   "cell_type": "code",
   "execution_count": null,
   "metadata": {},
   "outputs": [],
   "source": []
  },
  {
   "cell_type": "code",
   "execution_count": 10,
   "metadata": {},
   "outputs": [
    {
     "data": {
      "text/plain": [
       "array([22.56])"
      ]
     },
     "execution_count": 10,
     "metadata": {},
     "output_type": "execute_result"
    }
   ],
   "source": []
  }
 ],
 "metadata": {
  "kernelspec": {
   "display_name": "pyqsys",
   "language": "python",
   "name": "python3"
  },
  "language_info": {
   "codemirror_mode": {
    "name": "ipython",
    "version": 3
   },
   "file_extension": ".py",
   "mimetype": "text/x-python",
   "name": "python",
   "nbconvert_exporter": "python",
   "pygments_lexer": "ipython3",
   "version": "3.8.17"
  }
 },
 "nbformat": 4,
 "nbformat_minor": 2
}
