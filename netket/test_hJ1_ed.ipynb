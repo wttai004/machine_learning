{
 "cells": [
  {
   "cell_type": "code",
   "execution_count": 6,
   "metadata": {},
   "outputs": [],
   "source": [
    "import numpy as np\n",
    "import netket as nk"
   ]
  },
  {
   "cell_type": "code",
   "execution_count": 22,
   "metadata": {},
   "outputs": [],
   "source": [
    "L = 4\n",
    "graph = nk.graph.Hypercube(length=L, n_dim=2, pbc=False)\n",
    "\n",
    "# Define the Hilbert space based on this graph\n",
    "hi = nk.hilbert.Spin(s=0.5, N=graph.n_nodes)\n",
    "\n",
    "# Define the Sz and SzSz operators\n",
    "Szs = sum([nk.operator.spin.sigmaz(hi, i) for i in range(hi.size)])/hi.size\n",
    "Szcorr = sum([nk.operator.spin.sigmaz(hi, i) * nk.operator.spin.sigmaz(hi, j) for (i, j) in graph.edges()])/len(graph.edges())\n",
    "\n",
    "\n",
    "# Function to create the B-field Hamiltonian\n",
    "def create_hfield_hamiltonian(hilbert, hfield):\n",
    "    return sum([hfield * nk.operator.spin.sigmaz(hilbert, i) for i in range(hilbert.size)])\n",
    "\n",
    "# Define the Heisenberg Hamiltonian\n",
    "ha_heisenberg = nk.operator.Heisenberg(hilbert=hi, graph=graph)\n",
    "\n",
    "# Function to compute ground-state energy and expectation values\n",
    "def compute_expectation_values(hfield):\n",
    "    # Create the total Hamiltonian\n",
    "    ha_hfield = create_hfield_hamiltonian(hi, hfield)\n",
    "    ha = ha_heisenberg + ha_hfield\n",
    "    \n",
    "    # Compute the ground-state energy and wavefunction\n",
    "    evals, evecs = nk.exact.lanczos_ed(ha, k=1, compute_eigenvectors=True)\n",
    "    exact_gs_energy = evals[0]\n",
    "    gs = evecs[:, 0]\n",
    "    \n",
    "    # Compute the expectation values\n",
    "    Sz_expectation = gs @ (Szs @ gs)\n",
    "    SzSz_expectation = gs @ (Szcorr @ gs)\n",
    "    \n",
    "    return exact_gs_energy, Sz_expectation, SzSz_expectation"
   ]
  },
  {
   "cell_type": "code",
   "execution_count": 25,
   "metadata": {},
   "outputs": [
    {
     "data": {
      "text/plain": [
       "(-36.75682826077182, -9.691512892340456e-30, -0.5105115036218305)"
      ]
     },
     "execution_count": 25,
     "metadata": {},
     "output_type": "execute_result"
    }
   ],
   "source": [
    "compute_expectation_values(0.6)"
   ]
  },
  {
   "cell_type": "code",
   "execution_count": null,
   "metadata": {},
   "outputs": [],
   "source": []
  }
 ],
 "metadata": {
  "kernelspec": {
   "display_name": "pyqsys",
   "language": "python",
   "name": "python3"
  },
  "language_info": {
   "codemirror_mode": {
    "name": "ipython",
    "version": 3
   },
   "file_extension": ".py",
   "mimetype": "text/x-python",
   "name": "python",
   "nbconvert_exporter": "python",
   "pygments_lexer": "ipython3",
   "version": "3.12.4"
  }
 },
 "nbformat": 4,
 "nbformat_minor": 2
}
