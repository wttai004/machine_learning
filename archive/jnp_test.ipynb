{
 "cells": [
  {
   "cell_type": "code",
   "execution_count": 1,
   "metadata": {},
   "outputs": [
    {
     "ename": "TypeError",
     "evalue": "Cannot interpret value of type <class 'jaxlib.xla_extension.PjitFunction'> as an abstract array; it does not have a dtype attribute",
     "output_type": "error",
     "traceback": [
      "\u001b[0;31m---------------------------------------------------------------------------\u001b[0m",
      "\u001b[0;31mTypeError\u001b[0m                                 Traceback (most recent call last)",
      "Cell \u001b[0;32mIn[1], line 45\u001b[0m\n\u001b[1;32m     42\u001b[0m target_log_prob \u001b[38;5;241m=\u001b[39m jit(\u001b[38;5;28;01mlambda\u001b[39;00m x: \u001b[38;5;241m-\u001b[39m\u001b[38;5;241m0.5\u001b[39m \u001b[38;5;241m*\u001b[39m x \u001b[38;5;241m*\u001b[39m\u001b[38;5;241m*\u001b[39m \u001b[38;5;241m2\u001b[39m)\n\u001b[1;32m     44\u001b[0m \u001b[38;5;66;03m# Run the Metropolis sampler\u001b[39;00m\n\u001b[0;32m---> 45\u001b[0m samples \u001b[38;5;241m=\u001b[39m \u001b[43mrun_metropolis\u001b[49m\u001b[43m(\u001b[49m\u001b[43mkey\u001b[49m\u001b[43m,\u001b[49m\u001b[43m \u001b[49m\u001b[43mx0\u001b[49m\u001b[43m,\u001b[49m\u001b[43m \u001b[49m\u001b[43mtarget_log_prob\u001b[49m\u001b[43m,\u001b[49m\u001b[43m \u001b[49m\u001b[43mn_steps\u001b[49m\u001b[43m)\u001b[49m\n\u001b[1;32m     47\u001b[0m \u001b[38;5;66;03m# Print the first few samples\u001b[39;00m\n\u001b[1;32m     48\u001b[0m \u001b[38;5;28mprint\u001b[39m(samples[:\u001b[38;5;241m10\u001b[39m])\n",
      "    \u001b[0;31m[... skipping hidden 5 frame]\u001b[0m\n",
      "File \u001b[0;32m~/miniconda3/envs/tensorflow/lib/python3.11/site-packages/jax/_src/api_util.py:577\u001b[0m, in \u001b[0;36m_shaped_abstractify_slow\u001b[0;34m(x)\u001b[0m\n\u001b[1;32m    575\u001b[0m   dtype \u001b[38;5;241m=\u001b[39m dtypes\u001b[38;5;241m.\u001b[39mcanonicalize_dtype(x\u001b[38;5;241m.\u001b[39mdtype, allow_extended_dtype\u001b[38;5;241m=\u001b[39m\u001b[38;5;28;01mTrue\u001b[39;00m)\n\u001b[1;32m    576\u001b[0m \u001b[38;5;28;01melse\u001b[39;00m:\n\u001b[0;32m--> 577\u001b[0m   \u001b[38;5;28;01mraise\u001b[39;00m \u001b[38;5;167;01mTypeError\u001b[39;00m(\n\u001b[1;32m    578\u001b[0m       \u001b[38;5;124mf\u001b[39m\u001b[38;5;124m\"\u001b[39m\u001b[38;5;124mCannot interpret value of type \u001b[39m\u001b[38;5;132;01m{\u001b[39;00m\u001b[38;5;28mtype\u001b[39m(x)\u001b[38;5;132;01m}\u001b[39;00m\u001b[38;5;124m as an abstract array; it \u001b[39m\u001b[38;5;124m\"\u001b[39m\n\u001b[1;32m    579\u001b[0m       \u001b[38;5;124m\"\u001b[39m\u001b[38;5;124mdoes not have a dtype attribute\u001b[39m\u001b[38;5;124m\"\u001b[39m)\n\u001b[1;32m    580\u001b[0m \u001b[38;5;28;01mreturn\u001b[39;00m core\u001b[38;5;241m.\u001b[39mShapedArray(np\u001b[38;5;241m.\u001b[39mshape(x), dtype, weak_type\u001b[38;5;241m=\u001b[39mweak_type,\n\u001b[1;32m    581\u001b[0m                         named_shape\u001b[38;5;241m=\u001b[39mnamed_shape)\n",
      "\u001b[0;31mTypeError\u001b[0m: Cannot interpret value of type <class 'jaxlib.xla_extension.PjitFunction'> as an abstract array; it does not have a dtype attribute"
     ]
    }
   ],
   "source": [
    "import jax\n",
    "import jax.numpy as jnp\n",
    "from jax import random, jit\n",
    "\n",
    "# Define the target distribution (Gaussian distribution in this case)\n",
    "def target_distribution(x):\n",
    "    return jnp.exp(-0.5 * x ** 2)\n",
    "\n",
    "# Define the Metropolis-Hastings step\n",
    "@jit\n",
    "def metropolis_step(key, x, target_log_prob):\n",
    "    key, subkey = random.split(key)\n",
    "    x_new = x + random.normal(subkey)  # Propose a new state from a normal distribution\n",
    "    \n",
    "    log_acceptance_ratio = target_log_prob(x_new) - target_log_prob(x)\n",
    "    acceptance_prob = jnp.exp(log_acceptance_ratio)\n",
    "    \n",
    "    key, subkey = random.split(key)\n",
    "    uniform_sample = random.uniform(subkey)\n",
    "    \n",
    "    x = jnp.where(uniform_sample < acceptance_prob, x_new, x)  # Accept or reject the new state\n",
    "    return key, x\n",
    "\n",
    "# JIT compiled Metropolis-Hastings sampler\n",
    "@jit\n",
    "def run_metropolis(key, x0, target_log_prob, n_steps):\n",
    "    xs = []\n",
    "    x = x0\n",
    "    \n",
    "    for _ in range(n_steps):\n",
    "        key, x = metropolis_step(key, x, target_log_prob)\n",
    "        xs.append(x)\n",
    "    \n",
    "    return jnp.array(xs)\n",
    "\n",
    "# Set up the sampling\n",
    "key = random.PRNGKey(42)\n",
    "x0 = 0.0  # Initial state\n",
    "n_steps = 10000\n",
    "\n",
    "# Define the log of the target distribution\n",
    "target_log_prob = jit(lambda x: -0.5 * x ** 2)\n",
    "\n",
    "# Run the Metropolis sampler\n",
    "samples = run_metropolis(key, x0, target_log_prob, n_steps)\n",
    "\n",
    "# Print the first few samples\n",
    "print(samples[:10])\n"
   ]
  },
  {
   "cell_type": "code",
   "execution_count": null,
   "metadata": {},
   "outputs": [],
   "source": []
  }
 ],
 "metadata": {
  "kernelspec": {
   "display_name": "tensorflow",
   "language": "python",
   "name": "python3"
  },
  "language_info": {
   "codemirror_mode": {
    "name": "ipython",
    "version": 3
   },
   "file_extension": ".py",
   "mimetype": "text/x-python",
   "name": "python",
   "nbconvert_exporter": "python",
   "pygments_lexer": "ipython3",
   "version": "3.11.8"
  }
 },
 "nbformat": 4,
 "nbformat_minor": 2
}
