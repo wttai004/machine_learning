{
 "cells": [
  {
   "cell_type": "code",
   "execution_count": 1,
   "metadata": {},
   "outputs": [],
   "source": [
    "import netket as nk\n",
    "import netket.experimental as nkx\n",
    "from netket.experimental.operator.fermion import destroy as c\n",
    "from netket.experimental.operator.fermion import create as cdag\n",
    "from netket.experimental.operator.fermion import number as nc\n",
    "import jax\n",
    "import jax.numpy as jnp"
   ]
  },
  {
   "cell_type": "code",
   "execution_count": 2,
   "metadata": {},
   "outputs": [],
   "source": [
    "L = 4  # Side of the square\n",
    "graph = nk.graph.Square(L)\n",
    "N = graph.n_nodes\n",
    "\n",
    "N_f = 5\n",
    "\n",
    "hi = nkx.hilbert.SpinOrbitalFermions(N, s=None, n_fermions=N_f)\n",
    "\n",
    "t = 1.0\n",
    "V = 4.0\n",
    "\n",
    "H = 0.0\n",
    "for (i, j) in graph.edges():\n",
    "    H -= t * (cdag(hi,i) * c(hi,j) + cdag(hi,j) * c(hi,i))\n",
    "    H += V * nc(hi,i) * nc(hi,j)"
   ]
  },
  {
   "cell_type": "code",
   "execution_count": 3,
   "metadata": {},
   "outputs": [
    {
     "name": "stdout",
     "output_type": "stream",
     "text": [
      "Exact ground state energy: -6.859013554319583\n"
     ]
    }
   ],
   "source": [
    "# Convert the Hamiltonian to a sparse matrix\n",
    "sp_h = H.to_sparse()\n",
    "\n",
    "from scipy.sparse.linalg import eigsh\n",
    "\n",
    "eig_vals, eig_vecs = eigsh(sp_h, k=2, which=\"SA\")\n",
    "\n",
    "E_gs = eig_vals[0]\n",
    "\n",
    "print(\"Exact ground state energy:\", E_gs)"
   ]
  },
  {
   "cell_type": "code",
   "execution_count": 4,
   "metadata": {},
   "outputs": [],
   "source": [
    "import flax.linen as nn\n",
    "from netket.utils.types import NNInitFunc\n",
    "from netket.nn.masked_linear import default_kernel_init\n",
    "from typing import Any, Callable, Sequence\n",
    "from functools import partial\n",
    "DType = Any\n",
    "\n",
    "\n",
    "class LogSlaterDeterminant(nn.Module):\n",
    "    hilbert: nkx.hilbert.SpinOrbitalFermions\n",
    "    kernel_init: NNInitFunc = default_kernel_init\n",
    "    param_dtype: DType = float\n",
    "\n",
    "    @nn.compact\n",
    "    def __call__(self, n):\n",
    "        # the N x Nf matrix of the orbitals\n",
    "        M = self.param('M', self.kernel_init, (self.hilbert.n_orbitals, self.hilbert.n_fermions,), self.param_dtype)\n",
    "\n",
    "        @partial(jnp.vectorize, signature='(n)->()')\n",
    "        def log_sd(n):\n",
    "            #Find the positions of the occupied orbitals \n",
    "            R = n.nonzero(size=self.hilbert.n_fermions)[0]\n",
    "            \n",
    "            # Extract the Nf x Nf submatrix of M corresponding to the occupied orbitals\n",
    "            A = M[R]\n",
    "\n",
    "            return nk.jax.logdet_cmplx(A)\n",
    "\n",
    "        return log_sd(n)"
   ]
  },
  {
   "cell_type": "code",
   "execution_count": 5,
   "metadata": {},
   "outputs": [
    {
     "data": {
      "application/vnd.jupyter.widget-view+json": {
       "model_id": "4eb1e9af0d104a29a4795ead36891670",
       "version_major": 2,
       "version_minor": 0
      },
      "text/plain": [
       "  0%|          | 0/300 [00:00<?, ?it/s]"
      ]
     },
     "metadata": {},
     "output_type": "display_data"
    },
    {
     "data": {
      "text/plain": [
       "(RuntimeLog():\n",
       "  keys = ['acceptance', 'Energy'],)"
      ]
     },
     "execution_count": 5,
     "metadata": {},
     "output_type": "execute_result"
    }
   ],
   "source": [
    "# Create the Slater determinant model\n",
    "model = LogSlaterDeterminant(hi)\n",
    "\n",
    "# Define the Metropolis-Hastings sampler\n",
    "sa = nk.sampler.MetropolisExchange(hi, graph=graph)\n",
    "\n",
    "vstate = nk.vqs.MCState(sa, model, n_samples=2**12, n_discard_per_chain=16)\n",
    "\n",
    "# Define the optimizer\n",
    "op = nk.optimizer.Sgd(learning_rate=0.05)\n",
    "\n",
    "# Define a preconditioner\n",
    "preconditioner = nk.optimizer.SR(diag_shift=0.05)\n",
    "\n",
    "# Create the VMC (Variational Monte Carlo) driver\n",
    "gs = nk.VMC(H, op, variational_state=vstate, preconditioner=preconditioner)\n",
    "\n",
    "# Construct the logger to visualize the data later on\n",
    "slater_log=nk.logging.RuntimeLog()\n",
    "\n",
    "# Run the optimization for 300 iterations\n",
    "gs.run(n_iter=300, out=slater_log)"
   ]
  },
  {
   "cell_type": "code",
   "execution_count": 6,
   "metadata": {},
   "outputs": [
    {
     "name": "stdout",
     "output_type": "stream",
     "text": [
      "Optimized energy : -5.026-0.000j ± 0.035 [σ²=4.663, R̂=1.0023]\n",
      "Relative error   : 0.2671801835700823\n"
     ]
    }
   ],
   "source": [
    "sd_energy = vstate.expect(H)\n",
    "error = abs((sd_energy.mean - E_gs) / E_gs)\n",
    "\n",
    "print(f\"Optimized energy : {sd_energy}\")\n",
    "print(f\"Relative error   : {error}\")"
   ]
  },
  {
   "cell_type": "code",
   "execution_count": 7,
   "metadata": {},
   "outputs": [],
   "source": [
    "class LogNeuralJastrowSlater(nn.Module):\n",
    "    hilbert: nkx.hilbert.SpinOrbitalFermions\n",
    "    hidden_units: int\n",
    "    kernel_init: NNInitFunc = default_kernel_init\n",
    "    param_dtype: DType = float\n",
    "\n",
    "    @nn.compact\n",
    "    def __call__(self, n):\n",
    "       \n",
    "        @partial(jnp.vectorize, signature='(n)->()')\n",
    "        def log_wf(n):\n",
    "            #Bare Slater Determinant (N x Nf matrix of the orbital amplitudes) \n",
    "            M = self.param('M', self.kernel_init, (self.hilbert.n_orbitals, self.hilbert.n_fermions,), self.param_dtype)\n",
    "\n",
    "            #Construct the Neural Jastrow\n",
    "            J = nn.Dense(self.hidden_units, param_dtype=self.param_dtype)(n)\n",
    "            J = jax.nn.tanh(J)\n",
    "            J = J.sum()\n",
    "            \n",
    "            # Find the positions of the occupied orbitals\n",
    "            R = n.nonzero(size=self.hilbert.n_fermions)[0]\n",
    "            # Select the N rows of M corresponding to the occupied orbitals, obtaining the Nf x Nf slater matrix\n",
    "            A = M[R]\n",
    "            # compute the (log) determinant and add the Jastrow\n",
    "            # (when exponentiating this becomes a product of the slater and jastrow terms)\n",
    "            return nk.jax.logdet_cmplx(A)+J\n",
    "\n",
    "        return log_wf(n)"
   ]
  },
  {
   "cell_type": "code",
   "execution_count": 8,
   "metadata": {},
   "outputs": [
    {
     "data": {
      "application/vnd.jupyter.widget-view+json": {
       "model_id": "12c18ea284014415b13a5e3b4f1b0224",
       "version_major": 2,
       "version_minor": 0
      },
      "text/plain": [
       "  0%|          | 0/300 [00:00<?, ?it/s]"
      ]
     },
     "metadata": {},
     "output_type": "display_data"
    },
    {
     "data": {
      "text/plain": [
       "(RuntimeLog():\n",
       "  keys = ['acceptance', 'Energy'],)"
      ]
     },
     "execution_count": 8,
     "metadata": {},
     "output_type": "execute_result"
    }
   ],
   "source": [
    "# Create a Neural Jastrow Slater wave function \n",
    "model = LogNeuralJastrowSlater(hi, hidden_units=N)\n",
    "\n",
    "# Define a Metropolis exchange sampler\n",
    "sa = nk.sampler.MetropolisExchange(hi, graph=graph)\n",
    "\n",
    "# Define an optimizer\n",
    "op = nk.optimizer.Sgd(learning_rate=0.05)\n",
    "\n",
    "# Create a variational state\n",
    "vstate = nk.vqs.MCState(sa, model, n_samples=2**12, n_discard_per_chain=16)\n",
    "\n",
    "# Create a Variational Monte Carlo driver\n",
    "preconditioner = nk.optimizer.SR(diag_shift=0.05)\n",
    "gs = nk.VMC(H, op, variational_state=vstate, preconditioner=preconditioner)\n",
    "\n",
    "# Construct the logger to visualize the data later on\n",
    "nj_log=nk.logging.RuntimeLog()\n",
    "\n",
    "# Run the optimization for 300 iterations\n",
    "gs.run(n_iter=300, out=nj_log)"
   ]
  },
  {
   "cell_type": "code",
   "execution_count": 9,
   "metadata": {},
   "outputs": [
    {
     "name": "stdout",
     "output_type": "stream",
     "text": [
      "Optimized energy : -6.827-0.000j ± 0.011 [σ²=0.483, R̂=1.0014]\n",
      "Relative error   : 0.0046584873121586065\n"
     ]
    }
   ],
   "source": [
    "sd_energy = vstate.expect(H)\n",
    "error = abs((sd_energy.mean - E_gs) / E_gs)\n",
    "\n",
    "print(f\"Optimized energy : {sd_energy}\")\n",
    "print(f\"Relative error   : {error}\")"
   ]
  },
  {
   "cell_type": "code",
   "execution_count": 10,
   "metadata": {},
   "outputs": [],
   "source": [
    "class LogNeuralBackflow(nn.Module):\n",
    "    hilbert: nkx.hilbert.SpinOrbitalFermions\n",
    "    hidden_units: int\n",
    "    kernel_init: NNInitFunc = default_kernel_init\n",
    "    param_dtype: DType = float\n",
    "\n",
    "    @nn.compact\n",
    "    def __call__(self, n):\n",
    "       \n",
    "        @partial(jnp.vectorize, signature='(n)->()')\n",
    "        def log_sd(n):\n",
    "            #Bare Slater Determinant (N x Nf matrix of the orbital amplitudes) \n",
    "            M = self.param('M', self.kernel_init, (self.hilbert.n_orbitals, self.hilbert.n_fermions,), self.param_dtype)\n",
    "\n",
    "            # Construct the Backflow. Takes as input strings of $N$ occupation numbers, outputs an $N x Nf$ matrix\n",
    "            # that modifies the bare orbitals.\n",
    "            F = nn.Dense(self.hidden_units, param_dtype=self.param_dtype)(n)\n",
    "            F = jax.nn.tanh(F)\n",
    "            # last layer, outputs N x Nf values\n",
    "            F = nn.Dense(self.hilbert.n_orbitals * self.hilbert.n_fermions, param_dtype=self.param_dtype)(F)\n",
    "            # reshape into M and add\n",
    "            M += F.reshape(M.shape)\n",
    "            \n",
    "            #Find the positions of the occupied, backflow-modified orbitals\n",
    "            R = n.nonzero(size=self.hilbert.n_fermions)[0]\n",
    "            A = M[R]\n",
    "            return nk.jax.logdet_cmplx(A)\n",
    "\n",
    "        return log_sd(n)"
   ]
  },
  {
   "cell_type": "code",
   "execution_count": 11,
   "metadata": {},
   "outputs": [
    {
     "data": {
      "application/vnd.jupyter.widget-view+json": {
       "model_id": "7d931a69231d46658fbe40b40b9fc829",
       "version_major": 2,
       "version_minor": 0
      },
      "text/plain": [
       "  0%|          | 0/300 [00:00<?, ?it/s]"
      ]
     },
     "metadata": {},
     "output_type": "display_data"
    },
    {
     "data": {
      "text/plain": [
       "(RuntimeLog():\n",
       "  keys = ['acceptance', 'Energy'],)"
      ]
     },
     "execution_count": 11,
     "metadata": {},
     "output_type": "execute_result"
    }
   ],
   "source": [
    "# Create a neural backflow wave function\n",
    "model = LogNeuralBackflow(hi, hidden_units=N)\n",
    "\n",
    "# Define a Metropolis exchange sampler\n",
    "sa = nk.sampler.MetropolisExchange(hi, graph=graph)\n",
    "\n",
    "# Define an optimizer\n",
    "op = nk.optimizer.Sgd(learning_rate=0.05)\n",
    "\n",
    "# Create a variational state\n",
    "vstate = nk.vqs.MCState(sa, model, n_samples=2**12, n_discard_per_chain=16)\n",
    "\n",
    "# Create a Variational Monte Carlo driver\n",
    "preconditioner = nk.optimizer.SR(diag_shift=0.05)\n",
    "gs = nk.VMC(H, op, variational_state=vstate, preconditioner=preconditioner)\n",
    "\n",
    "# Construct the logger to visualize the data later on\n",
    "bf_log=nk.logging.RuntimeLog()\n",
    "\n",
    "# Run the optimization for 300 iterations\n",
    "gs.run(n_iter=300, out=bf_log)"
   ]
  },
  {
   "cell_type": "code",
   "execution_count": 12,
   "metadata": {},
   "outputs": [
    {
     "name": "stdout",
     "output_type": "stream",
     "text": [
      "Optimized energy : -6.816-0.000j ± 0.010 [σ²=0.417, R̂=1.0024]\n",
      "Relative error   : 0.006276276566685517\n"
     ]
    }
   ],
   "source": [
    "sd_energy = vstate.expect(H)\n",
    "error = abs((sd_energy.mean - E_gs) / E_gs)\n",
    "print(f\"Optimized energy : {sd_energy}\")\n",
    "print(f\"Relative error   : {error}\")"
   ]
  },
  {
   "cell_type": "code",
   "execution_count": 14,
   "metadata": {},
   "outputs": [
    {
     "data": {
      "text/plain": [
       "<matplotlib.legend.Legend at 0x2b3aed323f80>"
      ]
     },
     "execution_count": 14,
     "metadata": {},
     "output_type": "execute_result"
    },
    {
     "data": {
      "image/png": "[encoded data removed]",
      "text/plain": [
       "<Figure size 640x480 with 1 Axes>"
      ]
     },
     "metadata": {},
     "output_type": "display_data"
    }
   ],
   "source": [
    "logged_data = (slater_log.data,nj_log.data,bf_log.data)\n",
    "labels = (\"Slater\",\"Neural Jastrow\",\"Neural Backflow\")\n",
    "\n",
    "from matplotlib import pyplot as plt\n",
    "\n",
    "start = 50\n",
    "\n",
    "end = 300\n",
    "\n",
    "for data,label in zip(logged_data,labels):\n",
    "    plt.errorbar(data[\"Energy\"].iters[start:end], data[\"Energy\"].Mean.real[start:end], yerr=data[\"Energy\"].Sigma[start:end],label=label)\n",
    "\n",
    "plt.hlines([E_gs], xmin=start, xmax=end, color='black', label=\"Exact\")\n",
    "\n",
    "plt.xlabel('Iterations')\n",
    "plt.ylabel('Energy')\n",
    "plt.legend()"
   ]
  },
  {
   "cell_type": "code",
   "execution_count": null,
   "metadata": {},
   "outputs": [],
   "source": []
  }
 ],
 "metadata": {
  "kernelspec": {
   "display_name": "netket",
   "language": "python",
   "name": "python3"
  },
  "language_info": {
   "codemirror_mode": {
    "name": "ipython",
    "version": 3
   },
   "file_extension": ".py",
   "mimetype": "text/x-python",
   "name": "python",
   "nbconvert_exporter": "python",
   "pygments_lexer": "ipython3",
   "version": "3.12.4"
  }
 },
 "nbformat": 4,
 "nbformat_minor": 2
}
