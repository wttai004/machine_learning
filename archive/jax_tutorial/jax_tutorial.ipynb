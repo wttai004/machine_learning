{
 "cells": [
  {
   "cell_type": "code",
   "execution_count": 2,
   "metadata": {},
   "outputs": [
    {
     "name": "stderr",
     "output_type": "stream",
     "text": [
      "/var/folders/qj/clm7jsc121ldh0pcf5z2czkc0000gp/T/ipykernel_1479/2052077244.py:11: DeprecationWarning: `set_matplotlib_formats` is deprecated since IPython 7.23, directly use `matplotlib_inline.backend_inline.set_matplotlib_formats()`\n",
      "  set_matplotlib_formats('svg', 'pdf') # For export\n",
      "/Users/wttai/miniconda3/envs/tensorflow/lib/python3.11/site-packages/tqdm/auto.py:21: TqdmWarning: IProgress not found. Please update jupyter and ipywidgets. See https://ipywidgets.readthedocs.io/en/stable/user_install.html\n",
      "  from .autonotebook import tqdm as notebook_tqdm\n"
     ]
    }
   ],
   "source": [
    "## Standard libraries\n",
    "import os\n",
    "import math\n",
    "import numpy as np\n",
    "import time\n",
    "\n",
    "## Imports for plotting\n",
    "import matplotlib.pyplot as plt\n",
    "%matplotlib inline\n",
    "from IPython.display import set_matplotlib_formats\n",
    "set_matplotlib_formats('svg', 'pdf') # For export\n",
    "from matplotlib.colors import to_rgba\n",
    "import seaborn as sns\n",
    "sns.set()\n",
    "\n",
    "## Progress bar\n",
    "from tqdm.auto import tqdm"
   ]
  },
  {
   "cell_type": "code",
   "execution_count": 3,
   "metadata": {},
   "outputs": [
    {
     "name": "stdout",
     "output_type": "stream",
     "text": [
      "Using jax 0.4.27\n"
     ]
    }
   ],
   "source": [
    "import jax\n",
    "import jax.numpy as jnp\n",
    "print(\"Using jax\", jax.__version__)"
   ]
  },
  {
   "cell_type": "code",
   "execution_count": 4,
   "metadata": {},
   "outputs": [
    {
     "name": "stdout",
     "output_type": "stream",
     "text": [
      "[[0. 0. 0. 0. 0.]\n",
      " [0. 0. 0. 0. 0.]]\n",
      "[0 1 2 3 4 5]\n",
      "<class 'jaxlib.xla_extension.ArrayImpl'>\n",
      "<class 'numpy.ndarray'>\n",
      "[CpuDevice(id=0)]\n"
     ]
    }
   ],
   "source": [
    "a = jnp.zeros((2, 5), dtype=jnp.float32)\n",
    "print(a)\n",
    "b = jnp.arange(6)\n",
    "print(b)\n",
    "print(b.__class__)\n",
    "b_cpu = jax.device_get(b)\n",
    "print(b_cpu.__class__)\n",
    "print(jax.devices())"
   ]
  },
  {
   "cell_type": "markdown",
   "metadata": {},
   "source": [
    "# Immutable tensors\n",
    "\n",
    "(You can't change arrays via ordinary in-place substitution because this violates the intent of pure function)"
   ]
  },
  {
   "cell_type": "code",
   "execution_count": 5,
   "metadata": {},
   "outputs": [
    {
     "name": "stdout",
     "output_type": "stream",
     "text": [
      "Original array: [0 1 2 3 4 5]\n",
      "Changed array: [1 1 2 3 4 5]\n"
     ]
    }
   ],
   "source": [
    "b_new = b.at[0].set(1)\n",
    "print('Original array:', b)\n",
    "print('Changed array:', b_new)"
   ]
  },
  {
   "cell_type": "markdown",
   "metadata": {},
   "source": [
    "# Pseudorandom numbers\n",
    "\n",
    "Because jax requires all functiosn to be pure, you can't really change a aseed in a PRNG generator in jax"
   ]
  },
  {
   "cell_type": "code",
   "execution_count": 6,
   "metadata": {},
   "outputs": [],
   "source": [
    "rng = jax.random.PRNGKey(42)"
   ]
  },
  {
   "cell_type": "code",
   "execution_count": 30,
   "metadata": {},
   "outputs": [
    {
     "name": "stdout",
     "output_type": "stream",
     "text": [
      "JAX - Random number 1: -0.18471177\n",
      "JAX - Random number 2: -0.18471177\n",
      "NumPy - Random number 1: 0.4967141530112327\n",
      "NumPy - Random number 2: -0.13826430117118466\n"
     ]
    }
   ],
   "source": [
    "# A non-desirable way of generating pseudo-random numbers...\n",
    "jax_random_number_1 = jax.random.normal(rng)\n",
    "jax_random_number_2 = jax.random.normal(rng)\n",
    "print('JAX - Random number 1:', jax_random_number_1)\n",
    "print('JAX - Random number 2:', jax_random_number_2)\n",
    "\n",
    "# Typical random numbers in NumPy\n",
    "np.random.seed(42)\n",
    "np_random_number_1 = np.random.normal()\n",
    "np_random_number_2 = np.random.normal()\n",
    "print('NumPy - Random number 1:', np_random_number_1)\n",
    "print('NumPy - Random number 2:', np_random_number_2)"
   ]
  },
  {
   "cell_type": "markdown",
   "metadata": {},
   "source": [
    "Using PRNG in jax requires splitting a PRNG state, where the input is the rng. You want to split the PRNG every time you need a pseudo-number, passing the rng into itself."
   ]
  },
  {
   "cell_type": "code",
   "execution_count": 40,
   "metadata": {},
   "outputs": [
    {
     "name": "stdout",
     "output_type": "stream",
     "text": [
      "[2913658946 2980543260] [ 906713395 3891066739] [ 724597107 1867688990]\n",
      "JAX new - Random number 1: 0.72477084\n",
      "JAX new - Random number 2: -0.98226595\n"
     ]
    }
   ],
   "source": [
    "# Running this gives a different answer every time because you pass the rng to itself\n",
    "\n",
    "rng, subkey1, subkey2 = jax.random.split(rng, num=3)  # We create 3 new keys\n",
    "print(rng, subkey1, subkey2)\n",
    "jax_random_number_1 = jax.random.normal(subkey1)\n",
    "jax_random_number_2 = jax.random.normal(subkey2)\n",
    "print('JAX new - Random number 1:', jax_random_number_1)\n",
    "print('JAX new - Random number 2:', jax_random_number_2)"
   ]
  },
  {
   "cell_type": "markdown",
   "metadata": {},
   "source": [
    "# Function transformation"
   ]
  },
  {
   "cell_type": "code",
   "execution_count": 7,
   "metadata": {},
   "outputs": [
    {
     "name": "stdout",
     "output_type": "stream",
     "text": [
      "Input [0. 1. 2.]\n",
      "Output 12.666667\n"
     ]
    }
   ],
   "source": [
    "def simple_graph(x):\n",
    "    x = x + 2\n",
    "    x = x ** 2\n",
    "    x = x + 3\n",
    "    y = x.mean()\n",
    "    return y\n",
    "\n",
    "inp = jnp.arange(3, dtype=jnp.float32)\n",
    "print('Input', inp)\n",
    "print('Output', simple_graph(inp))"
   ]
  },
  {
   "cell_type": "code",
   "execution_count": 8,
   "metadata": {},
   "outputs": [
    {
     "data": {
      "text/plain": [
       "{ \u001b[34m\u001b[22m\u001b[1mlambda \u001b[39m\u001b[22m\u001b[22m; a\u001b[35m:f32[3]\u001b[39m. \u001b[34m\u001b[22m\u001b[1mlet\n",
       "    \u001b[39m\u001b[22m\u001b[22mb\u001b[35m:f32[3]\u001b[39m = add a 2.0\n",
       "    c\u001b[35m:f32[3]\u001b[39m = integer_pow[y=2] b\n",
       "    d\u001b[35m:f32[3]\u001b[39m = add c 3.0\n",
       "    e\u001b[35m:f32[]\u001b[39m = reduce_sum[axes=(0,)] d\n",
       "    f\u001b[35m:f32[]\u001b[39m = div e 3.0\n",
       "  \u001b[34m\u001b[22m\u001b[1min \u001b[39m\u001b[22m\u001b[22m(f,) }"
      ]
     },
     "execution_count": 8,
     "metadata": {},
     "output_type": "execute_result"
    }
   ],
   "source": [
    "jax.make_jaxpr(simple_graph)(inp)"
   ]
  },
  {
   "cell_type": "code",
   "execution_count": 65,
   "metadata": {},
   "outputs": [
    {
     "data": {
      "text/plain": [
       "{ lambda ; a:f32[3]. let\n",
       "    b:f32[3] = integer_pow[y=2] a\n",
       "    c:f32[] = reduce_sum[axes=(0,)] b\n",
       "    d:f32[] = sqrt c\n",
       "  in (d,) }"
      ]
     },
     "execution_count": 65,
     "metadata": {},
     "output_type": "execute_result"
    }
   ],
   "source": [
    "global_list = []\n",
    "\n",
    "# Invalid function with side-effect\n",
    "def norm(x):\n",
    "    global_list.append(x)\n",
    "    x = x ** 2\n",
    "    n = x.sum()\n",
    "    n = jnp.sqrt(n)\n",
    "    return ndd\n",
    "\n",
    "jax.make_jaxpr(norm)(inp)"
   ]
  },
  {
   "cell_type": "markdown",
   "metadata": {},
   "source": [
    "# Automatic differentiation"
   ]
  },
  {
   "cell_type": "code",
   "execution_count": 9,
   "metadata": {},
   "outputs": [
    {
     "name": "stdout",
     "output_type": "stream",
     "text": [
      "Gradient [1.3333334 2.        2.6666667]\n"
     ]
    }
   ],
   "source": [
    "grad_function = jax.grad(simple_graph)\n",
    "gradients = grad_function(inp)\n",
    "print('Gradient', gradients)"
   ]
  },
  {
   "cell_type": "code",
   "execution_count": 10,
   "metadata": {},
   "outputs": [
    {
     "data": {
      "text/plain": [
       "{ \u001b[34m\u001b[22m\u001b[1mlambda \u001b[39m\u001b[22m\u001b[22m; a\u001b[35m:f32[3]\u001b[39m. \u001b[34m\u001b[22m\u001b[1mlet\n",
       "    \u001b[39m\u001b[22m\u001b[22mb\u001b[35m:f32[3]\u001b[39m = add a 2.0\n",
       "    c\u001b[35m:f32[3]\u001b[39m = integer_pow[y=2] b\n",
       "    d\u001b[35m:f32[3]\u001b[39m = integer_pow[y=1] b\n",
       "    e\u001b[35m:f32[3]\u001b[39m = mul 2.0 d\n",
       "    f\u001b[35m:f32[3]\u001b[39m = add c 3.0\n",
       "    g\u001b[35m:f32[]\u001b[39m = reduce_sum[axes=(0,)] f\n",
       "    _\u001b[35m:f32[]\u001b[39m = div g 3.0\n",
       "    h\u001b[35m:f32[]\u001b[39m = div 1.0 3.0\n",
       "    i\u001b[35m:f32[3]\u001b[39m = broadcast_in_dim[broadcast_dimensions=() shape=(3,)] h\n",
       "    j\u001b[35m:f32[3]\u001b[39m = mul i e\n",
       "  \u001b[34m\u001b[22m\u001b[1min \u001b[39m\u001b[22m\u001b[22m(j,) }"
      ]
     },
     "execution_count": 10,
     "metadata": {},
     "output_type": "execute_result"
    }
   ],
   "source": [
    "jax.make_jaxpr(grad_function)(inp)"
   ]
  },
  {
   "cell_type": "code",
   "execution_count": 11,
   "metadata": {},
   "outputs": [
    {
     "data": {
      "text/plain": [
       "{ \u001b[34m\u001b[22m\u001b[1mlambda \u001b[39m\u001b[22m\u001b[22m; a\u001b[35m:f32[3]\u001b[39m. \u001b[34m\u001b[22m\u001b[1mlet\n",
       "    \u001b[39m\u001b[22m\u001b[22mb\u001b[35m:f32[3]\u001b[39m = add a 2.0\n",
       "    c\u001b[35m:f32[3]\u001b[39m = integer_pow[y=2] b\n",
       "    d\u001b[35m:f32[3]\u001b[39m = integer_pow[y=1] b\n",
       "    e\u001b[35m:f32[3]\u001b[39m = mul 2.0 d\n",
       "    f\u001b[35m:f32[3]\u001b[39m = add c 3.0\n",
       "    g\u001b[35m:f32[]\u001b[39m = reduce_sum[axes=(0,)] f\n",
       "    _\u001b[35m:f32[]\u001b[39m = div g 3.0\n",
       "    h\u001b[35m:f32[]\u001b[39m = div 1.0 3.0\n",
       "    i\u001b[35m:f32[3]\u001b[39m = broadcast_in_dim[broadcast_dimensions=() shape=(3,)] h\n",
       "    j\u001b[35m:f32[3]\u001b[39m = mul i e\n",
       "  \u001b[34m\u001b[22m\u001b[1min \u001b[39m\u001b[22m\u001b[22m(j,) }"
      ]
     },
     "execution_count": 11,
     "metadata": {},
     "output_type": "execute_result"
    }
   ],
   "source": [
    "jax.make_jaxpr(grad_function)(inp)"
   ]
  },
  {
   "cell_type": "markdown",
   "metadata": {},
   "source": [
    "# Just-in-time compilation"
   ]
  },
  {
   "cell_type": "code",
   "execution_count": 12,
   "metadata": {},
   "outputs": [],
   "source": [
    "jitted_function = jax.jit(simple_graph)"
   ]
  },
  {
   "cell_type": "code",
   "execution_count": 13,
   "metadata": {},
   "outputs": [],
   "source": [
    "# Create a new random subkey for generating new random values\n",
    "rng, normal_rng = jax.random.split(rng)\n",
    "large_input = jax.random.normal(normal_rng, (1000,))\n",
    "# Run the jitted function once to start compilation\n",
    "_ = jitted_function(large_input)"
   ]
  },
  {
   "cell_type": "code",
   "execution_count": 14,
   "metadata": {},
   "outputs": [
    {
     "name": "stdout",
     "output_type": "stream",
     "text": [
      "153 µs ± 9.32 µs per loop (mean ± std. dev. of 7 runs, 10,000 loops each)\n"
     ]
    }
   ],
   "source": [
    "%%timeit\n",
    "simple_graph(large_input).block_until_ready()"
   ]
  },
  {
   "cell_type": "code",
   "execution_count": 15,
   "metadata": {},
   "outputs": [
    {
     "name": "stdout",
     "output_type": "stream",
     "text": [
      "10.6 µs ± 1.18 µs per loop (mean ± std. dev. of 7 runs, 100,000 loops each)\n"
     ]
    }
   ],
   "source": [
    "%%timeit\n",
    "jitted_function(large_input).block_until_ready()"
   ]
  },
  {
   "cell_type": "code",
   "execution_count": null,
   "metadata": {},
   "outputs": [],
   "source": []
  }
 ],
 "metadata": {
  "kernelspec": {
   "display_name": "tensorflow",
   "language": "python",
   "name": "python3"
  },
  "language_info": {
   "codemirror_mode": {
    "name": "ipython",
    "version": 3
   },
   "file_extension": ".py",
   "mimetype": "text/x-python",
   "name": "python",
   "nbconvert_exporter": "python",
   "pygments_lexer": "ipython3",
   "version": "3.1.undefined"
  }
 },
 "nbformat": 4,
 "nbformat_minor": 2
}
