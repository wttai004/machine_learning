{
 "cells": [
  {
   "cell_type": "code",
   "execution_count": 1,
   "metadata": {},
   "outputs": [],
   "source": [
    "# standard imports and cosmetics\n",
    "\n",
    "import numpy as np\n",
    "\n",
    "import matplotlib.pyplot as plt\n",
    "\n",
    "np.set_printoptions(precision=5, suppress=True, linewidth=100, threshold=50)\n",
    "plt.rcParams['figure.dpi'] = 150"
   ]
  },
  {
   "cell_type": "code",
   "execution_count": 6,
   "metadata": {},
   "outputs": [],
   "source": [
    "import sys, os\n",
    "sys.path.append(\"machine_learning/dmrg_tutorial\")\n",
    "from a_mps import SimpleMPS, init_FM_MPS, init_Neel_MPS, init_PM_MPS"
   ]
  },
  {
   "cell_type": "code",
   "execution_count": 4,
   "metadata": {},
   "outputs": [
    {
     "name": "stdout",
     "output_type": "stream",
     "text": [
      "[array([[[1.],\n",
      "        [0.]]]), array([[[0.],\n",
      "        [1.]]]), array([[[1.],\n",
      "        [0.]]]), array([[[0.],\n",
      "        [1.]]]), array([[[1.],\n",
      "        [0.]]]), array([[[0.],\n",
      "        [1.]]]), array([[[1.],\n",
      "        [0.]]]), array([[[0.],\n",
      "        [1.]]]), array([[[1.],\n",
      "        [0.]]]), array([[[0.],\n",
      "        [1.]]])]\n",
      "Z expectation value: [ 1. -1.  1. -1.  1. -1.  1. -1.  1. -1.]\n",
      "Entanglement entropy: [-0. -0. -0. -0. -0. -0. -0. -0. -0.]\n",
      "<Z1Z6>: -1.0\n"
     ]
    }
   ],
   "source": [
    "psi_Neel = init_Neel_MPS(L=10)\n",
    "print(psi_Neel.Bs)\n",
    "\n",
    "Z = np.diag([1., -1.])\n",
    "\n",
    "print(f\"Z expectation value: {psi_Neel.site_expectation_value(Z)}\")\n",
    "print(f\"Entanglement entropy: {psi_Neel.entanglement_entropy()}\")\n",
    "print(f\"<Z1Z6>: {psi_Neel.correlation_function(Z, 1, Z, 6)}\")"
   ]
  },
  {
   "cell_type": "code",
   "execution_count": 8,
   "metadata": {},
   "outputs": [
    {
     "name": "stdout",
     "output_type": "stream",
     "text": [
      "[array([[[0.70711],\n",
      "        [0.70711]]]), array([[[0.70711],\n",
      "        [0.70711]]]), array([[[0.70711],\n",
      "        [0.70711]]]), array([[[0.70711],\n",
      "        [0.70711]]]), array([[[0.70711],\n",
      "        [0.70711]]]), array([[[0.70711],\n",
      "        [0.70711]]]), array([[[0.70711],\n",
      "        [0.70711]]]), array([[[0.70711],\n",
      "        [0.70711]]]), array([[[0.70711],\n",
      "        [0.70711]]]), array([[[0.70711],\n",
      "        [0.70711]]])]\n",
      "Z expectation value: [0. 0. 0. 0. 0. 0. 0. 0. 0. 0.]\n",
      "Entanglement entropy: [-0. -0. -0. -0. -0. -0. -0. -0. -0.]\n",
      "<Z1Z6>: 0.0\n"
     ]
    }
   ],
   "source": [
    "psi_PM = init_PM_MPS(L=10)\n",
    "print(psi_PM.Bs)\n",
    "\n",
    "Z = np.diag([1., -1.])\n",
    "\n",
    "print(f\"Z expectation value: {psi_PM.site_expectation_value(Z)}\")\n",
    "print(f\"Entanglement entropy: {psi_PM.entanglement_entropy()}\")\n",
    "print(f\"<Z1Z6>: {psi_PM.correlation_function(Z, 1, Z, 6)}\")"
   ]
  },
  {
   "cell_type": "code",
   "execution_count": 10,
   "metadata": {},
   "outputs": [
    {
     "data": {
      "text/plain": [
       "array([-0., -0., -0., -0., -0., -0., -0., -0., -0.])"
      ]
     },
     "execution_count": 10,
     "metadata": {},
     "output_type": "execute_result"
    }
   ],
   "source": []
  }
 ],
 "metadata": {
  "kernelspec": {
   "display_name": "Python 3",
   "language": "python",
   "name": "python3"
  },
  "language_info": {
   "codemirror_mode": {
    "name": "ipython",
    "version": 3
   },
   "file_extension": ".py",
   "mimetype": "text/x-python",
   "name": "python",
   "nbconvert_exporter": "python",
   "pygments_lexer": "ipython3",
   "version": "3.12.4"
  }
 },
 "nbformat": 4,
 "nbformat_minor": 2
}
