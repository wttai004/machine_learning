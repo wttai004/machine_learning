{
 "cells": [
  {
   "cell_type": "code",
   "execution_count": null,
   "metadata": {},
   "outputs": [],
   "source": []
  },
  {
   "cell_type": "markdown",
   "metadata": {},
   "source": [
    "## Reminder of how equivariance works:"
   ]
  },
  {
   "cell_type": "markdown",
   "metadata": {},
   "source": [
    "Suppose our feature are tuples $(r_i, x_i)$ where $r_i$ are spatial points and $x_i$ are features. Further assume there is a function linking them: $f(r_i) = x_i$. A neural network is fundamentally a linear map taking an input functon to an ouput functino $\\psi: f(\\mathcal{X}) \\rightarrow  f'(\\mathcal{X})$, e.g. taking a function of molecules -> features to molecules -> its energy.\n",
    "\n",
    "Promoting the group elements to work on this: define $g\\in G$ on the homogenous space $\\mathcal{X}$ acting on the functions $f: \\mathcal{X} \\rightarrow \\mathbf{R}^n$ via the linear map $\\mathbf{T}_g: f(\\mathcal{X}) \\rightarrow f'(\\mathcal{X})$: \n",
    "\n",
    "$$ f'(gx) = f(x) \\Rightarrow f'(x) = f(g^{-1} x)$$\n",
    "\n",
    "With this, we define an ENN as a map $\\psi: f(\\mathcal{X_1}) \\rightarrow  f'(\\mathcal{X_2})$ satisfying \n",
    "\n",
    "$$\\psi[\\mathbf{T}_g f(x)] = \\mathbf{T}'_g \\psi[f(x)] \\forall f(x)$$"
   ]
  },
  {
   "cell_type": "markdown",
   "metadata": {},
   "source": [
    "### G-Equivariant Convolution Layers\n",
    "\n",
    "G-Equivariant Convolution Theorem: a NN map (linear map) $\\psi$ is G-equivariant iff its form is a convolution operator *:\n",
    "\n",
    "$$\\psi(f) = (f *\\omega) (u) = \\sum_{g\\in G} f^{\\uparrow G} (ug^{-1}) \\omega^{\\uparrow G} (g)$$\n",
    "\n",
    "where $f: U\\rightarrow \\mathbf{R}^n$ and $\\omega: V\\rightarrow \\mathbf{R}^n$ are functions of $U$ and $V$ which are subgroups of $G$, usually defined as $U \\in G/H$. If $G$ is locally compact, the convolution oeprator is defined as \n",
    "\n",
    "$$\\psi(f) = (f *\\omega) (u) = \\int_G f^{\\uparrow G} (ug^{-1}) \\omega^{\\uparrow G} (g) d\\mu(g)$$\n",
    "\n",
    "The lifted functions $f^{\\uparrow G}$ acts on the group elements $g\\in G$. In general, $|G| \\geq |\\mathcal{X}|$, so we define $f^{\\uparrow G}(g) = f(gx_0)$. The intuition being we map the group element $g$ to the cosets stabilizer subgroup $H_0 : \\{g \\in G s.t. g x_0 = x_0\\}$, with $|gH_0| = |\\mathcal{X}|$. This way, if $gx_0 = x $ and $h \\in H_0: hx_0  = x_0$, then $ghx_0 = gx_0 = x$ "
   ]
  },
  {
   "cell_type": "code",
   "execution_count": 3,
   "metadata": {},
   "outputs": [
    {
     "ename": "ModuleNotFoundError",
     "evalue": "No module named 'dmol'",
     "output_type": "error",
     "traceback": [
      "\u001b[0;31m---------------------------------------------------------------------------\u001b[0m",
      "\u001b[0;31mModuleNotFoundError\u001b[0m                       Traceback (most recent call last)",
      "Cell \u001b[0;32mIn[3], line 3\u001b[0m\n\u001b[1;32m      1\u001b[0m \u001b[38;5;66;03m#import numpy as np\u001b[39;00m\n\u001b[1;32m      2\u001b[0m \u001b[38;5;28;01mimport\u001b[39;00m \u001b[38;5;21;01mmatplotlib\u001b[39;00m\u001b[38;5;21;01m.\u001b[39;00m\u001b[38;5;21;01mpyplot\u001b[39;00m \u001b[38;5;28;01mas\u001b[39;00m \u001b[38;5;21;01mplt\u001b[39;00m\n\u001b[0;32m----> 3\u001b[0m \u001b[38;5;28;01mimport\u001b[39;00m \u001b[38;5;21;01mdmol\u001b[39;00m\n\u001b[1;32m      4\u001b[0m \u001b[38;5;28;01mfrom\u001b[39;00m \u001b[38;5;21;01mdmol\u001b[39;00m \u001b[38;5;28;01mimport\u001b[39;00m color_cycle\n",
      "\u001b[0;31mModuleNotFoundError\u001b[0m: No module named 'dmol'"
     ]
    }
   ],
   "source": [
    "#unfortunately I can't actually run this. The dmol installation is bugged\n",
    "import numpy as np\n",
    "import matplotlib.pyplot as plt\n",
    "import dmol\n",
    "from dmol import color_cycle"
   ]
  },
  {
   "cell_type": "markdown",
   "metadata": {},
   "source": [
    "### G-Equivariant Convolutions with Translation\n",
    "\n",
    "Consider e.g. the p4m group. We cannot use the continuous convolution bove definition because the rotation is finite, and not the finite convolution because the translation subgroup is infinite. We divide things up (here $n$ is the translation and $h$ the rotation):\n",
    "\n",
    "$$\\psi(f) = (f *\\omega) (u) = \\sum_{n\\in N} \\sum_{h\\in H} f^{\\uparrow G} (un^{-1} h^{-1}) \\omega (hn)$$"
   ]
  },
  {
   "cell_type": "code",
   "execution_count": null,
   "metadata": {},
   "outputs": [],
   "source": [
    "###"
   ]
  },
  {
   "cell_type": "code",
   "execution_count": null,
   "metadata": {},
   "outputs": [],
   "source": []
  }
 ],
 "metadata": {
  "kernelspec": {
   "display_name": "tensorflow",
   "language": "python",
   "name": "python3"
  },
  "language_info": {
   "codemirror_mode": {
    "name": "ipython",
    "version": 3
   },
   "file_extension": ".py",
   "mimetype": "text/x-python",
   "name": "python",
   "nbconvert_exporter": "python",
   "pygments_lexer": "ipython3",
   "version": "3.11.8"
  }
 },
 "nbformat": 4,
 "nbformat_minor": 2
}
