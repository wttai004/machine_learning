{
 "cells": [
  {
   "cell_type": "code",
   "execution_count": null,
   "metadata": {},
   "outputs": [
    {
     "name": "stderr",
     "output_type": "stream",
     "text": [
      "/home1/wttai/TeNPy/tenpy/tools/optimization.py:317: UserWarning: Couldn't load compiled cython code. Code will run a bit slower.\n",
      "  warnings.warn(\"Couldn't load compiled cython code. Code will run a bit slower.\")\n"
     ]
    }
   ],
   "source": [
    "import numpy as np\n",
    "\n",
    "import tenpy\n",
    "from tenpy.models.lattice import Square\n",
    "from tenpy.models import CouplingMPOModel\n",
    "from tenpy.networks.site import SpinHalfFermionSite, spin_half_species\n",
    "from tenpy.networks.mps import MPS\n",
    "from tenpy.algorithms import dmrg\n",
    "from tenpy.algorithms.mps_common import DensityMatrixMixer\n",
    "from timeit import default_timer as timer\n"
   ]
  },
  {
   "cell_type": "code",
   "execution_count": 8,
   "metadata": {},
   "outputs": [],
   "source": [
    "# Lx = 6\n",
    "# Ly = 4\n",
    "# test_lattice = Square(Lx = Lx, Ly = Ly, site = SpinHalfFermionSite())\n",
    "# fig, ax = plt.subplots()\n",
    "# test_lattice.plot_order(ax)"
   ]
  },
  {
   "cell_type": "code",
   "execution_count": 2,
   "metadata": {},
   "outputs": [],
   "source": [
    "class FermiHubbardSquare(CouplingMPOModel):\n",
    "    \n",
    "    def init_sites(self, model_params):\n",
    "        cons_N = model_params.get('cons_N', 'N', str)\n",
    "        cons_Sz = model_params.get('cons_Sz', 'Sz', str)\n",
    "        site = SpinHalfFermionSite(cons_N=cons_N, cons_Sz=cons_Sz)\n",
    "        return site\n",
    "\n",
    "    def init_lattice(self, model_params):\n",
    "        site = self.init_sites(model_params)\n",
    "        Lx = model_params.get('Lx', 4)\n",
    "        Ly = model_params.get('Ly', 4)\n",
    "        bc_x = model_params.get('bc_x', 'open', str)\n",
    "        bc_y = model_params.get('bc_y', 'open', str)\n",
    "        return Square(Lx=Lx, Ly=Ly, site=site, bc = [bc_x, bc_y])\n",
    "\n",
    "    def init_terms(self, model_params):\n",
    "        # read out parameters\n",
    "        t = model_params.get(\"t\", 1.) \n",
    "        Uv = model_params.get(\"U\", 1.)\n",
    "        m = model_params.get(\"m\", 1)\n",
    "        # add terms\n",
    "        for u in range(len(self.lat.unit_cell)):\n",
    "            self.add_onsite(Uv, u, 'NuNd')\n",
    "            self.add_onsite(m, u, \"Nu\")\n",
    "            self.add_onsite(-m, u, \"Nd\")\n",
    "        for i1, i2, dx in self.lat.pairs[\"nearest_neighbors\"]:\n",
    "            print(i1, i2, dx)\n",
    "            self.add_coupling(t, i1, \"Cdu\", i2, \"Cu\", dx, plus_hc=True)\n",
    "            self.add_coupling(-t, i1, \"Cdd\", i2, \"Cd\", dx, plus_hc=True)\n",
    "            if np.array_equal(dx, [1,0]):\n",
    "                self.add_coupling(1j * t, i1, \"Cdu\", i2, \"Cd\", dx, plus_hc=True)\n",
    "                self.add_coupling(1j * t, i1, \"Cdd\", i2, \"Cu\", dx, plus_hc=True)\n",
    "            if np.array_equal(dx, [0,1]):\n",
    "                self.add_coupling(t, i1, \"Cdu\", i2, \"Cd\", dx, plus_hc=True)\n",
    "                self.add_coupling(-t, i1, \"Cdd\", i2, \"Cu\", dx, plus_hc=True)        \n"
   ]
  },
  {
   "cell_type": "code",
   "execution_count": 3,
   "metadata": {},
   "outputs": [
    {
     "name": "stdout",
     "output_type": "stream",
     "text": [
      "0 0 [1 0]\n",
      "0 0 [0 1]\n",
      "MPO bond dimensions: [2, 6, 10, 10, 2]\n"
     ]
    }
   ],
   "source": [
    "L = 2\n",
    "Lx = 2\n",
    "Ly = 2\n",
    "t = 1.0\n",
    "U = 1.0\n",
    "m = 5.0\n",
    "pbc = False\n",
    "\n",
    "# Create the Fermi-Hubbard Model\n",
    "model_params = {\n",
    "    't': t,                 # Nearest-neighbor hopping strength\n",
    "    'U': U,                 # On-site Hubbard interaction\n",
    "    'm': m,                 # Mass gap\n",
    "    'Lx': Lx,\n",
    "    'Ly': Ly,\n",
    "    'cons_Sz': None,\n",
    "    'cons_N': 'N',\n",
    "    'bc_x': 'periodic' if pbc else 'open',\n",
    "    'bc_y': 'periodic' if pbc else 'open'\n",
    "}\n",
    "\n",
    "dmrg_params = {\n",
    "    \"mixer\": DensityMatrixMixer,\n",
    "    \"mixer_params\": {\n",
    "        \"amplitude\": 0.3,\n",
    "        \"decay\": 2,\n",
    "        \"disable_after\": 50\n",
    "    },\n",
    "    \"trunc_params\": {\n",
    "        \"chi_max\": 500, #bond dimension\n",
    "        \"svd_min\": 1*10**-10\n",
    "    },\n",
    "    \"max_E_err\": 0.0001, #energy convergence step threshold\n",
    "    \"max_S_err\": 0.0001, #entropy convergence step threshold\n",
    "    \"max_sweeps\": 2000  #may or may not be enough to converge\n",
    "}\n",
    "\n",
    "\n",
    "model = FermiHubbardSquare(model_params)\n",
    "H_mpo = model.calc_H_MPO()\n",
    "print(f'MPO bond dimensions: {H_mpo.chi}')"
   ]
  },
  {
   "cell_type": "code",
   "execution_count": 4,
   "metadata": {},
   "outputs": [
    {
     "name": "stdout",
     "output_type": "stream",
     "text": [
      "(-20.739394027139113, <npc.Array shape=(256,) labels=['ps']>)\n"
     ]
    }
   ],
   "source": [
    "# Exact Diagonalization—for sanity check\n",
    "#CAUTION: this does not fix the particle fillings\n",
    "if Lx * Ly <= 8:\n",
    "    test = tenpy.algorithms.exact_diag.ExactDiag(model)\n",
    "    test.build_full_H_from_mpo()\n",
    "    test.full_diagonalization()\n",
    "    print(test.groundstate())"
   ]
  },
  {
   "cell_type": "code",
   "execution_count": 5,
   "metadata": {},
   "outputs": [
    {
     "name": "stdout",
     "output_type": "stream",
     "text": [
      "Ground state energy: -12.406379029853335\n"
     ]
    }
   ],
   "source": [
    "product_state = ['empty' if n < Lx * Ly // 2 else 'up' for n in range(Lx * Ly)]\n",
    "#product_state = [\"up\" for n in range(Lx * Ly)]\n",
    "\n",
    "psi = MPS.from_product_state(model.lat.mps_sites(), product_state, bc=model.lat.bc_MPS, dtype=np.complex128)\n",
    "\n",
    "engine = dmrg.TwoSiteDMRGEngine(psi, model, dmrg_params)\n",
    "\n",
    "E0, psi = engine.run()\n",
    "print(f'Ground state energy: {E0}')"
   ]
  },
  {
   "cell_type": "code",
   "execution_count": 6,
   "metadata": {},
   "outputs": [],
   "source": [
    "import h5py\n",
    "from tenpy.tools import hdf5_io\n",
    "data = {\"psi\": psi,  # e.g. an MPS\n",
    "        \"E0\": E0,  # ground state energy\n",
    "        \"model\": model,\n",
    "        \"sweepstats\": engine.sweep_stats,\n",
    "        \"parameters\": {\"L\": Lx * Ly, \"t\": t, \"U\": U, \"m\": m}\n",
    "}\n",
    "\n",
    "\n",
    "outputFilename=f\"machine_learning/dmrg_qwz/data/dmrg_log_L={L}_t={t}_m={m}_U={U}\"\n",
    "\n",
    "with h5py.File(outputFilename, 'w') as f:\n",
    "    hdf5_io.save_to_hdf5(f, data)"
   ]
  },
  {
   "cell_type": "code",
   "execution_count": null,
   "metadata": {},
   "outputs": [],
   "source": [
    "def index(i,j):\n",
    "    return i * Ly + j\n",
    "\n",
    "def compute_corr_sum(corrs, delta_x, delta_y, Lx, Ly):\n",
    "    \"\"\"\n",
    "    Compute the correlation function between two operators separated by a distance delta_x, delta_y\n",
    "\n",
    "    Parameters:\n",
    "    corrs: list of correlation functions psi.correlation_function(\"Nu\", \"Nu\")    \n",
    "           corrs[i][j] is the correlation function between the i-th and j-th sites\n",
    "    delta_x: distance in x direction\n",
    "    delta_y: distance in y direction\n",
    "    Lx: number of sites in x direction\n",
    "    Ly: number of sites in y direction\n",
    "\n",
    "    Return:\n",
    "    result: sum of the correlation function over the lattice\n",
    "    \"\"\"\n",
    "    # compute <n_is n_js>\n",
    "    result = 0\n",
    "    for i in range(Lx):\n",
    "        for j in range(Ly):\n",
    "            if i + delta_x >= Lx or j + delta_y >= Ly:\n",
    "                continue\n",
    "            result += corrs[index(i,j)][index(i+delta_x,j+delta_y)]\n",
    "    return result\n",
    "\n",
    "def compute_corr_results(corr_type, psi, Lx, Ly):\n",
    "    \"\"\"\n",
    "    Compute the correlation results for a specific type of correlation function.\n",
    "\n",
    "    Parameters:\n",
    "    op1, op2: string representing the operator type\n",
    "    psi: object containing the correlation function method\n",
    "    Lx: number of sites in x direction\n",
    "    Ly: number of sites in y direction\n",
    "\n",
    "    Returns:\n",
    "    corr_result: 2D numpy array of correlation sums\n",
    "    \"\"\"\n",
    "    corrs = psi.correlation_function(*corr_type)\n",
    "    corr_result = np.array([[compute_corr_sum(corrs, i, j, Lx, Ly) for j in range(Ly)] for i in range(Lx)])\n",
    "    return corr_result\n",
    "\n",
    "correlation_types = {\n",
    "    \"uu\": (\"Nu\", \"Nu\"),\n",
    "    \"ud\": (\"Nu\", \"Nd\"),\n",
    "    \"dd\": (\"Nd\", \"Nd\")\n",
    "}\n",
    "\n",
    "# Compute and store correlation results\n",
    "corrs_results = {}\n",
    "for label, corr_type in correlation_types.items():\n",
    "    corrs_results[label] = compute_corr_results(corr_type, psi, Lx, Ly)"
   ]
  },
  {
   "cell_type": "code",
   "execution_count": 36,
   "metadata": {},
   "outputs": [
    {
     "data": {
      "text/plain": [
       "{'uu': array([[2.94824007e-31, 3.37729038e-65],\n",
       "        [2.88004167e-63, 0.00000000e+00]]),\n",
       " 'ud': array([[2.73777897e-32, 1.08136890e-32],\n",
       "        [2.57051635e-32, 2.04137542e-32]]),\n",
       " 'dd': array([[2.        , 0.43865534],\n",
       "        [0.06134466, 0.41404012]])}"
      ]
     },
     "execution_count": 36,
     "metadata": {},
     "output_type": "execute_result"
    }
   ],
   "source": [
    "corrs_results"
   ]
  },
  {
   "cell_type": "code",
   "execution_count": null,
   "metadata": {},
   "outputs": [
    {
     "data": {
      "text/plain": [
       "array([[1.04195412e-02, 4.76002132e-05, 4.76002132e-05, 9.49006612e-05],\n",
       "       [4.76002132e-05, 1.04195412e-02, 9.49006612e-05, 4.76002132e-05],\n",
       "       [4.76002132e-05, 9.49006612e-05, 1.04195412e-02, 4.76002132e-05],\n",
       "       [9.49006612e-05, 4.76002132e-05, 4.76002132e-05, 1.04195412e-02]])"
      ]
     },
     "execution_count": 14,
     "metadata": {},
     "output_type": "execute_result"
    }
   ],
   "source": [
    "psi.correlation_function(\"Nu\", \"Nu\")"
   ]
  },
  {
   "cell_type": "code",
   "execution_count": null,
   "metadata": {},
   "outputs": [
    {
     "data": {
      "text/plain": [
       "{'sweep': [1, 2, 3, 4, 5, 6, 7, 8, 9, 10, 11, 12, 13, 14, 15],\n",
       " 'N_updates': [4, 8, 12, 16, 20, 24, 28, 32, 36, 40, 44, 48, 52, 56, 60],\n",
       " 'E': [-12.404987750429425,\n",
       "  -12.406379029853337,\n",
       "  -12.406379029853339,\n",
       "  -12.406379029853337,\n",
       "  -12.406379029853342,\n",
       "  -12.406379029853339,\n",
       "  -12.406379029853333,\n",
       "  -12.40637902985333,\n",
       "  -12.406379029853335,\n",
       "  -12.406379029853339,\n",
       "  -12.40637902985333,\n",
       "  -12.406379029853332,\n",
       "  -12.406379029853333,\n",
       "  -12.406379029853337,\n",
       "  -12.406379029853335],\n",
       " 'Delta_E': [nan,\n",
       "  -0.0013912794239114845,\n",
       "  -1.7763568394002505e-15,\n",
       "  1.7763568394002505e-15,\n",
       "  -5.329070518200751e-15,\n",
       "  3.552713678800501e-15,\n",
       "  5.329070518200751e-15,\n",
       "  3.552713678800501e-15,\n",
       "  -5.329070518200751e-15,\n",
       "  -3.552713678800501e-15,\n",
       "  8.881784197001252e-15,\n",
       "  -1.7763568394002505e-15,\n",
       "  -1.7763568394002505e-15,\n",
       "  -3.552713678800501e-15,\n",
       "  1.7763568394002505e-15],\n",
       " 'S': [0.8159429221629696,\n",
       "  0.8607039754072904,\n",
       "  0.8219409986735832,\n",
       "  0.7921070493171921,\n",
       "  0.771894939546697,\n",
       "  0.7592649747518759,\n",
       "  0.7517697395403485,\n",
       "  0.7474744731439386,\n",
       "  0.7450771083732391,\n",
       "  0.7437690952841729,\n",
       "  0.7430705283591132,\n",
       "  0.7427047996053292,\n",
       "  0.7425165016119962,\n",
       "  0.7424207275906073,\n",
       "  0.7423237295462309],\n",
       " 'Delta_S': [0.8159429221629696,\n",
       "  0.04476105324432078,\n",
       "  -0.03876297673370721,\n",
       "  -0.029833949356391054,\n",
       "  -0.020212109770495146,\n",
       "  -0.012629964794821036,\n",
       "  -0.007495235211527396,\n",
       "  -0.00429526639640998,\n",
       "  -0.002397364770699406,\n",
       "  -0.0013080130890662511,\n",
       "  -0.0006985669250596516,\n",
       "  -0.0003657287537840448,\n",
       "  -0.00018829799333297537,\n",
       "  -9.577402138893909e-05,\n",
       "  -9.699804437635073e-05],\n",
       " 'max_S': [0.9214934308679613,\n",
       "  1.0512979044198216,\n",
       "  0.9350089742186911,\n",
       "  0.8455071261495194,\n",
       "  0.8346568549654012,\n",
       "  0.834656854965397,\n",
       "  0.834656854965406,\n",
       "  0.834656854965402,\n",
       "  0.8346568549654149,\n",
       "  0.834656854965408,\n",
       "  0.8346568549654099,\n",
       "  0.8346568549654054,\n",
       "  0.8346568549654098,\n",
       "  0.8346568549654254,\n",
       "  0.8346568549654098],\n",
       " 'time': [0.11272859573364258,\n",
       "  0.33180737495422363,\n",
       "  0.4253857135772705,\n",
       "  0.5187175273895264,\n",
       "  0.6120560169219971,\n",
       "  0.7054016590118408,\n",
       "  0.7986245155334473,\n",
       "  0.8918380737304688,\n",
       "  0.9849207401275635,\n",
       "  1.0857477188110352,\n",
       "  1.1833751201629639,\n",
       "  1.2771425247192383,\n",
       "  1.3704347610473633,\n",
       "  1.4636471271514893,\n",
       "  1.5307090282440186],\n",
       " 'max_trunc_err': [4.0575730879043986e-21,\n",
       "  6.862648435905271e-22,\n",
       "  7.350333449233348e-22,\n",
       "  4.83465196163191e-21,\n",
       "  1.517979171951554e-20,\n",
       "  1.0496554792525384e-20,\n",
       "  3.009222914473875e-21,\n",
       "  3.6890361466583865e-21,\n",
       "  2.1041268349829992e-21,\n",
       "  8.346311760847637e-21,\n",
       "  9.911262424746476e-21,\n",
       "  1.9271688958057805e-21,\n",
       "  3.3862706290342086e-21,\n",
       "  6.115070564114864e-21,\n",
       "  0.0],\n",
       " 'max_E_trunc': [0.0,\n",
       "  3.552713678800501e-15,\n",
       "  8.881784197001252e-15,\n",
       "  1.7763568394002505e-15,\n",
       "  1.4210854715202004e-14,\n",
       "  5.329070518200751e-15,\n",
       "  1.7763568394002505e-15,\n",
       "  5.329070518200751e-15,\n",
       "  5.329070518200751e-15,\n",
       "  7.105427357601002e-15,\n",
       "  1.7763568394002505e-15,\n",
       "  1.7763568394002505e-14,\n",
       "  -1.7763568394002505e-15,\n",
       "  3.552713678800501e-15,\n",
       "  8.881784197001252e-15],\n",
       " 'max_chi': [8, 9, 9, 9, 9, 8, 7, 9, 9, 8, 9, 8, 9, 7, 6],\n",
       " 'norm_err': [0.7511409593283432,\n",
       "  2.739494752959751e-14,\n",
       "  2.2301685264659653e-14,\n",
       "  2.1217776982539917e-14,\n",
       "  1.4721910847525158e-14,\n",
       "  2.018528236559387e-14,\n",
       "  2.589441026738464e-14,\n",
       "  1.79646562246879e-14,\n",
       "  1.5797401342589042e-14,\n",
       "  5.649314852855934e-14,\n",
       "  3.6159728787928054e-14,\n",
       "  1.2710069705106046e-14,\n",
       "  1.4192856828434923e-14,\n",
       "  2.9184366610663637e-14,\n",
       "  2.919151176310062e-14]}"
      ]
     },
     "execution_count": 7,
     "metadata": {},
     "output_type": "execute_result"
    }
   ],
   "source": [
    "engine.sweep_stats"
   ]
  },
  {
   "cell_type": "code",
   "execution_count": null,
   "metadata": {},
   "outputs": [
    {
     "data": {
      "image/png": "[encoded data removed]",
      "text/plain": [
       "<Figure size 640x480 with 1 Axes>"
      ]
     },
     "metadata": {},
     "output_type": "display_data"
    }
   ],
   "source": [
    "engine.plot_sweep_stats()"
   ]
  },
  {
   "cell_type": "code",
   "execution_count": null,
   "metadata": {},
   "outputs": [
    {
     "name": "stdout",
     "output_type": "stream",
     "text": [
      "Using square_8d0 with qwz\n",
      "Evaluating the spectrum information for U = 1.0, t = 1.0, m = 1.0.\n",
      "The low energy spectrum consists of energies: [-15.92535588 -15.14535794 -14.52283518 -14.52292879 -13.91636269]\n"
     ]
    }
   ],
   "source": [
    "# Comparison with Martin's ed result\n",
    "\n",
    "import sys, os\n",
    "sys.path.append(\"common_lib/test/\")\n",
    "from test_qwz_spin_projected_energy import test_qwz_spin_projected_energy  \n",
    "test_qwz_spin_projected_energy(\"square_8d0\", t = t, m = m, U = U) "
   ]
  }
 ],
 "metadata": {
  "kernelspec": {
   "display_name": "Python 3",
   "language": "python",
   "name": "python3"
  },
  "language_info": {
   "codemirror_mode": {
    "name": "ipython",
    "version": 3
   },
   "file_extension": ".py",
   "mimetype": "text/x-python",
   "name": "python",
   "nbconvert_exporter": "python",
   "pygments_lexer": "ipython3",
   "version": "3.12.4"
  }
 },
 "nbformat": 4,
 "nbformat_minor": 2
}
