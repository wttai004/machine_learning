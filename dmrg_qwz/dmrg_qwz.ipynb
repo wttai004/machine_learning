{
 "cells": [
  {
   "cell_type": "code",
   "execution_count": 1,
   "metadata": {},
   "outputs": [
    {
     "name": "stderr",
     "output_type": "stream",
     "text": [
      "/home1/wttai/TeNPy/tenpy/tools/optimization.py:317: UserWarning: Couldn't load compiled cython code. Code will run a bit slower.\n",
      "  warnings.warn(\"Couldn't load compiled cython code. Code will run a bit slower.\")\n"
     ]
    }
   ],
   "source": [
    "import numpy as np\n",
    "\n",
    "import tenpy\n",
    "from tenpy.models.hubbard import FermiHubbardChain\n",
    "from tenpy.models.lattice import Square\n",
    "from tenpy.models import CouplingMPOModel\n",
    "from tenpy.networks.site import FermionSite, BosonSite, SpinHalfFermionSite, spin_half_species\n",
    "from tenpy.networks.mps import MPS\n",
    "from tenpy.networks.mpo import MPO\n",
    "from tenpy.algorithms import dmrg, tebd, tdvp\n",
    "from tenpy.algorithms.mps_common import DensityMatrixMixer, SubspaceExpansion\n",
    "import tenpy.linalg.np_conserved as npc\n",
    "import h5py\n",
    "from timeit import default_timer as timer\n",
    "from tqdm import tqdm\n",
    "import matplotlib.pyplot as plt\n"
   ]
  },
  {
   "cell_type": "code",
   "execution_count": 2,
   "metadata": {},
   "outputs": [],
   "source": [
    "class FermiHubbardSquare(CouplingMPOModel):\n",
    "    \n",
    "    def init_sites(self, model_params):\n",
    "        cons_N = model_params.get('cons_N', 'N', str)\n",
    "        cons_Sz = model_params.get('cons_Sz', 'Sz', str)\n",
    "        site = SpinHalfFermionSite(cons_N=cons_N, cons_Sz=cons_Sz)\n",
    "        return site\n",
    "\n",
    "    def init_lattice(self, model_params):\n",
    "        site = self.init_sites(model_params)\n",
    "        Lx = model_params.get('Lx', 4)\n",
    "        Ly = model_params.get('Ly', 4)\n",
    "        return Square(Lx=Lx, Ly=Ly, site=site)\n",
    "\n",
    "    def init_terms(self, model_params):\n",
    "        # read out parameters\n",
    "        t = model_params.get(\"t\", 1.) \n",
    "        Uv = model_params.get(\"U\", 1.)\n",
    "        m = model_params.get(\"m\", 1)\n",
    "        # add terms\n",
    "        for u in range(len(self.lat.unit_cell)):\n",
    "            self.add_onsite(Uv, u, 'NuNd')\n",
    "            self.add_onsite(m, u, \"Nu\")\n",
    "            self.add_onsite(-m, u, \"Nd\")\n",
    "        for i1, i2, dx in self.lat.pairs[\"nearest_neighbors\"]:\n",
    "            self.add_coupling(t, i1, \"Cdu\", i2, \"Cu\", dx, plus_hc=True)\n",
    "            self.add_coupling(-t, i1, \"Cdd\", i2, \"Cd\", dx, plus_hc=True)\n",
    "            if np.array_equal(dx, [1,0]):\n",
    "                self.add_coupling(1j * t, i1, \"Cdu\", i2, \"Cd\", dx, plus_hc=True)\n",
    "                self.add_coupling(1j * t, i1, \"Cdd\", i2, \"Cu\", dx, plus_hc=True)\n",
    "            if np.array_equal(dx, [0,1]):\n",
    "                self.add_coupling(t, i1, \"Cdu\", i2, \"Cd\", dx, plus_hc=True)\n",
    "                self.add_coupling(-t, i1, \"Cdd\", i2, \"Cu\", dx, plus_hc=True)        "
   ]
  },
  {
   "cell_type": "code",
   "execution_count": 5,
   "metadata": {},
   "outputs": [
    {
     "data": {
      "image/png": "[encoded data removed]",
      "text/plain": [
       "<Figure size 640x480 with 1 Axes>"
      ]
     },
     "metadata": {},
     "output_type": "display_data"
    }
   ],
   "source": [
    "fig, ax = plt.subplots()\n",
    "lat = Square(Lx=3, Ly=3, site= SpinHalfFermionSite)\n",
    "lat.plot_coupling(ax)\n",
    "lat.plot_order(ax, linestyle=':')\n",
    "lat.plot_sites(ax)\n",
    "lat.plot_basis(ax, origin=-0.5*(lat.basis[0] + lat.basis[1]))"
   ]
  },
  {
   "cell_type": "code",
   "execution_count": 9,
   "metadata": {},
   "outputs": [
    {
     "name": "stderr",
     "output_type": "stream",
     "text": [
      "INFO:tenpy.tools.params:FermiHubbardSquare: reading 'cons_N'='N'\n",
      "INFO:tenpy.tools.params:FermiHubbardSquare: reading 'cons_Sz'=None\n",
      "INFO:tenpy.tools.params:FermiHubbardSquare: reading 'Lx'=2\n",
      "INFO:tenpy.tools.params:FermiHubbardSquare: reading 'Ly'=2\n",
      "INFO:tenpy.tools.params:FermiHubbardSquare: reading 't'=1.0\n",
      "INFO:tenpy.tools.params:FermiHubbardSquare: reading 'U'=1.0\n",
      "INFO:tenpy.tools.params:FermiHubbardSquare: reading 'm'=1.0\n"
     ]
    },
    {
     "name": "stdout",
     "output_type": "stream",
     "text": [
      "MPO bond dimensions: [2, 6, 10, 10, 2]\n"
     ]
    }
   ],
   "source": [
    "L = 2\n",
    "Lx = 2\n",
    "Ly = 2\n",
    "t = 1.0\n",
    "U = 1.0\n",
    "m = 1.0\n",
    "# Create the Fermi-Hubbard Model\n",
    "model_params = {\n",
    "    't': t,                 # Nearest-neighbor hopping strength\n",
    "    'U': U,                 # On-site Hubbard interaction\n",
    "    'm': m,                 # Mass gap\n",
    "    'Lx': Lx,\n",
    "    'Ly': Ly,\n",
    "    'cons_Sz': None,\n",
    "    'cons_N': 'N',\n",
    "}\n",
    "\n",
    "model = FermiHubbardSquare(model_params)\n",
    "H_mpo = model.calc_H_MPO()\n",
    "print(f'MPO bond dimensions: {H_mpo.chi}')\n"
   ]
  },
  {
   "cell_type": "code",
   "execution_count": 5,
   "metadata": {},
   "outputs": [
    {
     "name": "stdout",
     "output_type": "stream",
     "text": [
      "(-7.020323850733519, <npc.Array shape=(256,) labels=['ps']>)\n"
     ]
    }
   ],
   "source": [
    "# Exact Diagonalization—for sanity check\n",
    "if Lx * Ly < 8:\n",
    "    test = tenpy.algorithms.exact_diag.ExactDiag(model)\n",
    "    test.build_full_H_from_mpo()\n",
    "    test.full_diagonalization()\n",
    "    print(test.groundstate())"
   ]
  },
  {
   "cell_type": "code",
   "execution_count": 6,
   "metadata": {},
   "outputs": [],
   "source": [
    "import logging\n",
    "logging.basicConfig(level=logging.INFO)"
   ]
  },
  {
   "cell_type": "code",
   "execution_count": 7,
   "metadata": {},
   "outputs": [
    {
     "name": "stderr",
     "output_type": "stream",
     "text": [
      "INFO:tenpy.tools.params:TwoSiteDMRGEngine: subconfig 'trunc_params'=Config(<2 options>, 'trunc_params')\n",
      "INFO:tenpy.tools.params:TwoSiteDMRGEngine: subconfig 'mixer_params'=Config(<3 options>, 'mixer_params')\n",
      "INFO:tenpy.tools.params:TwoSiteDMRGEngine: reading 'mixer'=<class 'tenpy.algorithms.mps_common.DensityMatrixMixer'>\n",
      "INFO:tenpy.algorithms.mps_common:activate DensityMatrixMixer with initial amplitude 0.3\n",
      "INFO:tenpy.tools.params:TwoSiteDMRGEngine: reading 'max_sweeps'=1000\n",
      "INFO:tenpy.algorithms.dmrg:Running sweep with optimization\n",
      "INFO:tenpy.tools.params:trunc_params: reading 'chi_max'=100\n",
      "INFO:tenpy.tools.params:trunc_params: reading 'svd_min'=1e-10\n",
      "INFO:tenpy.tools.params:lanczos_params: setting 'P_tol'=5.0000000000000005e-22\n",
      "INFO:tenpy.algorithms.dmrg:checkpoint after sweep 1\n",
      "energy=-6.9617218422268987, max S=1.2462086558271932, age=4, norm_err=2.8e-01\n",
      "Current memory usage 165.0MB, wall time: 0.1s\n",
      "Delta E = nan, Delta S = 1.1582e+00 (per sweep)\n",
      "max trunc_err = 7.6953e-21, max E_trunc = 8.8818e-16\n",
      "chi: [4, 16, 4]\n",
      "================================================================================\n",
      "INFO:tenpy.algorithms.dmrg:Running sweep with optimization\n",
      "INFO:tenpy.algorithms.dmrg:checkpoint after sweep 2\n",
      "energy=-6.9617218422269023, max S=1.2462086558271916, age=4, norm_err=1.7e-15\n",
      "Current memory usage 165.3MB, wall time: 0.1s\n",
      "Delta E = -3.5527e-15, Delta S = 3.9733e-02 (per sweep)\n",
      "max trunc_err = 1.2490e-20, max E_trunc = 6.2172e-15\n",
      "chi: [4, 16, 4]\n",
      "================================================================================\n",
      "INFO:tenpy.tools.params:TwoSiteDMRGEngine: reading 'max_E_err'=0.0001\n",
      "INFO:tenpy.tools.params:TwoSiteDMRGEngine: reading 'max_S_err'=0.0001\n",
      "INFO:tenpy.algorithms.dmrg:Running sweep with optimization\n",
      "INFO:tenpy.algorithms.dmrg:checkpoint after sweep 3\n",
      "energy=-6.9617218422269049, max S=1.2462086558271932, age=4, norm_err=3.6e-15\n",
      "Current memory usage 165.3MB, wall time: 0.1s\n",
      "Delta E = -2.6645e-15, Delta S = -1.5128e-02 (per sweep)\n",
      "max trunc_err = 6.8668e-21, max E_trunc = 4.4409e-15\n",
      "chi: [4, 16, 4]\n",
      "================================================================================\n",
      "INFO:tenpy.algorithms.dmrg:Running sweep with optimization\n",
      "INFO:tenpy.algorithms.dmrg:checkpoint after sweep 4\n",
      "energy=-6.9617218422269040, max S=1.2462086558271928, age=4, norm_err=1.5e-15\n",
      "Current memory usage 165.3MB, wall time: 0.1s\n",
      "Delta E = 8.8818e-16, Delta S = -1.0235e-02 (per sweep)\n",
      "max trunc_err = 8.6412e-21, max E_trunc = 6.2172e-15\n",
      "chi: [4, 16, 4]\n",
      "================================================================================\n",
      "INFO:tenpy.algorithms.dmrg:Running sweep with optimization\n",
      "INFO:tenpy.algorithms.dmrg:checkpoint after sweep 5\n",
      "energy=-6.9617218422268978, max S=1.2462086558271939, age=4, norm_err=1.3e-15\n",
      "Current memory usage 165.3MB, wall time: 0.1s\n",
      "Delta E = 6.2172e-15, Delta S = -6.0289e-03 (per sweep)\n",
      "max trunc_err = 1.1680e-20, max E_trunc = 2.6645e-15\n",
      "chi: [4, 16, 4]\n",
      "================================================================================\n",
      "INFO:tenpy.algorithms.dmrg:Running sweep with optimization\n",
      "INFO:tenpy.algorithms.dmrg:checkpoint after sweep 6\n",
      "energy=-6.9617218422269014, max S=1.2462086558271916, age=4, norm_err=2.8e-15\n",
      "Current memory usage 165.3MB, wall time: 0.1s\n",
      "Delta E = -3.5527e-15, Delta S = -3.2842e-03 (per sweep)\n",
      "max trunc_err = 1.1963e-20, max E_trunc = 1.7764e-15\n",
      "chi: [4, 16, 4]\n",
      "================================================================================\n",
      "INFO:tenpy.algorithms.dmrg:Running sweep with optimization\n",
      "INFO:tenpy.algorithms.dmrg:checkpoint after sweep 7\n",
      "energy=-6.9617218422269014, max S=1.2462086558271932, age=4, norm_err=1.7e-15\n",
      "Current memory usage 165.3MB, wall time: 0.1s\n",
      "Delta E = 0.0000e+00, Delta S = -1.7157e-03 (per sweep)\n",
      "max trunc_err = 2.1160e-20, max E_trunc = 3.5527e-15\n",
      "chi: [4, 16, 4]\n",
      "================================================================================\n",
      "INFO:tenpy.algorithms.dmrg:Running sweep with optimization\n",
      "INFO:tenpy.algorithms.dmrg:checkpoint after sweep 8\n",
      "energy=-6.9617218422269023, max S=1.2462086558271914, age=4, norm_err=2.6e-15\n",
      "Current memory usage 165.4MB, wall time: 0.1s\n",
      "Delta E = -8.8818e-16, Delta S = -8.7714e-04 (per sweep)\n",
      "max trunc_err = 1.3938e-20, max E_trunc = 8.8818e-16\n",
      "chi: [4, 16, 4]\n",
      "================================================================================\n",
      "INFO:tenpy.algorithms.dmrg:Running sweep with optimization\n",
      "INFO:tenpy.algorithms.dmrg:checkpoint after sweep 9\n",
      "energy=-6.9617218422269023, max S=1.2462086558271923, age=4, norm_err=1.2e-15\n",
      "Current memory usage 167.1MB, wall time: 0.1s\n",
      "Delta E = 0.0000e+00, Delta S = -4.4350e-04 (per sweep)\n",
      "max trunc_err = 1.2499e-20, max E_trunc = 2.6645e-15\n",
      "chi: [4, 16, 4]\n",
      "================================================================================\n",
      "INFO:tenpy.algorithms.dmrg:Running sweep with optimization\n",
      "INFO:tenpy.algorithms.dmrg:checkpoint after sweep 10\n",
      "energy=-6.9617218422269040, max S=1.2462086558271923, age=4, norm_err=2.4e-15\n",
      "Current memory usage 167.1MB, wall time: 0.1s\n",
      "Delta E = -1.7764e-15, Delta S = -2.2300e-04 (per sweep)\n",
      "max trunc_err = 8.8088e-21, max E_trunc = 6.2172e-15\n",
      "chi: [4, 16, 4]\n",
      "================================================================================\n",
      "INFO:tenpy.algorithms.dmrg:Running sweep with optimization\n",
      "INFO:tenpy.algorithms.dmrg:checkpoint after sweep 11\n",
      "energy=-6.9617218422269058, max S=1.2462086558271941, age=4, norm_err=2.1e-15\n",
      "Current memory usage 167.1MB, wall time: 0.1s\n",
      "Delta E = -1.7764e-15, Delta S = -1.1181e-04 (per sweep)\n",
      "max trunc_err = 1.2126e-20, max E_trunc = 2.6645e-15\n",
      "chi: [4, 16, 4]\n",
      "================================================================================\n",
      "INFO:tenpy.algorithms.dmrg:Running sweep with optimization\n",
      "INFO:tenpy.algorithms.dmrg:checkpoint after sweep 12\n",
      "energy=-6.9617218422269023, max S=1.2462086558271930, age=4, norm_err=1.7e-15\n",
      "Current memory usage 167.1MB, wall time: 0.1s\n",
      "Delta E = 3.5527e-15, Delta S = -5.5984e-05 (per sweep)\n",
      "max trunc_err = 1.1570e-20, max E_trunc = 2.6645e-15\n",
      "chi: [4, 16, 4]\n",
      "================================================================================\n",
      "INFO:tenpy.algorithms.mps_common:TwoSiteDMRGEngine: Convergence criterion reached with enabled mixer. Disable mixer and continue.\n",
      "INFO:tenpy.algorithms.mps_common:deactivate DensityMatrixMixer with final amplitude 7.32421875e-05\n",
      "INFO:tenpy.algorithms.dmrg:Running sweep with optimization\n",
      "INFO:tenpy.algorithms.dmrg:checkpoint after sweep 13\n",
      "energy=-6.9617218422269014, max S=1.2462086558271932, age=4, norm_err=2.4e-15\n",
      "Current memory usage 167.2MB, wall time: 0.1s\n",
      "Delta E = 8.8818e-16, Delta S = -5.6037e-05 (per sweep)\n",
      "max trunc_err = 0.0000e+00, max E_trunc = 1.7764e-15\n",
      "chi: [4, 16, 4]\n",
      "================================================================================\n",
      "INFO:tenpy.algorithms.dmrg:TwoSiteDMRGEngine finished after 13 sweeps, max chi=16\n"
     ]
    },
    {
     "name": "stdout",
     "output_type": "stream",
     "text": [
      "Ground state energy: -6.961721842226901\n"
     ]
    }
   ],
   "source": [
    "dmrg_params = {\n",
    "    \"mixer\": DensityMatrixMixer,\n",
    "    \"mixer_params\": {\n",
    "        \"amplitude\": 0.3,\n",
    "        \"decay\": 2,\n",
    "        \"disable_after\": 20\n",
    "    },\n",
    "    \"trunc_params\": {\n",
    "        \"chi_max\": 100, #bond dimension\n",
    "        \"svd_min\": 1*10**-10\n",
    "    },\n",
    "    \"max_E_err\": 0.0001, #energy convergence step threshold\n",
    "    \"max_S_err\": 0.0001, #entropy convergence step threshold\n",
    "    \"max_sweeps\": 1000  #may or may not be enough to converge\n",
    "}\n",
    "\n",
    "product_state = [ 'down' for n in range(Lx * Ly) ]\n",
    "psi = MPS.from_product_state(model.lat.mps_sites(), product_state, bc=model.lat.bc_MPS)\n",
    "\n",
    "engine = dmrg.TwoSiteDMRGEngine(psi, model, dmrg_params)\n",
    "\n",
    "E0, psi = engine.run()\n",
    "print(f'Ground state energy: {E0}')"
   ]
  },
  {
   "cell_type": "code",
   "execution_count": 16,
   "metadata": {},
   "outputs": [],
   "source": [
    "import h5py\n",
    "from tenpy.tools import hdf5_io\n",
    "data = {\"psi\": psi,  # e.g. an MPS\n",
    "        \"E0\": E0,  # ground state energy\n",
    "        \"model\": model,\n",
    "        \"sweepstats\": engine.sweep_stats,\n",
    "        \"parameters\": {\"L\": Lx * Ly, \"t\": t, \"U\": U, \"m\": m}\n",
    "}\n",
    "\n",
    "\n",
    "outputFilename=f\"machine_learning/dmrg_qwz/data/dmrg_log_L={L}_t={t}_m={m}_U={U}\"\n",
    "\n",
    "with h5py.File(outputFilename, 'w') as f:\n",
    "    hdf5_io.save_to_hdf5(f, data)"
   ]
  },
  {
   "cell_type": "code",
   "execution_count": 26,
   "metadata": {},
   "outputs": [],
   "source": [
    "t = 1.0\n",
    "m = 5.0\n",
    "U = 1.0\n",
    "outputFilename=f\"machine_learning/dmrg_qwz/data/dmrg_log_L={4}_t={t}_m={m}_U={U}\"\n",
    "with h5py.File(outputFilename, 'r') as f:\n",
    "    data = hdf5_io.load_from_hdf5(f)"
   ]
  },
  {
   "cell_type": "code",
   "execution_count": 18,
   "metadata": {},
   "outputs": [
    {
     "data": {
      "text/plain": [
       "{'E0': -6.961721842226901,\n",
       " 'model': <__main__.FermiHubbardSquare at 0x2b16570491f0>,\n",
       " 'parameters': {'L': 4, 'U': 1.0, 'm': 1.0, 't': 1.0},\n",
       " 'psi': <tenpy.networks.mps.MPS at 0x2b1657048bf0>,\n",
       " 'sweepstats': {'Delta_E': [nan,\n",
       "   -3.552713678800501e-15,\n",
       "   -2.6645352591003757e-15,\n",
       "   8.881784197001252e-16,\n",
       "   6.217248937900877e-15,\n",
       "   -3.552713678800501e-15,\n",
       "   0.0,\n",
       "   -8.881784197001252e-16,\n",
       "   0.0,\n",
       "   -1.7763568394002505e-15,\n",
       "   -1.7763568394002505e-15,\n",
       "   3.552713678800501e-15,\n",
       "   8.881784197001252e-16],\n",
       "  'Delta_S': [1.1581506363829082,\n",
       "   0.0397328040607281,\n",
       "   -0.015128080044247705,\n",
       "   -0.010235093573874199,\n",
       "   -0.006028866940926747,\n",
       "   -0.0032841601217037386,\n",
       "   -0.0017157410328076939,\n",
       "   -0.000877138509647768,\n",
       "   -0.00044349793022346873,\n",
       "   -0.0002229954268804235,\n",
       "   -0.00011181113684144428,\n",
       "   -5.598415161567338e-05,\n",
       "   -5.603662729880554e-05],\n",
       "  'E': [-6.961721842226899,\n",
       "   -6.961721842226902,\n",
       "   -6.961721842226905,\n",
       "   -6.961721842226904,\n",
       "   -6.961721842226898,\n",
       "   -6.961721842226901,\n",
       "   -6.961721842226901,\n",
       "   -6.961721842226902,\n",
       "   -6.961721842226902,\n",
       "   -6.961721842226904,\n",
       "   -6.961721842226906,\n",
       "   -6.961721842226902,\n",
       "   -6.961721842226901],\n",
       "  'N_updates': [4, 8, 12, 16, 20, 24, 28, 32, 36, 40, 44, 48, 52],\n",
       "  'S': [1.1581506363829082,\n",
       "   1.1978834404436363,\n",
       "   1.1827553603993886,\n",
       "   1.1725202668255144,\n",
       "   1.1664913998845876,\n",
       "   1.1632072397628839,\n",
       "   1.1614914987300762,\n",
       "   1.1606143602204284,\n",
       "   1.160170862290205,\n",
       "   1.1599478668633245,\n",
       "   1.159836055726483,\n",
       "   1.1597800715748674,\n",
       "   1.1597240349475686],\n",
       "  'max_E_trunc': [8.881784197001252e-16,\n",
       "   6.217248937900877e-15,\n",
       "   4.440892098500626e-15,\n",
       "   6.217248937900877e-15,\n",
       "   2.6645352591003757e-15,\n",
       "   1.7763568394002505e-15,\n",
       "   3.552713678800501e-15,\n",
       "   8.881784197001252e-16,\n",
       "   2.6645352591003757e-15,\n",
       "   6.217248937900877e-15,\n",
       "   2.6645352591003757e-15,\n",
       "   2.6645352591003757e-15,\n",
       "   1.7763568394002505e-15],\n",
       "  'max_S': [1.2462086558271932,\n",
       "   1.2462086558271916,\n",
       "   1.2462086558271932,\n",
       "   1.2462086558271928,\n",
       "   1.2462086558271939,\n",
       "   1.2462086558271916,\n",
       "   1.2462086558271932,\n",
       "   1.2462086558271914,\n",
       "   1.2462086558271923,\n",
       "   1.2462086558271923,\n",
       "   1.246208655827194,\n",
       "   1.246208655827193,\n",
       "   1.2462086558271932],\n",
       "  'max_chi': [16, 16, 16, 16, 16, 16, 16, 16, 16, 16, 16, 16, 16],\n",
       "  'max_trunc_err': [7.695275255452743e-21,\n",
       "   1.2489627311241029e-20,\n",
       "   6.866847831285508e-21,\n",
       "   8.641232584723533e-21,\n",
       "   1.167962550642944e-20,\n",
       "   1.1963379872734654e-20,\n",
       "   2.1159960568263667e-20,\n",
       "   1.3937774006917015e-20,\n",
       "   1.2499252898197914e-20,\n",
       "   8.808760310248639e-21,\n",
       "   1.2125539619405983e-20,\n",
       "   1.1569699932465963e-20,\n",
       "   0.0],\n",
       "  'norm_err': [0.2835820407111194,\n",
       "   1.6565636833161178e-15,\n",
       "   3.580229064976504e-15,\n",
       "   1.4835207753516345e-15,\n",
       "   1.2513664528642168e-15,\n",
       "   2.7757605845540998e-15,\n",
       "   1.6792965774653417e-15,\n",
       "   2.6272730791590274e-15,\n",
       "   1.1846582638966018e-15,\n",
       "   2.3772959017101508e-15,\n",
       "   2.0947195178804415e-15,\n",
       "   1.7318409012258825e-15,\n",
       "   2.444804909687841e-15],\n",
       "  'sweep': [1, 2, 3, 4, 5, 6, 7, 8, 9, 10, 11, 12, 13],\n",
       "  'time': [0.10589003562927246,\n",
       "   0.2213289737701416,\n",
       "   0.3293478488922119,\n",
       "   0.4360511302947998,\n",
       "   0.5421478748321533,\n",
       "   0.6466283798217773,\n",
       "   0.7508645057678223,\n",
       "   0.857412576675415,\n",
       "   0.963362455368042,\n",
       "   1.0819909572601318,\n",
       "   1.1864047050476074,\n",
       "   1.2908289432525635,\n",
       "   1.3698508739471436]}}"
      ]
     },
     "execution_count": 18,
     "metadata": {},
     "output_type": "execute_result"
    }
   ],
   "source": [
    "data"
   ]
  },
  {
   "cell_type": "code",
   "execution_count": 12,
   "metadata": {},
   "outputs": [
    {
     "data": {
      "text/plain": [
       "'dmrg_log_L=2_t=1.0_m=1.0_U=1.0'"
      ]
     },
     "execution_count": 12,
     "metadata": {},
     "output_type": "execute_result"
    }
   ],
   "source": [
    "outputFilename"
   ]
  },
  {
   "cell_type": "code",
   "execution_count": 12,
   "metadata": {},
   "outputs": [
    {
     "data": {
      "text/plain": [
       "{'sweep': [1, 2, 3, 4, 5, 6, 7, 8, 9, 10],\n",
       " 'N_updates': [12, 24, 36, 48, 60, 72, 84, 96, 108, 120],\n",
       " 'E': [-15.921734113979696,\n",
       "  -15.922710803373448,\n",
       "  -15.923373344991578,\n",
       "  -15.92389200030589,\n",
       "  -15.92428927457005,\n",
       "  -15.924539892600144,\n",
       "  -15.924696471630616,\n",
       "  -15.924818891985929,\n",
       "  -15.924895594398006,\n",
       "  -15.924941812877844],\n",
       " 'Delta_E': [nan,\n",
       "  -0.0009766893937523946,\n",
       "  -0.0006625416181300636,\n",
       "  -0.0005186553143126105,\n",
       "  -0.00039727426415936407,\n",
       "  -0.00025061803009407413,\n",
       "  -0.00015657903047205934,\n",
       "  -0.0001224203553125136,\n",
       "  -7.67024120769122e-05,\n",
       "  -4.6218479837989435e-05],\n",
       " 'S': [1.5940125121046091,\n",
       "  1.658701780561891,\n",
       "  1.6532520293392412,\n",
       "  1.6496350738201586,\n",
       "  1.64783919015473,\n",
       "  1.6470162166522546,\n",
       "  1.646874595438122,\n",
       "  1.646798681359049,\n",
       "  1.6468223623220184,\n",
       "  1.6468580156437962],\n",
       " 'Delta_S': [1.5940125121046091,\n",
       "  0.06468926845728196,\n",
       "  -0.005449751222649901,\n",
       "  -0.0036169555190825875,\n",
       "  -0.0017958836654285992,\n",
       "  -0.0008229735024753992,\n",
       "  -0.0001416212141325257,\n",
       "  -7.591407907314718e-05,\n",
       "  2.3680962969452324e-05,\n",
       "  3.5653321777795455e-05],\n",
       " 'max_S': [2.0805391243707896,\n",
       "  2.103484773392327,\n",
       "  2.103955265511843,\n",
       "  2.1042792085977116,\n",
       "  2.1049077408027754,\n",
       "  2.1054125884863257,\n",
       "  2.1061335483158534,\n",
       "  2.106587246448056,\n",
       "  2.106931132676033,\n",
       "  2.107205565234957],\n",
       " 'time': [3.714855432510376,\n",
       "  4.978524684906006,\n",
       "  6.255096197128296,\n",
       "  7.658979892730713,\n",
       "  8.913544416427612,\n",
       "  10.133512258529663,\n",
       "  11.408825397491455,\n",
       "  12.826766014099121,\n",
       "  14.054805994033813,\n",
       "  14.920734882354736],\n",
       " 'max_trunc_err': [0.0009798569441663851,\n",
       "  0.003556651991361069,\n",
       "  0.002476362352013055,\n",
       "  0.0015627892169877912,\n",
       "  0.0009130718638322004,\n",
       "  0.0005121352441130608,\n",
       "  0.00027545435487543346,\n",
       "  0.00014450081400663487,\n",
       "  8.9599581546058e-05,\n",
       "  2.3456748324296684e-05],\n",
       " 'max_E_trunc': [0.002238020011491315,\n",
       "  0.0016150241987773484,\n",
       "  0.0013823517280489028,\n",
       "  0.0012757737587971718,\n",
       "  0.001002003710416588,\n",
       "  0.0009701642585522308,\n",
       "  0.0007854315478450502,\n",
       "  0.0005377560953565563,\n",
       "  0.00037605812806873473,\n",
       "  0.0003614813012084994],\n",
       " 'max_chi': [100, 100, 100, 100, 100, 100, 100, 100, 100, 100],\n",
       " 'norm_err': [0.3119612806490162,\n",
       "  0.0040951721922523505,\n",
       "  0.0027087855176942516,\n",
       "  0.0017849078954938237,\n",
       "  0.0011170417931054384,\n",
       "  0.0006766530814639179,\n",
       "  0.0003910289614272098,\n",
       "  0.0002202261284056238,\n",
       "  0.00012494595699573508,\n",
       "  1.654275248610387e-05]}"
      ]
     },
     "execution_count": 12,
     "metadata": {},
     "output_type": "execute_result"
    }
   ],
   "source": [
    "engine.sweep_stats"
   ]
  },
  {
   "cell_type": "code",
   "execution_count": 11,
   "metadata": {},
   "outputs": [
    {
     "data": {
      "image/png": "[encoded data removed]",
      "text/plain": [
       "<Figure size 640x480 with 1 Axes>"
      ]
     },
     "metadata": {},
     "output_type": "display_data"
    }
   ],
   "source": [
    "engine.plot_sweep_stats()"
   ]
  },
  {
   "cell_type": "code",
   "execution_count": 17,
   "metadata": {},
   "outputs": [
    {
     "name": "stdout",
     "output_type": "stream",
     "text": [
      "Using square_8d0 with qwz\n",
      "Evaluating the spectrum information for U = 1.0, t = 1.0, m = 1.0.\n",
      "The low energy spectrum consists of energies: [-15.92535588 -15.14535794 -14.52283518 -14.52292879 -13.91636269]\n"
     ]
    }
   ],
   "source": [
    "# Comparison with Martin's ed result\n",
    "\n",
    "import sys, os\n",
    "sys.path.append(\"common_lib/test/\")\n",
    "from test_qwz_spin_projected_energy import test_qwz_spin_projected_energy  \n",
    "test_qwz_spin_projected_energy(\"square_8d0\", t = t, m = m, U = U) "
   ]
  }
 ],
 "metadata": {
  "kernelspec": {
   "display_name": "Python 3",
   "language": "python",
   "name": "python3"
  },
  "language_info": {
   "codemirror_mode": {
    "name": "ipython",
    "version": 3
   },
   "file_extension": ".py",
   "mimetype": "text/x-python",
   "name": "python",
   "nbconvert_exporter": "python",
   "pygments_lexer": "ipython3",
   "version": "3.12.4"
  }
 },
 "nbformat": 4,
 "nbformat_minor": 2
}
