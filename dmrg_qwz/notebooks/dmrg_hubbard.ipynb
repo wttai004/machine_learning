{
 "cells": [
  {
   "cell_type": "code",
   "execution_count": 5,
   "metadata": {},
   "outputs": [],
   "source": [
    "import numpy as np\n",
    "\n",
    "import tenpy\n",
    "from tenpy.models.lattice import Square\n",
    "from tenpy.models import CouplingMPOModel\n",
    "from tenpy.networks.site import SpinHalfFermionSite, spin_half_species\n",
    "from tenpy.networks.mps import MPS\n",
    "from tenpy.algorithms import dmrg\n",
    "from tenpy.algorithms.mps_common import DensityMatrixMixer\n",
    "from timeit import default_timer as timer\n",
    "\n",
    "import sys, os\n",
    "sys.path.append('/home1/wttai/machine_learning/common_lib')\n",
    "from dmrg_system import FermiHubbardSquare"
   ]
  },
  {
   "cell_type": "code",
   "execution_count": 6,
   "metadata": {},
   "outputs": [
    {
     "name": "stdout",
     "output_type": "stream",
     "text": [
      "MPO bond dimensions: [2, 5, 8, 8, 2]\n"
     ]
    },
    {
     "name": "stderr",
     "output_type": "stream",
     "text": [
      "/home1/wttai/TeNPy/tenpy/tools/params.py:232: UserWarning: unused option ['cons_Sz'] for config FermiHubbardSquare\n",
      "  warnings.warn(msg.format(keys=sorted(unused), name=self.name))\n"
     ]
    }
   ],
   "source": [
    "L = 2\n",
    "Lx = L\n",
    "Ly = L\n",
    "t = 1.0\n",
    "U = 1.0\n",
    "bias = 0.1\n",
    "pbc = True\n",
    "\n",
    "# Create the Fermi-Hubbard Model\n",
    "model_params = {\n",
    "    't': t,                 # Nearest-neighbor hopping strength\n",
    "    'U': U,                 # On-site Hubbard interaction\n",
    "    'Lx': Lx,\n",
    "    'Ly': Ly,\n",
    "    'cons_Sz': None,\n",
    "    'cons_N': 'N',\n",
    "    'bc_x': 'periodic' if pbc else 'open',\n",
    "    'bc_y': 'periodic' if pbc else 'open',\n",
    "    'bias': bias\n",
    "}\n",
    "\n",
    "dmrg_params = {\n",
    "    \"mixer\": DensityMatrixMixer,\n",
    "    \"mixer_params\": {\n",
    "        \"amplitude\": 0.3,\n",
    "        \"decay\": 2,\n",
    "        \"disable_after\": 50\n",
    "    },\n",
    "    \"trunc_params\": {\n",
    "        \"chi_max\": 500, #bond dimension\n",
    "        \"svd_min\": 1*10**-10\n",
    "    },\n",
    "    \"max_E_err\": 0.0001, #energy convergence step threshold\n",
    "    \"max_S_err\": 0.0001, #entropy convergence step threshold\n",
    "    \"max_sweeps\": 100  #may or may not be enough to converge\n",
    "}\n",
    "\n",
    "\n",
    "model = FermiHubbardSquare(model_params)\n",
    "H_mpo = model.calc_H_MPO()\n",
    "print(f'MPO bond dimensions: {H_mpo.chi}')"
   ]
  },
  {
   "cell_type": "code",
   "execution_count": 3,
   "metadata": {},
   "outputs": [
    {
     "name": "stdout",
     "output_type": "stream",
     "text": [
      "(-3.975386724690873, <npc.Array shape=(16,) labels=['ps']>)\n"
     ]
    }
   ],
   "source": [
    "# Exact Diagonalization—for sanity check\n",
    "#CAUTION: this does not fix the particle fillings\n",
    "import warnings\n",
    "warnings.warn(\"Caution: This does not fix the particle fillings\")\n",
    "if Lx * Ly <= 8:\n",
    "    test = tenpy.algorithms.exact_diag.ExactDiag(model)\n",
    "    test.build_full_H_from_mpo()\n",
    "    test.full_diagonalization()\n",
    "    print(test.groundstate())"
   ]
  },
  {
   "cell_type": "code",
   "execution_count": 7,
   "metadata": {},
   "outputs": [
    {
     "name": "stdout",
     "output_type": "stream",
     "text": [
      "Ground state energy: -3.1044225635332094\n"
     ]
    }
   ],
   "source": [
    "product_state = ['empty' if n < Lx * Ly // 2 else 'full' for n in range(Lx * Ly)]\n",
    "#product_state = [\"up\" for n in range(Lx * Ly)]\n",
    "\n",
    "psi = MPS.from_product_state(model.lat.mps_sites(), product_state, bc=model.lat.bc_MPS, dtype=np.complex128)\n",
    "\n",
    "engine = dmrg.TwoSiteDMRGEngine(psi, model, dmrg_params)\n",
    "\n",
    "E0, psi = engine.run()\n",
    "print(f'Ground state energy: {E0}')"
   ]
  },
  {
   "cell_type": "code",
   "execution_count": 4,
   "metadata": {},
   "outputs": [],
   "source": [
    "from dmrg_correlation_helper import compute_corr_results\n",
    "\n",
    "correlation_types = {\n",
    "    \"uu\": (\"Nu\", \"Nu\"),\n",
    "    \"ud\": (\"Nu\", \"Nd\"),\n",
    "    \"dd\": (\"Nd\", \"Nd\")\n",
    "}\n",
    "\n",
    "# Compute and store correlation results\n",
    "corrs_results = {}\n",
    "for label, corr_type in correlation_types.items():\n",
    "    corrs_results[label] = compute_corr_results(corr_type, psi, Lx, Ly)"
   ]
  },
  {
   "cell_type": "code",
   "execution_count": 5,
   "metadata": {},
   "outputs": [
    {
     "data": {
      "text/plain": [
       "{'uu': array([[2.78455456e-02, 8.49330694e-08],\n",
       "        [5.88278077e-05, 5.81047450e-05],\n",
       "        [1.09985520e-07, 6.98480584e-08],\n",
       "        [1.96092686e-05, 1.93742476e-05]]),\n",
       " 'ud': array([[0.00781716, 0.00988467],\n",
       "        [0.00528053, 0.00258171],\n",
       "        [0.00681959, 0.00349748],\n",
       "        [0.00176018, 0.00086018]]),\n",
       " 'dd': array([[3.97215445e+00, 4.99666790e-05],\n",
       "        [1.46835264e+00, 7.44769498e-01],\n",
       "        [9.88136014e-01, 4.91996742e-01],\n",
       "        [4.89450876e-01, 2.48091408e-01]])}"
      ]
     },
     "execution_count": 5,
     "metadata": {},
     "output_type": "execute_result"
    }
   ],
   "source": [
    "corrs_results"
   ]
  },
  {
   "cell_type": "code",
   "execution_count": 6,
   "metadata": {},
   "outputs": [
    {
     "data": {
      "text/plain": [
       "array([[3.48170707e-03, 2.12332816e-08, 9.80463110e-06, 1.93742476e-05,\n",
       "        2.75241169e-08, 3.49240550e-08, 9.80463110e-06, 1.93742476e-05],\n",
       "       [2.12332816e-08, 3.47967827e-03, 1.93562560e-05, 9.80463750e-06,\n",
       "        3.49239988e-08, 2.74686694e-08, 1.93562560e-05, 9.80463750e-06],\n",
       "       [9.80463110e-06, 1.93562560e-05, 3.47967980e-03, 2.12332614e-08,\n",
       "        9.80461354e-06, 1.93562947e-05, 2.74686461e-08, 3.49240034e-08],\n",
       "       [1.93742476e-05, 9.80463750e-06, 2.12332614e-08, 3.48170768e-03,\n",
       "        1.93742027e-05, 9.80465602e-06, 3.49240034e-08, 2.75240875e-08],\n",
       "       [2.75241169e-08, 3.49239988e-08, 9.80461354e-06, 1.93742027e-05,\n",
       "        3.48170011e-03, 2.12332650e-08, 9.80461354e-06, 1.93742027e-05],\n",
       "       [3.49240550e-08, 2.74686694e-08, 1.93562947e-05, 9.80465602e-06,\n",
       "        2.12332650e-08, 3.47968522e-03, 1.93562947e-05, 9.80465602e-06],\n",
       "       [9.80463110e-06, 1.93562560e-05, 2.74686461e-08, 3.49240034e-08,\n",
       "        9.80461354e-06, 1.93562947e-05, 3.47967980e-03, 2.12332614e-08],\n",
       "       [1.93742476e-05, 9.80463750e-06, 3.49240034e-08, 2.75240875e-08,\n",
       "        1.93742027e-05, 9.80465602e-06, 2.12332614e-08, 3.48170768e-03]])"
      ]
     },
     "execution_count": 6,
     "metadata": {},
     "output_type": "execute_result"
    }
   ],
   "source": [
    "psi.correlation_function(\"Nu\", \"Nu\")"
   ]
  },
  {
   "cell_type": "code",
   "execution_count": 7,
   "metadata": {},
   "outputs": [
    {
     "data": {
      "text/plain": [
       "{'sweep': [1, 2, 3, 4, 5, 6, 7, 8, 9, 10, 11, 12, 13, 14],\n",
       " 'N_updates': [12, 24, 36, 48, 60, 72, 84, 96, 108, 120, 132, 144, 156, 168],\n",
       " 'E': [-28.441759799516227,\n",
       "  -28.462538108291852,\n",
       "  -28.462538109205475,\n",
       "  -28.462538109212506,\n",
       "  -28.462538109212634,\n",
       "  -28.462538109212616,\n",
       "  -28.462538109212645,\n",
       "  -28.462538109212655,\n",
       "  -28.462538109212606,\n",
       "  -28.46253810921262,\n",
       "  -28.46253810921262,\n",
       "  -28.46253810921264,\n",
       "  -28.462538109212645,\n",
       "  -28.46253810921268],\n",
       " 'Delta_E': [nan,\n",
       "  -0.020778308775625476,\n",
       "  -9.136229550676944e-10,\n",
       "  -7.030820370346191e-12,\n",
       "  -1.2789769243681803e-13,\n",
       "  1.7763568394002505e-14,\n",
       "  -2.842170943040401e-14,\n",
       "  -1.0658141036401503e-14,\n",
       "  4.973799150320701e-14,\n",
       "  -1.4210854715202004e-14,\n",
       "  0.0,\n",
       "  -2.1316282072803006e-14,\n",
       "  -3.552713678800501e-15,\n",
       "  -3.552713678800501e-14],\n",
       " 'S': [0.6953714612000205,\n",
       "  0.5082200084623663,\n",
       "  0.4919445951244053,\n",
       "  0.4794936778162397,\n",
       "  0.4711495337520923,\n",
       "  0.4660261066815067,\n",
       "  0.46306472738078763,\n",
       "  0.4614277924369607,\n",
       "  0.4605533172365046,\n",
       "  0.4600978191791824,\n",
       "  0.459864620873197,\n",
       "  0.459746505034774,\n",
       "  0.45968704509720376,\n",
       "  0.45962730586205297],\n",
       " 'Delta_S': [0.6953714612000205,\n",
       "  -0.1871514527376542,\n",
       "  -0.016275413337960953,\n",
       "  -0.01245091730816561,\n",
       "  -0.008344144064147407,\n",
       "  -0.005123427070585607,\n",
       "  -0.002961379300719047,\n",
       "  -0.0016369349438269398,\n",
       "  -0.0008744752004560818,\n",
       "  -0.00045549805732220117,\n",
       "  -0.0002331983059853937,\n",
       "  -0.00011811583842302742,\n",
       "  -5.9459937570227606e-05,\n",
       "  -5.9739235150790826e-05],\n",
       " 'max_S': [1.0977481064810803,\n",
       "  1.0561549691380643,\n",
       "  0.9421911090752413,\n",
       "  0.8550304819631733,\n",
       "  0.7966209941267253,\n",
       "  0.7621338383377826,\n",
       "  0.7621338383675896,\n",
       "  0.7621338383663125,\n",
       "  0.7621338383664267,\n",
       "  0.762133838369778,\n",
       "  0.7621338383727891,\n",
       "  0.7621338383759327,\n",
       "  0.7621338398291555,\n",
       "  0.7621338398278438],\n",
       " 'time': [1.7523090839385986,\n",
       "  6.151350975036621,\n",
       "  10.546389818191528,\n",
       "  14.877870559692383,\n",
       "  19.116878747940063,\n",
       "  22.5525164604187,\n",
       "  23.721737146377563,\n",
       "  24.89743971824646,\n",
       "  26.06343126296997,\n",
       "  27.261566638946533,\n",
       "  28.45719075202942,\n",
       "  29.64422345161438,\n",
       "  31.625414609909058,\n",
       "  32.10439085960388],\n",
       " 'max_trunc_err': [1.906055813226323e-19,\n",
       "  1.2316881254756492e-19,\n",
       "  1.3700445889661327e-19,\n",
       "  1.175528496316427e-19,\n",
       "  1.3083484717448794e-19,\n",
       "  1.1252199861949847e-19,\n",
       "  9.64260459711387e-20,\n",
       "  8.195749981823942e-20,\n",
       "  7.685183275469194e-20,\n",
       "  6.572722191456166e-20,\n",
       "  4.4977280720189305e-20,\n",
       "  4.685716489285723e-20,\n",
       "  3.5471154255039144e-20,\n",
       "  9.483586863061051e-24],\n",
       " 'max_E_trunc': [3.197442310920451e-14,\n",
       "  4.973799150320701e-14,\n",
       "  2.1316282072803006e-14,\n",
       "  4.973799150320701e-14,\n",
       "  4.618527782440651e-14,\n",
       "  2.4868995751603507e-14,\n",
       "  1.4210854715202004e-14,\n",
       "  2.1316282072803006e-14,\n",
       "  3.907985046680551e-14,\n",
       "  7.105427357601002e-14,\n",
       "  2.842170943040401e-14,\n",
       "  2.4868995751603507e-14,\n",
       "  1.0658141036401503e-14,\n",
       "  4.973799150320701e-14],\n",
       " 'max_chi': [42, 51, 51, 52, 49, 50, 50, 48, 51, 52, 51, 51, 51, 46],\n",
       " 'norm_err': [1.0154327347365644,\n",
       "  0.004569195489783236,\n",
       "  0.0002882455129197412,\n",
       "  2.501797976008636e-05,\n",
       "  2.940041942642067e-06,\n",
       "  3.2771998789926325e-07,\n",
       "  2.4679166480184807e-11,\n",
       "  3.800112007942497e-11,\n",
       "  4.053463779633616e-11,\n",
       "  1.9398441171201737e-11,\n",
       "  2.0123865724661507e-11,\n",
       "  1.9168608657863453e-11,\n",
       "  6.567043924363812e-08,\n",
       "  3.3956137325062805e-11]}"
      ]
     },
     "execution_count": 7,
     "metadata": {},
     "output_type": "execute_result"
    }
   ],
   "source": [
    "engine.sweep_stats"
   ]
  },
  {
   "cell_type": "code",
   "execution_count": 8,
   "metadata": {},
   "outputs": [
    {
     "data": {
      "image/png": "[encoded data removed]",
      "text/plain": [
       "<Figure size 640x480 with 1 Axes>"
      ]
     },
     "metadata": {},
     "output_type": "display_data"
    }
   ],
   "source": [
    "engine.plot_sweep_stats()"
   ]
  },
  {
   "cell_type": "code",
   "execution_count": null,
   "metadata": {},
   "outputs": [
    {
     "name": "stdout",
     "output_type": "stream",
     "text": [
      "Using square_8d0 with qwz\n",
      "Evaluating the spectrum information for U = 1.0, t = 1.0, m = 1.0.\n",
      "The low energy spectrum consists of energies: [-15.92535588 -15.14535794 -14.52283518 -14.52292879 -13.91636269]\n"
     ]
    }
   ],
   "source": [
    "# Comparison with Martin's ed result\n",
    "\n",
    "import sys, os\n",
    "sys.path.append(\"common_lib/test/\")\n",
    "from test_qwz_spin_projected_energy import test_qwz_spin_projected_energy  \n",
    "test_qwz_spin_projected_energy(\"square_8d0\", t = t, m = m, U = U) "
   ]
  }
 ],
 "metadata": {
  "kernelspec": {
   "display_name": "netket",
   "language": "python",
   "name": "python3"
  },
  "language_info": {
   "codemirror_mode": {
    "name": "ipython",
    "version": 3
   },
   "file_extension": ".py",
   "mimetype": "text/x-python",
   "name": "python",
   "nbconvert_exporter": "python",
   "pygments_lexer": "ipython3",
   "version": "3.12.4"
  }
 },
 "nbformat": 4,
 "nbformat_minor": 2
}
