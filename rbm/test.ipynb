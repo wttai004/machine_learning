{
 "cells": [
  {
   "cell_type": "code",
   "execution_count": 1,
   "metadata": {},
   "outputs": [],
   "source": [
    "import numpy as np\n",
    "from model import Model"
   ]
  },
  {
   "cell_type": "code",
   "execution_count": 7,
   "metadata": {},
   "outputs": [],
   "source": [
    "def flip_spin_at(spin, i, j):\n",
    "    new_spin = spin.copy()\n",
    "    new_spin[i, j] = [1, 0] if spin[i, j, 0] == 0 else [0, 1]\n",
    "    return new_spin\n",
    "\n",
    "def generate_local_spins_test(spin, change = 1):\n",
    "    \"\"\"\n",
    "    Generate a set of spins with local perturbation around the input spin (flip one spins)\n",
    "\n",
    "    Change: consider how much spins can be changed at maximum (currently only allows change = 1 or 2)\n",
    "    \"\"\"\n",
    "    result = [spin]\n",
    "    L1 = 4\n",
    "    L2 = 4\n",
    "    result.extend([flip_spin_at(spin, i, j) for i in range(L1) for j in range(L2)])\n",
    "    if change == 2:\n",
    "        result.extend([flip_spin_at(flip_spin_at(spin, i, j), k, l) for k in range(L1) for l in range(L2) for i in range(L1) for j in range(L2) if (k * L2 + l) > (i * L2 + j)])\n",
    "    return result\n"
   ]
  },
  {
   "cell_type": "code",
   "execution_count": 8,
   "metadata": {},
   "outputs": [],
   "source": [
    "def test_generate_local_spins():\n",
    "    #print(\"Testing generate_local_spins...\")\n",
    "    model = Model(4, 4)\n",
    "    spin = model.get_random_spins()\n",
    "    local_spins = model.generate_local_spins(spin, change=1)\n",
    "    #assert len(local_spins) == 10, \"Incorrect number of local spins for change=1.\"\n",
    "\n",
    "    local_spins_change_2 = model.generate_local_spins(spin, change=2)\n",
    "    #assert len(local_spins_change_2) == 46, \"Incorrect number of local spins for change=2.\"\n",
    "\n",
    "def test_generate_local_spins_test():\n",
    "    #print(\"Testing generate_local_spins...\")\n",
    "    model = Model(4, 4)\n",
    "    spin = model.get_random_spins()\n",
    "    local_spins = generate_local_spins_test(spin, change=1)\n",
    "    #assert len(local_spins) == 10, \"Incorrect number of local spins for change=1.\"\n",
    "\n",
    "    local_spins_change_2 = generate_local_spins_test(spin, change=2)\n",
    "    #assert len(local_spins_change_2) == 46, \"Incorrect number of local spins for change=2.\"\n",
    "\n",
    "def test_vdot():\n",
    "    #print(\"Testing vdot...\")\n",
    "    model = Model(4, 4)\n",
    "    spin1 = model.get_random_spins()\n",
    "    spin2 = spin1.copy()\n",
    "    v_value = model.vdot(spin1, spin2)\n",
    "    assert v_value == 1, \"vdot of identical spins should be 1.\"\n",
    "    spin2 = model.flip_random_spin(spin1)\n",
    "    v_value = model.vdot(spin1, spin2)\n",
    "    assert v_value == 0, \"vdot of orthogonal spins should be 0.\""
   ]
  },
  {
   "cell_type": "code",
   "execution_count": 9,
   "metadata": {},
   "outputs": [
    {
     "name": "stdout",
     "output_type": "stream",
     "text": [
      "475 µs ± 39.8 µs per loop (mean ± std. dev. of 7 runs, 1,000 loops each)\n"
     ]
    }
   ],
   "source": [
    "%timeit test_generate_local_spins()"
   ]
  },
  {
   "cell_type": "code",
   "execution_count": 10,
   "metadata": {},
   "outputs": [
    {
     "name": "stdout",
     "output_type": "stream",
     "text": [
      "438 µs ± 23.3 µs per loop (mean ± std. dev. of 7 runs, 1,000 loops each)\n"
     ]
    }
   ],
   "source": [
    "%timeit test_generate_local_spins_test()"
   ]
  }
 ],
 "metadata": {
  "kernelspec": {
   "display_name": "tensorflow",
   "language": "python",
   "name": "python3"
  },
  "language_info": {
   "codemirror_mode": {
    "name": "ipython",
    "version": 3
   },
   "file_extension": ".py",
   "mimetype": "text/x-python",
   "name": "python",
   "nbconvert_exporter": "python",
   "pygments_lexer": "ipython3",
   "version": "3.11.8"
  }
 },
 "nbformat": 4,
 "nbformat_minor": 2
}
