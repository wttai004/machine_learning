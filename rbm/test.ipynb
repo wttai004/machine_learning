{
 "cells": [
  {
   "cell_type": "code",
   "execution_count": 7,
   "metadata": {},
   "outputs": [],
   "source": [
    "from test_model import *"
   ]
  },
  {
   "cell_type": "code",
   "execution_count": 12,
   "metadata": {},
   "outputs": [],
   "source": [
    "from model import Model  # Assume the refactored code is saved in model.py\n",
    "\n",
    "model = Model(6, 6)\n",
    "spin = model.get_random_spins()"
   ]
  },
  {
   "cell_type": "code",
   "execution_count": 13,
   "metadata": {},
   "outputs": [
    {
     "name": "stdout",
     "output_type": "stream",
     "text": [
      "2.55 ms ± 314 µs per loop (mean ± std. dev. of 7 runs, 100 loops each)\n"
     ]
    }
   ],
   "source": [
    "%timeit model.generate_local_spins(spin, 2)"
   ]
  },
  {
   "cell_type": "code",
   "execution_count": 3,
   "metadata": {},
   "outputs": [],
   "source": [
    "from model import Model  # Assume the refactored code is saved in model.py\n",
    "\n",
    "model = Model(2, 2)\n",
    "spin = model.get_random_spins()\n",
    "assert spin.shape == (2, 2, 2), \"Random spins have incorrect shape.\"\n",
    "projected_spin = model.project_spin(spin)\n",
    "assert projected_spin.shape == (4,), \"Random spins have incorrect shape.\"\n",
    "unprojected_spin = model.unproject_spin(projected_spin)\n",
    "assert unprojected_spin.shape == (2, 2, 2), \"Random spins have incorrect shape.\"\n",
    "assert np.array_equal(spin, unprojected_spin), \"Unprojected spin does not match original spin.\""
   ]
  },
  {
   "cell_type": "code",
   "execution_count": 19,
   "metadata": {},
   "outputs": [],
   "source": [
    "model = Model(6, 6)\n",
    "spin1 = model.get_random_spins()\n",
    "spin2 = spin1.copy()\n"
   ]
  },
  {
   "cell_type": "code",
   "execution_count": 20,
   "metadata": {},
   "outputs": [
    {
     "name": "stdout",
     "output_type": "stream",
     "text": [
      "8.7 µs ± 987 ns per loop (mean ± std. dev. of 7 runs, 100,000 loops each)\n"
     ]
    }
   ],
   "source": [
    "%timeit model.vdot(spin1, spin2)"
   ]
  },
  {
   "cell_type": "code",
   "execution_count": null,
   "metadata": {},
   "outputs": [],
   "source": []
  }
 ],
 "metadata": {
  "kernelspec": {
   "display_name": "tensorflow",
   "language": "python",
   "name": "python3"
  },
  "language_info": {
   "codemirror_mode": {
    "name": "ipython",
    "version": 3
   },
   "file_extension": ".py",
   "mimetype": "text/x-python",
   "name": "python",
   "nbconvert_exporter": "python",
   "pygments_lexer": "ipython3",
   "version": "3.11.8"
  }
 },
 "nbformat": 4,
 "nbformat_minor": 2
}
