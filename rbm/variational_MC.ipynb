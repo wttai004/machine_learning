{
 "cells": [
  {
   "cell_type": "code",
   "execution_count": 1,
   "metadata": {},
   "outputs": [],
   "source": [
    "import numpy as np\n",
    "from numpy import tanh\n",
    "import matplotlib.pyplot as plt\n",
    "import random\n",
    "from math import sqrt\n",
    "from model import Model\n",
    "from rbm import RBM\n",
    "from rbm_operator import Operator, Sx_, Sy_, Sz_, SzSz_, set_h_Hamiltonian, set_J1_Hamiltonian, set_J2_Hamiltonian"
   ]
  },
  {
   "cell_type": "markdown",
   "metadata": {},
   "source": [
    "# Simple attempt to implement a variational quantum state calculation "
   ]
  },
  {
   "cell_type": "markdown",
   "metadata": {},
   "source": [
    "Reminder: the operators are defined as \n",
    "$$S\\cdot S = S_x \\cdot S_x + S_y \\cdot S_y + S_z \\cdot S_z = \\frac{1}{2} (S_+ \\cdot S_- + S_- \\cdot S_+) + S_z \\cdot S_z$$\n",
    "\n",
    "where $S_z = \\frac{\\hbar}{2} \\begin{pmatrix} 1 & 0 \\\\ 0  & -1 \\end{pmatrix}$, $S_+ = \\hbar \\begin{pmatrix} 0 & 1 \\\\ 0 & 0 \\end{pmatrix} = S_x + S_y$, $S_- = \\hbar \\begin{pmatrix} 0 & 0 \\\\ 1 & 0 \\end{pmatrix} = S_x - S_y$. A singlet state has energy $-3J/4$ and a triplet state has energy $J/4$\n",
    "\n",
    "As an example, we start with a very simple J1/J2 Heisenberg spin chain\n",
    "\n",
    "We define a class \"model\" that contains a Hamiltonian and a rule for generating spins according to the MSMS algorithm.\n",
    "\n",
    "We have something to obtain the wavefunction amplitude $\\psi_\\theta(s)$ from the spin configuration $s$ that depends on some amplitude $\\theta$\n",
    "\n",
    "From  $\\psi_\\theta(s)$ for the given spin configuration, we can produce an estimate of the energy of the variational ground state.\n",
    "\n",
    "Then we can perform a stochastic gradient descent based on it."
   ]
  },
  {
   "cell_type": "markdown",
   "metadata": {},
   "source": [
    "# Implementation of the RBM class"
   ]
  },
  {
   "cell_type": "markdown",
   "metadata": {},
   "source": [
    "After having a class of spin and Hamiltonian, consider a wavefunction object, take takes a spin and returns a number. The variational quantum state is defined as \n",
    "\n",
    "\\begin{align*}\n",
    "\\Psi_M(S;W) = \\sum_{h_i} e^{\\sum_j a_j \\sigma^z_j + \\sum_i b_i h_i + \\sum_{ij} W_{ij} h_i \\sigma^{z}_j}\n",
    "\\end{align*}\n",
    "\n",
    "Here the free parameters of the models are $a_i, b_, W_{ij}$ and $h_1, \\dots, h_M$ represents auxilliary spin variables in the network. The internal spins can be explicited traced out to read\n",
    "\n",
    "\\begin{align*}\n",
    "\\Psi(S;W) = e^{\\sum_j a_j \\sigma^z_j} \\times \\Pi_{i=1}^M F_i(S)\n",
    "\\end{align*}\n",
    "\n",
    "where\n",
    "\n",
    "\\begin{align*}\n",
    "F_i(S) = 2\\cosh\\left[ b_i + \\sum_J W_{ij} \\sigma^z_j\\right] =  2\\cosh\\theta_i\n",
    "\\end{align*}\n",
    "\n",
    "The object would be an NN (most basic example includes the Carleo RBM, which actually has an analytical form). $a_j$ is the visible layer with the physical spins, $b_i$ is the hidden layer with an arbitrary layer of hidden spins, while $W_{ij}$ is a weight connecting the physical and hidden spins.\n",
    "\n",
    "I need a function to compute the variational energy. A function to give gradient. And a function to do the gradient descent.\n"
   ]
  },
  {
   "cell_type": "markdown",
   "metadata": {},
   "source": [
    "# Operators and derivatives: "
   ]
  },
  {
   "cell_type": "markdown",
   "metadata": {},
   "source": [
    "Noting that an operator dcdan be approximated by its local value\n",
    "\n",
    "\\begin{align*}\n",
    "O_{loc}(s) = \\sum_{s, s'}  \\left< s\\middle| O \\middle| s' \\right>\\frac{\\left<s' \\middle| \\Phi_\\theta\\right>}{\\left<s \\middle| \\Phi_\\theta\\right>}\n",
    "\\end{align*}\n",
    "\n",
    "and an operator's expectation value can be reasonably approximated by \n",
    "\n",
    "\\begin{align*}\n",
    "\\left<O \\right> = \\sum_{s} P(s) O_{loc}(s) \\approx \\frac{1}{M} \\sum_{s_i} O_{loc}(s_i)\n",
    "\\end{align*}\n",
    "\n",
    "Now consider the energy minimization. Let $O_p(s) = \\frac{\\partial}{\\partial \\theta_p} \\log \\left<s\\middle|\\Psi_\\theta\\right> = \\left<s\\middle|O_p \\middle| s\\right> $,\n",
    "\n",
    "\\begin{align*}\n",
    "\\frac{\\partial E(\\theta)}{\\partial \\theta_p} &= 2 \\Re \\left[ \\left\\langle E_{\\text{loc}}(\\mathbf{s}) O^*(\\mathbf{s}) \\right\\rangle - \\left\\langle E_{\\text{loc}}(\\mathbf{s}) \\right\\rangle \\left\\langle O^*(\\mathbf{s}) \\right\\rangle \\right] \\\\\n",
    "&= 2 \\Re \\left[ \\left\\langle (E_{\\text{loc}}(\\mathbf{s}) - \\left\\langle E_{\\text{loc}}(\\mathbf{s}) \\right\\rangle) O^*(\\mathbf{s}) \\right\\rangle \\right]\n",
    "\\end{align*}\n",
    "\n",
    "To evaluate the derivatives, note that \n",
    "\n",
    "\\begin{align*}\n",
    "O_{a_i} = \\frac{\\partial}{\\partial a_i} \\log \\left<s\\middle|\\Psi_\\theta\\right> &= \\sigma_i^z \\\\\n",
    "O_{b_j} = \\frac{\\partial}{\\partial b_j} \\log \\left<s\\middle|\\Psi_\\theta\\right> &= \\tanh(\\theta_j(S)) \\\\\n",
    "O_{W_{ij}} = \\frac{\\partial}{\\partial W_{ij}} \\log \\left<s\\middle|\\Psi_\\theta\\right> &= \\sigma^z_i\\tanh(\\theta_j(S))\n",
    "\\end{align*}\n",
    "\n",
    "It follows that the gradient is given by (up to proportionality factors)\n",
    "\n",
    "\\begin{align*}\n",
    "\\frac{\\partial E(\\theta)}{\\partial a_i}  &= \\left[ \\left\\langle E_{\\text{loc}}(\\mathbf{s}) \\sigma_i^z \\right\\rangle - \\left\\langle E_{\\text{loc}}(\\mathbf{s}) \\right\\rangle \\left\\langle \\sigma_i^z \\right\\rangle \\right] \\\\\n",
    "\\frac{\\partial E(\\theta)}{\\partial b_j}  &= \\left[ \\left\\langle E_{\\text{loc}}(\\mathbf{s}) \\tanh(\\theta_j(s)) \\right\\rangle - \\left\\langle E_{\\text{loc}}(\\mathbf{s}) \\right\\rangle \\left\\langle \\tanh(\\theta_j(s)) \\right\\rangle \\right] \\\\\n",
    "\\frac{\\partial E(\\theta)}{\\partial W_{ij}}  &= \\left[ \\left\\langle E_{\\text{loc}}(\\mathbf{s}) \\sigma^z_i\\tanh(\\theta_j(s)) \\right\\rangle - \\left\\langle E_{\\text{loc}}(\\mathbf{s}) \\right\\rangle \\left\\langle \\sigma^z_i\\tanh(\\theta_j(s)) \\right\\rangle \\right]\n",
    "\\end{align*}\n"
   ]
  },
  {
   "cell_type": "markdown",
   "metadata": {},
   "source": [
    "Technically, I can use the naive gradient descent. But it tends to have poor convergence because the wavefunction is highly non-linear and correlated. Stchastic reconfiguration is known to have better performance. "
   ]
  },
  {
   "cell_type": "markdown",
   "metadata": {},
   "source": [
    "## Sanity check: expectation value of operators "
   ]
  },
  {
   "cell_type": "markdown",
   "metadata": {},
   "source": [
    "### Two-site operators (SzSz only, for now)"
   ]
  },
  {
   "cell_type": "code",
   "execution_count": 6,
   "metadata": {},
   "outputs": [
    {
     "name": "stdout",
     "output_type": "stream",
     "text": [
      "The average expectation <SzSz|ud__|SzSz> is (-0.25+0j) with standard deviation 0.0\n",
      "The average expectation  <Sz|dd__|Sz> is (0.25+0j) with standard deviation 0.0\n",
      "The average expectation for a 2:1 mixed state is (0.155+0j))\n"
     ]
    }
   ],
   "source": [
    "model = Model(2,2)\n",
    "rbm = RBM(model)\n",
    "average_expectations = [rbm.expectation_value(SzSz_(0,0,0,1,model), np.array([[[1, 0], [0, 1]], [[0, 1], [1, 0]]])) for _ in range(40)]\n",
    "print(f\"The average expectation <SzSz|ud__|SzSz> is {np.mean(average_expectations)} with standard deviation {np.std(average_expectations)}\")\n",
    "average_expectations = [rbm.expectation_value(SzSz_(0,0,0,1,model), np.array([[[0, 1], [0, 1]], [[0, 1], [1, 0]]])) for _ in range(40)]\n",
    "print(f\"The average expectation  <Sz|dd__|Sz> is {np.mean(average_expectations)} with standard deviation {np.std(average_expectations)}\")\n",
    "rbm = RBM(model)\n",
    "batch = rbm.create_batch(200) #This uses evaluate_dummy, which gives 2/3 for spin up and 1/3 for spin down \n",
    "average_expectations = [rbm.expectation_value(SzSz_(0,0,0,1,model), batch[i]) for i in range(len(batch))]\n",
    "print(f\"The average expectation for a 2:1 mixed state is {np.mean(average_expectations)})\")"
   ]
  },
  {
   "cell_type": "markdown",
   "metadata": {},
   "source": [
    "### One-site operator (Sz makes sense. Unsure if Sx does, but I'll sweep it under the rug for now.)"
   ]
  },
  {
   "cell_type": "code",
   "execution_count": 7,
   "metadata": {},
   "outputs": [
    {
     "name": "stdout",
     "output_type": "stream",
     "text": [
      "The average expectation <Sz|u___|Sz> is (0.5+2.661629416864979e-17j) with standard deviation 3.0814879110195774e-33\n",
      "The average expectation  <Sz|d___|Sz> is (-0.5+0j) with standard deviation 0.0\n",
      "The average expectation for a 2:1 mixed state is (0.024999999999999984+2.216197069250011e-18j))\n"
     ]
    }
   ],
   "source": [
    "model = Model(2,2)\n",
    "rbm = RBM(model)\n",
    "average_expectations = [rbm.expectation_value(Sz_(0,0,model), np.array([[[1, 0], [0, 1]], [[0, 1], [1, 0]]])) for _ in range(40)]\n",
    "print(f\"The average expectation <Sz|u___|Sz> is {np.mean(average_expectations)} with standard deviation {np.std(average_expectations)}\")\n",
    "average_expectations = [rbm.expectation_value(Sz_(0,0,model), np.array([[[0, 1], [1, 0]], [[0, 1], [1, 0]]])) for _ in range(40)]\n",
    "print(f\"The average expectation  <Sz|d___|Sz> is {np.mean(average_expectations)} with standard deviation {np.std(average_expectations)}\")\n",
    "rbm = RBM(model)\n",
    "batch = rbm.create_batch(200) #This uses evaluate_dummy, which gives 2/3 for spin up and 1/3 for spin down \n",
    "average_expectations = [rbm.expectation_value(Sz_(0,0,model), batch[i]) for i in range(len(batch))]\n",
    "print(f\"The average expectation for a 2:1 mixed state is {np.mean(average_expectations)})\")"
   ]
  },
  {
   "cell_type": "code",
   "execution_count": 8,
   "metadata": {},
   "outputs": [
    {
     "name": "stdout",
     "output_type": "stream",
     "text": [
      "The average expectation <Sz|u___|Sz> is (-1+0j) with standard deviation 0.0\n",
      "The average expectation  <Sz|d___|Sz> is 0j with standard deviation 0.0\n",
      "The average expectation for a 2:1 mixed state is 0j)\n"
     ]
    }
   ],
   "source": [
    "model = Model(2,2)\n",
    "rbm = RBM(model)\n",
    "average_expectations = [rbm.expectation_value(Sz_(1,0,model)+Sz_(0,1,model), np.array([[[1, 0], [0, 1]], [[0, 1], [1, 0]]])) for _ in range(40)]\n",
    "print(f\"The average expectation <Sz|u___|Sz> is {np.mean(average_expectations)} with standard deviation {np.std(average_expectations)}\")\n",
    "average_expectations = [rbm.expectation_value(Sz_(1,0,model)+Sz_(0,1,model), np.array([[[0, 1], [1, 0]], [[0, 1], [1, 0]]])) for _ in range(40)]\n",
    "print(f\"The average expectation  <Sz|d___|Sz> is {np.mean(average_expectations)} with standard deviation {np.std(average_expectations)}\")\n",
    "rbm = RBM(model)\n",
    "batch = rbm.create_batch(200) #This uses evaluate_dummy, which gives 2/3 for spin up and 1/3 for spin down \n",
    "average_expectations = [rbm.expectation_value(Sz_(1,0,model)+Sz_(0,1,model), batch[i]) for i in range(len(batch))]\n",
    "print(f\"The average expectation for a 2:1 mixed state is {np.mean(average_expectations)})\")"
   ]
  },
  {
   "cell_type": "code",
   "execution_count": 9,
   "metadata": {},
   "outputs": [
    {
     "name": "stdout",
     "output_type": "stream",
     "text": [
      "The average expectation <Sz|u___|Sz> is 0j with standard deviation 0.0\n",
      "The average expectation  <Sz|d___|Sz> is 0j with standard deviation 0.0\n",
      "The average expectation for a 2:1 mixed state is (1.5150000000000001+0j))\n"
     ]
    }
   ],
   "source": [
    "operator = Operator(model)\n",
    "for i in range(2):\n",
    "    for j in range(2):\n",
    "        operator += Sz_(i, j, model)\n",
    "model = Model(2,2)\n",
    "rbm = RBM(model)\n",
    "average_expectations = [rbm.expectation_value(operator, np.array([[[1, 0], [0, 1]], [[0, 1], [1, 0]]])) for _ in range(40)]\n",
    "print(f\"The average expectation <Sz|u___|Sz> is {np.mean(average_expectations)} with standard deviation {np.std(average_expectations)}\")\n",
    "average_expectations = [rbm.expectation_value(operator, np.array([[[0, 1], [1, 0]], [[0, 1], [1, 0]]])) for _ in range(40)]\n",
    "print(f\"The average expectation  <Sz|d___|Sz> is {np.mean(average_expectations)} with standard deviation {np.std(average_expectations)}\")\n",
    "rbm = RBM(model)\n",
    "batch = rbm.create_batch(200) #This uses evaluate_dummy, which gives 2/3 for spin up and 1/3 for spin down \n",
    "average_expectations = [rbm.expectation_value(operator, batch[i]) for i in range(len(batch))]\n",
    "print(f\"The average expectation for a 2:1 mixed state is {np.mean(average_expectations)})\")"
   ]
  },
  {
   "cell_type": "code",
   "execution_count": 10,
   "metadata": {},
   "outputs": [
    {
     "name": "stdout",
     "output_type": "stream",
     "text": [
      "The average expectation <Sx|u___|Sx> is (0.27052722383953354-0.3146306741451852j) with standard deviation 0.0\n",
      "The average expectation  <Sx|d___|Sx> is (0.27052722383953354-0.3146306741451852j) with standard deviation 0.0\n",
      "The average expectation for a 2:1 mixed state is (0.22609919571493195+0.041158037312519546j))\n"
     ]
    }
   ],
   "source": [
    "#NB: This assumes that the spin is up for probability 2/3 and down for probabilty 1/3\n",
    "#If you set them to be the same the spin expectation is 1/2, which checks out for |up>+|dn>\n",
    "model = Model(2,3)\n",
    "rbm = RBM(model)\n",
    "average_expectations = [rbm.expectation_value(Sx_(1,0,model), np.array([[[1, 0], [0, 1], [1, 0]], [[0, 1], [1, 0], [1,0]]])) for _ in range(40)]\n",
    "print(f\"The average expectation <Sx|u___|Sx> is {np.mean(average_expectations)} with standard deviation {np.std(average_expectations)}\")\n",
    "average_expectations = [rbm.expectation_value(Sx_(1,0,model), np.array([[[1, 0], [0, 1], [1, 0]], [[0, 1], [1, 0], [1,0]]])) for _ in range(40)]\n",
    "print(f\"The average expectation  <Sx|d___|Sx> is {np.mean(average_expectations)} with standard deviation {np.std(average_expectations)}\")\n",
    "rbm = RBM(model)\n",
    "batch = rbm.create_batch(100) #This uses evaluate_dummy, which gives 2/3 for spin up and 1/3 for spin down \n",
    "average_expectations = [rbm.expectation_value(Sx_(0,0,model), batch[i]) for i in range(len(batch))]\n",
    "print(f\"The average expectation for a 2:1 mixed state is {np.mean(average_expectations)})\")"
   ]
  },
  {
   "cell_type": "code",
   "execution_count": 11,
   "metadata": {},
   "outputs": [
    {
     "name": "stdout",
     "output_type": "stream",
     "text": [
      "The average expectation <Sy|u___|Sy> is (0.0055333473245139375-0.6675393938788688j) with standard deviation 1.1103585416259206e-16\n",
      "The average expectation  <Sy|d___|Sy> is (0.0055333473245139375-0.6675393938788688j) with standard deviation 1.1103585416259206e-16\n",
      "The average expectation for a 2:1 mixed state is (0.10322278215222992-0.38331483265713673j))\n"
     ]
    }
   ],
   "source": [
    "model = Model(2,3)\n",
    "rbm = RBM(model)\n",
    "average_expectations = [rbm.expectation_value(Sy_(1,0,model), np.array([[[1, 0], [0, 1], [1, 0]], [[0, 1], [1, 0], [1,0]]])) for _ in range(40)]\n",
    "print(f\"The average expectation <Sy|u___|Sy> is {np.mean(average_expectations)} with standard deviation {np.std(average_expectations)}\")\n",
    "average_expectations = [rbm.expectation_value(Sy_(1,0,model), np.array([[[1, 0], [0, 1], [1, 0]], [[0, 1], [1, 0], [1,0]]])) for _ in range(40)]\n",
    "print(f\"The average expectation  <Sy|d___|Sy> is {np.mean(average_expectations)} with standard deviation {np.std(average_expectations)}\")\n",
    "rbm = RBM(model)\n",
    "batch = rbm.create_batch(200) #This uses evaluate_dummy, which gives 2/3 for spin up and 1/3 for spin down \n",
    "average_expectations = [rbm.expectation_value(Sy_(1,0,model), batch[i]) for i in range(len(batch))]\n",
    "print(f\"The average expectation for a 2:1 mixed state is {np.mean(average_expectations)})\")"
   ]
  },
  {
   "cell_type": "markdown",
   "metadata": {},
   "source": [
    "# Implementation of the learning process"
   ]
  },
  {
   "cell_type": "markdown",
   "metadata": {},
   "source": [
    "Idea:\n",
    "\n",
    "For each iteration:\n",
    "\n",
    "Start with a set of weights.\n",
    "\n",
    "For each weight, initialize the batch of state configurations based on the MCMC. For each state, get the amplitude. The combination gives an estimation of energy. This energy generates an estimation of gradient descent. Change the weight. \n",
    "\n"
   ]
  },
  {
   "cell_type": "markdown",
   "metadata": {},
   "source": [
    "## Pure J hamiltonian"
   ]
  },
  {
   "cell_type": "code",
   "execution_count": 2,
   "metadata": {},
   "outputs": [
    {
     "ename": "KeyboardInterrupt",
     "evalue": "",
     "output_type": "error",
     "traceback": [
      "\u001b[0;31m---------------------------------------------------------------------------\u001b[0m",
      "\u001b[0;31mKeyboardInterrupt\u001b[0m                         Traceback (most recent call last)",
      "Cell \u001b[0;32mIn[2], line 8\u001b[0m\n\u001b[1;32m      5\u001b[0m \u001b[38;5;66;03m#rbm.set_evaluate_function(rbm.evaluate_function_dummy(weight))\u001b[39;00m\n\u001b[1;32m      7\u001b[0m N \u001b[38;5;241m=\u001b[39m \u001b[38;5;241m5000\u001b[39m\n\u001b[0;32m----> 8\u001b[0m test \u001b[38;5;241m=\u001b[39m \u001b[43m[\u001b[49m\u001b[43mrbm\u001b[49m\u001b[38;5;241;43m.\u001b[39;49m\u001b[43mexpectation_value_batch\u001b[49m\u001b[43m(\u001b[49m\u001b[43mHam\u001b[49m\u001b[43m,\u001b[49m\u001b[43m \u001b[49m\u001b[43mrbm\u001b[49m\u001b[38;5;241;43m.\u001b[39;49m\u001b[43mcreate_batch\u001b[49m\u001b[43m(\u001b[49m\u001b[43mN\u001b[49m\u001b[43m)\u001b[49m\u001b[43m)\u001b[49m\u001b[43m \u001b[49m\u001b[38;5;28;43;01mfor\u001b[39;49;00m\u001b[43m \u001b[49m\u001b[43m_\u001b[49m\u001b[43m \u001b[49m\u001b[38;5;129;43;01min\u001b[39;49;00m\u001b[43m \u001b[49m\u001b[38;5;28;43mrange\u001b[39;49m\u001b[43m(\u001b[49m\u001b[38;5;241;43m5\u001b[39;49m\u001b[43m)\u001b[49m\u001b[43m]\u001b[49m\n\u001b[1;32m      9\u001b[0m \u001b[38;5;28mprint\u001b[39m(\u001b[38;5;124mf\u001b[39m\u001b[38;5;124m\"\u001b[39m\u001b[38;5;124mThe average energy is \u001b[39m\u001b[38;5;132;01m{\u001b[39;00mnp\u001b[38;5;241m.\u001b[39mmean(test)\u001b[38;5;132;01m}\u001b[39;00m\u001b[38;5;124m with standard deviation \u001b[39m\u001b[38;5;132;01m{\u001b[39;00mnp\u001b[38;5;241m.\u001b[39mstd(test)\u001b[38;5;132;01m}\u001b[39;00m\u001b[38;5;124m\"\u001b[39m)\n\u001b[1;32m     11\u001b[0m batch \u001b[38;5;241m=\u001b[39m rbm\u001b[38;5;241m.\u001b[39mcreate_batch(N) \n",
      "Cell \u001b[0;32mIn[2], line 8\u001b[0m, in \u001b[0;36m<listcomp>\u001b[0;34m(.0)\u001b[0m\n\u001b[1;32m      5\u001b[0m \u001b[38;5;66;03m#rbm.set_evaluate_function(rbm.evaluate_function_dummy(weight))\u001b[39;00m\n\u001b[1;32m      7\u001b[0m N \u001b[38;5;241m=\u001b[39m \u001b[38;5;241m5000\u001b[39m\n\u001b[0;32m----> 8\u001b[0m test \u001b[38;5;241m=\u001b[39m [rbm\u001b[38;5;241m.\u001b[39mexpectation_value_batch(Ham, \u001b[43mrbm\u001b[49m\u001b[38;5;241;43m.\u001b[39;49m\u001b[43mcreate_batch\u001b[49m\u001b[43m(\u001b[49m\u001b[43mN\u001b[49m\u001b[43m)\u001b[49m) \u001b[38;5;28;01mfor\u001b[39;00m _ \u001b[38;5;129;01min\u001b[39;00m \u001b[38;5;28mrange\u001b[39m(\u001b[38;5;241m5\u001b[39m)]\n\u001b[1;32m      9\u001b[0m \u001b[38;5;28mprint\u001b[39m(\u001b[38;5;124mf\u001b[39m\u001b[38;5;124m\"\u001b[39m\u001b[38;5;124mThe average energy is \u001b[39m\u001b[38;5;132;01m{\u001b[39;00mnp\u001b[38;5;241m.\u001b[39mmean(test)\u001b[38;5;132;01m}\u001b[39;00m\u001b[38;5;124m with standard deviation \u001b[39m\u001b[38;5;132;01m{\u001b[39;00mnp\u001b[38;5;241m.\u001b[39mstd(test)\u001b[38;5;132;01m}\u001b[39;00m\u001b[38;5;124m\"\u001b[39m)\n\u001b[1;32m     11\u001b[0m batch \u001b[38;5;241m=\u001b[39m rbm\u001b[38;5;241m.\u001b[39mcreate_batch(N) \n",
      "File \u001b[0;32m~/Documents/Jupyter/machine_learning/rbm/rbm.py:88\u001b[0m, in \u001b[0;36mRBM.create_batch\u001b[0;34m(self, N, burn_in, skip)\u001b[0m\n\u001b[1;32m     86\u001b[0m result_array[\u001b[38;5;241m0\u001b[39m] \u001b[38;5;241m=\u001b[39m current_spins\n\u001b[1;32m     87\u001b[0m \u001b[38;5;28;01mfor\u001b[39;00m i \u001b[38;5;129;01min\u001b[39;00m \u001b[38;5;28mrange\u001b[39m(\u001b[38;5;241m1\u001b[39m, N\u001b[38;5;241m*\u001b[39mskip):\n\u001b[0;32m---> 88\u001b[0m     current_spins \u001b[38;5;241m=\u001b[39m \u001b[38;5;28;43mself\u001b[39;49m\u001b[38;5;241;43m.\u001b[39;49m\u001b[43mmetropolis_step\u001b[49m\u001b[43m(\u001b[49m\u001b[43mcurrent_spins\u001b[49m\u001b[43m)\u001b[49m\n\u001b[1;32m     89\u001b[0m     \u001b[38;5;28;01mif\u001b[39;00m i \u001b[38;5;241m%\u001b[39m skip \u001b[38;5;241m==\u001b[39m \u001b[38;5;241m0\u001b[39m:\n\u001b[1;32m     90\u001b[0m         result_array[i\u001b[38;5;241m/\u001b[39m\u001b[38;5;241m/\u001b[39mskip] \u001b[38;5;241m=\u001b[39m current_spins\n",
      "File \u001b[0;32m~/Documents/Jupyter/machine_learning/rbm/rbm.py:71\u001b[0m, in \u001b[0;36mRBM.metropolis_step\u001b[0;34m(self, spin)\u001b[0m\n\u001b[1;32m     69\u001b[0m spin2 \u001b[38;5;241m=\u001b[39m \u001b[38;5;28mself\u001b[39m\u001b[38;5;241m.\u001b[39mmodel\u001b[38;5;241m.\u001b[39mflip_random_spin(spin)\n\u001b[1;32m     70\u001b[0m \u001b[38;5;66;03m#print(self.evaluate(spin2),self.evaluate(spin))\u001b[39;00m\n\u001b[0;32m---> 71\u001b[0m p \u001b[38;5;241m=\u001b[39m \u001b[38;5;28mmin\u001b[39m(\u001b[38;5;241m1\u001b[39m, (\u001b[38;5;28mself\u001b[39m\u001b[38;5;241m.\u001b[39mevaluate_function(spin2) \u001b[38;5;241m/\u001b[39m \u001b[38;5;28;43mself\u001b[39;49m\u001b[38;5;241;43m.\u001b[39;49m\u001b[43mevaluate_function\u001b[49m\u001b[43m(\u001b[49m\u001b[43mspin\u001b[49m\u001b[43m)\u001b[49m)\u001b[38;5;241m*\u001b[39m\u001b[38;5;241m*\u001b[39m\u001b[38;5;241m2\u001b[39m)\n\u001b[1;32m     72\u001b[0m \u001b[38;5;28;01mif\u001b[39;00m np\u001b[38;5;241m.\u001b[39mrandom\u001b[38;5;241m.\u001b[39mrandom() \u001b[38;5;241m<\u001b[39m p:\n\u001b[1;32m     73\u001b[0m     \u001b[38;5;28;01mreturn\u001b[39;00m spin2\n",
      "File \u001b[0;32m~/Documents/Jupyter/machine_learning/rbm/rbm.py:61\u001b[0m, in \u001b[0;36mRBM.evaluate\u001b[0;34m(self, spin)\u001b[0m\n\u001b[1;32m     57\u001b[0m \u001b[38;5;250m\u001b[39m\u001b[38;5;124;03m\"\"\"\u001b[39;00m\n\u001b[1;32m     58\u001b[0m \u001b[38;5;124;03mEvaluate the wavefunction for a given spin configuration\u001b[39;00m\n\u001b[1;32m     59\u001b[0m \u001b[38;5;124;03m\"\"\"\u001b[39;00m\n\u001b[1;32m     60\u001b[0m \u001b[38;5;28;01massert\u001b[39;00m spin\u001b[38;5;241m.\u001b[39mshape \u001b[38;5;241m==\u001b[39m (\u001b[38;5;28mself\u001b[39m\u001b[38;5;241m.\u001b[39mL1, \u001b[38;5;28mself\u001b[39m\u001b[38;5;241m.\u001b[39mL2, \u001b[38;5;241m2\u001b[39m), \u001b[38;5;124mf\u001b[39m\u001b[38;5;124m\"\u001b[39m\u001b[38;5;124mInvalid spin shape \u001b[39m\u001b[38;5;132;01m{\u001b[39;00mspin\u001b[38;5;241m.\u001b[39mshape\u001b[38;5;132;01m}\u001b[39;00m\u001b[38;5;124m\"\u001b[39m\n\u001b[0;32m---> 61\u001b[0m projected_spin \u001b[38;5;241m=\u001b[39m \u001b[38;5;28;43mself\u001b[39;49m\u001b[38;5;241;43m.\u001b[39;49m\u001b[43mmodel\u001b[49m\u001b[38;5;241;43m.\u001b[39;49m\u001b[43mproject_spin\u001b[49m\u001b[43m(\u001b[49m\u001b[43mspin\u001b[49m\u001b[43m)\u001b[49m\n\u001b[1;32m     62\u001b[0m \u001b[38;5;66;03m#print(self.M, projected_spin, np.prod(2 * np.cosh(self.b + np.dot(self.M, projected_spin))))\u001b[39;00m\n\u001b[1;32m     63\u001b[0m \u001b[38;5;28;01mreturn\u001b[39;00m np\u001b[38;5;241m.\u001b[39mexp(np\u001b[38;5;241m.\u001b[39mdot(\u001b[38;5;28mself\u001b[39m\u001b[38;5;241m.\u001b[39ma, projected_spin)) \u001b[38;5;241m*\u001b[39m np\u001b[38;5;241m.\u001b[39mprod(\u001b[38;5;241m2\u001b[39m \u001b[38;5;241m*\u001b[39m np\u001b[38;5;241m.\u001b[39mcosh(\u001b[38;5;28mself\u001b[39m\u001b[38;5;241m.\u001b[39mb \u001b[38;5;241m+\u001b[39m np\u001b[38;5;241m.\u001b[39mdot(\u001b[38;5;28mself\u001b[39m\u001b[38;5;241m.\u001b[39mM, projected_spin)))\n",
      "File \u001b[0;32m~/Documents/Jupyter/machine_learning/rbm/model.py:21\u001b[0m, in \u001b[0;36mModel.project_spin\u001b[0;34m(self, spin)\u001b[0m\n\u001b[1;32m     15\u001b[0m \u001b[38;5;28;01mdef\u001b[39;00m \u001b[38;5;21mproject_spin\u001b[39m(\u001b[38;5;28mself\u001b[39m, spin):\n\u001b[1;32m     16\u001b[0m \u001b[38;5;250m    \u001b[39m\u001b[38;5;124;03m\"\"\"\u001b[39;00m\n\u001b[1;32m     17\u001b[0m \u001b[38;5;124;03m    Helper function. Given the spins (L1, L2, 2), project them down to a shape (L1*L2)\u001b[39;00m\n\u001b[1;32m     18\u001b[0m \n\u001b[1;32m     19\u001b[0m \u001b[38;5;124;03m    In lieu of the one-hot spin representation, each spin entry [1,0] and [0,1] is mapped to 1/2 and -1/2 respectively\u001b[39;00m\n\u001b[1;32m     20\u001b[0m \u001b[38;5;124;03m    \"\"\"\u001b[39;00m\n\u001b[0;32m---> 21\u001b[0m     \u001b[38;5;28;01mreturn\u001b[39;00m spin[:,:,\u001b[38;5;241m0\u001b[39m]\u001b[38;5;241m.\u001b[39mflatten() \u001b[38;5;241m-\u001b[39m \u001b[38;5;241m0.5\u001b[39m\n",
      "\u001b[0;31mKeyboardInterrupt\u001b[0m: "
     ]
    }
   ],
   "source": [
    "model = Model(2,3)\n",
    "rbm = RBM(model)\n",
    "Ham =  set_J1_Hamiltonian(model, J = 4)\n",
    "weight = 5\n",
    "#rbm.set_evaluate_function(rbm.evaluate_function_dummy(weight))\n",
    "\n",
    "N = 5000\n",
    "test = [rbm.expectation_value_batch(Ham, rbm.create_batch(N)) for _ in range(5)]\n",
    "print(f\"The average energy is {np.mean(test)} with standard deviation {np.std(test)}\")\n",
    "\n",
    "batch = rbm.create_batch(N) \n",
    "print(f\"The spin distributions are {np.average(batch, axis=0)}\")"
   ]
  },
  {
   "cell_type": "code",
   "execution_count": 2,
   "metadata": {},
   "outputs": [
    {
     "name": "stdout",
     "output_type": "stream",
     "text": [
      "Updating weights at iteration 0\n",
      "[[17.71      +0.j          0.        +0.j          0.        +0.j\n",
      "  ...  0.        +0.j          0.        +0.j\n",
      "   0.        +0.j        ]\n",
      " [ 0.        +0.j         24.36      +0.j          0.        +0.j\n",
      "  ...  0.        +0.j          0.        +0.j\n",
      "   0.        +0.j        ]\n",
      " [ 0.        +0.j          0.        +0.j         24.84      +0.j\n",
      "  ...  0.        +0.j          0.        +0.j\n",
      "   0.        +0.j        ]\n",
      " ...\n",
      " [ 0.        +0.j          0.        +0.j          0.        +0.j\n",
      "  ...  0.25737829+0.58039791j  0.        +0.j\n",
      "   0.        +0.j        ]\n",
      " [ 0.        +0.j          0.        +0.j          0.        +0.j\n",
      "  ...  0.        +0.j          1.76556573+0.39438617j\n",
      "   0.        +0.j        ]\n",
      " [ 0.        +0.j          0.        +0.j          0.        +0.j\n",
      "  ...  0.        +0.j          0.        +0.j\n",
      "  -0.37316803+0.66353299j]]\n",
      "Current energy: (6.842705946790314+0.3722400769108576j)\n",
      "Updating weights at iteration 1\n",
      "[[ 0.        +0.j          0.        +0.j          0.        +0.j\n",
      "  ...  0.        +0.j          0.        +0.j\n",
      "   0.        +0.j        ]\n",
      " [ 0.        +0.j          2.619     +0.j          0.        +0.j\n",
      "  ...  0.        +0.j          0.        +0.j\n",
      "   0.        +0.j        ]\n",
      " [ 0.        +0.j          0.        +0.j          0.891     +0.j\n",
      "  ...  0.        +0.j          0.        +0.j\n",
      "   0.        +0.j        ]\n",
      " ...\n",
      " [ 0.        +0.j          0.        +0.j          0.        +0.j\n",
      "  ... -0.14030986+0.19826443j  0.        +0.j\n",
      "   0.        +0.j        ]\n",
      " [ 0.        +0.j          0.        +0.j          0.        +0.j\n",
      "  ...  0.        +0.j         -0.14030986+0.19826443j\n",
      "   0.        +0.j        ]\n",
      " [ 0.        +0.j          0.        +0.j          0.        +0.j\n",
      "  ...  0.        +0.j          0.        +0.j\n",
      "   6.43129809+1.50534799j]]\n"
     ]
    },
    {
     "ename": "LinAlgError",
     "evalue": "Singular matrix",
     "output_type": "error",
     "traceback": [
      "\u001b[0;31m---------------------------------------------------------------------------\u001b[0m",
      "\u001b[0;31mLinAlgError\u001b[0m                               Traceback (most recent call last)",
      "Cell \u001b[0;32mIn[2], line 6\u001b[0m\n\u001b[1;32m      4\u001b[0m Ham \u001b[38;5;241m=\u001b[39m  set_J1_Hamiltonian(model, J \u001b[38;5;241m=\u001b[39m \u001b[38;5;241m4\u001b[39m)\n\u001b[1;32m      5\u001b[0m gamma \u001b[38;5;241m=\u001b[39m \u001b[38;5;241m1\u001b[39m\n\u001b[0;32m----> 6\u001b[0m \u001b[43mrbm\u001b[49m\u001b[38;5;241;43m.\u001b[39;49m\u001b[43mtrain\u001b[49m\u001b[43m(\u001b[49m\u001b[43mHam\u001b[49m\u001b[43m,\u001b[49m\u001b[43m \u001b[49m\u001b[43mgamma\u001b[49m\u001b[43m,\u001b[49m\u001b[43m \u001b[49m\u001b[43mN\u001b[49m\u001b[43m \u001b[49m\u001b[38;5;241;43m=\u001b[39;49m\u001b[43m \u001b[49m\u001b[38;5;241;43m1000\u001b[39;49m\u001b[43m,\u001b[49m\u001b[43m \u001b[49m\u001b[43mn_iter\u001b[49m\u001b[43m \u001b[49m\u001b[38;5;241;43m=\u001b[39;49m\u001b[43m \u001b[49m\u001b[38;5;241;43m20\u001b[39;49m\u001b[43m)\u001b[49m\n",
      "File \u001b[0;32m~/Documents/Jupyter/machine_learning/rbm/rbm.py:225\u001b[0m, in \u001b[0;36mRBM.train\u001b[0;34m(self, Ham, gamma, operator, N, n_iter, verbose)\u001b[0m\n\u001b[1;32m    223\u001b[0m \u001b[38;5;28;01mdef\u001b[39;00m \u001b[38;5;21mtrain\u001b[39m(\u001b[38;5;28mself\u001b[39m, Ham, gamma, operator \u001b[38;5;241m=\u001b[39m \u001b[38;5;241m0\u001b[39m, N \u001b[38;5;241m=\u001b[39m \u001b[38;5;241m100\u001b[39m, n_iter \u001b[38;5;241m=\u001b[39m \u001b[38;5;241m10\u001b[39m, verbose \u001b[38;5;241m=\u001b[39m \u001b[38;5;28;01mTrue\u001b[39;00m):\n\u001b[1;32m    224\u001b[0m     \u001b[38;5;28;01mfor\u001b[39;00m p \u001b[38;5;129;01min\u001b[39;00m \u001b[38;5;28mrange\u001b[39m(n_iter):\n\u001b[0;32m--> 225\u001b[0m         \u001b[38;5;28;43mself\u001b[39;49m\u001b[38;5;241;43m.\u001b[39;49m\u001b[43mupdate_weights\u001b[49m\u001b[43m(\u001b[49m\u001b[43mHam\u001b[49m\u001b[43m,\u001b[49m\u001b[43m \u001b[49m\u001b[43mgamma\u001b[49m\u001b[43m,\u001b[49m\u001b[43m \u001b[49m\u001b[43mp\u001b[49m\u001b[43m,\u001b[49m\u001b[43m \u001b[49m\u001b[43mN\u001b[49m\u001b[43m \u001b[49m\u001b[38;5;241;43m=\u001b[39;49m\u001b[43m \u001b[49m\u001b[43mN\u001b[49m\u001b[43m,\u001b[49m\u001b[43m \u001b[49m\u001b[43mverbose\u001b[49m\u001b[43m \u001b[49m\u001b[38;5;241;43m=\u001b[39;49m\u001b[43m \u001b[49m\u001b[43mverbose\u001b[49m\u001b[43m)\u001b[49m\n\u001b[1;32m    226\u001b[0m         \u001b[38;5;28;01mif\u001b[39;00m verbose:\n\u001b[1;32m    227\u001b[0m             batch \u001b[38;5;241m=\u001b[39m \u001b[38;5;28mself\u001b[39m\u001b[38;5;241m.\u001b[39mcreate_batch(N)\n",
      "File \u001b[0;32m~/Documents/Jupyter/machine_learning/rbm/rbm.py:214\u001b[0m, in \u001b[0;36mRBM.update_weights\u001b[0;34m(self, Ham, gamma, p, N, verbose)\u001b[0m\n\u001b[1;32m    212\u001b[0m \u001b[38;5;28;01mif\u001b[39;00m verbose:\n\u001b[1;32m    213\u001b[0m     \u001b[38;5;28mprint\u001b[39m(\u001b[38;5;124mf\u001b[39m\u001b[38;5;124m\"\u001b[39m\u001b[38;5;124mUpdating weights at iteration \u001b[39m\u001b[38;5;132;01m{\u001b[39;00mp\u001b[38;5;132;01m}\u001b[39;00m\u001b[38;5;124m\"\u001b[39m)\n\u001b[0;32m--> 214\u001b[0m delta_as, delta_bs, delta_Ws \u001b[38;5;241m=\u001b[39m \u001b[38;5;28;43mself\u001b[39;49m\u001b[38;5;241;43m.\u001b[39;49m\u001b[43mget_deltas\u001b[49m\u001b[43m(\u001b[49m\u001b[43mHam\u001b[49m\u001b[43m,\u001b[49m\u001b[43m \u001b[49m\u001b[43mp\u001b[49m\u001b[43m)\u001b[49m\n\u001b[1;32m    215\u001b[0m \u001b[38;5;28mself\u001b[39m\u001b[38;5;241m.\u001b[39ma \u001b[38;5;241m-\u001b[39m\u001b[38;5;241m=\u001b[39m gamma \u001b[38;5;241m*\u001b[39m delta_as\n\u001b[1;32m    216\u001b[0m \u001b[38;5;28mself\u001b[39m\u001b[38;5;241m.\u001b[39mb \u001b[38;5;241m-\u001b[39m\u001b[38;5;241m=\u001b[39m gamma \u001b[38;5;241m*\u001b[39m delta_bs\n",
      "File \u001b[0;32m~/Documents/Jupyter/machine_learning/rbm/rbm.py:197\u001b[0m, in \u001b[0;36mRBM.get_deltas\u001b[0;34m(self, Ham, p, N)\u001b[0m\n\u001b[1;32m    195\u001b[0m Skk_reg \u001b[38;5;241m=\u001b[39m Skk \u001b[38;5;241m+\u001b[39m \u001b[38;5;28mself\u001b[39m\u001b[38;5;241m.\u001b[39mdecay(p) \u001b[38;5;241m*\u001b[39m np\u001b[38;5;241m.\u001b[39mdiag(np\u001b[38;5;241m.\u001b[39mdiagonal(Skk)) \u001b[38;5;66;03m#np.eye(Skk.shape[0])\u001b[39;00m\n\u001b[1;32m    196\u001b[0m \u001b[38;5;28mprint\u001b[39m(\u001b[38;5;28mself\u001b[39m\u001b[38;5;241m.\u001b[39mdecay(p) \u001b[38;5;241m*\u001b[39m np\u001b[38;5;241m.\u001b[39mdiag(np\u001b[38;5;241m.\u001b[39mdiagonal(Skk)))\n\u001b[0;32m--> 197\u001b[0m Skk_inv \u001b[38;5;241m=\u001b[39m \u001b[43mnp\u001b[49m\u001b[38;5;241;43m.\u001b[39;49m\u001b[43mlinalg\u001b[49m\u001b[38;5;241;43m.\u001b[39;49m\u001b[43minv\u001b[49m\u001b[43m(\u001b[49m\u001b[43mSkk_reg\u001b[49m\u001b[43m)\u001b[49m\n\u001b[1;32m    199\u001b[0m delta_as \u001b[38;5;241m=\u001b[39m np\u001b[38;5;241m.\u001b[39mmean(Es[:, np\u001b[38;5;241m.\u001b[39mnewaxis] \u001b[38;5;241m*\u001b[39m sigmas, axis \u001b[38;5;241m=\u001b[39m \u001b[38;5;241m0\u001b[39m) \u001b[38;5;241m-\u001b[39m np\u001b[38;5;241m.\u001b[39mmean(Es) \u001b[38;5;241m*\u001b[39m np\u001b[38;5;241m.\u001b[39mmean(sigmas, axis \u001b[38;5;241m=\u001b[39m \u001b[38;5;241m0\u001b[39m)\n\u001b[1;32m    200\u001b[0m delta_bs \u001b[38;5;241m=\u001b[39m np\u001b[38;5;241m.\u001b[39mmean(Es[:, np\u001b[38;5;241m.\u001b[39mnewaxis] \u001b[38;5;241m*\u001b[39m tanhs, axis \u001b[38;5;241m=\u001b[39m \u001b[38;5;241m0\u001b[39m) \u001b[38;5;241m-\u001b[39m np\u001b[38;5;241m.\u001b[39mmean(Es) \u001b[38;5;241m*\u001b[39m np\u001b[38;5;241m.\u001b[39mmean(tanhs, axis \u001b[38;5;241m=\u001b[39m \u001b[38;5;241m0\u001b[39m)\n",
      "File \u001b[0;32m~/miniconda3/envs/tensorflow/lib/python3.11/site-packages/numpy/linalg/linalg.py:561\u001b[0m, in \u001b[0;36minv\u001b[0;34m(a)\u001b[0m\n\u001b[1;32m    559\u001b[0m signature \u001b[38;5;241m=\u001b[39m \u001b[38;5;124m'\u001b[39m\u001b[38;5;124mD->D\u001b[39m\u001b[38;5;124m'\u001b[39m \u001b[38;5;28;01mif\u001b[39;00m isComplexType(t) \u001b[38;5;28;01melse\u001b[39;00m \u001b[38;5;124m'\u001b[39m\u001b[38;5;124md->d\u001b[39m\u001b[38;5;124m'\u001b[39m\n\u001b[1;32m    560\u001b[0m extobj \u001b[38;5;241m=\u001b[39m get_linalg_error_extobj(_raise_linalgerror_singular)\n\u001b[0;32m--> 561\u001b[0m ainv \u001b[38;5;241m=\u001b[39m \u001b[43m_umath_linalg\u001b[49m\u001b[38;5;241;43m.\u001b[39;49m\u001b[43minv\u001b[49m\u001b[43m(\u001b[49m\u001b[43ma\u001b[49m\u001b[43m,\u001b[49m\u001b[43m \u001b[49m\u001b[43msignature\u001b[49m\u001b[38;5;241;43m=\u001b[39;49m\u001b[43msignature\u001b[49m\u001b[43m,\u001b[49m\u001b[43m \u001b[49m\u001b[43mextobj\u001b[49m\u001b[38;5;241;43m=\u001b[39;49m\u001b[43mextobj\u001b[49m\u001b[43m)\u001b[49m\n\u001b[1;32m    562\u001b[0m \u001b[38;5;28;01mreturn\u001b[39;00m wrap(ainv\u001b[38;5;241m.\u001b[39mastype(result_t, copy\u001b[38;5;241m=\u001b[39m\u001b[38;5;28;01mFalse\u001b[39;00m))\n",
      "File \u001b[0;32m~/miniconda3/envs/tensorflow/lib/python3.11/site-packages/numpy/linalg/linalg.py:112\u001b[0m, in \u001b[0;36m_raise_linalgerror_singular\u001b[0;34m(err, flag)\u001b[0m\n\u001b[1;32m    111\u001b[0m \u001b[38;5;28;01mdef\u001b[39;00m \u001b[38;5;21m_raise_linalgerror_singular\u001b[39m(err, flag):\n\u001b[0;32m--> 112\u001b[0m     \u001b[38;5;28;01mraise\u001b[39;00m LinAlgError(\u001b[38;5;124m\"\u001b[39m\u001b[38;5;124mSingular matrix\u001b[39m\u001b[38;5;124m\"\u001b[39m)\n",
      "\u001b[0;31mLinAlgError\u001b[0m: Singular matrix"
     ]
    }
   ],
   "source": [
    "N = 1000\n",
    "model = Model(2,3)\n",
    "rbm = RBM(model)\n",
    "Ham =  set_J1_Hamiltonian(model, J = 4)\n",
    "gamma = 1\n",
    "rbm.train(Ham, gamma, N = 1000, n_iter = 20)"
   ]
  },
  {
   "cell_type": "code",
   "execution_count": 5,
   "metadata": {},
   "outputs": [
    {
     "ename": "LinAlgError",
     "evalue": "Singular matrix",
     "output_type": "error",
     "traceback": [
      "\u001b[0;31m---------------------------------------------------------------------------\u001b[0m",
      "\u001b[0;31mLinAlgError\u001b[0m                               Traceback (most recent call last)",
      "Cell \u001b[0;32mIn[5], line 21\u001b[0m\n\u001b[1;32m     18\u001b[0m Skk \u001b[38;5;241m=\u001b[39m Oj_Ok \u001b[38;5;241m-\u001b[39m mean_Oj_Ok\n\u001b[1;32m     20\u001b[0m Skk_reg \u001b[38;5;241m=\u001b[39m Skk \u001b[38;5;241m+\u001b[39m rbm\u001b[38;5;241m.\u001b[39mdecay(\u001b[38;5;241m1\u001b[39m) \u001b[38;5;241m*\u001b[39m np\u001b[38;5;241m.\u001b[39mdiag(np\u001b[38;5;241m.\u001b[39mdiagonal(Skk)) \u001b[38;5;66;03m#np.eye(Skk.shape[0])\u001b[39;00m\n\u001b[0;32m---> 21\u001b[0m Skk_inv \u001b[38;5;241m=\u001b[39m \u001b[43mnp\u001b[49m\u001b[38;5;241;43m.\u001b[39;49m\u001b[43mlinalg\u001b[49m\u001b[38;5;241;43m.\u001b[39;49m\u001b[43minv\u001b[49m\u001b[43m(\u001b[49m\u001b[43mSkk_reg\u001b[49m\u001b[43m)\u001b[49m\n",
      "File \u001b[0;32m~/miniconda3/envs/tensorflow/lib/python3.11/site-packages/numpy/linalg/linalg.py:561\u001b[0m, in \u001b[0;36minv\u001b[0;34m(a)\u001b[0m\n\u001b[1;32m    559\u001b[0m signature \u001b[38;5;241m=\u001b[39m \u001b[38;5;124m'\u001b[39m\u001b[38;5;124mD->D\u001b[39m\u001b[38;5;124m'\u001b[39m \u001b[38;5;28;01mif\u001b[39;00m isComplexType(t) \u001b[38;5;28;01melse\u001b[39;00m \u001b[38;5;124m'\u001b[39m\u001b[38;5;124md->d\u001b[39m\u001b[38;5;124m'\u001b[39m\n\u001b[1;32m    560\u001b[0m extobj \u001b[38;5;241m=\u001b[39m get_linalg_error_extobj(_raise_linalgerror_singular)\n\u001b[0;32m--> 561\u001b[0m ainv \u001b[38;5;241m=\u001b[39m \u001b[43m_umath_linalg\u001b[49m\u001b[38;5;241;43m.\u001b[39;49m\u001b[43minv\u001b[49m\u001b[43m(\u001b[49m\u001b[43ma\u001b[49m\u001b[43m,\u001b[49m\u001b[43m \u001b[49m\u001b[43msignature\u001b[49m\u001b[38;5;241;43m=\u001b[39;49m\u001b[43msignature\u001b[49m\u001b[43m,\u001b[49m\u001b[43m \u001b[49m\u001b[43mextobj\u001b[49m\u001b[38;5;241;43m=\u001b[39;49m\u001b[43mextobj\u001b[49m\u001b[43m)\u001b[49m\n\u001b[1;32m    562\u001b[0m \u001b[38;5;28;01mreturn\u001b[39;00m wrap(ainv\u001b[38;5;241m.\u001b[39mastype(result_t, copy\u001b[38;5;241m=\u001b[39m\u001b[38;5;28;01mFalse\u001b[39;00m))\n",
      "File \u001b[0;32m~/miniconda3/envs/tensorflow/lib/python3.11/site-packages/numpy/linalg/linalg.py:112\u001b[0m, in \u001b[0;36m_raise_linalgerror_singular\u001b[0;34m(err, flag)\u001b[0m\n\u001b[1;32m    111\u001b[0m \u001b[38;5;28;01mdef\u001b[39;00m \u001b[38;5;21m_raise_linalgerror_singular\u001b[39m(err, flag):\n\u001b[0;32m--> 112\u001b[0m     \u001b[38;5;28;01mraise\u001b[39;00m LinAlgError(\u001b[38;5;124m\"\u001b[39m\u001b[38;5;124mSingular matrix\u001b[39m\u001b[38;5;124m\"\u001b[39m)\n",
      "\u001b[0;31mLinAlgError\u001b[0m: Singular matrix"
     ]
    }
   ],
   "source": [
    "batch = rbm.create_batch(N)\n",
    "# Implement a Hamiltonian\n",
    "Es = np.array([rbm.expectation_value(Ham, spin) for spin in batch]) \n",
    "tanhs =  np.array([tanh(rbm.theta(spin)) for spin in batch])\n",
    "sigmas = np.array([rbm.model.project_spin(spin) for spin in batch])\n",
    "\n",
    "Oais =  sigmas\n",
    "Objs =  tanhs\n",
    "Owijs = tanhs[:, :, np.newaxis] * sigmas[:, np.newaxis, :]\n",
    "# Flatten W and concatenate a, b, W\n",
    "O = np.concatenate([Oais, Objs, Owijs.reshape(N, -1)], axis=1)\n",
    "mean_O = np.mean(O, axis=0)\n",
    "# Compute <Oj Ok>\n",
    "Oj_Ok = np.einsum('ij,ik->jk', O, O) / N\n",
    "# Compute <Oj><Ok>\n",
    "mean_Oj_Ok = np.outer(mean_O, mean_O)\n",
    "# Correlation matrix\n",
    "Skk = Oj_Ok - mean_Oj_Ok\n",
    "\n",
    "Skk_reg = Skk + rbm.decay(1) * np.diag(np.diagonal(Skk)) #np.eye(Skk.shape[0])\n",
    "Skk_inv = np.linalg.inv(Skk_reg)"
   ]
  },
  {
   "cell_type": "code",
   "execution_count": 29,
   "metadata": {},
   "outputs": [],
   "source": [
    "np.set_printoptions(threshold=np.inf)"
   ]
  },
  {
   "cell_type": "code",
   "execution_count": 25,
   "metadata": {},
   "outputs": [
    {
     "name": "stdout",
     "output_type": "stream",
     "text": [
      "Zero entries are located at: []\n"
     ]
    }
   ],
   "source": [
    "zero_indices = np.where(Oj_Ok == 0)\n",
    "\n",
    "# Convert the indices to a list of tuples for easier interpretation\n",
    "zero_locations = list(zip(zero_indices[0], zero_indices[1]))\n",
    "\n",
    "print(\"Zero entries are located at:\", zero_locations)"
   ]
  },
  {
   "cell_type": "code",
   "execution_count": 9,
   "metadata": {},
   "outputs": [
    {
     "data": {
      "text/plain": [
       "<matplotlib.image.AxesImage at 0x10f331c10>"
      ]
     },
     "execution_count": 9,
     "metadata": {},
     "output_type": "execute_result"
    },
    {
     "data": {
      "image/png": "[encoded data removed]",
      "text/plain": [
       "<Figure size 480x480 with 1 Axes>"
      ]
     },
     "metadata": {},
     "output_type": "display_data"
    }
   ],
   "source": [
    "plt.matshow(np.abs(Skk_reg))"
   ]
  },
  {
   "cell_type": "markdown",
   "metadata": {},
   "source": [
    "### Symmetry of the RBM.\n",
    "\n",
    "Consider a translation operator working as $\\sigma_j(k) = T_k \\sigma_j$. An obvious requirement for translation symmetry is that $\\Psi_\\theta(\\sigma) = \\Psi_\\theta(T_s\\sigma)$, and an obvious way to implement this is to just artificially sum over contributions on the output $\\sum_i \\Psi_\\theta(T_{s_i}\\sigma)$, but this won't improve the efficiency of the algorithm.\n",
    "\n",
    "A more tractable wa is to use convolutions. Before we have RBM as \n",
    "\n",
    "\\begin{align*}\n",
    "\\Psi_M(S;W) &= \\sum_{h_i} e^{\\sum_j a_j \\sigma^z_j + \\sum_i b_i h_i + \\sum_{ij} W_{ij} h_i \\sigma^{z}_j}\\\\\n",
    "\\end{align*}\n",
    "\n",
    "Now, we can rewrite it as below, where $f = 1, \\alpha_s$ is a number of feature maps, and in particular $W_{j}^{(f)} $ has $\\alpha_s \\times N$ elements. Note that because the spins are all summed over all translations this is translation invariant.\n",
    "\n",
    "\\begin{equation}\n",
    "\\Psi_{\\alpha}(\\mathbf{S}; \\mathbf{W}) = \\sum_{h_{i,s}} \\exp \\left[ \\sum_{f}^{a} \\left( a^{(s)} \\sum_{s}^{S} \\sum_{j}^{N} \\tilde{\\sigma}_{j}^{z}(s) + b_{f}^{(s)} h_{f,s} + \\sum_{s}^{S} \\sum_{j}^{N} h_{f,s} W_{j}^{(f)} \\tilde{\\sigma}_{j}^{z}(s) \\right) \\right],\n",
    "\\end{equation}\n"
   ]
  }
 ],
 "metadata": {
  "kernelspec": {
   "display_name": "tensorflow",
   "language": "python",
   "name": "python3"
  },
  "language_info": {
   "codemirror_mode": {
    "name": "ipython",
    "version": 3
   },
   "file_extension": ".py",
   "mimetype": "text/x-python",
   "name": "python",
   "nbconvert_exporter": "python",
   "pygments_lexer": "ipython3",
   "version": "3.11.8"
  }
 },
 "nbformat": 4,
 "nbformat_minor": 2
}
