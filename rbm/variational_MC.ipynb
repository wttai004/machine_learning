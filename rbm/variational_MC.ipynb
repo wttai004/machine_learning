{
 "cells": [
  {
   "cell_type": "code",
   "execution_count": 1,
   "metadata": {},
   "outputs": [],
   "source": [
    "import numpy as np\n",
    "from numpy import tanh\n",
    "import matplotlib.pyplot as plt\n",
    "import random\n",
    "from math import sqrt\n",
    "from model import Model\n",
    "from rbm import RBM\n",
    "from rbm_operator import Operator, Sx_, Sy_, Sz_, SzSz_, set_h_Hamiltonian, set_J1_Hamiltonian, set_J2_Hamiltonian"
   ]
  },
  {
   "cell_type": "markdown",
   "metadata": {},
   "source": [
    "# Simple attempt to implement a variational quantum state calculation "
   ]
  },
  {
   "cell_type": "markdown",
   "metadata": {},
   "source": [
    "Reminder: the operators are defined as \n",
    "$$S\\cdot S = S_x \\cdot S_x + S_y \\cdot S_y + S_z \\cdot S_z = \\frac{1}{2} (S_+ \\cdot S_- + S_- \\cdot S_+) + S_z \\cdot S_z$$\n",
    "\n",
    "where $S_z = \\frac{\\hbar}{2} \\begin{pmatrix} 1 & 0 \\\\ 0  & -1 \\end{pmatrix}$, $S_+ = \\hbar \\begin{pmatrix} 0 & 1 \\\\ 0 & 0 \\end{pmatrix} = S_x + S_y$, $S_- = \\hbar \\begin{pmatrix} 0 & 0 \\\\ 1 & 0 \\end{pmatrix} = S_x - S_y$. A singlet state has energy $-3J/4$ and a triplet state has energy $J/4$\n",
    "\n",
    "As an example, we start with a very simple J1/J2 Heisenberg spin chain\n",
    "\n",
    "We define a class \"model\" that contains a Hamiltonian and a rule for generating spins according to the MSMS algorithm.\n",
    "\n",
    "We have something to obtain the wavefunction amplitude $\\psi_\\theta(s)$ from the spin configuration $s$ that depends on some amplitude $\\theta$\n",
    "\n",
    "From  $\\psi_\\theta(s)$ for the given spin configuration, we can produce an estimate of the energy of the variational ground state.\n",
    "\n",
    "Then we can perform a stochastic gradient descent based on it."
   ]
  },
  {
   "cell_type": "markdown",
   "metadata": {},
   "source": [
    "# Implementation of the RBM class"
   ]
  },
  {
   "cell_type": "markdown",
   "metadata": {},
   "source": [
    "After having a class of spin and Hamiltonian, consider a wavefunction object, take takes a spin and returns a number. The variational quantum state is defined as \n",
    "\n",
    "\\begin{align*}\n",
    "\\Psi_M(S;W) = \\sum_{h_i} e^{\\sum_j a_j \\sigma^z_j + \\sum_i b_i h_i + \\sum_{ij} W_{ij} h_i \\sigma^{z}_j}\n",
    "\\end{align*}\n",
    "\n",
    "Here the free parameters of the models are $a_i, b_, W_{ij}$ and $h_1, \\dots, h_M$ represents auxilliary spin variables in the network. The internal spins can be explicited traced out to read\n",
    "\n",
    "\\begin{align*}\n",
    "\\Psi(S;W) = e^{\\sum_j a_j \\sigma^z_j} \\times \\Pi_{i=1}^M F_i(S)\n",
    "\\end{align*}\n",
    "\n",
    "where\n",
    "\n",
    "\\begin{align*}\n",
    "F_i(S) = 2\\cosh\\left[ b_i + \\sum_J W_{ij} \\sigma^z_j\\right] =  2\\cosh\\theta_i\n",
    "\\end{align*}\n",
    "\n",
    "The object would be an NN (most basic example includes the Carleo RBM, which actually has an analytical form). $a_j$ is the visible layer with the physical spins, $b_i$ is the hidden layer with an arbitrary layer of hidden spins, while $W_{ij}$ is a weight connecting the physical and hidden spins.\n",
    "\n",
    "I need a function to compute the variational energy. A function to give gradient. And a function to do the gradient descent.\n"
   ]
  },
  {
   "cell_type": "markdown",
   "metadata": {},
   "source": [
    "# Operators and derivatives: "
   ]
  },
  {
   "cell_type": "markdown",
   "metadata": {},
   "source": [
    "Noting that an operator dcdan be approximated by its local value\n",
    "\n",
    "\\begin{align*}\n",
    "O_{loc}(s) = \\sum_{s, s'}  \\left< s\\middle| O \\middle| s' \\right>\\frac{\\left<s' \\middle| \\Phi_\\theta\\right>}{\\left<s \\middle| \\Phi_\\theta\\right>}\n",
    "\\end{align*}\n",
    "\n",
    "and an operator's expectation value can be reasonably approximated by \n",
    "\n",
    "\\begin{align*}\n",
    "\\left<O \\right> = \\sum_{s} P(s) O_{loc}(s) \\approx \\frac{1}{M} \\sum_{s_i} O_{loc}(s_i)\n",
    "\\end{align*}\n",
    "\n",
    "Now consider the energy minimization. Let $O_p(s) = \\frac{\\partial}{\\partial \\theta_p} \\log \\left<s\\middle|\\Psi_\\theta\\right> = \\left<s\\middle|O_p \\middle| s\\right> $,\n",
    "\n",
    "\\begin{align*}\n",
    "\\frac{\\partial E(\\theta)}{\\partial \\theta_p} &= 2 \\Re \\left[ \\left\\langle E_{\\text{loc}}(\\mathbf{s}) O^*(\\mathbf{s}) \\right\\rangle - \\left\\langle E_{\\text{loc}}(\\mathbf{s}) \\right\\rangle \\left\\langle O^*(\\mathbf{s}) \\right\\rangle \\right] \\\\\n",
    "&= 2 \\Re \\left[ \\left\\langle (E_{\\text{loc}}(\\mathbf{s}) - \\left\\langle E_{\\text{loc}}(\\mathbf{s}) \\right\\rangle) O^*(\\mathbf{s}) \\right\\rangle \\right]\n",
    "\\end{align*}\n",
    "\n",
    "To evaluate the derivatives, note that \n",
    "\n",
    "\\begin{align*}\n",
    "O_{a_i} = \\frac{\\partial}{\\partial a_i} \\log \\left<s\\middle|\\Psi_\\theta\\right> &= \\sigma_i^z \\\\\n",
    "O_{b_j} = \\frac{\\partial}{\\partial b_j} \\log \\left<s\\middle|\\Psi_\\theta\\right> &= \\tanh(\\theta_j(S)) \\\\\n",
    "O_{W_{ij}} = \\frac{\\partial}{\\partial W_{ij}} \\log \\left<s\\middle|\\Psi_\\theta\\right> &= \\sigma^z_i\\tanh(\\theta_j(S))\n",
    "\\end{align*}\n",
    "\n",
    "It follows that the gradient is given by (up to proportionality factors)\n",
    "\n",
    "\\begin{align*}\n",
    "\\frac{\\partial E(\\theta)}{\\partial a_i}  &= \\left[ \\left\\langle E_{\\text{loc}}(\\mathbf{s}) \\sigma_i^z \\right\\rangle - \\left\\langle E_{\\text{loc}}(\\mathbf{s}) \\right\\rangle \\left\\langle \\sigma_i^z \\right\\rangle \\right] \\\\\n",
    "\\frac{\\partial E(\\theta)}{\\partial b_j}  &= \\left[ \\left\\langle E_{\\text{loc}}(\\mathbf{s}) \\tanh(\\theta_j(s)) \\right\\rangle - \\left\\langle E_{\\text{loc}}(\\mathbf{s}) \\right\\rangle \\left\\langle \\tanh(\\theta_j(s)) \\right\\rangle \\right] \\\\\n",
    "\\frac{\\partial E(\\theta)}{\\partial W_{ij}}  &= \\left[ \\left\\langle E_{\\text{loc}}(\\mathbf{s}) \\sigma^z_i\\tanh(\\theta_j(s)) \\right\\rangle - \\left\\langle E_{\\text{loc}}(\\mathbf{s}) \\right\\rangle \\left\\langle \\sigma^z_i\\tanh(\\theta_j(s)) \\right\\rangle \\right]\n",
    "\\end{align*}\n"
   ]
  },
  {
   "cell_type": "markdown",
   "metadata": {},
   "source": [
    "Technically, I can use the naive gradient descent. But it tends to have poor convergence because the wavefunction is highly non-linear and correlated. Stchastic reconfiguration is known to have better performance. "
   ]
  },
  {
   "cell_type": "markdown",
   "metadata": {},
   "source": [
    "## Sanity check: expectation value of operators "
   ]
  },
  {
   "cell_type": "markdown",
   "metadata": {},
   "source": [
    "### Two-site operators (SzSz only, for now)"
   ]
  },
  {
   "cell_type": "code",
   "execution_count": 4,
   "metadata": {},
   "outputs": [
    {
     "name": "stdout",
     "output_type": "stream",
     "text": [
      "The average expectation <SzSz|ud__|SzSz> is (-0.25+0j) with standard deviation 0.0\n",
      "The average expectation  <Sz|dd__|Sz> is (0.25+0j) with standard deviation 0.0\n",
      "The average expectation for a 2:1 mixed state is (-0.0125+0j))\n"
     ]
    }
   ],
   "source": [
    "model = Model(2,2)\n",
    "rbm = RBM(model)\n",
    "average_expectations = [rbm.expectation_value(SzSz_(0,0,0,1,model), np.array([[[1, 0], [0, 1]], [[0, 1], [1, 0]]])) for _ in range(40)]\n",
    "print(f\"The average expectation <SzSz|ud__|SzSz> is {np.mean(average_expectations)} with standard deviation {np.std(average_expectations)}\")\n",
    "average_expectations = [rbm.expectation_value(SzSz_(0,0,0,1,model), np.array([[[0, 1], [0, 1]], [[0, 1], [1, 0]]])) for _ in range(40)]\n",
    "print(f\"The average expectation  <Sz|dd__|Sz> is {np.mean(average_expectations)} with standard deviation {np.std(average_expectations)}\")\n",
    "rbm = RBM(model)\n",
    "batch = rbm.create_batch(200) #This uses evaluate_dummy, which gives 2/3 for spin up and 1/3 for spin down \n",
    "average_expectations = [rbm.expectation_value(SzSz_(0,0,0,1,model), batch[i]) for i in range(len(batch))]\n",
    "print(f\"The average expectation for a 2:1 mixed state is {np.mean(average_expectations)})\")"
   ]
  },
  {
   "cell_type": "markdown",
   "metadata": {},
   "source": [
    "### One-site operator (Sz makes sense. Unsure if Sx does, but I'll sweep it under the rug for now.)"
   ]
  },
  {
   "cell_type": "code",
   "execution_count": 18,
   "metadata": {},
   "outputs": [
    {
     "name": "stdout",
     "output_type": "stream",
     "text": [
      "The average expectation <Sz|u___|Sz> is (0.5+0j) with standard deviation 0.0\n",
      "The average expectation  <Sz|d___|Sz> is (-0.5+0j) with standard deviation 0.0\n",
      "The average expectation for a 2:1 mixed state is (0.42+0j))\n"
     ]
    }
   ],
   "source": [
    "model = Model(2,2)\n",
    "rbm = RBM(model)\n",
    "average_expectations = [rbm.expectation_value(Sz_(0,0,model), np.array([[[1, 0], [0, 1]], [[0, 1], [1, 0]]])) for _ in range(40)]\n",
    "print(f\"The average expectation <Sz|u___|Sz> is {np.mean(average_expectations)} with standard deviation {np.std(average_expectations)}\")\n",
    "average_expectations = [rbm.expectation_value(Sz_(0,0,model), np.array([[[0, 1], [1, 0]], [[0, 1], [1, 0]]])) for _ in range(40)]\n",
    "print(f\"The average expectation  <Sz|d___|Sz> is {np.mean(average_expectations)} with standard deviation {np.std(average_expectations)}\")\n",
    "rbm = RBM(model)\n",
    "batch = rbm.create_batch(200) #This uses evaluate_dummy, which gives 2/3 for spin up and 1/3 for spin down \n",
    "average_expectations = [rbm.expectation_value(Sz_(0,0,model), batch[i]) for i in range(len(batch))]\n",
    "print(f\"The average expectation for a 2:1 mixed state is {np.mean(average_expectations)})\")"
   ]
  },
  {
   "cell_type": "code",
   "execution_count": 19,
   "metadata": {},
   "outputs": [
    {
     "name": "stdout",
     "output_type": "stream",
     "text": [
      "The average expectation <Sz|u___|Sz> is (-1+0j) with standard deviation 0.0\n",
      "The average expectation  <Sz|d___|Sz> is 0j with standard deviation 0.0\n",
      "The average expectation for a 2:1 mixed state is (0.335+0j))\n"
     ]
    }
   ],
   "source": [
    "model = Model(2,2)\n",
    "rbm = RBM(model)\n",
    "average_expectations = [rbm.expectation_value(Sz_(1,0,model)+Sz_(0,1,model), np.array([[[1, 0], [0, 1]], [[0, 1], [1, 0]]])) for _ in range(40)]\n",
    "print(f\"The average expectation <Sz|u___|Sz> is {np.mean(average_expectations)} with standard deviation {np.std(average_expectations)}\")\n",
    "average_expectations = [rbm.expectation_value(Sz_(1,0,model)+Sz_(0,1,model), np.array([[[0, 1], [1, 0]], [[0, 1], [1, 0]]])) for _ in range(40)]\n",
    "print(f\"The average expectation  <Sz|d___|Sz> is {np.mean(average_expectations)} with standard deviation {np.std(average_expectations)}\")\n",
    "rbm = RBM(model)\n",
    "batch = rbm.create_batch(200) #This uses evaluate_dummy, which gives 2/3 for spin up and 1/3 for spin down \n",
    "average_expectations = [rbm.expectation_value(Sz_(1,0,model)+Sz_(0,1,model), batch[i]) for i in range(len(batch))]\n",
    "print(f\"The average expectation for a 2:1 mixed state is {np.mean(average_expectations)})\")"
   ]
  },
  {
   "cell_type": "code",
   "execution_count": 20,
   "metadata": {},
   "outputs": [
    {
     "name": "stdout",
     "output_type": "stream",
     "text": [
      "The average expectation <Sz|u___|Sz> is 0j with standard deviation 0.0\n",
      "The average expectation  <Sz|d___|Sz> is 0j with standard deviation 0.0\n",
      "The average expectation for a 2:1 mixed state is (0.88+0j))\n"
     ]
    }
   ],
   "source": [
    "operator = Operator(model)\n",
    "for i in range(2):\n",
    "    for j in range(2):\n",
    "        operator += Sz_(i, j, model)\n",
    "model = Model(2,2)\n",
    "rbm = RBM(model)\n",
    "average_expectations = [rbm.expectation_value(operator, np.array([[[1, 0], [0, 1]], [[0, 1], [1, 0]]])) for _ in range(40)]\n",
    "print(f\"The average expectation <Sz|u___|Sz> is {np.mean(average_expectations)} with standard deviation {np.std(average_expectations)}\")\n",
    "average_expectations = [rbm.expectation_value(operator, np.array([[[0, 1], [1, 0]], [[0, 1], [1, 0]]])) for _ in range(40)]\n",
    "print(f\"The average expectation  <Sz|d___|Sz> is {np.mean(average_expectations)} with standard deviation {np.std(average_expectations)}\")\n",
    "rbm = RBM(model)\n",
    "batch = rbm.create_batch(200) #This uses evaluate_dummy, which gives 2/3 for spin up and 1/3 for spin down \n",
    "average_expectations = [rbm.expectation_value(operator, batch[i]) for i in range(len(batch))]\n",
    "print(f\"The average expectation for a 2:1 mixed state is {np.mean(average_expectations)})\")"
   ]
  },
  {
   "cell_type": "code",
   "execution_count": 21,
   "metadata": {},
   "outputs": [
    {
     "name": "stdout",
     "output_type": "stream",
     "text": [
      "The average expectation <Sx|u___|Sx> is (0.5+0j) with standard deviation 0.0\n",
      "The average expectation  <Sx|d___|Sx> is (0.5+0j) with standard deviation 0.0\n",
      "The average expectation for a 2:1 mixed state is (0.3575000000000001+0j))\n"
     ]
    }
   ],
   "source": [
    "#NB: This assumes that the spin is up for probability 2/3 and down for probabilty 1/3\n",
    "#If you set them to be the same the spin expectation is 1/2, which checks out for |up>+|dn>\n",
    "model = Model(2,3)\n",
    "rbm = RBM(model)\n",
    "average_expectations = [rbm.expectation_value(Sx_(1,0,model), np.array([[[1, 0], [0, 1], [1, 0]], [[0, 1], [1, 0], [1,0]]])) for _ in range(40)]\n",
    "print(f\"The average expectation <Sx|u___|Sx> is {np.mean(average_expectations)} with standard deviation {np.std(average_expectations)}\")\n",
    "average_expectations = [rbm.expectation_value(Sx_(1,0,model), np.array([[[1, 0], [0, 1], [1, 0]], [[0, 1], [1, 0], [1,0]]])) for _ in range(40)]\n",
    "print(f\"The average expectation  <Sx|d___|Sx> is {np.mean(average_expectations)} with standard deviation {np.std(average_expectations)}\")\n",
    "rbm = RBM(model)\n",
    "batch = rbm.create_batch(100) #This uses evaluate_dummy, which gives 2/3 for spin up and 1/3 for spin down \n",
    "average_expectations = [rbm.expectation_value(Sx_(0,0,model), batch[i]) for i in range(len(batch))]\n",
    "print(f\"The average expectation for a 2:1 mixed state is {np.mean(average_expectations)})\")"
   ]
  },
  {
   "cell_type": "code",
   "execution_count": 24,
   "metadata": {},
   "outputs": [
    {
     "name": "stdout",
     "output_type": "stream",
     "text": [
      "The average expectation <Sy|u___|Sy> is -0.5j with standard deviation 0.0\n",
      "The average expectation  <Sy|d___|Sy> is -0.5j with standard deviation 0.0\n",
      "The average expectation for a 2:1 mixed state is 0.01j)\n"
     ]
    }
   ],
   "source": [
    "model = Model(2,3)\n",
    "rbm = RBM(model)\n",
    "average_expectations = [rbm.expectation_value(Sy_(1,0,model), np.array([[[1, 0], [0, 1], [1, 0]], [[0, 1], [1, 0], [1,0]]])) for _ in range(40)]\n",
    "print(f\"The average expectation <Sy|u___|Sy> is {np.mean(average_expectations)} with standard deviation {np.std(average_expectations)}\")\n",
    "average_expectations = [rbm.expectation_value(Sy_(1,0,model), np.array([[[1, 0], [0, 1], [1, 0]], [[0, 1], [1, 0], [1,0]]])) for _ in range(40)]\n",
    "print(f\"The average expectation  <Sy|d___|Sy> is {np.mean(average_expectations)} with standard deviation {np.std(average_expectations)}\")\n",
    "rbm = RBM(model)\n",
    "batch = rbm.create_batch(200) #This uses evaluate_dummy, which gives 2/3 for spin up and 1/3 for spin down \n",
    "average_expectations = [rbm.expectation_value(Sy_(1,0,model), batch[i]) for i in range(len(batch))]\n",
    "print(f\"The average expectation for a 2:1 mixed state is {np.mean(average_expectations)})\")"
   ]
  },
  {
   "cell_type": "markdown",
   "metadata": {},
   "source": [
    "# Implementation of the learning process"
   ]
  },
  {
   "cell_type": "markdown",
   "metadata": {},
   "source": [
    "Idea:\n",
    "\n",
    "For each iteration:\n",
    "\n",
    "Start with a set of weights.\n",
    "\n",
    "For each weight, initialize the batch of state configurations based on the MCMC. For each state, get the amplitude. The combination gives an estimation of energy. This energy generates an estimation of gradient descent. Change the weight. \n",
    "\n"
   ]
  },
  {
   "cell_type": "code",
   "execution_count": 2,
   "metadata": {},
   "outputs": [
    {
     "name": "stdout",
     "output_type": "stream",
     "text": [
      "the spin expectation value is (0.9-5.361749559878048e-18j)\n",
      "the naive spin expectation value is 0.9\n"
     ]
    }
   ],
   "source": [
    "model = Model(2,3)\n",
    "rbm = RBM(model)\n",
    "\n",
    "N = 100\n",
    "batch = rbm.create_batch(N)\n",
    "Ham =  set_h_Hamiltonian(model, h = 4) #set_J1_Hamiltonian(model, J = 1) + set_h_Hamiltonian(model, h = 4)\n",
    "\n",
    "Szs = set_h_Hamiltonian(model, h = 1)\n",
    "\n",
    "print(f\"the spin expectation value is {rbm.expectation_value_batch(Szs, batch)}\")\n",
    "\n",
    "def calculate_Sz_expectation_brute_force(batch):\n",
    "    return  np.mean(np.sum(batch[:, :, :, 0]/2 - batch[:, :, :, 1]/2, axis=(1, 2)))\n",
    "\n",
    "print(f\"the naive spin expectation value is {calculate_Sz_expectation_brute_force(batch)}\")\n",
    "      "
   ]
  },
  {
   "cell_type": "code",
   "execution_count": 3,
   "metadata": {},
   "outputs": [
    {
     "name": "stdout",
     "output_type": "stream",
     "text": [
      "Hamiltonian expectation: <spin1|H|spin1>=(3+0j)\n",
      "Flipping a spin in s Hamiltonian gives: <spin1|H|spin1>=(2+0j)\n",
      "Flipping a spin in s Hamiltonian gives: <spin1|H|spin1>=(1+0j)\n"
     ]
    }
   ],
   "source": [
    "model = Model(2,3)\n",
    "Ham = set_h_Hamiltonian(model, h = 1)\n",
    "#Ham += set_J1_Hamiltonian(model, J = 1)\n",
    "spin1 = np.array([[[1,0] for _ in range(model.L2)] for _ in range(model.L1)])\n",
    "print(f\"Hamiltonian expectation: <spin1|H|spin1>={Ham.vdot(spin1, spin1)}\")\n",
    "spin1[0, 0] = [0,1]\n",
    "print(f\"Flipping a spin in s Hamiltonian gives: <spin1|H|spin1>={Ham.vdot(spin1, spin1)}\")\n",
    "spin1[1, 2] = [0,1]\n",
    "print(f\"Flipping a spin in s Hamiltonian gives: <spin1|H|spin1>={Ham.vdot(spin1, spin1)}\")"
   ]
  },
  {
   "cell_type": "code",
   "execution_count": 4,
   "metadata": {},
   "outputs": [
    {
     "name": "stdout",
     "output_type": "stream",
     "text": [
      "The average energy is (2.04+1.0882532906389126e-17j) with standard deviation 0.36353816856005644\n",
      "The average energy is (1.7048000000000003+9.166667502534988e-18j) with standard deviation 0.14934309491904874\n"
     ]
    }
   ],
   "source": [
    "model = Model(2,3)\n",
    "rbm = RBM(model)\n",
    "Ham =  set_h_Hamiltonian(model, h = 4)\n",
    "\n",
    "N= 50\n",
    "test = [rbm.expectation_value_batch(Ham, rbm.create_batch(N)) for _ in range(10)]\n",
    "print(f\"The average energy is {np.mean(test)} with standard deviation {np.std(test)}\")\n",
    "\n",
    "N = 500\n",
    "test = [rbm.expectation_value_batch(Ham,  rbm.create_batch(N)) for _ in range(10)]\n",
    "print(f\"The average energy is {np.mean(test)} with standard deviation {np.std(test)}\")\n",
    "\n",
    "# N = 5000\n",
    "# test = [rbm.expectation_value_batch(Ham,  rbm.create_batch(N)) for _ in range(10)]\n",
    "# print(f\"The average energy is {np.mean(test)} with standard deviation {np.std(test)}\")"
   ]
  },
  {
   "cell_type": "code",
   "execution_count": 24,
   "metadata": {},
   "outputs": [
    {
     "name": "stdout",
     "output_type": "stream",
     "text": [
      "the initial energy is (1.84+0j)\n",
      "the updated energy is (2.48+1.8718492984125588e-18j)\n"
     ]
    }
   ],
   "source": [
    "#get the current wight and energy\n",
    "a, b, M = rbm.get_weights()\n",
    "batch = rbm.create_batch(N)\n",
    "print(f\"the initial energy is {rbm.expectation_value_batch(Ham, batch)}\")\n",
    "delta_a, delta_b, delta_M = rbm.get_deltas(Ham, 1)\n",
    "gamma = 0.000000001\n",
    "a -= gamma * delta_a\n",
    "b -= gamma * delta_b\n",
    "M -= gamma * delta_M\n",
    "rbm.set_weights(a, b, M)\n",
    "batch = rbm.create_batch(N)\n",
    "print(f\"the updated energy is {rbm.expectation_value_batch(Ham, batch)}\")"
   ]
  },
  {
   "cell_type": "code",
   "execution_count": 22,
   "metadata": {},
   "outputs": [
    {
     "data": {
      "text/plain": [
       "1.0"
      ]
     },
     "execution_count": 22,
     "metadata": {},
     "output_type": "execute_result"
    }
   ],
   "source": [
    "calculate_Sz_expectation_brute_force(test)"
   ]
  },
  {
   "cell_type": "code",
   "execution_count": 3,
   "metadata": {},
   "outputs": [
    {
     "name": "stdout",
     "output_type": "stream",
     "text": [
      "Updating weights at iteration 0\n",
      "Current energy: 0j\n",
      "Current Sz: 0.0\n",
      "Updating weights at iteration 1\n",
      "Current energy: (0.7199999999999999+0j)\n",
      "Current Sz: 0.18\n",
      "Updating weights at iteration 2\n",
      "Current energy: (-0.84+0j)\n",
      "Current Sz: -0.21\n",
      "Updating weights at iteration 3\n",
      "Current energy: (1.16-2.2684320903241372e-18j)\n",
      "Current Sz: 0.29\n",
      "Updating weights at iteration 4\n",
      "Current energy: (-1.96+5.73936057095251e-18j)\n",
      "Current Sz: -0.49\n",
      "Updating weights at iteration 5\n",
      "Current energy: (-0.96+6.857054125199013e-18j)\n",
      "Current Sz: -0.24\n",
      "Updating weights at iteration 6\n",
      "Current energy: (-1.56+0j)\n",
      "Current Sz: -0.39\n",
      "Updating weights at iteration 7\n",
      "Current energy: (-2.32+0j)\n",
      "Current Sz: -0.58\n",
      "Updating weights at iteration 8\n",
      "Current energy: (-0.76+0j)\n",
      "Current Sz: -0.19\n",
      "Updating weights at iteration 9\n",
      "Current energy: (-1.52+4.9458343384645615e-18j)\n",
      "Current Sz: -0.38\n"
     ]
    },
    {
     "data": {
      "text/plain": [
       "(array([ 0.31466344+0.01420613j, -0.17781718+0.46356555j,\n",
       "        -0.56087053+0.007771j  ,  0.3094495 +0.45058636j,\n",
       "        -0.49944333+0.43138525j,  0.43036907-0.47256118j]),\n",
       " array([ 0.00629268-0.10409859j,  0.12635185+0.30579703j,\n",
       "        -0.21771644+0.38645257j, -0.42647314+0.52715781j,\n",
       "        -0.31079108+0.13845925j, -0.31027842-0.09731303j,\n",
       "         0.25961849+0.0531559j ,  0.53681481+0.11855583j,\n",
       "         0.36300586-0.40619028j]),\n",
       " array([[ 0.00679065-0.34423366j, -0.44590654+0.263989j  ,\n",
       "          0.42339262+0.28324037j, -0.21313809-0.31825113j,\n",
       "          0.29275988+0.35861221j, -0.27482315-0.40352174j],\n",
       "        [ 0.39140067-0.5150925j , -0.11621116+0.1003381j ,\n",
       "          0.46934634+0.3705505j ,  0.39381741+0.27205987j,\n",
       "         -0.1699463 +0.31992682j, -0.03149516-0.07186602j],\n",
       "        [ 0.24818596+0.22526289j,  0.44133083+0.33749219j,\n",
       "         -0.21044856-0.02471558j,  0.12605445+0.37861303j,\n",
       "          0.18056459+0.34234216j,  0.36909677+0.39050799j],\n",
       "        [-0.29868073+0.047433j  , -0.23638726-0.52210167j,\n",
       "         -0.48681899+0.20312412j,  0.46683807-0.07775899j,\n",
       "          0.09870758-0.43901203j,  0.10616157-0.48002036j],\n",
       "        [ 0.31928163-0.49399038j,  0.50516259+0.24907856j,\n",
       "          0.34562572-0.00708164j, -0.23197911+0.10420561j,\n",
       "          0.08407215-0.28602615j,  0.18166379-0.20469835j],\n",
       "        [ 0.06382156+0.34805258j,  0.30770263+0.14175662j,\n",
       "         -0.10765123+0.25401336j,  0.03005638+0.11942414j,\n",
       "          0.3069105 -0.08776697j, -0.28280996+0.29143362j],\n",
       "        [ 0.22727154+0.00192869j,  0.17384392-0.23963477j,\n",
       "         -0.10013456+0.2190197j ,  0.08378963-0.35598462j,\n",
       "          0.30478163-0.4041798j ,  0.4494984 -0.38920829j],\n",
       "        [-0.33274168-0.50414067j, -0.49978477-0.02466824j,\n",
       "          0.3118155 -0.07615393j,  0.24644118+0.00444876j,\n",
       "         -0.40087478-0.07029671j, -0.0072595 +0.07530919j],\n",
       "        [ 0.02399524-0.0384561j , -0.14126245-0.33853342j,\n",
       "         -0.01993002+0.42604782j, -0.06835846-0.16610556j,\n",
       "         -0.30396774+0.37309869j, -0.09919243+0.34006055j]]))"
      ]
     },
     "execution_count": 3,
     "metadata": {},
     "output_type": "execute_result"
    }
   ],
   "source": [
    "rbm.train(Ham, 1)"
   ]
  },
  {
   "cell_type": "code",
   "execution_count": 4,
   "metadata": {},
   "outputs": [
    {
     "data": {
      "text/plain": [
       "(array([0.0108162 +0.j, 0.01036182+0.j, 0.01164751+0.j, 0.00111059+0.j,\n",
       "        0.01658372+0.j, 0.01598826+0.j]),\n",
       " array([ 8.86446255e-03+0.j,  6.97707050e-06+0.j, -5.90236836e-03+0.j,\n",
       "        -8.85677324e-03+0.j, -6.40614383e-03+0.j, -9.30838656e-03+0.j,\n",
       "         2.27635936e-03+0.j, -7.17698741e-03+0.j,  5.07102749e-03+0.j]),\n",
       " array([[ 0.00279604+0.j,  0.0035785 +0.j,  0.00168032+0.j,\n",
       "          0.00241863+0.j,  0.00525859+0.j,  0.00452512+0.j],\n",
       "        [ 0.00083935+0.j,  0.00193649+0.j,  0.00072205+0.j,\n",
       "          0.00047375+0.j,  0.00203627+0.j,  0.00216819+0.j],\n",
       "        [ 0.00304152+0.j,  0.0038329 +0.j,  0.00461035+0.j,\n",
       "         -0.00120154+0.j,  0.00558658+0.j,  0.00499   +0.j],\n",
       "        [-0.00404507+0.j, -0.00322722+0.j, -0.00306601+0.j,\n",
       "         -0.00318194+0.j, -0.00533932+0.j, -0.00522522+0.j],\n",
       "        [ 0.00420897+0.j,  0.00430301+0.j,  0.00443395+0.j,\n",
       "         -0.00116703+0.j,  0.00690323+0.j,  0.00706373+0.j],\n",
       "        [ 0.00303222+0.j,  0.00275894+0.j,  0.00412535+0.j,\n",
       "         -0.00119284+0.j,  0.00564881+0.j,  0.00480361+0.j],\n",
       "        [-0.00089774+0.j, -0.00112826+0.j, -0.00118562+0.j,\n",
       "          0.00102335+0.j, -0.00105643+0.j, -0.00119322+0.j],\n",
       "        [-0.00163932+0.j, -0.00358759+0.j, -0.00118035+0.j,\n",
       "         -0.00163536+0.j, -0.00338391+0.j, -0.00282715+0.j],\n",
       "        [-0.00445378+0.j, -0.00390536+0.j, -0.00432804+0.j,\n",
       "         -0.00016236+0.j, -0.0074399 +0.j, -0.00664456+0.j]]))"
      ]
     },
     "execution_count": 4,
     "metadata": {},
     "output_type": "execute_result"
    }
   ],
   "source": [
    "rbm.get_deltas(Ham, 1)"
   ]
  },
  {
   "cell_type": "code",
   "execution_count": 3,
   "metadata": {},
   "outputs": [
    {
     "name": "stdout",
     "output_type": "stream",
     "text": [
      "[ 0.14435618  0.3768973  -0.19366966 -0.56948488 -0.99481265 -0.85582976\n",
      " -0.2821961  -0.93864762  0.87933583]\n",
      "(4.508225285640611+0j)\n",
      "1.0\n",
      "[-0.59409852  0.27184292  0.1574936  -0.38034904 -0.47300434 -0.30486181\n",
      "  0.69757572 -0.18282368  0.35413301]\n",
      "(1.3231432298490877+0j)\n",
      "0.0\n",
      "[-0.77593477  0.60332223 -0.07556099 -0.57118212 -0.37680926 -0.74358579\n",
      "  0.4109133  -0.26514011  0.60281849]\n",
      "(5.6613620987431155+0j)\n",
      "1.0\n",
      "[ 0.33208158  0.6189694  -0.56930629 -0.4942077  -1.07872507 -0.68477643\n",
      " -0.72341633 -0.72390129  0.42001181]\n",
      "(8.982271455693532+0j)\n",
      "2.0\n",
      "[-0.14827851  0.41047176  0.05836203 -0.81667613 -0.61839423 -0.49944117\n",
      "  0.41999488 -0.41501895  0.26809093]\n",
      "(-2.9979916108965994+0j)\n",
      "-1.0\n",
      "[-0.7477346   0.57007438 -0.10110272 -0.28184757 -0.22507829 -0.26309392\n",
      " -0.23143179  0.0876631  -0.17986254]\n",
      "(8.210360625128997+0j)\n",
      "1.0\n",
      "[ 0.02707904  0.29265075 -0.35898737  0.37683656 -0.46262703 -0.19336898\n",
      " -0.81440219 -0.07988083  0.61437522]\n",
      "(10.440798070302165+0j)\n",
      "2.0\n",
      "[-0.16064636  0.05057865  0.01664926  0.30155939 -0.37871461 -0.36442231\n",
      " -0.37318196 -0.29462715  1.07369924]\n",
      "(6.164172498005038+0j)\n",
      "1.0\n",
      "[ 0.35439259  0.01217015  0.01384319 -0.08931726 -0.93927676  0.06338608\n",
      " -0.63787878 -0.50352799 -0.15203069]\n",
      "(2.3898686019622932+0j)\n",
      "0.0\n",
      "[-0.30146383  0.23826847 -0.09453809 -0.13315779 -0.84942276 -0.6612504\n",
      " -0.00461526 -0.70645235  0.9653779 ]\n",
      "(9.16604368160528+0j)\n",
      "2.0\n",
      "[-0.11962759 -0.09321084  0.1385165   0.05767529 -0.94561784 -0.22252643\n",
      "  0.28204716 -0.62413592  0.71669242]\n",
      "(4.86127346259485+0j)\n",
      "1.0\n",
      "[-0.27915282 -0.36853079  0.48861139  0.27173266 -0.70997445  0.08691211\n",
      "  0.08092229 -0.48607904  0.39333541]\n",
      "(1.3567577921318308+0j)\n",
      "0.0\n",
      "[ 0.30748466 -0.41759177  0.50066717  0.27012274 -0.38465619  0.18916085\n",
      " -0.56522525 -0.30644912  0.41561467]\n",
      "(-6.635076203654137+0j)\n",
      "-2.0\n",
      "[-0.60691713  0.38238457  0.01008463  0.1528696   0.24562986  0.03373417\n",
      " -0.59999849  0.49948829 -0.0715412 ]\n",
      "(3.1856848530588247+0j)\n",
      "0.0\n",
      "[-0.77593477  0.60332223 -0.07556099 -0.57118212 -0.37680926 -0.74358579\n",
      "  0.4109133  -0.26514011  0.60281849]\n",
      "(5.6613620987431155+0j)\n",
      "1.0\n",
      "[ 0.28517365  0.18920748 -0.08248231 -0.13476771 -0.5241045  -0.55900167\n",
      " -0.6507628  -0.52682242  0.98765716]\n",
      "(1.4913586502300262+0j)\n",
      "0.0\n",
      "[-0.30146383  0.23826847 -0.09453809 -0.13315779 -0.84942276 -0.6612504\n",
      " -0.00461526 -0.70645235  0.9653779 ]\n",
      "(9.16604368160528+0j)\n",
      "2.0\n",
      "[-0.11373843  0.48034057 -0.47017472 -0.05788061 -0.93333518 -0.49019707\n",
      " -0.44583549 -0.49170602  0.50605388]\n",
      "(13.75+0j)\n",
      "3.0\n",
      "[-0.58820937  0.84539433 -0.45119762 -0.49590494 -0.46072168 -0.57253246\n",
      " -0.03030693 -0.05039378  0.14349447]\n",
      "(10.631050090658684+0j)\n",
      "2.0\n",
      "[-0.46098906 -0.03705148  0.2555568   0.08089958 -0.61377937 -0.35181187\n",
      " -0.20574013 -0.56839547  0.6420209 ]\n",
      "(6.247450720456347+0j)\n",
      "1.0\n",
      "[-0.75362376 -0.00347703  0.5075885  -0.16629167 -0.23736095  0.00457673\n",
      "  0.49645085 -0.0447668   0.030776  ]\n",
      "(-2.3713186315368473+0j)\n",
      "-1.0\n",
      "[ 0.02707904  0.29265075 -0.35898737  0.37683656 -0.46262703 -0.19336898\n",
      " -0.81440219 -0.07988083  0.61437522]\n",
      "(10.440798070302165+0j)\n",
      "2.0\n",
      "[ 0.32619242  0.04541799  0.03938493 -0.3786518  -1.09100773 -0.41710578\n",
      "  0.00446632 -0.85633119  0.63065034]\n",
      "(0.48976914747255973+0j)\n",
      "0.0\n",
      "[-0.33011475  0.74195107 -0.17469256 -1.00750921 -0.52219915 -0.93816514\n",
      "  0.13333247 -0.49733538  0.51677642]\n",
      "(1.0580908011884598+0j)\n",
      "0.0\n",
      "[ 0.32619242  0.04541799  0.03938493 -0.3786518  -1.09100773 -0.41710578\n",
      "  0.00446632 -0.85633119  0.63065034]\n",
      "(0.48976914747255973+0j)\n",
      "0.0\n",
      "[-0.4473919   0.65770452 -0.34001027 -0.06118777  0.00998647 -0.27570436\n",
      " -0.39887362  0.36143141  0.25181581]\n",
      "(7.34224854278459+0j)\n",
      "1.0\n",
      "[-0.33011475  0.74195107 -0.17469256 -1.00750921 -0.52219915 -0.93816514\n",
      "  0.13333247 -0.49733538  0.51677642]\n",
      "(1.0580908011884598+0j)\n",
      "0.0\n",
      "[ 0.02707904  0.29265075 -0.35898737  0.37683656 -0.46262703 -0.19336898\n",
      " -0.81440219 -0.07988083  0.61437522]\n",
      "(10.440798070302165+0j)\n",
      "2.0\n",
      "[-0.56589836  0.23859508  0.13195187 -0.09101449 -0.32127337  0.17563006\n",
      "  0.05523063  0.16997952 -0.42854802]\n",
      "(3.0817643138330135+0j)\n",
      "0.0\n",
      "[-0.11962759 -0.09321084  0.1385165   0.05767529 -0.94561784 -0.22252643\n",
      "  0.28204716 -0.62413592  0.71669242]\n",
      "(4.86127346259485+0j)\n",
      "1.0\n",
      "[-0.59409852  0.27184292  0.1574936  -0.38034904 -0.47300434 -0.30486181\n",
      "  0.69757572 -0.18282368  0.35413301]\n",
      "(1.3231432298490877+0j)\n",
      "0.0\n",
      "[ 0.32619242  0.04541799  0.03938493 -0.3786518  -1.09100773 -0.41710578\n",
      "  0.00446632 -0.85633119  0.63065034]\n",
      "(0.48976914747255973+0j)\n",
      "0.0\n",
      "[-0.32017159 -0.2247413   0.36674415  0.51561675 -0.14307122 -0.05498377\n",
      " -0.57430683 -0.15657027  0.75034223]\n",
      "(1.9900603755609496+0j)\n",
      "0.0\n",
      "[-0.77593477  0.60332223 -0.07556099 -0.57118212 -0.37680926 -0.74358579\n",
      "  0.4109133  -0.26514011  0.60281849]\n",
      "(5.6613620987431155+0j)\n",
      "1.0\n",
      "[-0.77593477  0.60332223 -0.07556099 -0.57118212 -0.37680926 -0.74358579\n",
      "  0.4109133  -0.26514011  0.60281849]\n",
      "(5.6613620987431155+0j)\n",
      "1.0\n",
      "[-0.32017159 -0.2247413   0.36674415  0.51561675 -0.14307122 -0.05498377\n",
      " -0.57430683 -0.15657027  0.75034223]\n",
      "(1.9900603755609496+0j)\n",
      "0.0\n",
      "[-0.13833535 -0.55622061  0.59979875  0.70644983 -0.2392663   0.3837402\n",
      " -0.28764441 -0.07425385  0.50165675]\n",
      "(-3.026792160020541+0j)\n",
      "-1.0\n",
      "[-0.77593477  0.60332223 -0.07556099 -0.57118212 -0.37680926 -0.74358579\n",
      "  0.4109133  -0.26514011  0.60281849]\n",
      "(5.6613620987431155+0j)\n",
      "1.0\n",
      "[-0.79464253  0.14031246  0.38572126  0.07759242  0.32954228 -0.13731916\n",
      " -0.15877826  0.28474197  0.38778282]\n",
      "(-1.4479794369069217+0j)\n",
      "-1.0\n",
      "[ 0.47289905  0.43127959 -0.45811894 -0.05949053 -0.60801692 -0.38794834\n",
      " -1.09198303 -0.3120761   0.52833314]\n",
      "(5.70507385458139+0j)\n",
      "1.0\n",
      "[ 0.65473529  0.09980028 -0.22506435  0.13134255 -0.704212    0.05077564\n",
      " -0.80532061 -0.22975968  0.27964766]\n",
      "(1.4970504089774124+0j)\n",
      "0.0\n",
      "[-0.16064636  0.05057865  0.01664926  0.30155939 -0.37871461 -0.36442231\n",
      " -0.37318196 -0.29462715  1.07369924]\n",
      "(6.164172498005038+0j)\n",
      "1.0\n",
      "[-0.45328105  0.08415311  0.26868096  0.05436813 -0.00229619 -0.00803372\n",
      "  0.32900902  0.22900151  0.46245435]\n",
      "(-2.184649959064207+0j)\n",
      "-1.0\n",
      "[ 0.02707904  0.29265075 -0.35898737  0.37683656 -0.46262703 -0.19336898\n",
      " -0.81440219 -0.07988083  0.61437522]\n",
      "(10.440798070302165+0j)\n",
      "2.0\n",
      "[-0.40637313  0.51391503 -0.21814303 -0.30507186 -0.55691676 -0.13380848\n",
      "  0.25635549  0.03192264 -0.10519101]\n",
      "(6.4309647971248705+0j)\n",
      "1.0\n",
      "[-0.11373843  0.48034057 -0.47017472 -0.05788061 -0.93333518 -0.49019707\n",
      " -0.44583549 -0.49170602  0.50605388]\n",
      "(13.75+0j)\n",
      "3.0\n",
      "[-0.77593477  0.60332223 -0.07556099 -0.57118212 -0.37680926 -0.74358579\n",
      "  0.4109133  -0.26514011  0.60281849]\n",
      "(5.6613620987431155+0j)\n",
      "1.0\n",
      "[-0.33011475  0.74195107 -0.17469256 -1.00750921 -0.52219915 -0.93816514\n",
      "  0.13333247 -0.49733538  0.51677642]\n",
      "(1.0580908011884598+0j)\n",
      "0.0\n",
      "[ 0.31337382  0.15595964 -0.10802405  0.15456684 -0.37237353 -0.0785098\n",
      " -1.2931079  -0.17401922  0.20497613]\n",
      "(2.5983238766493835+0j)\n",
      "0.0\n",
      "[-0.33011475  0.74195107 -0.17469256 -1.00750921 -0.52219915 -0.93816514\n",
      "  0.13333247 -0.49733538  0.51677642]\n",
      "(1.0580908011884598+0j)\n",
      "0.0\n",
      "[-0.11962759 -0.09321084  0.1385165   0.05767529 -0.94561784 -0.22252643\n",
      "  0.28204716 -0.62413592  0.71669242]\n",
      "(4.86127346259485+0j)\n",
      "1.0\n",
      "[-0.14827851  0.41047176  0.05836203 -0.81667613 -0.61839423 -0.49944117\n",
      "  0.41999488 -0.41501895  0.26809093]\n",
      "(-2.9979916108965994+0j)\n",
      "-1.0\n",
      "[-0.14827851  0.41047176  0.05836203 -0.81667613 -0.61839423 -0.49944117\n",
      "  0.41999488 -0.41501895  0.26809093]\n",
      "(-2.9979916108965994+0j)\n",
      "-1.0\n",
      "[-0.7477346   0.57007438 -0.10110272 -0.28184757 -0.22507829 -0.26309392\n",
      " -0.23143179  0.0876631  -0.17986254]\n",
      "(8.210360625128997+0j)\n",
      "1.0\n",
      "[-0.27915282 -0.36853079  0.48861139  0.27173266 -0.70997445  0.08691211\n",
      "  0.08092229 -0.48607904  0.39333541]\n",
      "(1.3567577921318308+0j)\n",
      "0.0\n",
      "[-0.32017159 -0.2247413   0.36674415  0.51561675 -0.14307122 -0.05498377\n",
      " -0.57430683 -0.15657027  0.75034223]\n",
      "(1.9900603755609496+0j)\n",
      "0.0\n",
      "[-0.13833535 -0.55622061  0.59979875  0.70644983 -0.2392663   0.3837402\n",
      " -0.28764441 -0.07425385  0.50165675]\n",
      "(-3.026792160020541+0j)\n",
      "-1.0\n",
      "[ 0.30748466 -0.41759177  0.50066717  0.27012274 -0.38465619  0.18916085\n",
      " -0.56522525 -0.30644912  0.41561467]\n",
      "(-6.635076203654137+0j)\n",
      "-2.0\n",
      "[-0.11962759 -0.09321084  0.1385165   0.05767529 -0.94561784 -0.22252643\n",
      "  0.28204716 -0.62413592  0.71669242]\n",
      "(4.86127346259485+0j)\n",
      "1.0\n",
      "[-0.11962759 -0.09321084  0.1385165   0.05767529 -0.94561784 -0.22252643\n",
      "  0.28204716 -0.62413592  0.71669242]\n",
      "(4.86127346259485+0j)\n",
      "1.0\n",
      "[-0.56589836  0.23859508  0.13195187 -0.09101449 -0.32127337  0.17563006\n",
      "  0.05523063  0.16997952 -0.42854802]\n",
      "(3.0817643138330135+0j)\n",
      "0.0\n",
      "[-0.09142742 -0.12645869  0.11297476  0.34700984 -0.79388687  0.25796544\n",
      " -0.36029794 -0.27133272 -0.06598861]\n",
      "(6.531174566391308+0j)\n",
      "1.0\n",
      "[ 0.06809781  0.14886126 -0.23712013  0.13295247 -1.02953026 -0.0514731\n",
      " -0.15917307 -0.4093896   0.2573684 ]\n",
      "(9.521902205499737+0j)\n",
      "2.0\n",
      "[-0.27326367  0.20502062 -0.12007983  0.15617676 -0.69769179 -0.18075854\n",
      " -0.64696036 -0.35364914  0.18269687]\n",
      "(11.788100310258079+0j)\n",
      "2.0\n",
      "[-0.11373843  0.48034057 -0.47017472 -0.05788061 -0.93333518 -0.49019707\n",
      " -0.44583549 -0.49170602  0.50605388]\n",
      "(13.75+0j)\n",
      "3.0\n",
      "[ 0.02707904  0.29265075 -0.35898737  0.37683656 -0.46262703 -0.19336898\n",
      " -0.81440219 -0.07988083  0.61437522]\n",
      "(10.440798070302165+0j)\n",
      "2.0\n",
      "[ 0.33208158  0.6189694  -0.56930629 -0.4942077  -1.07872507 -0.68477643\n",
      " -0.72341633 -0.72390129  0.42001181]\n",
      "(8.982271455693532+0j)\n",
      "2.0\n",
      "[-0.11962759 -0.09321084  0.1385165   0.05767529 -0.94561784 -0.22252643\n",
      "  0.28204716 -0.62413592  0.71669242]\n",
      "(4.86127346259485+0j)\n",
      "1.0\n",
      "[ 0.03944689  0.65254386 -0.3172746  -0.74139896 -0.70230665 -0.32838784\n",
      " -0.02122534 -0.20027263 -0.19123309]\n",
      "(1.8982507174080052+0j)\n",
      "0.0\n",
      "[-0.27915282 -0.36853079  0.48861139  0.27173266 -0.70997445  0.08691211\n",
      "  0.08092229 -0.48607904  0.39333541]\n",
      "(1.3567577921318308+0j)\n",
      "0.0\n",
      "[-0.42508089  0.05090526  0.24313922  0.34370268  0.14943478  0.47245815\n",
      " -0.31333607  0.58180472 -0.32022669]\n",
      "(-2.0018693538055228+0j)\n",
      "-1.0\n",
      "[ 0.14435618  0.3768973  -0.19366966 -0.56948488 -0.99481265 -0.85582976\n",
      " -0.2821961  -0.93864762  0.87933583]\n",
      "(4.508225285640611+0j)\n",
      "1.0\n",
      "[-0.16064636  0.05057865  0.01664926  0.30155939 -0.37871461 -0.36442231\n",
      " -0.37318196 -0.29462715  1.07369924]\n",
      "(6.164172498005038+0j)\n",
      "1.0\n",
      "[-0.14238936  0.98402317 -0.55032919 -0.93223203 -0.60611157 -0.76711181\n",
      " -0.30788776 -0.28258905  0.0574524 ]\n",
      "(5.832996098350863+0j)\n",
      "1.0\n",
      "[-0.11373843  0.48034057 -0.47017472 -0.05788061 -0.93333518 -0.49019707\n",
      " -0.44583549 -0.49170602  0.50605388]\n",
      "(13.75+0j)\n",
      "3.0\n",
      "[ 0.02118988 -0.28090066  0.24970385  0.49239246 -0.47490969  0.07430167\n",
      " -0.08651954 -0.21231073  0.82501375]\n",
      "(1.2841941680545248+0j)\n",
      "0.0\n",
      "[ 0.02707904  0.29265075 -0.35898737  0.37683656 -0.46262703 -0.19336898\n",
      " -0.81440219 -0.07988083  0.61437522]\n",
      "(10.440798070302165+0j)\n",
      "2.0\n",
      "[-0.58820937  0.84539433 -0.45119762 -0.49590494 -0.46072168 -0.57253246\n",
      " -0.03030693 -0.05039378  0.14349447]\n",
      "(10.631050090658684+0j)\n",
      "2.0\n",
      "[ 0.17255635  0.34364945 -0.2192114  -0.28015033 -0.84308168 -0.37533789\n",
      " -0.9245412  -0.58584441  0.0966548 ]\n",
      "(6.85518238517769+0j)\n",
      "1.0\n",
      "[ 0.06809781  0.14886126 -0.23712013  0.13295247 -1.02953026 -0.0514731\n",
      " -0.15917307 -0.4093896   0.2573684 ]\n",
      "(9.521902205499737+0j)\n",
      "2.0\n",
      "[ 0.65473529  0.09980028 -0.22506435  0.13134255 -0.704212    0.05077564\n",
      " -0.80532061 -0.22975968  0.27964766]\n",
      "(1.4970504089774124+0j)\n",
      "0.0\n",
      "[ 0.32619242  0.04541799  0.03938493 -0.3786518  -1.09100773 -0.41710578\n",
      "  0.00446632 -0.85633119  0.63065034]\n",
      "(0.48976914747255973+0j)\n",
      "0.0\n",
      "[-0.40637313  0.51391503 -0.21814303 -0.30507186 -0.55691676 -0.13380848\n",
      "  0.25635549  0.03192264 -0.10519101]\n",
      "(6.4309647971248705+0j)\n",
      "1.0\n",
      "[ 0.32619242  0.04541799  0.03938493 -0.3786518  -1.09100773 -0.41710578\n",
      "  0.00446632 -0.85633119  0.63065034]\n",
      "(0.48976914747255973+0j)\n",
      "0.0\n",
      "[ 0.14435618  0.3768973  -0.19366966 -0.56948488 -0.99481265 -0.85582976\n",
      " -0.2821961  -0.93864762  0.87933583]\n",
      "(4.508225285640611+0j)\n",
      "1.0\n",
      "[-0.13833535 -0.55622061  0.59979875  0.70644983 -0.2392663   0.3837402\n",
      " -0.28764441 -0.07425385  0.50165675]\n",
      "(-3.026792160020541+0j)\n",
      "-1.0\n",
      "[-0.30146383  0.23826847 -0.09453809 -0.13315779 -0.84942276 -0.6612504\n",
      " -0.00461526 -0.70645235  0.9653779 ]\n",
      "(9.16604368160528+0j)\n",
      "2.0\n",
      "[ 0.14435618  0.3768973  -0.19366966 -0.56948488 -0.99481265 -0.85582976\n",
      " -0.2821961  -0.93864762  0.87933583]\n",
      "(4.508225285640611+0j)\n",
      "1.0\n",
      "[ 0.28517365  0.18920748 -0.08248231 -0.13476771 -0.5241045  -0.55900167\n",
      " -0.6507628  -0.52682242  0.98765716]\n",
      "(1.4913586502300262+0j)\n",
      "0.0\n",
      "[ 0.17255635  0.34364945 -0.2192114  -0.28015033 -0.84308168 -0.37533789\n",
      " -0.9245412  -0.58584441  0.0966548 ]\n",
      "(6.85518238517769+0j)\n",
      "1.0\n",
      "[ 0.17255635  0.34364945 -0.2192114  -0.28015033 -0.84308168 -0.37533789\n",
      " -0.9245412  -0.58584441  0.0966548 ]\n",
      "(6.85518238517769+0j)\n",
      "1.0\n",
      "[ 0.51391782  0.2874901  -0.3362517  -0.30337462 -1.17492015 -0.24605245\n",
      " -0.43675391 -0.64158487  0.17132632]\n",
      "(5.0029738042718535+0j)\n",
      "1.0\n",
      "[-0.27915282 -0.36853079  0.48861139  0.27173266 -0.70997445  0.08691211\n",
      "  0.08092229 -0.48607904  0.39333541]\n",
      "(1.3567577921318308+0j)\n",
      "0.0\n",
      "[-0.27915282 -0.36853079  0.48861139  0.27173266 -0.70997445  0.08691211\n",
      "  0.08092229 -0.48607904  0.39333541]\n",
      "(1.3567577921318308+0j)\n",
      "0.0\n",
      "[-0.59409852  0.27184292  0.1574936  -0.38034904 -0.47300434 -0.30486181\n",
      "  0.69757572 -0.18282368  0.35413301]\n",
      "(1.3231432298490877+0j)\n",
      "0.0\n",
      "[ 0.14435618  0.3768973  -0.19366966 -0.56948488 -0.99481265 -0.85582976\n",
      " -0.2821961  -0.93864762  0.87933583]\n",
      "(4.508225285640611+0j)\n",
      "1.0\n",
      "[-0.75362376 -0.00347703  0.5075885  -0.16629167 -0.23736095  0.00457673\n",
      "  0.49645085 -0.0447668   0.030776  ]\n",
      "(-2.3713186315368473+0j)\n",
      "-1.0\n",
      "[-0.16064636  0.05057865  0.01664926  0.30155939 -0.37871461 -0.36442231\n",
      " -0.37318196 -0.29462715  1.07369924]\n",
      "(6.164172498005038+0j)\n",
      "1.0\n",
      "[-0.11962759 -0.09321084  0.1385165   0.05767529 -0.94561784 -0.22252643\n",
      "  0.28204716 -0.62413592  0.71669242]\n",
      "(4.86127346259485+0j)\n",
      "1.0\n",
      "[-0.13833535 -0.55622061  0.59979875  0.70644983 -0.2392663   0.3837402\n",
      " -0.28764441 -0.07425385  0.50165675]\n",
      "(-3.026792160020541+0j)\n",
      "-1.0\n"
     ]
    }
   ],
   "source": [
    "for spin in batch:\n",
    "    #This gets theta_spin\n",
    "    print(rbm.theta(spin))\n",
    "    #This gets E(s)\n",
    "    print(rbm.expectation_value(Ham, spin))\n",
    "    #This gets the average of sigma_z\n",
    "    print(rbm.expectation_value_Sz(spin))"
   ]
  },
  {
   "cell_type": "code",
   "execution_count": 39,
   "metadata": {},
   "outputs": [
    {
     "name": "stdout",
     "output_type": "stream",
     "text": [
      "3.4515625 0.05705449012785935\n"
     ]
    }
   ],
   "source": [
    "test = [np.mean(np.sum(rbm.create_batch(400, burn_in = 100, skip = 10)[:,:,:,0], axis = (1,2))) for _ in range(40)]\n",
    "print(np.mean(test), np.std(test))"
   ]
  },
  {
   "cell_type": "markdown",
   "metadata": {},
   "source": [
    "### Symmetry of the RBM.\n",
    "\n",
    "Consider a translation operator working as $\\sigma_j(k) = T_k \\sigma_j$. An obvious requirement for translation symmetry is that $\\Psi_\\theta(\\sigma) = \\Psi_\\theta(T_s\\sigma)$, and an obvious way to implement this is to just artificially sum over contributions on the output $\\sum_i \\Psi_\\theta(T_{s_i}\\sigma)$, but this won't improve the efficiency of the algorithm.\n",
    "\n",
    "A more tractable wa is to use convolutions. Before we have RBM as \n",
    "\n",
    "\\begin{align*}\n",
    "\\Psi_M(S;W) &= \\sum_{h_i} e^{\\sum_j a_j \\sigma^z_j + \\sum_i b_i h_i + \\sum_{ij} W_{ij} h_i \\sigma^{z}_j}\\\\\n",
    "\\end{align*}\n",
    "\n",
    "Now, we can rewrite it as below, where $f = 1, \\alpha_s$ is a number of feature maps, and in particular $W_{j}^{(f)} $ has $\\alpha_s \\times N$ elements. Note that because the spins are all summed over all translations this is translation invariant.\n",
    "\n",
    "\\begin{equation}\n",
    "\\Psi_{\\alpha}(\\mathbf{S}; \\mathbf{W}) = \\sum_{h_{i,s}} \\exp \\left[ \\sum_{f}^{a} \\left( a^{(s)} \\sum_{s}^{S} \\sum_{j}^{N} \\tilde{\\sigma}_{j}^{z}(s) + b_{f}^{(s)} h_{f,s} + \\sum_{s}^{S} \\sum_{j}^{N} h_{f,s} W_{j}^{(f)} \\tilde{\\sigma}_{j}^{z}(s) \\right) \\right],\n",
    "\\end{equation}\n"
   ]
  }
 ],
 "metadata": {
  "kernelspec": {
   "display_name": "tensorflow",
   "language": "python",
   "name": "python3"
  },
  "language_info": {
   "codemirror_mode": {
    "name": "ipython",
    "version": 3
   },
   "file_extension": ".py",
   "mimetype": "text/x-python",
   "name": "python",
   "nbconvert_exporter": "python",
   "pygments_lexer": "ipython3",
   "version": "3.11.8"
  }
 },
 "nbformat": 4,
 "nbformat_minor": 2
}
