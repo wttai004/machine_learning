{
 "cells": [
  {
   "cell_type": "code",
   "execution_count": 1,
   "metadata": {},
   "outputs": [],
   "source": [
    "import haiku as hk\n",
    "import jax\n",
    "import tensorflow as tf\n",
    "import jax.numpy as jnp\n",
    "import numpy as np\n",
    "import matplotlib.pyplot as plt\n",
    "import urllib\n",
    "from functools import partial\n",
    "from jax.example_libraries import optimizers as opt"
   ]
  },
  {
   "cell_type": "code",
   "execution_count": 2,
   "metadata": {},
   "outputs": [],
   "source": [
    "np.random.seed(0)\n",
    "tf.random.set_seed(0)\n",
    "\n",
    "ALPHABET = [\n",
    "    \"-\",\n",
    "    \"A\",\n",
    "    \"R\",\n",
    "    \"N\",\n",
    "    \"D\",\n",
    "    \"C\",\n",
    "    \"Q\",\n",
    "    \"E\",\n",
    "    \"G\",\n",
    "    \"H\",\n",
    "    \"I\",\n",
    "    \"L\",\n",
    "    \"K\",\n",
    "    \"M\",\n",
    "    \"F\",\n",
    "    \"P\",\n",
    "    \"S\",\n",
    "    \"T\",\n",
    "    \"W\",\n",
    "    \"Y\",\n",
    "    \"V\",\n",
    "]"
   ]
  },
  {
   "cell_type": "code",
   "execution_count": 3,
   "metadata": {},
   "outputs": [],
   "source": [
    "def seq2array(seq, L=200):\n",
    "    return np.pad(list(map(ALPHABET.index, seq)), (0, L - len(seq))).reshape(1, -1)\n",
    "\n",
    "\n",
    "def array2oh(a):\n",
    "    a = np.squeeze(a)\n",
    "    o = np.zeros((len(a), 21))\n",
    "    o[np.arange(len(a)), a] = 1\n",
    "    return o.astype(np.float32).reshape(1, -1, 21)\n",
    "\n",
    "\n",
    "urllib.request.urlretrieve(\n",
    "    \"https://github.com/whitead/dmol-book/raw/main/data/hemolytic.npz\",\n",
    "    \"hemolytic.npz\",\n",
    ")\n",
    "with np.load(\"hemolytic.npz\", \"rb\") as r:\n",
    "    pos_data, neg_data = r[\"positives\"], r[\"negatives\"]"
   ]
  },
  {
   "cell_type": "code",
   "execution_count": 4,
   "metadata": {},
   "outputs": [],
   "source": [
    "# create labels and stich it all into one\n",
    "# tensor\n",
    "labels = np.concatenate(\n",
    "    (\n",
    "        np.ones((pos_data.shape[0], 1), dtype=pos_data.dtype),\n",
    "        np.zeros((neg_data.shape[0], 1), dtype=pos_data.dtype),\n",
    "    ),\n",
    "    axis=0,\n",
    ")\n",
    "features = np.concatenate((pos_data, neg_data), axis=0)\n",
    "# we now need to shuffle before creating TF dataset\n",
    "# so that our train/test/val splits are random\n",
    "i = np.arange(len(labels))\n",
    "np.random.shuffle(i)\n",
    "labels = labels[i]\n",
    "features = features[i]\n",
    "L = pos_data.shape[-2]\n",
    "\n",
    "# need to add token for empty amino acid\n",
    "# dataset just has all zeros currently\n",
    "features = np.concatenate((np.zeros((features.shape[0], L, 1)), features), axis=-1)\n",
    "features[np.sum(features, -1) == 0, 0] = 1.0\n",
    "\n",
    "batch_size = 16\n",
    "full_data = tf.data.Dataset.from_tensor_slices((features.astype(np.float32), labels))\n",
    "\n",
    "# now split into val, test, train\n",
    "N = pos_data.shape[0] + neg_data.shape[0]\n",
    "split = int(0.1 * N)\n",
    "test_data = full_data.take(split).batch(batch_size)\n",
    "nontest = full_data.skip(split)\n",
    "val_data, train_data = nontest.take(split).batch(batch_size), nontest.skip(\n",
    "    split\n",
    ").shuffle(1000).batch(batch_size)"
   ]
  },
  {
   "cell_type": "code",
   "execution_count": 6,
   "metadata": {},
   "outputs": [],
   "source": [
    "def binary_cross_entropy(logits, y):\n",
    "    \"\"\"Binary cross entropy without sigmoid. Works with logits directly\"\"\"\n",
    "    return (\n",
    "        jnp.clip(logits, 0, None) - logits * y + jnp.log(1 + jnp.exp(-jnp.abs(logits)))\n",
    "    )\n",
    "\n",
    "\n",
    "def model_fn(x):\n",
    "    # get fractions, excluding skip character\n",
    "    aa_fracs = jnp.mean(x, axis=1)[:, 1:]\n",
    "    # compute convolutions/poolings\n",
    "    mask = jnp.sum(x[..., 1:], axis=-1, keepdims=True)\n",
    "    for kernel, pool in zip([5, 3, 3], [4, 2, 2]):\n",
    "        x = hk.Conv1D(16, kernel)(x) * mask\n",
    "        x = jax.nn.tanh(x)\n",
    "        x = hk.MaxPool(pool, pool, \"VALID\")(x)\n",
    "        mask = hk.MaxPool(pool, pool, \"VALID\")(mask)\n",
    "    # combine fractions, length, and convolution ouputs\n",
    "    x = jnp.concatenate((hk.Flatten()(x), aa_fracs, jnp.sum(mask, axis=1)), axis=1)\n",
    "    # dense layers. no bias, so zeros give P=0.5\n",
    "    logits = hk.Sequential(\n",
    "        [\n",
    "            hk.Linear(256, with_bias=False),\n",
    "            jax.nn.tanh,\n",
    "            hk.Linear(64, with_bias=False),\n",
    "            jax.nn.tanh,\n",
    "            hk.Linear(1, with_bias=False),\n",
    "        ]\n",
    "    )(x)\n",
    "    return logits\n",
    "\n",
    "\n",
    "model = hk.without_apply_rng(hk.transform(model_fn))\n",
    "\n",
    "\n",
    "def loss_fn(params, x, y):\n",
    "    logits = model.apply(params, x)\n",
    "    return jnp.mean(binary_cross_entropy(logits, y))\n",
    "\n",
    "\n",
    "@jax.jit\n",
    "def hemolytic_prob(params, x):\n",
    "    logits = model.apply(params, x)\n",
    "    return jax.nn.sigmoid(jnp.squeeze(logits))\n",
    "\n",
    "\n",
    "@jax.jit\n",
    "def accuracy_fn(params, x, y):\n",
    "    logits = model.apply(params, x)\n",
    "    return jnp.mean((logits >= 0) * y + (logits < 0) * (1 - y))"
   ]
  },
  {
   "cell_type": "code",
   "execution_count": 7,
   "metadata": {},
   "outputs": [
    {
     "name": "stderr",
     "output_type": "stream",
     "text": [
      "/Users/wttai/miniconda3/envs/tensorflow/lib/python3.11/site-packages/haiku/_src/initializers.py:127: UserWarning: Explicitly requested dtype float64  is not available, and will be truncated to dtype float32. To enable more dtypes, set the jax_enable_x64 configuration option or the JAX_ENABLE_X64 shell environment variable. See https://github.com/google/jax#current-gotchas for more.\n",
      "  unscaled = jax.random.truncated_normal(\n",
      "/Users/wttai/miniconda3/envs/tensorflow/lib/python3.11/site-packages/haiku/_src/base.py:658: UserWarning: Explicitly requested dtype float64 requested in zeros is not available, and will be truncated to dtype float32. To enable more dtypes, set the jax_enable_x64 configuration option or the JAX_ENABLE_X64 shell environment variable. See https://github.com/google/jax#current-gotchas for more.\n",
      "  param = init(shape, dtype)\n"
     ]
    }
   ],
   "source": [
    "rng = jax.random.PRNGKey(0)\n",
    "xi, yi = features[:batch_size], labels[:batch_size]\n",
    "params = model.init(rng, xi)\n",
    "\n",
    "opt_init, opt_update, get_params = opt.adam(1e-2)\n",
    "opt_state = opt_init(params)\n",
    "\n",
    "\n",
    "@jax.jit\n",
    "def update(step, opt_state, x, y):\n",
    "    value, grads = jax.value_and_grad(loss_fn)(get_params(opt_state), x, y)\n",
    "    opt_state = opt_update(step, grads, opt_state)\n",
    "    return value, opt_state"
   ]
  },
  {
   "cell_type": "code",
   "execution_count": 8,
   "metadata": {},
   "outputs": [],
   "source": [
    "epochs = 32\n",
    "for e in range(epochs):\n",
    "    avg_v = 0\n",
    "    for i, (xi, yi) in enumerate(train_data):\n",
    "        v, opt_state = update(i, opt_state, xi.numpy(), yi.numpy())\n",
    "        avg_v += v\n",
    "opt_params = get_params(opt_state)\n",
    "\n",
    "\n",
    "def predict(x):\n",
    "    return jnp.squeeze(model.apply(opt_params, x))\n",
    "\n",
    "\n",
    "def predict_prob(x):\n",
    "    return hemolytic_prob(opt_params, x)"
   ]
  },
  {
   "cell_type": "code",
   "execution_count": 9,
   "metadata": {},
   "outputs": [
    {
     "name": "stdout",
     "output_type": "stream",
     "text": [
      "Probability QQQQQ of being hemolytic 1.00\n",
      "Probability GGGGG of being hemolytic 0.00\n"
     ]
    }
   ],
   "source": [
    "s = \"QQQQQ\"\n",
    "sm = array2oh(seq2array(s))\n",
    "p = predict_prob(sm)\n",
    "print(f\"Probability {s} of being hemolytic {p:.2f}\")\n",
    "\n",
    "s = \"GGGGG\"\n",
    "sm = array2oh(seq2array(s))\n",
    "p = predict_prob(sm)\n",
    "print(f\"Probability {s} of being hemolytic {p:.2f}\")"
   ]
  },
  {
   "cell_type": "code",
   "execution_count": 10,
   "metadata": {},
   "outputs": [
    {
     "name": "stdout",
     "output_type": "stream",
     "text": [
      "0.95208335\n"
     ]
    }
   ],
   "source": [
    "acc = []\n",
    "for xi, yi in test_data:\n",
    "    acc.append(accuracy_fn(opt_params, xi.numpy(), yi.numpy()))\n",
    "print(jnp.mean(np.array(acc)))"
   ]
  },
  {
   "cell_type": "markdown",
   "metadata": {},
   "source": [
    "## Gradients"
   ]
  },
  {
   "cell_type": "code",
   "execution_count": 11,
   "metadata": {},
   "outputs": [],
   "source": [
    "def plot_grad(g, s, ax=None):\n",
    "    # g = np.array(g)\n",
    "    if ax is None:\n",
    "        plt.figure()\n",
    "        ax = plt.gca()\n",
    "    if len(g.shape) == 3:\n",
    "        h = g[0, np.arange(len(s)), list(map(ALPHABET.index, s))]\n",
    "    else:\n",
    "        h = g\n",
    "    ax.bar(np.arange(len(s)), height=h)\n",
    "    ax.set_xticks(range(len(s)))\n",
    "    ax.set_xticklabels(s)\n",
    "    ax.set_xlabel(\"Amino Acid $x_i$\")\n",
    "    ax.set_ylabel(r\"Gradient $\\frac{\\partial \\hat{f}(\\vec{x})}{\\partial x_i}$\")"
   ]
  },
  {
   "cell_type": "code",
   "execution_count": 12,
   "metadata": {},
   "outputs": [
    {
     "name": "stdout",
     "output_type": "stream",
     "text": [
      "Probability RAGLQFPVGRLLRRLLRRLLR of being hemolytic 1.00\n"
     ]
    }
   ],
   "source": [
    "s = \"RAGLQFPVGRLLRRLLRRLLR\"\n",
    "sm = array2oh(seq2array(s))\n",
    "p = predict_prob(sm)\n",
    "print(f\"Probability {s} of being hemolytic {p:.2f}\")"
   ]
  },
  {
   "cell_type": "code",
   "execution_count": 13,
   "metadata": {},
   "outputs": [
    {
     "data": {
      "image/png": "[encoded data removed]",
      "text/plain": [
       "<Figure size 640x480 with 1 Axes>"
      ]
     },
     "metadata": {},
     "output_type": "display_data"
    }
   ],
   "source": [
    "gradient = jax.grad(predict, 0)\n",
    "g = gradient(sm)\n",
    "plot_grad(g, s)"
   ]
  },
  {
   "cell_type": "markdown",
   "metadata": {},
   "source": [
    "## Integrated gradients"
   ]
  },
  {
   "cell_type": "code",
   "execution_count": 16,
   "metadata": {},
   "outputs": [],
   "source": [
    "def integrated_gradients(sm, N):\n",
    "    baseline = jnp.zeros((1, L, 21))\n",
    "    t = jnp.linspace(0, 1, N).reshape(-1, 1, 1)\n",
    "    path = baseline * (1 - t) + sm * t\n",
    "\n",
    "    def get_grad(pi):\n",
    "        # compute gradient\n",
    "        # add/remove batch axes\n",
    "        return gradient(pi[jnp.newaxis, ...])[0]\n",
    "\n",
    "    gs = jax.vmap(get_grad)(path)\n",
    "    # sum pieces (Riemann sum), multiply by (x - x')\n",
    "    ig = jnp.mean(gs, axis=0, keepdims=True) * (sm - baseline)\n",
    "    return ig\n",
    "\n",
    "\n",
    "ig = integrated_gradients(sm, 1024)"
   ]
  },
  {
   "cell_type": "code",
   "execution_count": 17,
   "metadata": {},
   "outputs": [
    {
     "data": {
      "image/png": "[encoded data removed]",
      "text/plain": [
       "<Figure size 640x480 with 1 Axes>"
      ]
     },
     "metadata": {},
     "output_type": "display_data"
    }
   ],
   "source": [
    "plot_grad(ig, s)"
   ]
  },
  {
   "cell_type": "markdown",
   "metadata": {},
   "source": [
    "## Smooth grad"
   ]
  },
  {
   "cell_type": "code",
   "execution_count": 18,
   "metadata": {},
   "outputs": [
    {
     "data": {
      "image/png": "[encoded data removed]",
      "text/plain": [
       "<Figure size 640x480 with 1 Axes>"
      ]
     },
     "metadata": {},
     "output_type": "display_data"
    }
   ],
   "source": [
    "def smooth_gradients(sm, N, rng, sigma=1e-3):\n",
    "    baseline = jnp.zeros((1, L, 21))\n",
    "    t = jax.random.normal(rng, shape=(N, sm.shape[1], sm.shape[2])) * sigma\n",
    "    path = sm + t\n",
    "    # remove examples that are negative and force summing to 1\n",
    "    path = jnp.clip(path, 0, 1)\n",
    "    path /= jnp.sum(path, axis=2, keepdims=True)\n",
    "\n",
    "    def get_grad(pi):\n",
    "        # compute gradient\n",
    "        # add/remove batch axes\n",
    "        return gradient(pi[jnp.newaxis, ...])[0]\n",
    "\n",
    "    gs = jax.vmap(get_grad)(path)\n",
    "    # mean\n",
    "    ig = jnp.mean(gs, axis=0, keepdims=True)\n",
    "    return ig\n",
    "\n",
    "\n",
    "sg = smooth_gradients(sm, 1024, jax.random.PRNGKey(0))\n",
    "plot_grad(sg, s)"
   ]
  },
  {
   "cell_type": "markdown",
   "metadata": {},
   "source": [
    "## Shapley Value"
   ]
  },
  {
   "cell_type": "code",
   "execution_count": 20,
   "metadata": {},
   "outputs": [],
   "source": [
    "def shapley(i, sm, sampled_x, rng, model):\n",
    "    M, F, *_ = sampled_x.shape\n",
    "    z_choice = jax.random.bernoulli(rng, shape=(M, F))\n",
    "    # only swap out features within length of sm\n",
    "    mask = jnp.sum(sm[..., 1:], -1)\n",
    "    z_choice *= mask\n",
    "    z_choice = 1 - z_choice\n",
    "    # construct with and w/o ith feature\n",
    "    z_choice = z_choice.at[:, i].set(0.0)\n",
    "    z_choice_i = z_choice.at[:, i].set(1.0)\n",
    "    # select them via multiplication\n",
    "    z = sm * z_choice[..., jnp.newaxis] + sampled_x * (1 - z_choice[..., jnp.newaxis])\n",
    "    z_i = sm * z_choice_i[..., jnp.newaxis] + sampled_x * (\n",
    "        1 - z_choice_i[..., jnp.newaxis]\n",
    "    )\n",
    "    v = model(z_i) - model(z)\n",
    "    return jnp.squeeze(jnp.mean(v, axis=0))\n",
    "\n",
    "\n",
    "# assume data is alrady shuffled, so just take M\n",
    "M = 4096\n",
    "sl = len(s)\n",
    "sampled_x = train_data.unbatch().batch(M).as_numpy_iterator().next()[0]\n",
    "# make batched shapley so we can compute for all features\n",
    "bshapley = jax.vmap(shapley, in_axes=(0, None, None, 0, None))\n",
    "sv = bshapley(\n",
    "    jnp.arange(sl),\n",
    "    sm,\n",
    "    sampled_x,\n",
    "    jax.random.split(jax.random.PRNGKey(0), sl),\n",
    "    predict,\n",
    ")\n",
    "\n",
    "# compute global expectation\n",
    "eyhat = 0\n",
    "for xi, yi in full_data.batch(M).as_numpy_iterator():\n",
    "    eyhat += jnp.mean(predict(xi))\n",
    "eyhat /= len(full_data)"
   ]
  },
  {
   "cell_type": "code",
   "execution_count": 21,
   "metadata": {},
   "outputs": [
    {
     "name": "stdout",
     "output_type": "stream",
     "text": [
      "6.7928276 8.086698\n"
     ]
    }
   ],
   "source": [
    "print(np.sum(sv), predict(sm))"
   ]
  },
  {
   "cell_type": "code",
   "execution_count": 22,
   "metadata": {},
   "outputs": [
    {
     "data": {
      "image/png": "[encoded data removed]",
      "text/plain": [
       "<Figure size 640x480 with 1 Axes>"
      ]
     },
     "metadata": {},
     "output_type": "display_data"
    }
   ],
   "source": [
    "plot_grad(sv, s)"
   ]
  },
  {
   "cell_type": "code",
   "execution_count": null,
   "metadata": {},
   "outputs": [],
   "source": []
  }
 ],
 "metadata": {
  "kernelspec": {
   "display_name": "tensorflow",
   "language": "python",
   "name": "python3"
  },
  "language_info": {
   "codemirror_mode": {
    "name": "ipython",
    "version": 3
   },
   "file_extension": ".py",
   "mimetype": "text/x-python",
   "name": "python",
   "nbconvert_exporter": "python",
   "pygments_lexer": "ipython3",
   "version": "3.1.undefined"
  }
 },
 "nbformat": 4,
 "nbformat_minor": 2
}
