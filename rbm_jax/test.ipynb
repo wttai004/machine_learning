{
 "cells": [
  {
   "cell_type": "code",
   "execution_count": 10,
   "metadata": {},
   "outputs": [],
   "source": [
    "from test_model import *\n",
    "from model import *\n",
    "import jax"
   ]
  },
  {
   "cell_type": "code",
   "execution_count": 3,
   "metadata": {},
   "outputs": [],
   "source": [
    "from model import Model  # Assume the refactored code is saved in model.py\n",
    "\n",
    "model = Model(2, 2)\n",
    "spin = model.get_random_spins()"
   ]
  },
  {
   "cell_type": "code",
   "execution_count": 11,
   "metadata": {},
   "outputs": [],
   "source": [
    "@jit\n",
    "def _flip_spin_at(spin, i, j):\n",
    "    def flip_if_one(spin, i, j):\n",
    "        spin = spin.at[i, j].set(jnp.array([1, 0]))\n",
    "        return spin\n",
    "\n",
    "    def flip_if_zero(spin, i, j):\n",
    "        spin = spin.at[i, j].set(jnp.array([0, 1]))\n",
    "        return spin\n",
    "    \n",
    "    condition = jnp.array_equal(spin[i, j], jnp.array([0, 1]))\n",
    "    spin = jax.lax.cond(condition, flip_if_one, flip_if_zero, spin, i, j)\n",
    "    \n",
    "    return spin"
   ]
  },
  {
   "cell_type": "code",
   "execution_count": 20,
   "metadata": {},
   "outputs": [],
   "source": [
    "from model import Model  # Assume the refactored code is saved in model.py\n",
    "\n",
    "model = Model(4, 4)\n",
    "spin = model.get_random_spins()"
   ]
  },
  {
   "cell_type": "code",
   "execution_count": 21,
   "metadata": {},
   "outputs": [
    {
     "name": "stdout",
     "output_type": "stream",
     "text": [
      "15.7 µs ± 705 ns per loop (mean ± std. dev. of 7 runs, 100,000 loops each)\n"
     ]
    }
   ],
   "source": [
    "%timeit _flip_spin_at(spin, 0, 0).block_until_ready()"
   ]
  },
  {
   "cell_type": "code",
   "execution_count": 22,
   "metadata": {},
   "outputs": [
    {
     "name": "stdout",
     "output_type": "stream",
     "text": [
      "893 µs ± 21.6 µs per loop (mean ± std. dev. of 7 runs, 1,000 loops each)\n"
     ]
    }
   ],
   "source": [
    "%timeit model.flip_spin_at(spin, 0, 0)"
   ]
  },
  {
   "cell_type": "code",
   "execution_count": 5,
   "metadata": {},
   "outputs": [],
   "source": [
    "from model import Model  # Assume the refactored code is saved in model.py\n",
    "\n",
    "model = Model(2, 2)\n",
    "spin = model.get_random_spins()\n",
    "assert spin.shape == (2, 2, 2), \"Random spins have incorrect shape.\"\n",
    "projected_spin = model.project_spin(spin)\n",
    "assert projected_spin.shape == (4,), \"Random spins have incorrect shape.\"\n",
    "unprojected_spin = model.unproject_spin(projected_spin)\n",
    "assert unprojected_spin.shape == (2, 2, 2), \"Random spins have incorrect shape.\"\n",
    "assert jnp.array_equal(spin, unprojected_spin), \"Unprojected spin does not match original spin.\""
   ]
  },
  {
   "cell_type": "code",
   "execution_count": 6,
   "metadata": {},
   "outputs": [
    {
     "name": "stdout",
     "output_type": "stream",
     "text": [
      "101 µs ± 8.54 µs per loop (mean ± std. dev. of 7 runs, 10,000 loops each)\n"
     ]
    }
   ],
   "source": [
    "%timeit model.get_random_spins()"
   ]
  },
  {
   "cell_type": "code",
   "execution_count": 7,
   "metadata": {},
   "outputs": [
    {
     "name": "stdout",
     "output_type": "stream",
     "text": [
      "8.75 µs ± 1.09 µs per loop (mean ± std. dev. of 7 runs, 100,000 loops each)\n"
     ]
    }
   ],
   "source": [
    "%timeit model.project_spin(spin)"
   ]
  },
  {
   "cell_type": "code",
   "execution_count": 10,
   "metadata": {},
   "outputs": [
    {
     "name": "stdout",
     "output_type": "stream",
     "text": [
      "9.96 µs ± 654 ns per loop (mean ± std. dev. of 7 runs, 100,000 loops each)\n"
     ]
    }
   ],
   "source": [
    "%timeit model.project_spin(spin).block_until_ready()"
   ]
  },
  {
   "cell_type": "code",
   "execution_count": 12,
   "metadata": {},
   "outputs": [
    {
     "name": "stdout",
     "output_type": "stream",
     "text": [
      "12.4 µs ± 891 ns per loop (mean ± std. dev. of 7 runs, 100,000 loops each)\n"
     ]
    }
   ],
   "source": [
    "%timeit model.unproject_spin(projected_spin)"
   ]
  },
  {
   "cell_type": "code",
   "execution_count": 13,
   "metadata": {},
   "outputs": [
    {
     "name": "stdout",
     "output_type": "stream",
     "text": [
      "11.7 µs ± 1.58 µs per loop (mean ± std. dev. of 7 runs, 100,000 loops each)\n"
     ]
    }
   ],
   "source": [
    "%timeit model.unproject_spin(projected_spin).block_until_ready()"
   ]
  },
  {
   "cell_type": "code",
   "execution_count": 7,
   "metadata": {},
   "outputs": [
    {
     "name": "stdout",
     "output_type": "stream",
     "text": [
      "Help on function split in module jax._src.random:\n",
      "\n",
      "split(key: 'KeyArrayLike', num: 'int | tuple[int, ...]' = 2) -> 'KeyArray'\n",
      "    Splits a PRNG key into `num` new keys by adding a leading axis.\n",
      "    \n",
      "    Args:\n",
      "      key: a PRNG key (from ``key``, ``split``, ``fold_in``).\n",
      "      num: optional, a positive integer (or tuple of integers) indicating\n",
      "        the number (or shape) of keys to produce. Defaults to 2.\n",
      "    \n",
      "    Returns:\n",
      "      An array-like object of `num` new PRNG keys.\n",
      "\n"
     ]
    }
   ],
   "source": [
    "help(jax.random.split)"
   ]
  },
  {
   "cell_type": "code",
   "execution_count": null,
   "metadata": {},
   "outputs": [],
   "source": []
  }
 ],
 "metadata": {
  "kernelspec": {
   "display_name": "tensorflow",
   "language": "python",
   "name": "python3"
  },
  "language_info": {
   "codemirror_mode": {
    "name": "ipython",
    "version": 3
   },
   "file_extension": ".py",
   "mimetype": "text/x-python",
   "name": "python",
   "nbconvert_exporter": "python",
   "pygments_lexer": "ipython3",
   "version": "3.11.8"
  }
 },
 "nbformat": 4,
 "nbformat_minor": 2
}
