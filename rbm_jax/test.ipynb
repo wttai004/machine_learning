{
 "cells": [
  {
   "cell_type": "code",
   "execution_count": 1,
   "metadata": {},
   "outputs": [],
   "source": [
    "import jax.numpy as jnp\n",
    "import random\n",
    "from model import Model  # Assume the refactored code is saved in model.py\n",
    "from rbm import RBM\n",
    "from jax import jit\n",
    "from functools import partial"
   ]
  },
  {
   "cell_type": "code",
   "execution_count": 2,
   "metadata": {},
   "outputs": [],
   "source": [
    "@partial(jit, static_argnums=(0,))\n",
    "def test_batch_jnp(N = 10000):\n",
    "    model = Model(4,4)\n",
    "    rbm = RBM(model)\n",
    "    spin = model.get_random_spins()\n",
    "    rbm.theta(spin)\n",
    "    rbm.evaluate(spin)\n",
    "    rbm.set_evaluate_function(rbm.evaluate_function_dummy(0.01))\n",
    "    rbm.evaluate(spin)\n",
    "    rbm.metropolis_step(spin)\n",
    "    batch = rbm.create_batch(N)\n",
    "    test = 0\n",
    "    for spins in batch:\n",
    "        test += spins[0,0,0]\n",
    "    #print(test/100)\n",
    "    #print(rbm.expectation_value_Sz_batch(batch))"
   ]
  },
  {
   "cell_type": "code",
   "execution_count": 3,
   "metadata": {},
   "outputs": [
    {
     "name": "stdout",
     "output_type": "stream",
     "text": [
      "The slowest run took 32.85 times longer than the fastest. This could mean that an intermediate result is being cached.\n",
      "22.2 µs ± 39 µs per loop (mean ± std. dev. of 7 runs, 1 loop each)\n"
     ]
    }
   ],
   "source": [
    "%timeit test_batch_jnp(N = 100)"
   ]
  },
  {
   "cell_type": "code",
   "execution_count": 9,
   "metadata": {},
   "outputs": [
    {
     "name": "stdout",
     "output_type": "stream",
     "text": [
      "The slowest run took 11.90 times longer than the fastest. This could mean that an intermediate result is being cached.\n",
      "14.2 µs ± 20.1 µs per loop (mean ± std. dev. of 7 runs, 1 loop each)\n"
     ]
    }
   ],
   "source": [
    "%timeit test_batch_jnp(N = 100000)"
   ]
  },
  {
   "cell_type": "code",
   "execution_count": 3,
   "metadata": {},
   "outputs": [],
   "source": [
    "test_batch_jnp(N = 10000)"
   ]
  },
  {
   "cell_type": "code",
   "execution_count": 5,
   "metadata": {},
   "outputs": [],
   "source": [
    "def test_batch_jnp_nojit(N = 10000):\n",
    "    model = Model(4,4)\n",
    "    rbm = RBM(model)\n",
    "    spin = model.get_random_spins()\n",
    "    rbm.theta(spin)\n",
    "    rbm.evaluate(spin)\n",
    "    rbm.set_evaluate_function(rbm.evaluate_function_dummy(0.01))\n",
    "    rbm.evaluate(spin)\n",
    "    rbm.metropolis_step(spin)\n",
    "    batch = rbm.create_batch(N)\n",
    "    test = 0\n",
    "    for spins in batch:\n",
    "        test += spins[0,0,0]\n",
    "    #print(test/100)\n",
    "    #print(rbm.expectation_value_Sz_batch(batch))"
   ]
  },
  {
   "cell_type": "code",
   "execution_count": 6,
   "metadata": {},
   "outputs": [
    {
     "name": "stdout",
     "output_type": "stream",
     "text": [
      "1.57 s ± 143 ms per loop (mean ± std. dev. of 7 runs, 1 loop each)\n"
     ]
    }
   ],
   "source": [
    "%timeit test_batch_jnp_nojit(N = 100)"
   ]
  },
  {
   "cell_type": "code",
   "execution_count": 8,
   "metadata": {},
   "outputs": [
    {
     "name": "stdout",
     "output_type": "stream",
     "text": [
      "15.8 s ± 156 ms per loop (mean ± std. dev. of 7 runs, 1 loop each)\n"
     ]
    }
   ],
   "source": [
    "%timeit test_batch_jnp_nojit(N = 100000)"
   ]
  },
  {
   "cell_type": "code",
   "execution_count": null,
   "metadata": {},
   "outputs": [],
   "source": []
  }
 ],
 "metadata": {
  "kernelspec": {
   "display_name": "tensorflow",
   "language": "python",
   "name": "python3"
  },
  "language_info": {
   "codemirror_mode": {
    "name": "ipython",
    "version": 3
   },
   "file_extension": ".py",
   "mimetype": "text/x-python",
   "name": "python",
   "nbconvert_exporter": "python",
   "pygments_lexer": "ipython3",
   "version": "3.11.8"
  }
 },
 "nbformat": 4,
 "nbformat_minor": 2
}
