{
 "cells": [
  {
   "cell_type": "code",
   "execution_count": 9,
   "metadata": {},
   "outputs": [],
   "source": [
    "import jax.numpy as jnp\n",
    "from model import Model  # Assume the refactored code is saved in model.py\n",
    "from rbm import RBM"
   ]
  },
  {
   "cell_type": "code",
   "execution_count": 1,
   "metadata": {},
   "outputs": [],
   "source": [
    "from joblib import Parallel"
   ]
  },
  {
   "cell_type": "code",
   "execution_count": 11,
   "metadata": {},
   "outputs": [],
   "source": [
    "def test_batch_jnp_nojit(N = 10000, weight = 0.1):\n",
    "    model = Model(4,4)\n",
    "    rbm = RBM(model)\n",
    "    spin = model.get_random_spins()\n",
    "    rbm.set_evaluate_function(rbm.evaluate_function_dummy(weight))\n",
    "    rbm.evaluate(spin)\n",
    "    rbm.metropolis_step(spin)\n",
    "    batch = rbm.create_batch(N)\n",
    "    test = 0\n",
    "    for spins in batch:\n",
    "        test += spins[0,0,0]\n",
    "    mean = test / N\n",
    "    expected_mean = (weight**2)/(weight ** 2 + 1)\n",
    "    print(test/N, jnp.sqrt(expected_mean * (1-expected_mean)/N) * 4)\n",
    "    assert jnp.abs(mean -  (weight**2)/(weight ** 2 + 1)) < jnp.sqrt(expected_mean * (1-expected_mean)/N) * 4, f\"mean = {mean}, expected = {1 * (weight**2)/(weight ** 2 + 1)}\""
   ]
  },
  {
   "cell_type": "code",
   "execution_count": 12,
   "metadata": {},
   "outputs": [
    {
     "name": "stdout",
     "output_type": "stream",
     "text": [
      "0.0088 0.003960396\n"
     ]
    }
   ],
   "source": [
    "test_batch_jnp_nojit(N = 10000)"
   ]
  },
  {
   "cell_type": "code",
   "execution_count": null,
   "metadata": {},
   "outputs": [],
   "source": []
  }
 ],
 "metadata": {
  "kernelspec": {
   "display_name": "tensorflow",
   "language": "python",
   "name": "python3"
  },
  "language_info": {
   "codemirror_mode": {
    "name": "ipython",
    "version": 3
   },
   "file_extension": ".py",
   "mimetype": "text/x-python",
   "name": "python",
   "nbconvert_exporter": "python",
   "pygments_lexer": "ipython3",
   "version": "3.11.8"
  }
 },
 "nbformat": 4,
 "nbformat_minor": 2
}
